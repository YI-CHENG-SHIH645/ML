{
  "nbformat": 4,
  "nbformat_minor": 0,
  "metadata": {
    "colab": {
      "name": "ch2.ipynb",
      "provenance": [],
      "collapsed_sections": [],
      "include_colab_link": true
    },
    "kernelspec": {
      "name": "python3",
      "language": "python",
      "display_name": "Python 3"
    }
  },
  "cells": [
    {
      "cell_type": "markdown",
      "metadata": {
        "id": "view-in-github",
        "colab_type": "text"
      },
      "source": [
        "<a href=\"https://colab.research.google.com/github/YI-CHENG-SHIH645/ML-in-Business_practice/blob/master/ch2_unsupervised-learning/ch2.ipynb\" target=\"_parent\"><img src=\"https://colab.research.google.com/assets/colab-badge.svg\" alt=\"Open In Colab\"/></a>"
      ]
    },
    {
      "cell_type": "code",
      "metadata": {
        "id": "RIWW8SXJiNtY",
        "cellView": "form"
      },
      "source": [
        "#@title Imports\n",
        "!wget -O \"utils.py\" \"https://raw.githubusercontent.com/YI-CHENG-SHIH645/ML-in-Business_practice/master/utils.py\"\n",
        "\n",
        "# some utils written by myself\n",
        "from utils import DataLoader, \\\n",
        "                  display_side_by_side, \\\n",
        "                  draw_corr_heatmap\n",
        "\n",
        "# 3rd party libraries\n",
        "import pandas as pd\n",
        "import numpy as np\n",
        "\n",
        "# visualization tools\n",
        "import matplotlib.pyplot as plt\n",
        "import seaborn as sns\n",
        "\n",
        "random_state = 3\n",
        "\n",
        "# ---------------- chapter specific -------------------\n",
        "\n",
        "# principle component analysis\n",
        "from sklearn.decomposition import PCA\n",
        "\n",
        "# clustering algorithms\n",
        "from sklearn.cluster import KMeans\n",
        "from sklearn.cluster import AgglomerativeClustering\n",
        "from sklearn.mixture import GaussianMixture\n",
        "from sklearn.cluster import DBSCAN\n",
        "\n",
        "# vizualize agglomerative\n",
        "from scipy.cluster.hierarchy import linkage, \\\n",
        "                                    dendrogram\n",
        "\n",
        "from sklearn.metrics import silhouette_score\n",
        "from sklearn.datasets import make_blobs, make_circles\n",
        "\n",
        "import requests\n",
        "\n",
        "from sklearn.preprocessing import StandardScaler, \\\n",
        "                                  MinMaxScaler\n",
        "scaler = StandardScaler()"
      ],
      "execution_count": null,
      "outputs": []
    },
    {
      "cell_type": "code",
      "metadata": {
        "id": "QSoewPE6O4CK",
        "colab": {
          "base_uri": "https://localhost:8080/",
          "height": 228
        },
        "outputId": "77e65b47-8500-4e3e-f86f-0aea569b7be2"
      },
      "source": [
        "#@markdown Corruption -- 高好 <br>\n",
        "#@markdown Peace --------- 低好 <br>\n",
        "#@markdown Legal ---------- 高好 <br>\n",
        "#@markdown GDP Growth 高好 <br>\n",
        "df = DataLoader.load_data('country_risk_url')\n",
        "df.head()"
      ],
      "execution_count": 2,
      "outputs": [
        {
          "output_type": "execute_result",
          "data": {
            "text/html": [
              "<div>\n",
              "<style scoped>\n",
              "    .dataframe tbody tr th:only-of-type {\n",
              "        vertical-align: middle;\n",
              "    }\n",
              "\n",
              "    .dataframe tbody tr th {\n",
              "        vertical-align: top;\n",
              "    }\n",
              "\n",
              "    .dataframe thead th {\n",
              "        text-align: right;\n",
              "    }\n",
              "</style>\n",
              "<table border=\"1\" class=\"dataframe\">\n",
              "  <thead>\n",
              "    <tr style=\"text-align: right;\">\n",
              "      <th></th>\n",
              "      <th>Country</th>\n",
              "      <th>Abbrev</th>\n",
              "      <th>Corruption</th>\n",
              "      <th>Peace</th>\n",
              "      <th>Legal</th>\n",
              "      <th>GDP Growth</th>\n",
              "    </tr>\n",
              "  </thead>\n",
              "  <tbody>\n",
              "    <tr>\n",
              "      <th>0</th>\n",
              "      <td>Albania</td>\n",
              "      <td>AL</td>\n",
              "      <td>39</td>\n",
              "      <td>1.867</td>\n",
              "      <td>3.822</td>\n",
              "      <td>3.403</td>\n",
              "    </tr>\n",
              "    <tr>\n",
              "      <th>1</th>\n",
              "      <td>Algeria</td>\n",
              "      <td>DZ</td>\n",
              "      <td>34</td>\n",
              "      <td>2.213</td>\n",
              "      <td>4.160</td>\n",
              "      <td>4.202</td>\n",
              "    </tr>\n",
              "    <tr>\n",
              "      <th>2</th>\n",
              "      <td>Argentina</td>\n",
              "      <td>AR</td>\n",
              "      <td>36</td>\n",
              "      <td>1.957</td>\n",
              "      <td>4.568</td>\n",
              "      <td>-2.298</td>\n",
              "    </tr>\n",
              "    <tr>\n",
              "      <th>3</th>\n",
              "      <td>Armenia</td>\n",
              "      <td>AM</td>\n",
              "      <td>33</td>\n",
              "      <td>2.218</td>\n",
              "      <td>4.126</td>\n",
              "      <td>0.208</td>\n",
              "    </tr>\n",
              "    <tr>\n",
              "      <th>4</th>\n",
              "      <td>Australia</td>\n",
              "      <td>AU</td>\n",
              "      <td>79</td>\n",
              "      <td>1.465</td>\n",
              "      <td>8.244</td>\n",
              "      <td>2.471</td>\n",
              "    </tr>\n",
              "  </tbody>\n",
              "</table>\n",
              "</div>"
            ],
            "text/plain": [
              "     Country Abbrev  Corruption  Peace  Legal  GDP Growth\n",
              "0    Albania     AL          39  1.867  3.822       3.403\n",
              "1    Algeria     DZ          34  2.213  4.160       4.202\n",
              "2  Argentina     AR          36  1.957  4.568      -2.298\n",
              "3    Armenia     AM          33  2.218  4.126       0.208\n",
              "4  Australia     AU          79  1.465  8.244       2.471"
            ]
          },
          "metadata": {
            "tags": []
          },
          "execution_count": 2
        }
      ]
    },
    {
      "cell_type": "code",
      "metadata": {
        "colab": {
          "base_uri": "https://localhost:8080/",
          "height": 452
        },
        "id": "wKAi5FFbrpJ0",
        "cellView": "form",
        "outputId": "801a0d22-ecb2-4c67-b673-70aa12ed9239"
      },
      "source": [
        "#@title correlation between features\n",
        "#@markdown 如果 feature 間存在 correlation 的話 <br> \n",
        "#@markdown 是不是會影響後續演算法的效果 <br>\n",
        "\n",
        "interested_features = df.columns[2:6]\n",
        "corr_matrix = df[interested_features].corr()\n",
        "draw_corr_heatmap(corr_matrix, interested_features)"
      ],
      "execution_count": 3,
      "outputs": [
        {
          "output_type": "display_data",
          "data": {
            "image/png": "[encoded data removed]",
            "text/plain": [
              "<Figure size 432x432 with 2 Axes>"
            ]
          },
          "metadata": {
            "tags": []
          }
        }
      ]
    },
    {
      "cell_type": "markdown",
      "metadata": {
        "id": "lrAPgOJ-2sZe"
      },
      "source": [
        "# performance measurements\n",
        "\n",
        "*   Inertia\n",
        ">$Inertia=\\sum_{j}\\sum_{i} (d_{i} - m_{j})^2$, where $d_j \\in ith$ cluster \\\\\n",
        "> 對於 i 點，它屬於 j 群，則計算它到 j 群中心 差的平方 \\\\\n",
        "> idea：每群所擁有的點，盡可能 overall 接近中心\n",
        "*   average silhouette score = $\\frac{1}{N}\\sum_i s(i)$\n",
        ">$s(i)=\\frac{b(i) - a(i)}{max(b(i), a(i))}$, $s(i) \\in [-1, 1]$ \\\\\n",
        "> 對於 i 點，它屬於 j 群 \\\\\n",
        "> $ a(i) $ 計算除 j 群之外，與所有其他群的群中心的距離，並保留下最近的距離值 \\\\\n",
        "> $ b(i) $ 計算和 j 群的群中心的距離值 \\\\\n",
        "> idea： i 點歸類為 j 群是不是一個最好的選擇，若是了，那好的程度又是多少"
      ]
    },
    {
      "cell_type": "markdown",
      "metadata": {
        "id": "LeY039nn3MpF"
      },
      "source": [
        "# k-Means\n",
        "\n",
        "*   Choosing k \\\\\n",
        "    可以使用上述兩種 performance measurement 的方式選擇 k (群數)"
      ]
    },
    {
      "cell_type": "code",
      "metadata": {
        "id": "xnljrGnh37c_"
      },
      "source": [
        "# 所有感興趣的特徵都使用 -> 相對於後續為 original\n",
        "original_input = df[interested_features]\n",
        "\n",
        "# 標準化資料（每個特徵各自做）\n",
        "scaled_input = scaler.fit_transform(original_input)"
      ],
      "execution_count": 4,
      "outputs": []
    },
    {
      "cell_type": "code",
      "metadata": {
        "id": "-FxK7TavQPrw",
        "colab": {
          "base_uri": "https://localhost:8080/",
          "height": 460
        },
        "outputId": "c2a1f3d6-0b9c-4061-d0e9-74fb2e2e2ccd"
      },
      "source": [
        "#@title kmeans 3 clusters with original\n",
        "#@markdown 可以嘗試自行解讀三個群中心，各自合理的標籤應該是什麼\n",
        "kmeans = KMeans(n_clusters=3, random_state=random_state).fit(original_input)\n",
        "df_original = pd.DataFrame(kmeans.cluster_centers_, columns=original_input.columns, index=['moderate', 'high', 'low'])\n",
        "\n",
        "kmeans_scaled = KMeans(n_clusters=3, random_state=random_state).fit(scaled_input)\n",
        "df_scaled = pd.DataFrame(kmeans_scaled.cluster_centers_, columns=original_input.columns, index=['high', 'low', 'moderate'])\n",
        "\n",
        "avg_sil_score = silhouette_score(original_input, kmeans.labels_)\n",
        "stdized_avg_sil_score = silhouette_score(scaled_input, kmeans_scaled.labels_)\n",
        "\n",
        "display_side_by_side([df_original, df_scaled], \n",
        "                     ['原始資料', '標準化資料'],\n",
        "                     [f'score: {avg_sil_score:.3f}', f'score: {stdized_avg_sil_score:.3f}'])\n",
        "\n",
        "high_risk = df[kmeans.labels_==1][['Country']]\n",
        "scaled_high_risk = df[kmeans_scaled.labels_==0][['Country']]\n",
        "print()\n",
        "\n",
        "print(\"original 認為是高風險 但 scaled 不認為：\")\n",
        "print(np.setdiff1d(high_risk.values, scaled_high_risk.values))\n",
        "print()\n",
        "\n",
        "print(\"scaled 認為是高風險 但 original 不認為：\")\n",
        "print(np.setdiff1d(scaled_high_risk.values, high_risk.values))"
      ],
      "execution_count": 5,
      "outputs": [
        {
          "output_type": "display_data",
          "data": {
            "text/html": [
              "<table style=\"display:inline\"><tr><td style=\"text-align:center\">原始資料</td><td style=\"text-align:center\">標準化資料</td></tr><tr><td style=\"vertical-align:top\"> <table style=\"display:inline\" border=\"1\" class=\"dataframe\">\n",
              "  <thead>\n",
              "    <tr style=\"text-align: right;\">\n",
              "      <th></th>\n",
              "      <th>Corruption</th>\n",
              "      <th>Peace</th>\n",
              "      <th>Legal</th>\n",
              "      <th>GDP Growth</th>\n",
              "    </tr>\n",
              "  </thead>\n",
              "  <tbody>\n",
              "    <tr>\n",
              "      <th>moderate</th>\n",
              "      <td>53.500000</td>\n",
              "      <td>1.830441</td>\n",
              "      <td>6.119735</td>\n",
              "      <td>2.793088</td>\n",
              "    </tr>\n",
              "    <tr>\n",
              "      <th>high</th>\n",
              "      <td>32.014925</td>\n",
              "      <td>2.245000</td>\n",
              "      <td>4.566194</td>\n",
              "      <td>2.221000</td>\n",
              "    </tr>\n",
              "    <tr>\n",
              "      <th>low</th>\n",
              "      <td>79.857143</td>\n",
              "      <td>1.514524</td>\n",
              "      <td>8.050238</td>\n",
              "      <td>2.175286</td>\n",
              "    </tr>\n",
              "  </tbody>\n",
              "</table style=\"display:inline\"></td><td style=\"vertical-align:top\"> <table style=\"display:inline\" border=\"1\" class=\"dataframe\">\n",
              "  <thead>\n",
              "    <tr style=\"text-align: right;\">\n",
              "      <th></th>\n",
              "      <th>Corruption</th>\n",
              "      <th>Peace</th>\n",
              "      <th>Legal</th>\n",
              "      <th>GDP Growth</th>\n",
              "    </tr>\n",
              "  </thead>\n",
              "  <tbody>\n",
              "    <tr>\n",
              "      <th>high</th>\n",
              "      <td>-1.027467</td>\n",
              "      <td>1.352217</td>\n",
              "      <td>-1.059033</td>\n",
              "      <td>-1.719983</td>\n",
              "    </tr>\n",
              "    <tr>\n",
              "      <th>low</th>\n",
              "      <td>1.231352</td>\n",
              "      <td>-0.979187</td>\n",
              "      <td>1.165956</td>\n",
              "      <td>0.010270</td>\n",
              "    </tr>\n",
              "    <tr>\n",
              "      <th>moderate</th>\n",
              "      <td>-0.479569</td>\n",
              "      <td>0.263309</td>\n",
              "      <td>-0.435100</td>\n",
              "      <td>0.373518</td>\n",
              "    </tr>\n",
              "  </tbody>\n",
              "</table style=\"display:inline\"></td></tr><tr><td>score: 0.557</td><td>score: 0.407</td></tr></table style=\"display:inline\">"
            ]
          },
          "metadata": {
            "tags": []
          }
        },
        {
          "output_type": "stream",
          "text": [
            "\n",
            "original 認為是高風險 但 scaled 不認為：\n",
            "['Albania' 'Algeria' 'Armenia' 'Bangladesh' 'Benin' 'Bolivia'\n",
            " 'Bosnia and Herzegovina' 'Bulgaria' 'Cameroon' 'China' 'Colombia'\n",
            " 'Dominican Republic' 'Egypt' 'El Salvador' 'Ethiopia' 'Gabon' 'Guatemala'\n",
            " 'Honduras' 'India' 'Indonesia' 'Iran' 'Jamaica' 'Kazakhstan' 'Kenya'\n",
            " 'Kuwait' 'Liberia' 'Madagascar' 'Malawi' 'Mali' 'Mauritania' 'Mexico'\n",
            " 'Moldova' 'Morocco' 'Mozambique' 'Nepal' 'Nicaragua' 'Pakistan' 'Panama'\n",
            " 'Paraguay' 'Peru' 'Philippines' 'Serbia' 'Sierra Leone' 'Sri Lanka'\n",
            " 'Tanzania' 'Thailand' 'The FYR of Macedonia' 'Tunisia' 'Turkey' 'Uganda'\n",
            " 'Vietnam' 'Zambia']\n",
            "\n",
            "scaled 認為是高風險 但 original 不認為：\n",
            "[]\n"
          ],
          "name": "stdout"
        }
      ]
    },
    {
      "cell_type": "markdown",
      "metadata": {
        "id": "xwoQequS8ep0"
      },
      "source": [
        "kmeans 標準化後分數反而降低？ 但是在 GDP Growth 上不一致 （高風險國家應該要最低）"
      ]
    },
    {
      "cell_type": "code",
      "metadata": {
        "id": "Wvh5Vu9rI17J",
        "colab": {
          "base_uri": "https://localhost:8080/"
        },
        "outputId": "52093df2-0083-4f6d-b113-4119dc5ef296"
      },
      "source": [
        "# 額外的一點 work，把每筆資料依序標上分群後推論分析出來的標籤，以便後續使用\n",
        "category = {0: \"high\", 1: \"low\", 2: \"moderate\"}\n",
        "kmeans_scaled_str_labels = np.array(list(map(lambda n: category[n], kmeans_scaled.labels_)))\n",
        "kmeans_scaled_str_labels[:5]"
      ],
      "execution_count": 6,
      "outputs": [
        {
          "output_type": "execute_result",
          "data": {
            "text/plain": [
              "array(['moderate', 'moderate', 'high', 'moderate', 'low'], dtype='<U8')"
            ]
          },
          "metadata": {
            "tags": []
          },
          "execution_count": 6
        }
      ]
    },
    {
      "cell_type": "code",
      "metadata": {
        "id": "OWZyssdV71Tk"
      },
      "source": [
        ""
      ],
      "execution_count": 6,
      "outputs": []
    },
    {
      "cell_type": "code",
      "metadata": {
        "id": "kbCo2Ifxr_PT"
      },
      "source": [
        "# 去掉 Corruption（與 Legal 高度相關）\n",
        "three = df[interested_features[1:]]\n",
        "\n",
        "scaled_three = scaler.fit_transform(three)"
      ],
      "execution_count": 7,
      "outputs": []
    },
    {
      "cell_type": "code",
      "metadata": {
        "colab": {
          "base_uri": "https://localhost:8080/",
          "height": 320
        },
        "id": "hPY_fInXsgmp",
        "outputId": "728fb3d4-c719-4d53-df31-4d706cc2a395"
      },
      "source": [
        "kmeans_scaled_three = KMeans(n_clusters=3, random_state=random_state).fit(scaled_three)\n",
        "df_scaled_three = pd.DataFrame(kmeans_scaled_three.cluster_centers_, columns=three.columns, index=['high', 'low', 'moderate'])\n",
        "three_avg_sil_score = silhouette_score(scaled_three, kmeans_scaled.labels_)\n",
        "\n",
        "display_side_by_side([df_scaled, df_scaled_three],\n",
        "                     ['4 特徵標準化', '3 特徵標準化'],\n",
        "                     [f'score: {stdized_avg_sil_score:.3f}', f'score: {three_avg_sil_score:.3f}'])\n",
        "\n",
        "four_high_risk = df[kmeans_scaled.labels_==0][['Country']]\n",
        "three_high_risk = df[kmeans_scaled_three.labels_==0][['Country']]\n",
        "print()\n",
        "\n",
        "print(\"4 認為是高風險 但 3 不認為：\")\n",
        "print(np.setdiff1d(four_high_risk.values, three_high_risk.values))\n",
        "print()\n",
        "\n",
        "print(\"3 認為是高風險 但 4 不認為：\")\n",
        "print(np.setdiff1d(three_high_risk.values, four_high_risk.values))"
      ],
      "execution_count": 8,
      "outputs": [
        {
          "output_type": "display_data",
          "data": {
            "text/html": [
              "<table style=\"display:inline\"><tr><td style=\"text-align:center\">4 特徵標準化</td><td style=\"text-align:center\">3 特徵標準化</td></tr><tr><td style=\"vertical-align:top\"> <table style=\"display:inline\" border=\"1\" class=\"dataframe\">\n",
              "  <thead>\n",
              "    <tr style=\"text-align: right;\">\n",
              "      <th></th>\n",
              "      <th>Corruption</th>\n",
              "      <th>Peace</th>\n",
              "      <th>Legal</th>\n",
              "      <th>GDP Growth</th>\n",
              "    </tr>\n",
              "  </thead>\n",
              "  <tbody>\n",
              "    <tr>\n",
              "      <th>high</th>\n",
              "      <td>-1.027467</td>\n",
              "      <td>1.352217</td>\n",
              "      <td>-1.059033</td>\n",
              "      <td>-1.719983</td>\n",
              "    </tr>\n",
              "    <tr>\n",
              "      <th>low</th>\n",
              "      <td>1.231352</td>\n",
              "      <td>-0.979187</td>\n",
              "      <td>1.165956</td>\n",
              "      <td>0.010270</td>\n",
              "    </tr>\n",
              "    <tr>\n",
              "      <th>moderate</th>\n",
              "      <td>-0.479569</td>\n",
              "      <td>0.263309</td>\n",
              "      <td>-0.435100</td>\n",
              "      <td>0.373518</td>\n",
              "    </tr>\n",
              "  </tbody>\n",
              "</table style=\"display:inline\"></td><td style=\"vertical-align:top\"> <table style=\"display:inline\" border=\"1\" class=\"dataframe\">\n",
              "  <thead>\n",
              "    <tr style=\"text-align: right;\">\n",
              "      <th></th>\n",
              "      <th>Peace</th>\n",
              "      <th>Legal</th>\n",
              "      <th>GDP Growth</th>\n",
              "    </tr>\n",
              "  </thead>\n",
              "  <tbody>\n",
              "    <tr>\n",
              "      <th>high</th>\n",
              "      <td>1.397830</td>\n",
              "      <td>-1.046003</td>\n",
              "      <td>-1.801892</td>\n",
              "    </tr>\n",
              "    <tr>\n",
              "      <th>low</th>\n",
              "      <td>-0.931933</td>\n",
              "      <td>1.171223</td>\n",
              "      <td>-0.014518</td>\n",
              "    </tr>\n",
              "    <tr>\n",
              "      <th>moderate</th>\n",
              "      <td>0.260407</td>\n",
              "      <td>-0.473601</td>\n",
              "      <td>0.379518</td>\n",
              "    </tr>\n",
              "  </tbody>\n",
              "</table style=\"display:inline\"></td></tr><tr><td>score: 0.407</td><td>score: 0.379</td></tr></table style=\"display:inline\">"
            ]
          },
          "metadata": {
            "tags": []
          }
        },
        {
          "output_type": "stream",
          "text": [
            "\n",
            "4 認為是高風險 但 3 不認為：\n",
            "['Zimbabwe']\n",
            "\n",
            "3 認為是高風險 但 4 不認為：\n",
            "[]\n"
          ],
          "name": "stdout"
        }
      ]
    },
    {
      "cell_type": "markdown",
      "metadata": {
        "id": "Re8y_vIkivP3"
      },
      "source": [
        "# The Curse of Dimensionality"
      ]
    },
    {
      "cell_type": "markdown",
      "metadata": {
        "id": "MJPuwmxy93q4"
      },
      "source": [
        "如果資料的維度越高，空間的體積越大 \\\\\n",
        "原先的資料量顯得稀疏"
      ]
    },
    {
      "cell_type": "code",
      "metadata": {
        "colab": {
          "base_uri": "https://localhost:8080/"
        },
        "id": "fnZRzrlliuwF",
        "outputId": "61e67ea1-80be-417f-8524-300b40892b76"
      },
      "source": [
        "a = np.array([1] * 3)\n",
        "b = np.array([2] * 3)\n",
        "d_ab = np.sqrt(((a-b)**2).sum())\n",
        "print(f'a, b 兩點存在 3 維空間中 \\n a: {a}, b: {b}')\n",
        "print(f'd(a, b) = {d_ab:.3f}')\n",
        "print()\n",
        "\n",
        "x = np.array([1] * 10)\n",
        "y = np.array([2] * 10)\n",
        "d_xy = np.sqrt(((x-y)**2)).sum()\n",
        "print(f'x, y 兩點存在 10 維空間中 \\n x: {x}, y: {y}')\n",
        "print(f'd(x, y) = {d_xy:.3f}')\n",
        "print()\n",
        "\n",
        "norm_a = np.sqrt((a**2).sum())\n",
        "norm_b = np.sqrt((b**2).sum())\n",
        "norm_x = np.sqrt((x**2).sum())\n",
        "norm_y = np.sqrt((y**2).sum())\n",
        "\n",
        "# cosine similarity\n",
        "simi_ab = (a@b)/(norm_a * norm_b)\n",
        "simi_xy = (x@y)/(norm_x * norm_y)\n",
        "\n",
        "print(f'cosine_similarity(a, b) = {simi_ab:.8f}')\n",
        "print(f'cosine_similarity(x, y) = {simi_xy:.8f}')\n",
        "print(f'1 - cosine_similarity(a, b) = {1-simi_ab:.8f}')\n",
        "print(f'1 - cosine_similarity(x, y) = {1-simi_xy:.8f}')"
      ],
      "execution_count": 9,
      "outputs": [
        {
          "output_type": "stream",
          "text": [
            "a, b 兩點存在 3 維空間中 \n",
            " a: [1 1 1], b: [2 2 2]\n",
            "d(a, b) = 1.732\n",
            "\n",
            "x, y 兩點存在 10 維空間中 \n",
            " x: [1 1 1 1 1 1 1 1 1 1], y: [2 2 2 2 2 2 2 2 2 2]\n",
            "d(x, y) = 10.000\n",
            "\n",
            "cosine_similarity(a, b) = 1.00000000\n",
            "cosine_similarity(x, y) = 1.00000000\n",
            "1 - cosine_similarity(a, b) = -0.00000000\n",
            "1 - cosine_similarity(x, y) = 0.00000000\n"
          ],
          "name": "stdout"
        }
      ]
    },
    {
      "cell_type": "markdown",
      "metadata": {
        "id": "IjD4R8oaCnHv"
      },
      "source": [
        "小結：\n",
        "\n",
        "*   向量同向 -> (1 - cosine_similarity) 表達距離為 0\n",
        "*   向量垂直 -> (1 - cosine_similarity) 表達距離為 1\n",
        "*   向量反向 -> (1 - cosine_similarity) 表達距離為 2\n",
        "\n",
        "距離最近為 0，最遠為 2，無論維度是多少"
      ]
    },
    {
      "cell_type": "code",
      "metadata": {
        "id": "-w2I_DuJizTl"
      },
      "source": [
        ""
      ],
      "execution_count": 9,
      "outputs": []
    },
    {
      "cell_type": "markdown",
      "metadata": {
        "id": "EPOQOpcl4eJ4"
      },
      "source": [
        "# PCA\n",
        "\n",
        ">什麼樣的向量$w$，可以使得所有data point投影上去後訊息損失(information loss)最低 <br>\n",
        "lower information loss -> higher variance kept<br>\n",
        "\n",
        ">given任意n維的vector，皆能被某個basis $W$ (n個components, orthogonal to each other)的線性組合唯一表示(zero loss) <br> 如果只用幾個component，就會有loss <br>\n",
        "線性組合的 scalars 怎麼找？ -> 投影長 = ${\\lVert x \\rVert}cos{\\theta}, $ where ${\\theta}$ 為 x 和 w 的夾角 <br>\n",
        "under constraint： <br>\n",
        ">>${\\lVert w_{n} \\rVert} = 1$<br>\n",
        "\n",
        ">投影長 = $scalar_{n,i} = w_{n} \\cdot x_{i}$ <br>\n",
        "先找一個component就好，使得variance最大，objective funciton？<br>\n",
        "$Objective$ = 投影長的variance = $\\sum_{i} (w_{1} \\cdot x_{i} - w_{1} \\cdot \\bar x)^2$\n",
        "......<br>...... $w_{1}$ 是 Cov(x) 的最大 eigenvalue(其值為所求的variance) 對應的 eigenvector <br> 這樣的 $w_{1}$(the most dominant pattern) 可以 maximize $Objective$\n",
        "\n",
        ">那想要找到一組basis呢？ <br>\n",
        "under constraints：<br>\n",
        "    >>${\\lVert w_{2} \\rVert} = 1$<br>\n",
        "    >>$w_{2} \\cdot w_{1} = 0$<br>\n",
        "\n",
        ">$Objective = \\sum_{i} (w_{2} \\cdot x_{i} - w_{2} \\cdot \\bar x)^2$ ......<br>...... $w_{2}$ 是 Cov(x) 第二大 eigenvalue(其值為所求的variance) 對應的 eigenvector <br> 這樣的 $w_{2}$ 可以 maximize $Objective$\n",
        "\n",
        "> let $W = [w_{1} w_{2} ... w_{k}]$ form a basis, $W^{T}$.shape = (n_components=k, n_features)<br>\n",
        "let $Z = W^{T}X$, <br>=> X.shape = (n_features, n_samples)<br> => Cov(X).shape = (n_features, n_features) = W.shape = (k, k)<br>\n",
        "=> Z.shape = (n_components=k, n_samples)<br> => 每個 sample 都有 k個 scalars 用來線性組合回原本的 data x \n",
        "\n",
        ">也可以想成 $Z^T = X^TW$<br>\n",
        "\n",
        "z 是線性組合的 scalar，也是投影長\n",
        "<br>for the component 1, $Z_{1, m}$ 的 variance 代表投影到這個 component 所保留的 variance (Objective, 其值為 Cov(x) 的 eigenvalues)\n",
        "<br> for the sample 1, $Z_{n, 1}$ 表示此 data point 轉換到新的 basis $W$ 上的座標\n"
      ]
    },
    {
      "cell_type": "markdown",
      "metadata": {
        "id": "kHxF7VTQ_MSD"
      },
      "source": [
        "# Singular Value Decomposition\n",
        "\n",
        "$M = U \\sum V^T$ (for any matrix M) <br>\n",
        "$Z^TW^T = X^T = U \\sum V^T$ <br>\n",
        "\n",
        "$V^T=W^T, Z^T=U\\sum$ <br>\n",
        "$XX^T = V \\sum^2V^T => XX^TV = V \\sum^2 => V = W$ (economy版的svd, $\\sum$ 是 diagonal matrix)<br>\n",
        "$X^TX = U \\sum^2U^T => XX^TU = U \\sum^2$ => U is consist of the eigenvectors of $X^TX$ (並不是 samples 間的 covariance matrix)<br>"
      ]
    },
    {
      "cell_type": "code",
      "metadata": {
        "colab": {
          "base_uri": "https://localhost:8080/"
        },
        "id": "6FGb97Mr_JyJ",
        "outputId": "35bd301a-ad20-4f2d-8a3e-0300e4de04f1"
      },
      "source": [
        "data = df[interested_features]\n",
        "\n",
        "# 標準化對於 PCA 很重要\n",
        "scaled_input = StandardScaler().fit_transform(data)\n",
        "X = scaled_input\n",
        "X.shape  # X^T"
      ],
      "execution_count": 10,
      "outputs": [
        {
          "output_type": "execute_result",
          "data": {
            "text/plain": [
              "(122, 4)"
            ]
          },
          "metadata": {
            "tags": []
          },
          "execution_count": 10
        }
      ]
    },
    {
      "cell_type": "code",
      "metadata": {
        "colab": {
          "base_uri": "https://localhost:8080/",
          "height": 348
        },
        "id": "v1lxyzY-Wosm",
        "outputId": "483c59a3-dd2c-4111-ab2b-fc5a73d3be91"
      },
      "source": [
        "# Cov(X) = X^T @ X  (n_features x n_features)\n",
        "CovX = X.T @ X\n",
        "eigvals, eigvecs = np.linalg.eig(CovX)\n",
        "\n",
        "# 負的由小排到大 正的由大排到小\n",
        "desc_eigvals_arg = np.argsort(-eigvals)\n",
        "eigvals, eigvecs = eigvals[desc_eigvals_arg], eigvecs[:, desc_eigvals_arg]\n",
        "\n",
        "cols = ['component1', 'component2', 'component3', 'component4']\n",
        "index = ['feature1', 'feature2', 'feature3', 'feature4']\n",
        "\n",
        "df_eig = pd.DataFrame(eigvecs, columns=cols, index=index)\n",
        "\n",
        "U, C, VT = np.linalg.svd(X)\n",
        "df_svd = pd.DataFrame(VT.T, columns=cols, index=index)\n",
        "\n",
        "display_side_by_side([df_eig, df_svd], ['Cov Matrix 解', 'SVD 解'])\n",
        "\n",
        "\n",
        "print(\"左右一致？\", np.allclose(df_eig, df_svd))\n",
        "print(\"Q: 第 4 個 component 差一個負號，why?\")\n",
        "print(\"A: 投影值也差了一個負號\")\n",
        "print((X@eigvecs)[:4, -1])\n",
        "print((U[:, :4]@np.diag(C))[:4, -1])\n",
        "print(\"explained variance :\", eigvals)\n",
        "print(\"singular value ^ 2: \", C**2)"
      ],
      "execution_count": 11,
      "outputs": [
        {
          "output_type": "display_data",
          "data": {
            "text/html": [
              "<table style=\"display:inline\"><tr><td style=\"text-align:center\">Cov Matrix 解</td><td style=\"text-align:center\">SVD 解</td></tr><tr><td style=\"vertical-align:top\"> <table style=\"display:inline\" border=\"1\" class=\"dataframe\">\n",
              "  <thead>\n",
              "    <tr style=\"text-align: right;\">\n",
              "      <th></th>\n",
              "      <th>component1</th>\n",
              "      <th>component2</th>\n",
              "      <th>component3</th>\n",
              "      <th>component4</th>\n",
              "    </tr>\n",
              "  </thead>\n",
              "  <tbody>\n",
              "    <tr>\n",
              "      <th>feature1</th>\n",
              "      <td>0.594089</td>\n",
              "      <td>-0.155184</td>\n",
              "      <td>0.291640</td>\n",
              "      <td>-0.733431</td>\n",
              "    </tr>\n",
              "    <tr>\n",
              "      <th>feature2</th>\n",
              "      <td>-0.530424</td>\n",
              "      <td>-0.039876</td>\n",
              "      <td>0.842391</td>\n",
              "      <td>-0.086246</td>\n",
              "    </tr>\n",
              "    <tr>\n",
              "      <th>feature3</th>\n",
              "      <td>0.585023</td>\n",
              "      <td>-0.134562</td>\n",
              "      <td>0.430976</td>\n",
              "      <td>0.673721</td>\n",
              "    </tr>\n",
              "    <tr>\n",
              "      <th>feature4</th>\n",
              "      <td>0.153154</td>\n",
              "      <td>0.977865</td>\n",
              "      <td>0.139939</td>\n",
              "      <td>-0.027201</td>\n",
              "    </tr>\n",
              "  </tbody>\n",
              "</table style=\"display:inline\"></td><td style=\"vertical-align:top\"> <table style=\"display:inline\" border=\"1\" class=\"dataframe\">\n",
              "  <thead>\n",
              "    <tr style=\"text-align: right;\">\n",
              "      <th></th>\n",
              "      <th>component1</th>\n",
              "      <th>component2</th>\n",
              "      <th>component3</th>\n",
              "      <th>component4</th>\n",
              "    </tr>\n",
              "  </thead>\n",
              "  <tbody>\n",
              "    <tr>\n",
              "      <th>feature1</th>\n",
              "      <td>0.594089</td>\n",
              "      <td>-0.155184</td>\n",
              "      <td>0.291640</td>\n",
              "      <td>0.733431</td>\n",
              "    </tr>\n",
              "    <tr>\n",
              "      <th>feature2</th>\n",
              "      <td>-0.530424</td>\n",
              "      <td>-0.039876</td>\n",
              "      <td>0.842391</td>\n",
              "      <td>0.086246</td>\n",
              "    </tr>\n",
              "    <tr>\n",
              "      <th>feature3</th>\n",
              "      <td>0.585023</td>\n",
              "      <td>-0.134562</td>\n",
              "      <td>0.430976</td>\n",
              "      <td>-0.673721</td>\n",
              "    </tr>\n",
              "    <tr>\n",
              "      <th>feature4</th>\n",
              "      <td>0.153154</td>\n",
              "      <td>0.977865</td>\n",
              "      <td>0.139939</td>\n",
              "      <td>0.027201</td>\n",
              "    </tr>\n",
              "  </tbody>\n",
              "</table style=\"display:inline\"></td></tr></table style=\"display:inline\">"
            ]
          },
          "metadata": {
            "tags": []
          }
        },
        {
          "output_type": "stream",
          "text": [
            "左右一致？ False\n",
            "Q: 第 4 個 component 差一個負號，why?\n",
            "A: 投影值也差了一個負號\n",
            "[-0.51174702 -0.23913034 -0.02628702 -0.18340259]\n",
            "[0.51174702 0.23913034 0.02628702 0.18340259]\n",
            "explained variance : [312.48251428 118.93717519  47.67032408   8.90998645]\n",
            "singular value ^ 2:  [312.48251428 118.93717519  47.67032408   8.90998645]\n"
          ],
          "name": "stdout"
        }
      ]
    },
    {
      "cell_type": "markdown",
      "metadata": {
        "id": "ueNexX1mV_BM"
      },
      "source": [
        "與 library 給出的結果是否契合、如何對應"
      ]
    },
    {
      "cell_type": "code",
      "metadata": {
        "colab": {
          "base_uri": "https://localhost:8080/"
        },
        "id": "e6CqffERZbkI",
        "outputId": "7463a099-a49f-4b00-f936-25a6967c3ed9"
      },
      "source": [
        "pca = PCA(n_components=4)\n",
        "pca.fit(X)\n",
        "# Z 為 投影長、線性組合係數\n",
        "Z = pca.transform(X)\n",
        "\n",
        "# lib 與上面方法結果一致\n",
        "print(np.allclose(X, Z @ pca.components_))\n",
        "print(np.allclose(X, X @ eigvecs @ eigvecs.T))\n",
        "print(np.allclose(X, U[:, :4] @ np.diag(C) @ VT))"
      ],
      "execution_count": 12,
      "outputs": [
        {
          "output_type": "stream",
          "text": [
            "True\n",
            "True\n",
            "True\n"
          ],
          "name": "stdout"
        }
      ]
    },
    {
      "cell_type": "code",
      "metadata": {
        "colab": {
          "base_uri": "https://localhost:8080/",
          "height": 406
        },
        "id": "_yuqzbN3cQ8x",
        "outputId": "9b3f439d-3a49-4cf6-b780-e4c32bc60e27"
      },
      "source": [
        "Z_2components = Z[:, :2]\n",
        "new_coordinate = pd.DataFrame(Z_2components, columns=['PC1', 'PC2'], index=df['Country'])\n",
        "new_coordinate_with_kmeans_labels = new_coordinate.copy()\n",
        "new_coordinate_with_kmeans_labels.insert(2, 'kmeans_labels', kmeans_scaled_str_labels)\n",
        "sns.scatterplot(x='PC1', y='PC2', data=new_coordinate_with_kmeans_labels, hue='kmeans_labels')\n",
        "plt.show()\n",
        "display(pd.DataFrame(pca.components_[:2], index=['PC1', 'PC2'], columns=data.columns))"
      ],
      "execution_count": 13,
      "outputs": [
        {
          "output_type": "display_data",
          "data": {
            "image/png": "[encoded data removed]",
            "text/plain": [
              "<Figure size 432x288 with 1 Axes>"
            ]
          },
          "metadata": {
            "tags": []
          }
        },
        {
          "output_type": "display_data",
          "data": {
            "text/html": [
              "<div>\n",
              "<style scoped>\n",
              "    .dataframe tbody tr th:only-of-type {\n",
              "        vertical-align: middle;\n",
              "    }\n",
              "\n",
              "    .dataframe tbody tr th {\n",
              "        vertical-align: top;\n",
              "    }\n",
              "\n",
              "    .dataframe thead th {\n",
              "        text-align: right;\n",
              "    }\n",
              "</style>\n",
              "<table border=\"1\" class=\"dataframe\">\n",
              "  <thead>\n",
              "    <tr style=\"text-align: right;\">\n",
              "      <th></th>\n",
              "      <th>Corruption</th>\n",
              "      <th>Peace</th>\n",
              "      <th>Legal</th>\n",
              "      <th>GDP Growth</th>\n",
              "    </tr>\n",
              "  </thead>\n",
              "  <tbody>\n",
              "    <tr>\n",
              "      <th>PC1</th>\n",
              "      <td>-0.594089</td>\n",
              "      <td>0.530424</td>\n",
              "      <td>-0.585023</td>\n",
              "      <td>-0.153154</td>\n",
              "    </tr>\n",
              "    <tr>\n",
              "      <th>PC2</th>\n",
              "      <td>0.155184</td>\n",
              "      <td>0.039876</td>\n",
              "      <td>0.134562</td>\n",
              "      <td>-0.977865</td>\n",
              "    </tr>\n",
              "  </tbody>\n",
              "</table>\n",
              "</div>"
            ],
            "text/plain": [
              "     Corruption     Peace     Legal  GDP Growth\n",
              "PC1   -0.594089  0.530424 -0.585023   -0.153154\n",
              "PC2    0.155184  0.039876  0.134562   -0.977865"
            ]
          },
          "metadata": {
            "tags": []
          }
        }
      ]
    },
    {
      "cell_type": "markdown",
      "metadata": {
        "id": "BJ5NYYHmViMp"
      },
      "source": [
        "挑一些邊邊、較極端的例子看看"
      ]
    },
    {
      "cell_type": "code",
      "metadata": {
        "colab": {
          "base_uri": "https://localhost:8080/",
          "height": 176
        },
        "id": "y1JkdiiCFsps",
        "outputId": "1e5e46ea-98a9-4440-8cac-a3ce9e4963f2"
      },
      "source": [
        "display_side_by_side([new_coordinate[(new_coordinate.PC1 > 4) | (new_coordinate.PC2 > 5)].round(2),\n",
        "                      new_coordinate[(new_coordinate.PC1 < -2) & (new_coordinate.PC2 < 0)].round(2),\n",
        "                      new_coordinate[(new_coordinate.PC2 < -1.7)].round(2),\n",
        "                      new_coordinate[new_coordinate.PC1 < -3.2].round(2)])"
      ],
      "execution_count": 14,
      "outputs": [
        {
          "output_type": "display_data",
          "data": {
            "text/html": [
              "<table style=\"display:inline\"><tr></tr><tr><td style=\"vertical-align:top\"> <table style=\"display:inline\" border=\"1\" class=\"dataframe\">\n",
              "  <thead>\n",
              "    <tr style=\"text-align: right;\">\n",
              "      <th></th>\n",
              "      <th>PC1</th>\n",
              "      <th>PC2</th>\n",
              "    </tr>\n",
              "    <tr>\n",
              "      <th>Country</th>\n",
              "      <th></th>\n",
              "      <th></th>\n",
              "    </tr>\n",
              "  </thead>\n",
              "  <tbody>\n",
              "    <tr>\n",
              "      <th>Venezuela</th>\n",
              "      <td>3.67</td>\n",
              "      <td>5.75</td>\n",
              "    </tr>\n",
              "    <tr>\n",
              "      <th>Yemen</th>\n",
              "      <td>4.38</td>\n",
              "      <td>3.28</td>\n",
              "    </tr>\n",
              "  </tbody>\n",
              "</table style=\"display:inline\"></td><td style=\"vertical-align:top\"> <table style=\"display:inline\" border=\"1\" class=\"dataframe\">\n",
              "  <thead>\n",
              "    <tr style=\"text-align: right;\">\n",
              "      <th></th>\n",
              "      <th>PC1</th>\n",
              "      <th>PC2</th>\n",
              "    </tr>\n",
              "    <tr>\n",
              "      <th>Country</th>\n",
              "      <th></th>\n",
              "      <th></th>\n",
              "    </tr>\n",
              "  </thead>\n",
              "  <tbody>\n",
              "    <tr>\n",
              "      <th>Iceland</th>\n",
              "      <td>-3.01</td>\n",
              "      <td>-1.09</td>\n",
              "    </tr>\n",
              "    <tr>\n",
              "      <th>Ireland</th>\n",
              "      <td>-2.55</td>\n",
              "      <td>-0.49</td>\n",
              "    </tr>\n",
              "  </tbody>\n",
              "</table style=\"display:inline\"></td><td style=\"vertical-align:top\"> <table style=\"display:inline\" border=\"1\" class=\"dataframe\">\n",
              "  <thead>\n",
              "    <tr style=\"text-align: right;\">\n",
              "      <th></th>\n",
              "      <th>PC1</th>\n",
              "      <th>PC2</th>\n",
              "    </tr>\n",
              "    <tr>\n",
              "      <th>Country</th>\n",
              "      <th></th>\n",
              "      <th></th>\n",
              "    </tr>\n",
              "  </thead>\n",
              "  <tbody>\n",
              "    <tr>\n",
              "      <th>Bangladesh</th>\n",
              "      <td>1.44</td>\n",
              "      <td>-1.77</td>\n",
              "    </tr>\n",
              "    <tr>\n",
              "      <th>Ethiopia</th>\n",
              "      <td>0.80</td>\n",
              "      <td>-1.85</td>\n",
              "    </tr>\n",
              "  </tbody>\n",
              "</table style=\"display:inline\"></td><td style=\"vertical-align:top\"> <table style=\"display:inline\" border=\"1\" class=\"dataframe\">\n",
              "  <thead>\n",
              "    <tr style=\"text-align: right;\">\n",
              "      <th></th>\n",
              "      <th>PC1</th>\n",
              "      <th>PC2</th>\n",
              "    </tr>\n",
              "    <tr>\n",
              "      <th>Country</th>\n",
              "      <th></th>\n",
              "      <th></th>\n",
              "    </tr>\n",
              "  </thead>\n",
              "  <tbody>\n",
              "    <tr>\n",
              "      <th>Denmark</th>\n",
              "      <td>-3.22</td>\n",
              "      <td>0.90</td>\n",
              "    </tr>\n",
              "    <tr>\n",
              "      <th>New Zealand</th>\n",
              "      <td>-3.49</td>\n",
              "      <td>0.09</td>\n",
              "    </tr>\n",
              "  </tbody>\n",
              "</table style=\"display:inline\"></td></tr></table style=\"display:inline\">"
            ]
          },
          "metadata": {
            "tags": []
          }
        }
      ]
    },
    {
      "cell_type": "markdown",
      "metadata": {
        "id": "IppRaU_eWK8K"
      },
      "source": [
        "用 explained variance ratio 來加權和係數，得到一個估計的風險分數"
      ]
    },
    {
      "cell_type": "code",
      "metadata": {
        "colab": {
          "base_uri": "https://localhost:8080/",
          "height": 401
        },
        "id": "lIHe5UMK-6JN",
        "outputId": "e3b4366e-23c0-4d1c-c967-4d6c377b244f"
      },
      "source": [
        "of_interest_countries = ['Taiwan', 'China', 'United Kingdom', 'United States',\n",
        "                         'Italy', 'Spain', 'South Africa', 'Russia']\n",
        "\n",
        "# ------------------------------------------------------------------------------\n",
        "risk_measurement = (new_coordinate @ pca.explained_variance_ratio_[:2]).sort_values(ascending=False)\n",
        "risk_score = (pd.DataFrame(MinMaxScaler((0, 100)).fit_transform(risk_measurement.values.reshape(-1, 1)),\n",
        "                           index=risk_measurement.index,\n",
        "                           columns=['risk score'])).round(1)\n",
        "sorted_idx = risk_score.loc[of_interest_countries].squeeze().sort_values(ascending=False).index\n",
        "display_side_by_side([risk_score.iloc[:5],\n",
        "                      risk_score.iloc[-5:],\n",
        "                      risk_score.loc[sorted_idx],\n",
        "                      df.set_index('Country').loc[sorted_idx, data.columns]])"
      ],
      "execution_count": 15,
      "outputs": [
        {
          "output_type": "display_data",
          "data": {
            "text/html": [
              "<table style=\"display:inline\"><tr></tr><tr><td style=\"vertical-align:top\"> <table style=\"display:inline\" border=\"1\" class=\"dataframe\">\n",
              "  <thead>\n",
              "    <tr style=\"text-align: right;\">\n",
              "      <th></th>\n",
              "      <th>risk score</th>\n",
              "    </tr>\n",
              "    <tr>\n",
              "      <th>Country</th>\n",
              "      <th></th>\n",
              "    </tr>\n",
              "  </thead>\n",
              "  <tbody>\n",
              "    <tr>\n",
              "      <th>Venezuela</th>\n",
              "      <td>100.0</td>\n",
              "    </tr>\n",
              "    <tr>\n",
              "      <th>Yemen</th>\n",
              "      <td>97.4</td>\n",
              "    </tr>\n",
              "    <tr>\n",
              "      <th>Chad</th>\n",
              "      <td>72.9</td>\n",
              "    </tr>\n",
              "    <tr>\n",
              "      <th>Ukraine</th>\n",
              "      <td>67.6</td>\n",
              "    </tr>\n",
              "    <tr>\n",
              "      <th>Nigeria</th>\n",
              "      <td>67.2</td>\n",
              "    </tr>\n",
              "  </tbody>\n",
              "</table style=\"display:inline\"></td><td style=\"vertical-align:top\"> <table style=\"display:inline\" border=\"1\" class=\"dataframe\">\n",
              "  <thead>\n",
              "    <tr style=\"text-align: right;\">\n",
              "      <th></th>\n",
              "      <th>risk score</th>\n",
              "    </tr>\n",
              "    <tr>\n",
              "      <th>Country</th>\n",
              "      <th></th>\n",
              "    </tr>\n",
              "  </thead>\n",
              "  <tbody>\n",
              "    <tr>\n",
              "      <th>Finland</th>\n",
              "      <td>6.7</td>\n",
              "    </tr>\n",
              "    <tr>\n",
              "      <th>Denmark</th>\n",
              "      <td>6.2</td>\n",
              "    </tr>\n",
              "    <tr>\n",
              "      <th>Sweden</th>\n",
              "      <td>4.1</td>\n",
              "    </tr>\n",
              "    <tr>\n",
              "      <th>Iceland</th>\n",
              "      <td>0.3</td>\n",
              "    </tr>\n",
              "    <tr>\n",
              "      <th>New Zealand</th>\n",
              "      <td>0.0</td>\n",
              "    </tr>\n",
              "  </tbody>\n",
              "</table style=\"display:inline\"></td><td style=\"vertical-align:top\"> <table style=\"display:inline\" border=\"1\" class=\"dataframe\">\n",
              "  <thead>\n",
              "    <tr style=\"text-align: right;\">\n",
              "      <th></th>\n",
              "      <th>risk score</th>\n",
              "    </tr>\n",
              "    <tr>\n",
              "      <th>Country</th>\n",
              "      <th></th>\n",
              "    </tr>\n",
              "  </thead>\n",
              "  <tbody>\n",
              "    <tr>\n",
              "      <th>Russia</th>\n",
              "      <td>67.0</td>\n",
              "    </tr>\n",
              "    <tr>\n",
              "      <th>South Africa</th>\n",
              "      <td>39.8</td>\n",
              "    </tr>\n",
              "    <tr>\n",
              "      <th>Italy</th>\n",
              "      <td>35.0</td>\n",
              "    </tr>\n",
              "    <tr>\n",
              "      <th>China</th>\n",
              "      <td>34.7</td>\n",
              "    </tr>\n",
              "    <tr>\n",
              "      <th>Taiwan</th>\n",
              "      <td>25.0</td>\n",
              "    </tr>\n",
              "    <tr>\n",
              "      <th>Spain</th>\n",
              "      <td>23.6</td>\n",
              "    </tr>\n",
              "    <tr>\n",
              "      <th>United States</th>\n",
              "      <td>22.4</td>\n",
              "    </tr>\n",
              "    <tr>\n",
              "      <th>United Kingdom</th>\n",
              "      <td>15.5</td>\n",
              "    </tr>\n",
              "  </tbody>\n",
              "</table style=\"display:inline\"></td><td style=\"vertical-align:top\"> <table style=\"display:inline\" border=\"1\" class=\"dataframe\">\n",
              "  <thead>\n",
              "    <tr style=\"text-align: right;\">\n",
              "      <th></th>\n",
              "      <th>Corruption</th>\n",
              "      <th>Peace</th>\n",
              "      <th>Legal</th>\n",
              "      <th>GDP Growth</th>\n",
              "    </tr>\n",
              "    <tr>\n",
              "      <th>Country</th>\n",
              "      <th></th>\n",
              "      <th></th>\n",
              "      <th></th>\n",
              "      <th></th>\n",
              "    </tr>\n",
              "  </thead>\n",
              "  <tbody>\n",
              "    <tr>\n",
              "      <th>Russia</th>\n",
              "      <td>29</td>\n",
              "      <td>3.079</td>\n",
              "      <td>4.043</td>\n",
              "      <td>-0.248</td>\n",
              "    </tr>\n",
              "    <tr>\n",
              "      <th>South Africa</th>\n",
              "      <td>45</td>\n",
              "      <td>2.316</td>\n",
              "      <td>7.000</td>\n",
              "      <td>0.279</td>\n",
              "    </tr>\n",
              "    <tr>\n",
              "      <th>Italy</th>\n",
              "      <td>47</td>\n",
              "      <td>1.774</td>\n",
              "      <td>5.979</td>\n",
              "      <td>0.880</td>\n",
              "    </tr>\n",
              "    <tr>\n",
              "      <th>China</th>\n",
              "      <td>40</td>\n",
              "      <td>2.288</td>\n",
              "      <td>5.712</td>\n",
              "      <td>6.700</td>\n",
              "    </tr>\n",
              "    <tr>\n",
              "      <th>Taiwan</th>\n",
              "      <td>61</td>\n",
              "      <td>1.787</td>\n",
              "      <td>7.268</td>\n",
              "      <td>1.402</td>\n",
              "    </tr>\n",
              "    <tr>\n",
              "      <th>Spain</th>\n",
              "      <td>58</td>\n",
              "      <td>1.604</td>\n",
              "      <td>6.422</td>\n",
              "      <td>3.235</td>\n",
              "    </tr>\n",
              "    <tr>\n",
              "      <th>United States</th>\n",
              "      <td>74</td>\n",
              "      <td>2.154</td>\n",
              "      <td>8.074</td>\n",
              "      <td>1.616</td>\n",
              "    </tr>\n",
              "    <tr>\n",
              "      <th>United Kingdom</th>\n",
              "      <td>81</td>\n",
              "      <td>1.830</td>\n",
              "      <td>8.129</td>\n",
              "      <td>1.806</td>\n",
              "    </tr>\n",
              "  </tbody>\n",
              "</table style=\"display:inline\"></td></tr></table style=\"display:inline\">"
            ]
          },
          "metadata": {
            "tags": []
          }
        }
      ]
    },
    {
      "cell_type": "markdown",
      "metadata": {
        "id": "0MQte2UuWmlT"
      },
      "source": [
        "連續型的風險程度"
      ]
    },
    {
      "cell_type": "code",
      "metadata": {
        "colab": {
          "base_uri": "https://localhost:8080/",
          "height": 418
        },
        "id": "lN9sNPluFvaB",
        "outputId": "fc474996-7652-4216-87df-bb8693649321"
      },
      "source": [
        "plt.figure(figsize=(8, 6))\n",
        "palette = sns.color_palette('rainbow', n_colors=risk_score['risk score'].unique().size)\n",
        "new_coordinate = pd.DataFrame(Z_2components, columns=['PC1', 'PC2'], index=df['Country'])\n",
        "new_coordinate_with_risk_score = new_coordinate.copy()\n",
        "new_coordinate_with_risk_score.insert(2, 'risk score', risk_score['risk score'])\n",
        "sns.scatterplot(x='PC1', y='PC2', data=new_coordinate_with_risk_score, hue='risk score', palette=palette, legend=False)\n",
        "plt.show()"
      ],
      "execution_count": 16,
      "outputs": [
        {
          "output_type": "display_data",
          "data": {
            "image/png": "[encoded data removed]",
            "text/plain": [
              "<Figure size 576x432 with 1 Axes>"
            ]
          },
          "metadata": {
            "tags": []
          }
        }
      ]
    },
    {
      "cell_type": "markdown",
      "metadata": {
        "id": "OsF4U81QPg39"
      },
      "source": [
        "小結： \\\\\n",
        "轉換到一個新的座標系統，PCA(SVD)會找到唯一一個特別的座標系統，將原本的資料換成新的basis的線性組合(matrix factorization)<br>\n",
        "每個維度依序capture最多的資訊，維度表示特徵(如同原本每個feature也是一個維度，做feature selection就是只認為其中幾個feature有用，什麼叫有用？如果over all samples 該 feature standardized 後的值都很近，就表示沒有參考價值，因為information gain很低)，換了新的basis後每個 component 代表一個 new feature，需重新思考其意義 <br>\n",
        " \n",
        "單取Z的這些投影長，如只取2個維度(Z') => 降維至平面 <br>\n",
        "Z' 和 basis' 線性組合 => 在原本n維空間中，在此 basis' span 出一個平面上<br>\n",
        ">Eckart-Young Theorem<br>\n",
        "${\\lVert x- \\tilde x \\rVert}_{F}$ is minimum under rank($\\tilde x$)=2<br>\n",
        "$\\tilde x$ 能最佳近似 $x$ if $\\tilde x$ = Z' @ basis'\n"
      ]
    },
    {
      "cell_type": "code",
      "metadata": {
        "id": "8Rb14Sp6B3UF",
        "colab": {
          "base_uri": "https://localhost:8080/"
        },
        "outputId": "3f9e869c-b664-46b9-84f6-854ea57e7eaa"
      },
      "source": [
        "x_tilde = Z_2components @ pca.components_[:2]\n",
        "minimum_reconstruction_error = np.sqrt(((data.values - x_tilde)**2).sum())\n",
        "print(f'{minimum_reconstruction_error:.2f}')"
      ],
      "execution_count": 17,
      "outputs": [
        {
          "output_type": "stream",
          "text": [
            "553.71\n"
          ],
          "name": "stdout"
        }
      ]
    },
    {
      "cell_type": "code",
      "metadata": {
        "id": "a3zC6tq48-Nj"
      },
      "source": [
        ""
      ],
      "execution_count": 17,
      "outputs": []
    },
    {
      "cell_type": "markdown",
      "metadata": {
        "collapsed": false,
        "pycharm": {
          "name": "#%% md\n"
        },
        "id": "bzKTC7HeLRRa"
      },
      "source": [
        "# agglomerative clustering\n",
        "\n",
        "1. 每一個 data point 自己一個 cluster\n",
        "2. 找最近的兩個 clusters 聚為一個 cluster <br>\n",
        "   cluster間的遠近定義？ 多種可能，以下舉兩個例子 <br>\n",
        "   average : $dist(C_i, C_j) = \\sum_{a \\in C_i, b \\in C_j}\\frac{d(a, b)}{|C_{i}||C_{j}|}$ <br>\n",
        "   ward : $dist(C_i, C_j) = \\sum_{a \\in (C_i \\cup C_j)} ||a - \\mu_{C_i \\cup C_j}||^2$\n",
        "3. 重複 2 直到所有 point 聚為一群\n",
        "\n"
      ]
    },
    {
      "cell_type": "code",
      "metadata": {
        "pycharm": {
          "name": "#%%\n"
        },
        "id": "-VLsG1XkLRRa",
        "colab": {
          "base_uri": "https://localhost:8080/",
          "height": 707
        },
        "outputId": "946ae1c0-0399-4814-a54c-fe473e7a4f09"
      },
      "source": [
        "X = [[i] for i in [2, 8, 0, 4, 1, 9, 9, 0]]\n",
        "Z = linkage(X, 'ward', )\n",
        "df_Z = pd.DataFrame(Z, \n",
        "                    columns=['群 i', '群 j', 'ward距離', '群內個數'], \n",
        "                    index=range(len(X), len(X)+len(Z)))\n",
        "fig = plt.figure(figsize=(25, 10))\n",
        "dn = dendrogram(Z)\n",
        "plt.show()\n",
        "\n",
        "display(df_Z.round(2).astype({'群 i': int, '群 j': int, '群內個數': int}))"
      ],
      "execution_count": 18,
      "outputs": [
        {
          "output_type": "display_data",
          "data": {
            "image/png": "[encoded data removed]",
            "text/plain": [
              "<Figure size 1800x720 with 1 Axes>"
            ]
          },
          "metadata": {
            "tags": []
          }
        },
        {
          "output_type": "display_data",
          "data": {
            "text/html": [
              "<div>\n",
              "<style scoped>\n",
              "    .dataframe tbody tr th:only-of-type {\n",
              "        vertical-align: middle;\n",
              "    }\n",
              "\n",
              "    .dataframe tbody tr th {\n",
              "        vertical-align: top;\n",
              "    }\n",
              "\n",
              "    .dataframe thead th {\n",
              "        text-align: right;\n",
              "    }\n",
              "</style>\n",
              "<table border=\"1\" class=\"dataframe\">\n",
              "  <thead>\n",
              "    <tr style=\"text-align: right;\">\n",
              "      <th></th>\n",
              "      <th>群 i</th>\n",
              "      <th>群 j</th>\n",
              "      <th>ward距離</th>\n",
              "      <th>群內個數</th>\n",
              "    </tr>\n",
              "  </thead>\n",
              "  <tbody>\n",
              "    <tr>\n",
              "      <th>8</th>\n",
              "      <td>5</td>\n",
              "      <td>6</td>\n",
              "      <td>0.00</td>\n",
              "      <td>2</td>\n",
              "    </tr>\n",
              "    <tr>\n",
              "      <th>9</th>\n",
              "      <td>2</td>\n",
              "      <td>7</td>\n",
              "      <td>0.00</td>\n",
              "      <td>2</td>\n",
              "    </tr>\n",
              "    <tr>\n",
              "      <th>10</th>\n",
              "      <td>0</td>\n",
              "      <td>4</td>\n",
              "      <td>1.00</td>\n",
              "      <td>2</td>\n",
              "    </tr>\n",
              "    <tr>\n",
              "      <th>11</th>\n",
              "      <td>1</td>\n",
              "      <td>8</td>\n",
              "      <td>1.15</td>\n",
              "      <td>3</td>\n",
              "    </tr>\n",
              "    <tr>\n",
              "      <th>12</th>\n",
              "      <td>9</td>\n",
              "      <td>10</td>\n",
              "      <td>2.12</td>\n",
              "      <td>4</td>\n",
              "    </tr>\n",
              "    <tr>\n",
              "      <th>13</th>\n",
              "      <td>3</td>\n",
              "      <td>12</td>\n",
              "      <td>4.11</td>\n",
              "      <td>5</td>\n",
              "    </tr>\n",
              "    <tr>\n",
              "      <th>14</th>\n",
              "      <td>11</td>\n",
              "      <td>13</td>\n",
              "      <td>14.07</td>\n",
              "      <td>8</td>\n",
              "    </tr>\n",
              "  </tbody>\n",
              "</table>\n",
              "</div>"
            ],
            "text/plain": [
              "    群 i  群 j  ward距離  群內個數\n",
              "8     5    6    0.00     2\n",
              "9     2    7    0.00     2\n",
              "10    0    4    1.00     2\n",
              "11    1    8    1.15     3\n",
              "12    9   10    2.12     4\n",
              "13    3   12    4.11     5\n",
              "14   11   13   14.07     8"
            ]
          },
          "metadata": {
            "tags": []
          }
        }
      ]
    },
    {
      "cell_type": "markdown",
      "metadata": {
        "id": "BEftxCI8fIAG"
      },
      "source": [
        "\n",
        "1.   檢視一下 agg 分出來的效果是否合理\n",
        "2.   比較 agg 和 kmeans 結果\n",
        "\n"
      ]
    },
    {
      "cell_type": "code",
      "metadata": {
        "pycharm": {
          "name": "#%%\n"
        },
        "id": "Cjl915yQLRRb",
        "colab": {
          "base_uri": "https://localhost:8080/",
          "height": 419
        },
        "outputId": "1fd8cd96-2c0f-45b6-a53b-366b2d26c0b1"
      },
      "source": [
        "three = df[['Peace', 'Legal', 'GDP Growth']]\n",
        "scaled_three = scaler.fit_transform(three)\n",
        "\n",
        "agg = AgglomerativeClustering(n_clusters=3, linkage='ward').fit(scaled_input)\n",
        "kmeans_scaled_three = KMeans(n_clusters=3, random_state=random_state).fit(scaled_three)\n",
        "\n",
        "ax = plt.gca()\n",
        "df[agg.labels_==0].plot.scatter(x='Corruption', y='Peace', color='r', ax=ax)\n",
        "df[agg.labels_==1].plot.scatter(x='Corruption', y='Peace', color='g', ax=ax)\n",
        "df[agg.labels_==2].plot.scatter(x='Corruption', y='Peace', color='b', ax=ax)\n",
        "plt.show()\n",
        "\n",
        "# agg 認為高風險的國家\n",
        "agg_high_risk = df[agg.labels_==0][['Country']]\n",
        "# kmeans 認為高風險的國家\n",
        "kmeans_high_risk_label = np.argmax(kmeans_scaled_three.cluster_centers_[:, 0])\n",
        "kmeans_high_risk = df[kmeans_scaled_three.labels_==kmeans_high_risk_label][['Country']]\n",
        "print()\n",
        "\n",
        "print(\"agg 認為是高風險 但 kmeans 不認為：\")\n",
        "print(np.setdiff1d(agg_high_risk.values, kmeans_high_risk.values))\n",
        "print()\n",
        "\n",
        "print(\"kmeans 認為是高風險 但 agg 不認為：\")\n",
        "print(np.setdiff1d(kmeans_high_risk.values, agg_high_risk.values))"
      ],
      "execution_count": 19,
      "outputs": [
        {
          "output_type": "display_data",
          "data": {
            "image/png": "[encoded data removed]",
            "text/plain": [
              "<Figure size 432x288 with 1 Axes>"
            ]
          },
          "metadata": {
            "tags": []
          }
        },
        {
          "output_type": "stream",
          "text": [
            "\n",
            "agg 認為是高風險 但 kmeans 不認為：\n",
            "['Colombia' 'Liberia' 'Mexico' 'Pakistan' 'Turkey']\n",
            "\n",
            "kmeans 認為是高風險 但 agg 不認為：\n",
            "['Burundi']\n"
          ],
          "name": "stdout"
        }
      ]
    },
    {
      "cell_type": "markdown",
      "metadata": {
        "id": "bGJflXo4jLhD"
      },
      "source": [
        "嘗試不同的 linkage，看看結果"
      ]
    },
    {
      "cell_type": "code",
      "metadata": {
        "pycharm": {
          "name": "#%%\n"
        },
        "id": "M8HrR3r-LRRb",
        "colab": {
          "base_uri": "https://localhost:8080/",
          "height": 444
        },
        "outputId": "bc85a24e-33c1-4d41-8a54-a71d6e0eb938"
      },
      "source": [
        "agg = AgglomerativeClustering(n_clusters=3, linkage='average').fit(scaled_input)\n",
        "\n",
        "ax = plt.gca()\n",
        "df[agg.labels_==0].plot.scatter(x='Corruption', y='Peace', color='r', ax=ax)\n",
        "df[agg.labels_==1].plot.scatter(x='Corruption', y='Peace', color='g', ax=ax)\n",
        "df[agg.labels_==2].plot.scatter(x='Corruption', y='Peace', color='b', ax=ax)\n",
        "plt.show()\n",
        "\n",
        "print()\n",
        "print(\"依序為 藍點 綠點\")\n",
        "display(df[(agg.labels_==1) | (agg.labels_==2)])"
      ],
      "execution_count": 20,
      "outputs": [
        {
          "output_type": "display_data",
          "data": {
            "image/png": "[encoded data removed]",
            "text/plain": [
              "<Figure size 432x288 with 1 Axes>"
            ]
          },
          "metadata": {
            "tags": []
          }
        },
        {
          "output_type": "stream",
          "text": [
            "\n",
            "依序為 藍點 綠點\n"
          ],
          "name": "stdout"
        },
        {
          "output_type": "display_data",
          "data": {
            "text/html": [
              "<div>\n",
              "<style scoped>\n",
              "    .dataframe tbody tr th:only-of-type {\n",
              "        vertical-align: middle;\n",
              "    }\n",
              "\n",
              "    .dataframe tbody tr th {\n",
              "        vertical-align: top;\n",
              "    }\n",
              "\n",
              "    .dataframe thead th {\n",
              "        text-align: right;\n",
              "    }\n",
              "</style>\n",
              "<table border=\"1\" class=\"dataframe\">\n",
              "  <thead>\n",
              "    <tr style=\"text-align: right;\">\n",
              "      <th></th>\n",
              "      <th>Country</th>\n",
              "      <th>Abbrev</th>\n",
              "      <th>Corruption</th>\n",
              "      <th>Peace</th>\n",
              "      <th>Legal</th>\n",
              "      <th>GDP Growth</th>\n",
              "    </tr>\n",
              "  </thead>\n",
              "  <tbody>\n",
              "    <tr>\n",
              "      <th>117</th>\n",
              "      <td>Venezuela</td>\n",
              "      <td>VE</td>\n",
              "      <td>17</td>\n",
              "      <td>2.651</td>\n",
              "      <td>3.000</td>\n",
              "      <td>-18.000</td>\n",
              "    </tr>\n",
              "    <tr>\n",
              "      <th>119</th>\n",
              "      <td>Yemen</td>\n",
              "      <td>YE</td>\n",
              "      <td>14</td>\n",
              "      <td>3.399</td>\n",
              "      <td>2.728</td>\n",
              "      <td>-9.779</td>\n",
              "    </tr>\n",
              "  </tbody>\n",
              "</table>\n",
              "</div>"
            ],
            "text/plain": [
              "       Country Abbrev  Corruption  Peace  Legal  GDP Growth\n",
              "117  Venezuela     VE          17  2.651  3.000     -18.000\n",
              "119      Yemen     YE          14  3.399  2.728      -9.779"
            ]
          },
          "metadata": {
            "tags": []
          }
        }
      ]
    },
    {
      "cell_type": "code",
      "metadata": {
        "pycharm": {
          "name": "#%%\n"
        },
        "id": "Nk2YjjIoLRRb"
      },
      "source": [
        ""
      ],
      "execution_count": 20,
      "outputs": []
    },
    {
      "cell_type": "markdown",
      "metadata": {
        "id": "JoUDyG0HfAnw"
      },
      "source": [
        "# distribution-based clustering\n",
        "\n",
        "$L = \\sum_{i=1}^n ln(\\sum_{k=1}^K a_k N(x_i|\\mu_k, \\sum_k))$ (這整個 dataset 被 目前的 gaussian mixture sample 出來的 log-likelihood)<br><br>\n",
        "上式的 $ln$ 內有 $\\sum$ <br> \\\\\n",
        "=> 因為每個 $x_i$ 都不知道是哪個 distribution 所 sample 出來的<br> \\\\\n",
        "=> 引入一個 latent variable $z_i, z_1: x_1$所屬的distribution(soft clustering)<br> \\\\\n",
        "\n",
        "$L = $ \n",
        ">$\\sum_{i=1}^N ln(\\sum_{z_i} f(x_i, z_i|\\theta))$ <br> \\\\\n",
        ">$= \\sum_{i=1}^N ln(\\sum_{z_i} q(z_i) \\frac{f(x_i, z_i|\\theta)}{q(z_i)})$ <br> \\\\\n",
        ">$= \\sum_{i=1}^N ln(E_{z_i \\sim q(z_i)}[X]) \\geq \\sum_{i=1}^N E_{z_i \\sim q(z_i)} [ln(X)]$ <br> \\\\\n",
        ">$ = \\sum_{i=1}^N \\sum_{z_i} q(z_i) ln(\\frac{f(x_i, z_i|\\theta)}{q(z_i)}) $\n",
        "\n",
        "=> $q(z_i) = p(z_i = k|x_i) = \\frac{a_k N(x_i|\\mu_k, \\sum_k)}{\\sum_{k=1}^K a_k N(x_i|\\mu_k, \\sum_k)} = w_k(x_i)$ <br> \\\\\n",
        "\n",
        "$L^{t+1} =$\n",
        ">$ \\sum_{i=1}^n ln(\\sum_{k=1}^K w_k^t(x_i) \\frac{a_k^{t+1} N(x_i^{t+1}|\\mu_k^{t+1}, \\sum_k^{t+1})}{w_k^t(x_i)})$ <br> \\\\\n",
        ">$\\geq \\sum_{i=1}^n \\sum_{k=1}^K w_k^t(x_i) ln(\\frac{a_k^{t+1} N(x_i^{t+1}|\\mu_k^{t+1}, \\sum_k^{t+1})}{w_k^t(x_i)})$ <br> \\\\\n",
        ">$ = \\sum_{i=1}^n \\sum_{k=1}^K w_k^t(x_i) ln({a_k^{t+1} N(x_i^{t+1}|\\mu_k^{t+1}, \\sum_k^{t+1})}) + C $ <br> \\\\\n",
        "\n",
        "EM step: find $a_k, \\mu_k, \\sum_k$ s.t. Objective is approximately maximized\n",
        "\n",
        "E step: cal $w_j(x_i)$ given $\\mu_j, \\sum_j, a_j, \\forall j $ <br>\n",
        "\n",
        "M step: 對 $L^{t+1}$ 的 $lower bound$ 分別對參數做偏微分=0\n",
        "* $a_k^{t+1} = \\frac{n_k^t}{n}, n_k^t = \\sum_{i=1}^n w_k^t(x_i)$ <br><br>\n",
        "* $\\mu_k^{t+1} = \\frac{1}{n_k^t}\\sum_{i=1}^n w_k^t(x_i)x_i$ <br><br>\n",
        "* $\\sum_k^{t+1} = \\frac{1}{n_k^t}\\sum_{i=1}^n\\sum_{k=1}^K w_k^t(x_i)(x_i - \\mu_k^{t+1})(x_i - \\mu_k^{t+1})^T$ <br><br>"
      ]
    },
    {
      "cell_type": "code",
      "metadata": {
        "pycharm": {
          "name": "#%%\n"
        },
        "id": "jngxecQRLRRb",
        "colab": {
          "base_uri": "https://localhost:8080/",
          "height": 196
        },
        "outputId": "bf3ff2e4-fb18-4ffe-d2a1-557b5e920f40"
      },
      "source": [
        "url = 'https://api.finmindtrade.com/api/v3/data?dataset={}&stock_id={}&date={}'\n",
        "target = {\n",
        "    'USStockPrice': ['^GSPC', '^DJI', '^IXIC', 'Adj_Close'],\n",
        "    # 'TaiwanStockPrice': ['TAIEX', 'close']\n",
        "}\n",
        "\n",
        "index_data = {}\n",
        "\n",
        "for t in target:\n",
        "    for n in target[t][:-1]:\n",
        "        data = requests.get(url.format(t, n, '2012-01-01')).json()\n",
        "        # 取 adj close series\n",
        "        index_data[n] = pd.DataFrame(data['data']).set_index('date')[target[t][-1]]\n",
        "    index_df = pd.DataFrame(index_data).ffill().copy()\n",
        "index_return_df = index_df.pct_change().dropna()*100\n",
        "index_return_df.head(3)"
      ],
      "execution_count": 21,
      "outputs": [
        {
          "output_type": "execute_result",
          "data": {
            "text/html": [
              "<div>\n",
              "<style scoped>\n",
              "    .dataframe tbody tr th:only-of-type {\n",
              "        vertical-align: middle;\n",
              "    }\n",
              "\n",
              "    .dataframe tbody tr th {\n",
              "        vertical-align: top;\n",
              "    }\n",
              "\n",
              "    .dataframe thead th {\n",
              "        text-align: right;\n",
              "    }\n",
              "</style>\n",
              "<table border=\"1\" class=\"dataframe\">\n",
              "  <thead>\n",
              "    <tr style=\"text-align: right;\">\n",
              "      <th></th>\n",
              "      <th>^GSPC</th>\n",
              "      <th>^DJI</th>\n",
              "      <th>^IXIC</th>\n",
              "    </tr>\n",
              "    <tr>\n",
              "      <th>date</th>\n",
              "      <th></th>\n",
              "      <th></th>\n",
              "      <th></th>\n",
              "    </tr>\n",
              "  </thead>\n",
              "  <tbody>\n",
              "    <tr>\n",
              "      <th>2012-01-04</th>\n",
              "      <td>0.018793</td>\n",
              "      <td>0.169713</td>\n",
              "      <td>-0.013591</td>\n",
              "    </tr>\n",
              "    <tr>\n",
              "      <th>2012-01-05</th>\n",
              "      <td>0.294371</td>\n",
              "      <td>-0.021903</td>\n",
              "      <td>0.811823</td>\n",
              "    </tr>\n",
              "    <tr>\n",
              "      <th>2012-01-06</th>\n",
              "      <td>-0.253696</td>\n",
              "      <td>-0.449270</td>\n",
              "      <td>0.163304</td>\n",
              "    </tr>\n",
              "  </tbody>\n",
              "</table>\n",
              "</div>"
            ],
            "text/plain": [
              "               ^GSPC      ^DJI     ^IXIC\n",
              "date                                    \n",
              "2012-01-04  0.018793  0.169713 -0.013591\n",
              "2012-01-05  0.294371 -0.021903  0.811823\n",
              "2012-01-06 -0.253696 -0.449270  0.163304"
            ]
          },
          "metadata": {
            "tags": []
          },
          "execution_count": 21
        }
      ]
    },
    {
      "cell_type": "markdown",
      "metadata": {
        "id": "L8Tu0ld0OdTT"
      },
      "source": [
        "列出三組 gaussian dist. 的參數，由熊市排到牛市"
      ]
    },
    {
      "cell_type": "code",
      "metadata": {
        "pycharm": {
          "name": "#%%\n"
        },
        "id": "RpR40L8YLRRb",
        "colab": {
          "base_uri": "https://localhost:8080/",
          "height": 192
        },
        "outputId": "1ace0c5c-e043-4920-840a-9754a6dc3640"
      },
      "source": [
        "x_train = index_return_df.iloc[:-252, :]\n",
        "x_test = index_return_df.iloc[-252:, :]\n",
        "\n",
        "mixture_model = GaussianMixture(n_components=3, random_state=random_state)\n",
        "mixture_model.fit(x_train)\n",
        "\n",
        "sorted_idx = np.argsort(mixture_model.means_.sum(axis=1))\n",
        "cluster_params = {\"means\": mixture_model.means_[sorted_idx],\n",
        "                  \"vars\": (np.linalg.det(mixture_model.covariances_[sorted_idx])**0.5)}\n",
        "cluster_means = pd.DataFrame(cluster_params['means'],\n",
        "                             index=['bear', 'bumpy', 'bull'],\n",
        "                             columns=index_data.keys()).round(4)\n",
        "cluster_vars = pd.DataFrame(cluster_params['vars'],\n",
        "                            index=['bear', 'bumpy', 'bull'],\n",
        "                            columns=['sqrt(det(cov_mat))']).round(4)\n",
        "display_side_by_side([cluster_means, cluster_vars], ['高斯mu', '震盪程度'])"
      ],
      "execution_count": 22,
      "outputs": [
        {
          "output_type": "display_data",
          "data": {
            "text/html": [
              "<table style=\"display:inline\"><tr><td style=\"text-align:center\">高斯mu</td><td style=\"text-align:center\">震盪程度</td></tr><tr><td style=\"vertical-align:top\"> <table style=\"display:inline\" border=\"1\" class=\"dataframe\">\n",
              "  <thead>\n",
              "    <tr style=\"text-align: right;\">\n",
              "      <th></th>\n",
              "      <th>^GSPC</th>\n",
              "      <th>^DJI</th>\n",
              "      <th>^IXIC</th>\n",
              "    </tr>\n",
              "  </thead>\n",
              "  <tbody>\n",
              "    <tr>\n",
              "      <th>bear</th>\n",
              "      <td>-0.4080</td>\n",
              "      <td>-0.3716</td>\n",
              "      <td>-0.4828</td>\n",
              "    </tr>\n",
              "    <tr>\n",
              "      <th>bumpy</th>\n",
              "      <td>0.0284</td>\n",
              "      <td>0.0355</td>\n",
              "      <td>-0.0075</td>\n",
              "    </tr>\n",
              "    <tr>\n",
              "      <th>bull</th>\n",
              "      <td>0.0936</td>\n",
              "      <td>0.0758</td>\n",
              "      <td>0.1555</td>\n",
              "    </tr>\n",
              "  </tbody>\n",
              "</table style=\"display:inline\"></td><td style=\"vertical-align:top\"> <table style=\"display:inline\" border=\"1\" class=\"dataframe\">\n",
              "  <thead>\n",
              "    <tr style=\"text-align: right;\">\n",
              "      <th></th>\n",
              "      <th>sqrt(det(cov_mat))</th>\n",
              "    </tr>\n",
              "  </thead>\n",
              "  <tbody>\n",
              "    <tr>\n",
              "      <th>bear</th>\n",
              "      <td>0.9983</td>\n",
              "    </tr>\n",
              "    <tr>\n",
              "      <th>bumpy</th>\n",
              "      <td>0.0960</td>\n",
              "    </tr>\n",
              "    <tr>\n",
              "      <th>bull</th>\n",
              "      <td>0.0151</td>\n",
              "    </tr>\n",
              "  </tbody>\n",
              "</table style=\"display:inline\"></td></tr></table style=\"display:inline\">"
            ]
          },
          "metadata": {
            "tags": []
          }
        }
      ]
    },
    {
      "cell_type": "markdown",
      "metadata": {
        "id": "b50G0kAsOaHn"
      },
      "source": [
        "以參數預測 測試資料 牛熊市機率，預測最高機率者"
      ]
    },
    {
      "cell_type": "code",
      "metadata": {
        "colab": {
          "base_uri": "https://localhost:8080/",
          "height": 526
        },
        "id": "FOSt4pvsN222",
        "outputId": "61f59abe-7baf-4e87-f50e-552ee2e6c151"
      },
      "source": [
        "predictions = mixture_model.predict(x_test)\n",
        "predictions_df = pd.DataFrame(predictions, index=x_test.index, columns=['predictions']).reset_index()\n",
        "predictions_df['date'] = pd.to_datetime(predictions_df['date'])\n",
        "predictions_df = predictions_df.replace({'predictions': {i: j for i, j in zip(sorted_idx, [-1, 0, 1])}})\n",
        "\n",
        "_, axes = plt.subplots(2, 1, figsize=(10, 8))\n",
        "index_df.iloc[-252:, :]['^GSPC'].plot(ax=axes[0])\n",
        "sns.scatterplot(x='date', y='predictions', data=predictions_df, s=5, ax=axes[1])\n",
        "plt.show()"
      ],
      "execution_count": 23,
      "outputs": [
        {
          "output_type": "display_data",
          "data": {
            "image/png": "[encoded data removed]",
            "text/plain": [
              "<Figure size 720x576 with 2 Axes>"
            ]
          },
          "metadata": {
            "tags": []
          }
        }
      ]
    },
    {
      "cell_type": "markdown",
      "metadata": {
        "id": "DZPUCzQOQa_s"
      },
      "source": [
        "牛熊市機率乘上 label -1, 0, 1，預測一個綜合的機率值 \\\\\n",
        "再 rolling mean 做為一天的預測機率 -> 歸類"
      ]
    },
    {
      "cell_type": "code",
      "metadata": {
        "colab": {
          "base_uri": "https://localhost:8080/",
          "height": 526
        },
        "id": "yzRi-YQaN6pE",
        "outputId": "892fc598-2226-44cc-c96c-4caab1b14979"
      },
      "source": [
        "window = 10\n",
        "predictions_weighted_by_proba = mixture_model.predict_proba(x_test)[:, sorted_idx] @ np.array([-1, 0, 1])\n",
        "predictions_weighted_by_proba_df = pd.DataFrame(predictions_weighted_by_proba,\n",
        "                                                index=x_test.index,\n",
        "                                                columns=['predictions_weighted_by_proba']).reset_index()\n",
        "predictions_weighted_by_proba_df['date'] = pd.to_datetime(predictions_weighted_by_proba_df['date'])\n",
        "rolling_pred = predictions_weighted_by_proba_df.set_index('date').rolling(window).mean().dropna().reset_index()\n",
        "rolling_pred['pred_label'] = pd.cut(rolling_pred['predictions_weighted_by_proba'],\n",
        "                                    bins=3,\n",
        "                                    labels=[-1., 0., 1.])\n",
        "rolling_pred = rolling_pred.astype({\"pred_label\": np.float64})\n",
        "\n",
        "_, axes = plt.subplots(2, 1, figsize=(10, 8))\n",
        "index_df.iloc[-252+window-1:, :]['^GSPC'].plot(ax=axes[0])\n",
        "sns.scatterplot(x='date', y='pred_label', data=rolling_pred, s=5, ax=axes[1])\n",
        "plt.show()"
      ],
      "execution_count": 24,
      "outputs": [
        {
          "output_type": "display_data",
          "data": {
            "image/png": "[encoded data removed]",
            "text/plain": [
              "<Figure size 720x576 with 2 Axes>"
            ]
          },
          "metadata": {
            "tags": []
          }
        }
      ]
    },
    {
      "cell_type": "code",
      "metadata": {
        "pycharm": {
          "name": "#%%\n"
        },
        "id": "1DXkbjBfLRRd"
      },
      "source": [
        ""
      ],
      "execution_count": 24,
      "outputs": []
    },
    {
      "cell_type": "markdown",
      "metadata": {
        "collapsed": false,
        "pycharm": {
          "name": "#%% md\n"
        },
        "id": "C8Qff1YMLRRe"
      },
      "source": [
        "# Density-Based Clustering\n",
        "\n",
        "given MinPts(m), epsilon ($\\epsilon$)\n",
        "\n",
        "MinPts(m): 半徑 $\\epsilon$ 圓內點數量 threshold\n",
        "\n",
        "* core points: <br>\n",
        "    $|N_\\epsilon(q)| \\geq m$\n",
        "\n",
        "* border points: <br>\n",
        "    $|N_\\epsilon(p)| < m$ <br>\n",
        "    $p \\in N_\\epsilon(q), $ q is a core point\n",
        "\n",
        "* noise: <br>\n",
        "    neither of the above\n",
        "----------------------\n",
        "1. mark all points\n",
        "\n",
        "2. ignore noise points\n",
        "\n",
        "3. $\\forall$ core points $c_k,$<br>\n",
        "   $\\forall$ core points $c_j, j \\neq k$<br>\n",
        "   if $dist(c_j, c_k) < \\epsilon$ : form_a_group($c_j, c_k$)\n",
        "\n",
        "4. $\\forall$ border points $c_b$ <br>\n",
        "   $\\forall$ core points $c_k$ <br>\n",
        "   if $dist(c_b, c_k) < \\epsilon$ : form_a_group($c_b, c_k$)\n",
        "\n",
        "Q: 如果有個 border point, 對應於兩個核心點, 但那兩個核心點又不同群, 怎麼歸類？ <br>\n",
        "A: 誰先判斷到就歸哪類 => not stable"
      ]
    },
    {
      "cell_type": "code",
      "metadata": {
        "pycharm": {
          "name": "#%%\n"
        },
        "id": "ymtn0gxGLRRe",
        "colab": {
          "base_uri": "https://localhost:8080/",
          "height": 291
        },
        "outputId": "3f2edeff-1fd5-4784-9420-09a784186866"
      },
      "source": [
        "circles, c_labels = make_circles(n_samples=300, noise=.07,\n",
        "                                 factor=.5, random_state=random_state)\n",
        "plt.scatter(circles[:, 0], circles[:, 1])\n",
        "plt.show()"
      ],
      "execution_count": 25,
      "outputs": [
        {
          "output_type": "display_data",
          "data": {
            "image/png": "[encoded data removed]",
            "text/plain": [
              "<Figure size 432x288 with 1 Axes>"
            ]
          },
          "metadata": {
            "tags": []
          }
        }
      ]
    },
    {
      "cell_type": "code",
      "metadata": {
        "pycharm": {
          "name": "#%%\n"
        },
        "id": "trtcN8S-LRRe"
      },
      "source": [
        "def get_label_color_mapping(model, X):\n",
        "    model.fit(X)\n",
        "    labels = model.labels_\n",
        "    unique_labels = set(labels)\n",
        "    colors = [plt.cm.Spectral(each) for each in np.linspace(0, 1, len(unique_labels))]\n",
        "\n",
        "    return zip(unique_labels, colors)\n",
        "\n",
        "db = DBSCAN(eps=.2)\n",
        "km = KMeans(n_clusters=2)\n",
        "db_mapping = get_label_color_mapping(db, circles)\n",
        "km_mapping = get_label_color_mapping(km, circles)"
      ],
      "execution_count": 26,
      "outputs": []
    },
    {
      "cell_type": "code",
      "metadata": {
        "colab": {
          "base_uri": "https://localhost:8080/",
          "height": 291
        },
        "id": "SAsN_b-duEk4",
        "outputId": "43c3f600-a4c4-46aa-c240-b15ba2328ea1"
      },
      "source": [
        "for k, col in km_mapping:\n",
        "    class_member_mask = (km.labels_ == k)\n",
        "    xy = circles[class_member_mask]\n",
        "    plt.plot(xy[:, 0], xy[:, 1], 'o', \n",
        "             markerfacecolor=tuple(col), markeredgecolor='w', markersize=10)"
      ],
      "execution_count": 27,
      "outputs": [
        {
          "output_type": "display_data",
          "data": {
            "image/png": "[encoded data removed]",
            "text/plain": [
              "<Figure size 432x288 with 1 Axes>"
            ]
          },
          "metadata": {
            "tags": []
          }
        }
      ]
    },
    {
      "cell_type": "code",
      "metadata": {
        "pycharm": {
          "name": "#%%\n"
        },
        "id": "mcHNdgdALRRe",
        "colab": {
          "base_uri": "https://localhost:8080/",
          "height": 291
        },
        "outputId": "b5062004-35ac-4de3-cef8-371d7cddee07"
      },
      "source": [
        "core_samples_mask = np.zeros_like(db.labels_, dtype=bool)\n",
        "core_samples_mask[db.core_sample_indices_] = True\n",
        "for k, col in db_mapping:\n",
        "    if k == -1:\n",
        "        col = [0, 0, 0, 1]\n",
        "    class_member_mask = (db.labels_ == k)\n",
        "    xy = circles[class_member_mask & core_samples_mask]\n",
        "    plt.plot(xy[:, 0], xy[:, 1], 'o',\n",
        "             markerfacecolor=tuple(col), markeredgecolor='w', markersize=10)\n",
        "\n",
        "    xy = circles[class_member_mask & ~core_samples_mask]\n",
        "    plt.plot(xy[:, 0], xy[:, 1], 'o', \n",
        "             markerfacecolor=tuple(col), markeredgecolor='w', markersize=6)"
      ],
      "execution_count": 28,
      "outputs": [
        {
          "output_type": "display_data",
          "data": {
            "image/png": "[encoded data removed]",
            "text/plain": [
              "<Figure size 432x288 with 1 Axes>"
            ]
          },
          "metadata": {
            "tags": []
          }
        }
      ]
    },
    {
      "cell_type": "code",
      "metadata": {
        "id": "juUsAXfhcWLH"
      },
      "source": [
        ""
      ],
      "execution_count": 28,
      "outputs": []
    }
  ]
}
