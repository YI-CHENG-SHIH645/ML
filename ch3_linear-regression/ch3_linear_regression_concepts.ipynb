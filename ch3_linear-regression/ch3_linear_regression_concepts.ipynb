{
  "nbformat": 4,
  "nbformat_minor": 0,
  "metadata": {
    "colab": {
      "name": "ch3_linear_regression_concepts.ipynb",
      "provenance": [],
      "collapsed_sections": [],
      "include_colab_link": true
    },
    "kernelspec": {
      "name": "python3",
      "language": "python",
      "display_name": "Python 3"
    }
  },
  "cells": [
    {
      "cell_type": "markdown",
      "metadata": {
        "id": "view-in-github",
        "colab_type": "text"
      },
      "source": [
        "<a href=\"https://colab.research.google.com/github/YI-CHENG-SHIH645/ML-in-Business_practice/blob/main/ch3_linear-regression/ch3_linear_regression_concepts.ipynb\" target=\"_parent\"><img src=\"https://colab.research.google.com/assets/colab-badge.svg\" alt=\"Open In Colab\"/></a>"
      ]
    },
    {
      "cell_type": "code",
      "metadata": {
        "id": "rIeW2YQOlZ8J",
        "colab": {
          "base_uri": "https://localhost:8080/"
        },
        "outputId": "1f9e88ff-aaf3-41f0-f2fd-0bc006d2cf88"
      },
      "source": [
        "#@title Imports\n",
        "!wget \"https://github.com/YI-CHENG-SHIH645/ML-in-Business_practice/raw/main/utils.py\"\n",
        "\n",
        "import numpy as np\n",
        "import pandas as pd\n",
        "from sklearn.preprocessing import StandardScaler, OneHotEncoder\n",
        "from sklearn.metrics import mean_squared_error\n",
        "import matplotlib.pyplot as plt\n",
        "from sklearn.metrics import roc_auc_score\n",
        "from utils import display_side_by_side, DataLoader\n",
        "\n",
        "np.random.seed(3)"
      ],
      "execution_count": null,
      "outputs": [
        {
          "output_type": "stream",
          "text": [
            "Downloading...\n",
            "From: https://drive.google.com/uc?id=15p2cUU3ocPUDDS9tGmhNos05dSyJFd2A\n",
            "To: /content/utils.py\n",
            "\r  0% 0.00/7.29k [00:00<?, ?B/s]\r100% 7.29k/7.29k [00:00<00:00, 3.25MB/s]\n"
          ],
          "name": "stdout"
        }
      ]
    },
    {
      "cell_type": "markdown",
      "metadata": {
        "id": "gPUzhgKDr4-g"
      },
      "source": [
        "# Linear Regression"
      ]
    },
    {
      "cell_type": "code",
      "metadata": {
        "id": "VgXguJL4I0oh"
      },
      "source": [
        "#@title load iowa house price data\n",
        "iowa_scaled_df = DataLoader.load_data('iowa_reduced_scaled')\n",
        "iowa_original_df = DataLoader.load_data('iowa_original')\n",
        "\n",
        "some_numerical_features = iowa_scaled_df.columns[:3]\n",
        "features = iowa_original_df[some_numerical_features]\n",
        "target_price = iowa_original_df[['SalePrice']]"
      ],
      "execution_count": null,
      "outputs": []
    },
    {
      "cell_type": "code",
      "metadata": {
        "colab": {
          "base_uri": "https://localhost:8080/",
          "height": 229
        },
        "id": "aaNp3m_ouUOc",
        "outputId": "763e39da-580c-4c40-f087-108922c74533"
      },
      "source": [
        "display_side_by_side([features.head(), target_price.head()])"
      ],
      "execution_count": null,
      "outputs": [
        {
          "output_type": "display_data",
          "data": {
            "text/html": [
              "<table style=\"display:inline\"><tr><td style=\"vertical-align:top\"> <table style=\"display:inline\" border=\"1\" class=\"dataframe\">\n",
              "  <thead>\n",
              "    <tr style=\"text-align: right;\">\n",
              "      <th></th>\n",
              "      <th>LotArea</th>\n",
              "      <th>OverallQual</th>\n",
              "      <th>OverallCond</th>\n",
              "    </tr>\n",
              "  </thead>\n",
              "  <tbody>\n",
              "    <tr>\n",
              "      <th>0</th>\n",
              "      <td>8450</td>\n",
              "      <td>7</td>\n",
              "      <td>5</td>\n",
              "    </tr>\n",
              "    <tr>\n",
              "      <th>1</th>\n",
              "      <td>9600</td>\n",
              "      <td>6</td>\n",
              "      <td>8</td>\n",
              "    </tr>\n",
              "    <tr>\n",
              "      <th>2</th>\n",
              "      <td>11250</td>\n",
              "      <td>7</td>\n",
              "      <td>5</td>\n",
              "    </tr>\n",
              "    <tr>\n",
              "      <th>3</th>\n",
              "      <td>9550</td>\n",
              "      <td>7</td>\n",
              "      <td>5</td>\n",
              "    </tr>\n",
              "    <tr>\n",
              "      <th>4</th>\n",
              "      <td>14260</td>\n",
              "      <td>8</td>\n",
              "      <td>5</td>\n",
              "    </tr>\n",
              "  </tbody>\n",
              "</table style=\"display:inline\"></td><td style=\"vertical-align:top\"> <table style=\"display:inline\" border=\"1\" class=\"dataframe\">\n",
              "  <thead>\n",
              "    <tr style=\"text-align: right;\">\n",
              "      <th></th>\n",
              "      <th>SalePrice</th>\n",
              "    </tr>\n",
              "  </thead>\n",
              "  <tbody>\n",
              "    <tr>\n",
              "      <th>0</th>\n",
              "      <td>208500</td>\n",
              "    </tr>\n",
              "    <tr>\n",
              "      <th>1</th>\n",
              "      <td>181500</td>\n",
              "    </tr>\n",
              "    <tr>\n",
              "      <th>2</th>\n",
              "      <td>223500</td>\n",
              "    </tr>\n",
              "    <tr>\n",
              "      <th>3</th>\n",
              "      <td>140000</td>\n",
              "    </tr>\n",
              "    <tr>\n",
              "      <th>4</th>\n",
              "      <td>250000</td>\n",
              "    </tr>\n",
              "  </tbody>\n",
              "</table style=\"display:inline\"></td></tr></table style=\"display:inline\">"
            ]
          },
          "metadata": {
            "tags": []
          }
        }
      ]
    },
    {
      "cell_type": "code",
      "metadata": {
        "colab": {
          "base_uri": "https://localhost:8080/"
        },
        "id": "x6pJRVoetXcx",
        "outputId": "b206b23c-6618-4488-cb41-d101e2d9ca4e"
      },
      "source": [
        "#@title assign random params of linear model\n",
        "random_params = np.random.rand(4)\n",
        "random_params"
      ],
      "execution_count": null,
      "outputs": [
        {
          "output_type": "execute_result",
          "data": {
            "text/plain": [
              "array([0.5507979 , 0.70814782, 0.29090474, 0.51082761])"
            ]
          },
          "metadata": {
            "tags": []
          },
          "execution_count": 4
        }
      ]
    },
    {
      "cell_type": "code",
      "metadata": {
        "colab": {
          "base_uri": "https://localhost:8080/"
        },
        "id": "lazI_P57w1VX",
        "outputId": "41c74509-fb3c-4e6a-bf12-7dd153da9713"
      },
      "source": [
        "#@title use linear model with random params to predict price\n",
        "predicted_prices = features @ random_params[:3] + random_params[-1]\n",
        "predicted_prices.astype(int).head(5)"
      ],
      "execution_count": null,
      "outputs": [
        {
          "output_type": "execute_result",
          "data": {
            "text/plain": [
              "0    4661\n",
              "1    5294\n",
              "2    6203\n",
              "3    5267\n",
              "4    7862\n",
              "dtype: int64"
            ]
          },
          "metadata": {
            "tags": []
          },
          "execution_count": 5
        }
      ]
    },
    {
      "cell_type": "markdown",
      "metadata": {
        "id": "1QHPqDYVyD4C"
      },
      "source": [
        "how can we improve the model? => by tuning params => how? <br>\n",
        "the form is quite like $A\\vec{x}=\\vec{b}$"
      ]
    },
    {
      "cell_type": "code",
      "metadata": {
        "colab": {
          "base_uri": "https://localhost:8080/"
        },
        "id": "NNfpi6CjyC52",
        "outputId": "edbc4798-66b3-489d-fdc9-5cf91a89e665"
      },
      "source": [
        "#@title change the notations to Ax=b\n",
        "A = features.copy()\n",
        "A['intercept'] = 1\n",
        "x = random_params\n",
        "b = target_price['SalePrice']\n",
        "(A @ x).astype(int).head()"
      ],
      "execution_count": null,
      "outputs": [
        {
          "output_type": "execute_result",
          "data": {
            "text/plain": [
              "0    4661\n",
              "1    5294\n",
              "2    6203\n",
              "3    5267\n",
              "4    7862\n",
              "dtype: int64"
            ]
          },
          "metadata": {
            "tags": []
          },
          "execution_count": 6
        }
      ]
    },
    {
      "cell_type": "markdown",
      "metadata": {
        "id": "90Bgig7Az14N"
      },
      "source": [
        "how to measure the model's performance? <br>\n",
        "we use mean squared error here <br>\n",
        "it sounds make sense, but the proof will be presented later"
      ]
    },
    {
      "cell_type": "code",
      "metadata": {
        "colab": {
          "base_uri": "https://localhost:8080/",
          "height": 58
        },
        "id": "8cbZ61WLxmFw",
        "outputId": "471ed915-a8ee-4b18-9e5f-6e31e4560f4d"
      },
      "source": [
        "#@title compute MSE\n",
        "costJ = ((A@x - b)**2).mean()\n",
        "\"{:.2E}\".format(costJ)"
      ],
      "execution_count": null,
      "outputs": [
        {
          "output_type": "execute_result",
          "data": {
            "application/vnd.google.colaboratory.intrinsic+json": {
              "type": "string"
            },
            "text/plain": [
              "'3.65E+10'"
            ]
          },
          "metadata": {
            "tags": []
          },
          "execution_count": 7
        }
      ]
    },
    {
      "cell_type": "markdown",
      "metadata": {
        "id": "FOzBK0hb5GZz"
      },
      "source": [
        "# Normal Equation\n",
        "by computing $\\frac{\\partial J}{\\partial params} = 0$ <br>\n",
        "we can find $params = (A^TA)^{-1}A^Tb$"
      ]
    },
    {
      "cell_type": "code",
      "metadata": {
        "id": "zFg5c9M4Oada"
      },
      "source": [
        "def find_best_params_minimizing_mse(A, b):\n",
        "    return (np.linalg.inv(A.T @ A) @ A.T @ b).values"
      ],
      "execution_count": null,
      "outputs": []
    },
    {
      "cell_type": "code",
      "metadata": {
        "colab": {
          "base_uri": "https://localhost:8080/"
        },
        "id": "12Lyop1I5GqN",
        "outputId": "3a2bf61a-704f-4154-d526-a2b6d10c874a"
      },
      "source": [
        "x_best = find_best_params_minimizing_mse(A, b)\n",
        "x_best"
      ],
      "execution_count": null,
      "outputs": [
        {
          "output_type": "execute_result",
          "data": {
            "text/plain": [
              "array([ 2.03456666e+00,  4.40036262e+04, -1.66144479e+03, -9.87832286e+04])"
            ]
          },
          "metadata": {
            "tags": []
          },
          "execution_count": 9
        }
      ]
    },
    {
      "cell_type": "code",
      "metadata": {
        "colab": {
          "base_uri": "https://localhost:8080/",
          "height": 58
        },
        "id": "e5S6aIGYcwj5",
        "outputId": "44c9e601-aae6-455a-d19e-c6ebe5c9ab72"
      },
      "source": [
        "#@title minimized MSE\n",
        "minimized_costJ = ((A@x_best - b)**2).mean()\n",
        "'{:.2E}'.format(minimized_costJ)"
      ],
      "execution_count": null,
      "outputs": [
        {
          "output_type": "execute_result",
          "data": {
            "application/vnd.google.colaboratory.intrinsic+json": {
              "type": "string"
            },
            "text/plain": [
              "'1.88E+09'"
            ]
          },
          "metadata": {
            "tags": []
          },
          "execution_count": 10
        }
      ]
    },
    {
      "cell_type": "code",
      "metadata": {
        "colab": {
          "base_uri": "https://localhost:8080/"
        },
        "id": "Aw23S6lK7CWb",
        "outputId": "81c4d18e-5302-44b8-928a-6a69e3257f2c"
      },
      "source": [
        "#@title 降低約 94% 的 MSE\n",
        "round(((minimized_costJ - costJ)/costJ*100), 2)"
      ],
      "execution_count": null,
      "outputs": [
        {
          "output_type": "execute_result",
          "data": {
            "text/plain": [
              "-94.84"
            ]
          },
          "metadata": {
            "tags": []
          },
          "execution_count": 11
        }
      ]
    },
    {
      "cell_type": "code",
      "metadata": {
        "colab": {
          "base_uri": "https://localhost:8080/",
          "height": 229
        },
        "id": "jkOYF1MmVTz3",
        "outputId": "52801fde-72eb-43e9-eb7c-b577df9a0f0c"
      },
      "source": [
        "predictions = pd.DataFrame(A@x_best, columns=['price predicted']).astype(int)\n",
        "display_side_by_side([predictions.head(), target_price.head()])"
      ],
      "execution_count": null,
      "outputs": [
        {
          "output_type": "display_data",
          "data": {
            "text/html": [
              "<table style=\"display:inline\"><tr><td style=\"vertical-align:top\"> <table style=\"display:inline\" border=\"1\" class=\"dataframe\">\n",
              "  <thead>\n",
              "    <tr style=\"text-align: right;\">\n",
              "      <th></th>\n",
              "      <th>price predicted</th>\n",
              "    </tr>\n",
              "  </thead>\n",
              "  <tbody>\n",
              "    <tr>\n",
              "      <th>0</th>\n",
              "      <td>218127</td>\n",
              "    </tr>\n",
              "    <tr>\n",
              "      <th>1</th>\n",
              "      <td>171478</td>\n",
              "    </tr>\n",
              "    <tr>\n",
              "      <th>2</th>\n",
              "      <td>223823</td>\n",
              "    </tr>\n",
              "    <tr>\n",
              "      <th>3</th>\n",
              "      <td>220365</td>\n",
              "    </tr>\n",
              "    <tr>\n",
              "      <th>4</th>\n",
              "      <td>273951</td>\n",
              "    </tr>\n",
              "  </tbody>\n",
              "</table style=\"display:inline\"></td><td style=\"vertical-align:top\"> <table style=\"display:inline\" border=\"1\" class=\"dataframe\">\n",
              "  <thead>\n",
              "    <tr style=\"text-align: right;\">\n",
              "      <th></th>\n",
              "      <th>SalePrice</th>\n",
              "    </tr>\n",
              "  </thead>\n",
              "  <tbody>\n",
              "    <tr>\n",
              "      <th>0</th>\n",
              "      <td>208500</td>\n",
              "    </tr>\n",
              "    <tr>\n",
              "      <th>1</th>\n",
              "      <td>181500</td>\n",
              "    </tr>\n",
              "    <tr>\n",
              "      <th>2</th>\n",
              "      <td>223500</td>\n",
              "    </tr>\n",
              "    <tr>\n",
              "      <th>3</th>\n",
              "      <td>140000</td>\n",
              "    </tr>\n",
              "    <tr>\n",
              "      <th>4</th>\n",
              "      <td>250000</td>\n",
              "    </tr>\n",
              "  </tbody>\n",
              "</table style=\"display:inline\"></td></tr></table style=\"display:inline\">"
            ]
          },
          "metadata": {
            "tags": []
          }
        }
      ]
    },
    {
      "cell_type": "markdown",
      "metadata": {
        "id": "y-3Bd4yh9XTs"
      },
      "source": [
        "cons:\n",
        "* if A contains a lot of features, then the overhead of computing the inverse of the matrix would be large.\n",
        "* if Ax is plugged into some nonlinear function, then we cannot use this method"
      ]
    },
    {
      "cell_type": "code",
      "metadata": {
        "id": "0FijuicZ6At8"
      },
      "source": [
        ""
      ],
      "execution_count": null,
      "outputs": []
    },
    {
      "cell_type": "markdown",
      "metadata": {
        "id": "8vClBVy7ThsU"
      },
      "source": [
        "# R-squared"
      ]
    },
    {
      "cell_type": "markdown",
      "metadata": {
        "id": "KXbqyJcU3h56"
      },
      "source": [
        "$Var[y-\\bar{y}] = Var[y'-\\bar{y}] + Var[y-y']$ <br>\n",
        "$R-squared = \\frac{Var[y'-\\bar{y}]}{Var[y-\\bar{y}]}$"
      ]
    },
    {
      "cell_type": "code",
      "metadata": {
        "id": "X1A57a2g4YfQ",
        "colab": {
          "base_uri": "https://localhost:8080/"
        },
        "outputId": "6134a733-b2f3-4a2f-dfba-7fed8166edf7"
      },
      "source": [
        "mean_price = target_price.values.mean()\n",
        "total_var = target_price.values.var()\n",
        "explained_var = (predictions.values - mean_price).var()\n",
        "r_squared = round(explained_var / total_var, 3)\n",
        "print(r_squared)"
      ],
      "execution_count": null,
      "outputs": [
        {
          "output_type": "stream",
          "text": [
            "0.692\n"
          ],
          "name": "stdout"
        }
      ]
    },
    {
      "cell_type": "code",
      "metadata": {
        "id": "U8FvCHfJx-tP",
        "colab": {
          "base_uri": "https://localhost:8080/"
        },
        "outputId": "2d9bc5b6-9d6c-4cd8-8eed-deb5226d541a"
      },
      "source": [
        "def r_squared(y_true, y_predicted):\n",
        "    return round((y_predicted - y_true.mean()).var() / y_true.var(), 3)\n",
        "\n",
        "print(r_squared(target_price.values, predictions.values))"
      ],
      "execution_count": null,
      "outputs": [
        {
          "output_type": "stream",
          "text": [
            "0.692\n"
          ],
          "name": "stdout"
        }
      ]
    },
    {
      "cell_type": "code",
      "metadata": {
        "id": "k72WwzRWY2R2"
      },
      "source": [
        ""
      ],
      "execution_count": null,
      "outputs": []
    },
    {
      "cell_type": "code",
      "metadata": {
        "colab": {
          "base_uri": "https://localhost:8080/"
        },
        "id": "2Bg5h881WO1_",
        "outputId": "4a946796-27ff-4957-9cea-e8e0a14b1982"
      },
      "source": [
        "#@title categorical feature\n",
        "iowa_original_df['Neighborhood'].unique()"
      ],
      "execution_count": null,
      "outputs": [
        {
          "output_type": "execute_result",
          "data": {
            "text/plain": [
              "array(['CollgCr', 'Veenker', 'Crawfor', 'NoRidge', 'Mitchel', 'Somerst',\n",
              "       'NWAmes', 'OldTown', 'BrkSide', 'Sawyer', 'NridgHt', 'NAmes',\n",
              "       'SawyerW', 'IDOTRR', 'MeadowV', 'Edwards', 'Timber', 'Gilbert',\n",
              "       'StoneBr', 'ClearCr', 'NPkVill', 'Blmngtn', 'BrDale', 'SWISU',\n",
              "       'Blueste'], dtype=object)"
            ]
          },
          "metadata": {
            "tags": []
          },
          "execution_count": 15
        }
      ]
    },
    {
      "cell_type": "code",
      "metadata": {
        "colab": {
          "base_uri": "https://localhost:8080/"
        },
        "id": "omLuPxOABz0n",
        "outputId": "d7659c74-b3fb-4365-bae8-21062faae989"
      },
      "source": [
        "encoder = OneHotEncoder(sparse=False)\n",
        "encoder.fit(iowa_original_df[['Neighborhood']])\n",
        "onehot_encoded_res = encoder.transform([['Blmngtn'], ['BrDale']])\n",
        "print(onehot_encoded_res)"
      ],
      "execution_count": null,
      "outputs": [
        {
          "output_type": "stream",
          "text": [
            "[[1. 0. 0. 0. 0. 0. 0. 0. 0. 0. 0. 0. 0. 0. 0. 0. 0. 0. 0. 0. 0. 0. 0. 0.\n",
            "  0.]\n",
            " [0. 0. 1. 0. 0. 0. 0. 0. 0. 0. 0. 0. 0. 0. 0. 0. 0. 0. 0. 0. 0. 0. 0. 0.\n",
            "  0.]]\n"
          ],
          "name": "stdout"
        }
      ]
    },
    {
      "cell_type": "code",
      "metadata": {
        "colab": {
          "base_uri": "https://localhost:8080/"
        },
        "id": "sXh4eIjrDjJ1",
        "outputId": "fb454e6e-9c3f-4e3b-c25d-f6b67b925fee"
      },
      "source": [
        "#@title there's no relation between values\n",
        "onehot_encoded_res[0] @ onehot_encoded_res[1]"
      ],
      "execution_count": null,
      "outputs": [
        {
          "output_type": "execute_result",
          "data": {
            "text/plain": [
              "0.0"
            ]
          },
          "metadata": {
            "tags": []
          },
          "execution_count": 17
        }
      ]
    },
    {
      "cell_type": "code",
      "metadata": {
        "id": "DzlWCC_XDpRZ"
      },
      "source": [
        ""
      ],
      "execution_count": null,
      "outputs": []
    },
    {
      "cell_type": "code",
      "metadata": {
        "colab": {
          "base_uri": "https://localhost:8080/"
        },
        "id": "EngXhdjkDs0Z",
        "outputId": "4dfb8136-ff84-45c4-d252-e4b29ea9bb12"
      },
      "source": [
        "#@title categorical feature with natural ordering\n",
        "# Good, Typical, Excellent, No Bsmt, Fair\n",
        "iowa_original_df['BsmtQual'].unique()"
      ],
      "execution_count": null,
      "outputs": [
        {
          "output_type": "execute_result",
          "data": {
            "text/plain": [
              "array(['Gd', 'TA', 'Ex', 'NA', 'Fa'], dtype=object)"
            ]
          },
          "metadata": {
            "tags": []
          },
          "execution_count": 18
        }
      ]
    },
    {
      "cell_type": "code",
      "metadata": {
        "colab": {
          "base_uri": "https://localhost:8080/",
          "height": 229
        },
        "id": "xUGUTkJiDH8M",
        "outputId": "b9e61b9f-2404-4dca-a336-f0cc136a836e"
      },
      "source": [
        "def convert_to_natural_ordering(df, cols: list, mapping: dict):\n",
        "    for col, mapp in zip(cols, mapping):\n",
        "        df[col] = df[col].replace(mapp)\n",
        "    return df\n",
        "\n",
        "cols = ['BsmtQual']\n",
        "ordering_mapping = [{\n",
        "    \"Ex\": 4, \"Gd\": 3, \"TA\": 2,\n",
        "    \"Fa\": 1, \"NA\": 0\n",
        "}]\n",
        "\n",
        "BsmtQual_df = iowa_original_df[['BsmtQual']].copy()\n",
        "_ = BsmtQual_df.pipe(convert_to_natural_ordering, cols, ordering_mapping)\n",
        "display_side_by_side([BsmtQual_df.head(), iowa_original_df[['BsmtQual']].head()])"
      ],
      "execution_count": null,
      "outputs": [
        {
          "output_type": "display_data",
          "data": {
            "text/html": [
              "<table style=\"display:inline\"><tr><td style=\"vertical-align:top\"> <table style=\"display:inline\" border=\"1\" class=\"dataframe\">\n",
              "  <thead>\n",
              "    <tr style=\"text-align: right;\">\n",
              "      <th></th>\n",
              "      <th>BsmtQual</th>\n",
              "    </tr>\n",
              "  </thead>\n",
              "  <tbody>\n",
              "    <tr>\n",
              "      <th>0</th>\n",
              "      <td>3</td>\n",
              "    </tr>\n",
              "    <tr>\n",
              "      <th>1</th>\n",
              "      <td>3</td>\n",
              "    </tr>\n",
              "    <tr>\n",
              "      <th>2</th>\n",
              "      <td>3</td>\n",
              "    </tr>\n",
              "    <tr>\n",
              "      <th>3</th>\n",
              "      <td>2</td>\n",
              "    </tr>\n",
              "    <tr>\n",
              "      <th>4</th>\n",
              "      <td>3</td>\n",
              "    </tr>\n",
              "  </tbody>\n",
              "</table style=\"display:inline\"></td><td style=\"vertical-align:top\"> <table style=\"display:inline\" border=\"1\" class=\"dataframe\">\n",
              "  <thead>\n",
              "    <tr style=\"text-align: right;\">\n",
              "      <th></th>\n",
              "      <th>BsmtQual</th>\n",
              "    </tr>\n",
              "  </thead>\n",
              "  <tbody>\n",
              "    <tr>\n",
              "      <th>0</th>\n",
              "      <td>Gd</td>\n",
              "    </tr>\n",
              "    <tr>\n",
              "      <th>1</th>\n",
              "      <td>Gd</td>\n",
              "    </tr>\n",
              "    <tr>\n",
              "      <th>2</th>\n",
              "      <td>Gd</td>\n",
              "    </tr>\n",
              "    <tr>\n",
              "      <th>3</th>\n",
              "      <td>TA</td>\n",
              "    </tr>\n",
              "    <tr>\n",
              "      <th>4</th>\n",
              "      <td>Gd</td>\n",
              "    </tr>\n",
              "  </tbody>\n",
              "</table style=\"display:inline\"></td></tr></table style=\"display:inline\">"
            ]
          },
          "metadata": {
            "tags": []
          }
        }
      ]
    },
    {
      "cell_type": "code",
      "metadata": {
        "id": "XiupUMkdIZMu"
      },
      "source": [
        ""
      ],
      "execution_count": null,
      "outputs": []
    },
    {
      "cell_type": "markdown",
      "metadata": {
        "id": "Bjr__kXIIYx7"
      },
      "source": [
        "# Dummy Variable Trap"
      ]
    },
    {
      "cell_type": "code",
      "metadata": {
        "id": "snfTYQvSGbtG",
        "colab": {
          "base_uri": "https://localhost:8080/",
          "height": 221
        },
        "outputId": "bc4f847e-5692-4d55-9995-7e41ec6cace8"
      },
      "source": [
        "#@title original features + one hot features\n",
        "encoder = OneHotEncoder(sparse=False, )\n",
        "encoder.fit(iowa_original_df[['Neighborhood']])\n",
        "onehot_features = pd.DataFrame(\n",
        "    encoder.transform(iowa_original_df[['Neighborhood']]),\n",
        "    columns=encoder.get_feature_names()\n",
        ")\n",
        "A = pd.concat([A, onehot_features], axis=1)\n",
        "A.head()"
      ],
      "execution_count": null,
      "outputs": [
        {
          "output_type": "execute_result",
          "data": {
            "text/html": [
              "<div>\n",
              "<style scoped>\n",
              "    .dataframe tbody tr th:only-of-type {\n",
              "        vertical-align: middle;\n",
              "    }\n",
              "\n",
              "    .dataframe tbody tr th {\n",
              "        vertical-align: top;\n",
              "    }\n",
              "\n",
              "    .dataframe thead th {\n",
              "        text-align: right;\n",
              "    }\n",
              "</style>\n",
              "<table border=\"1\" class=\"dataframe\">\n",
              "  <thead>\n",
              "    <tr style=\"text-align: right;\">\n",
              "      <th></th>\n",
              "      <th>LotArea</th>\n",
              "      <th>OverallQual</th>\n",
              "      <th>OverallCond</th>\n",
              "      <th>intercept</th>\n",
              "      <th>x0_Blmngtn</th>\n",
              "      <th>x0_Blueste</th>\n",
              "      <th>x0_BrDale</th>\n",
              "      <th>x0_BrkSide</th>\n",
              "      <th>x0_ClearCr</th>\n",
              "      <th>x0_CollgCr</th>\n",
              "      <th>x0_Crawfor</th>\n",
              "      <th>x0_Edwards</th>\n",
              "      <th>x0_Gilbert</th>\n",
              "      <th>x0_IDOTRR</th>\n",
              "      <th>x0_MeadowV</th>\n",
              "      <th>x0_Mitchel</th>\n",
              "      <th>x0_NAmes</th>\n",
              "      <th>x0_NPkVill</th>\n",
              "      <th>x0_NWAmes</th>\n",
              "      <th>x0_NoRidge</th>\n",
              "      <th>x0_NridgHt</th>\n",
              "      <th>x0_OldTown</th>\n",
              "      <th>x0_SWISU</th>\n",
              "      <th>x0_Sawyer</th>\n",
              "      <th>x0_SawyerW</th>\n",
              "      <th>x0_Somerst</th>\n",
              "      <th>x0_StoneBr</th>\n",
              "      <th>x0_Timber</th>\n",
              "      <th>x0_Veenker</th>\n",
              "    </tr>\n",
              "  </thead>\n",
              "  <tbody>\n",
              "    <tr>\n",
              "      <th>0</th>\n",
              "      <td>8450</td>\n",
              "      <td>7</td>\n",
              "      <td>5</td>\n",
              "      <td>1</td>\n",
              "      <td>0.0</td>\n",
              "      <td>0.0</td>\n",
              "      <td>0.0</td>\n",
              "      <td>0.0</td>\n",
              "      <td>0.0</td>\n",
              "      <td>1.0</td>\n",
              "      <td>0.0</td>\n",
              "      <td>0.0</td>\n",
              "      <td>0.0</td>\n",
              "      <td>0.0</td>\n",
              "      <td>0.0</td>\n",
              "      <td>0.0</td>\n",
              "      <td>0.0</td>\n",
              "      <td>0.0</td>\n",
              "      <td>0.0</td>\n",
              "      <td>0.0</td>\n",
              "      <td>0.0</td>\n",
              "      <td>0.0</td>\n",
              "      <td>0.0</td>\n",
              "      <td>0.0</td>\n",
              "      <td>0.0</td>\n",
              "      <td>0.0</td>\n",
              "      <td>0.0</td>\n",
              "      <td>0.0</td>\n",
              "      <td>0.0</td>\n",
              "    </tr>\n",
              "    <tr>\n",
              "      <th>1</th>\n",
              "      <td>9600</td>\n",
              "      <td>6</td>\n",
              "      <td>8</td>\n",
              "      <td>1</td>\n",
              "      <td>0.0</td>\n",
              "      <td>0.0</td>\n",
              "      <td>0.0</td>\n",
              "      <td>0.0</td>\n",
              "      <td>0.0</td>\n",
              "      <td>0.0</td>\n",
              "      <td>0.0</td>\n",
              "      <td>0.0</td>\n",
              "      <td>0.0</td>\n",
              "      <td>0.0</td>\n",
              "      <td>0.0</td>\n",
              "      <td>0.0</td>\n",
              "      <td>0.0</td>\n",
              "      <td>0.0</td>\n",
              "      <td>0.0</td>\n",
              "      <td>0.0</td>\n",
              "      <td>0.0</td>\n",
              "      <td>0.0</td>\n",
              "      <td>0.0</td>\n",
              "      <td>0.0</td>\n",
              "      <td>0.0</td>\n",
              "      <td>0.0</td>\n",
              "      <td>0.0</td>\n",
              "      <td>0.0</td>\n",
              "      <td>1.0</td>\n",
              "    </tr>\n",
              "    <tr>\n",
              "      <th>2</th>\n",
              "      <td>11250</td>\n",
              "      <td>7</td>\n",
              "      <td>5</td>\n",
              "      <td>1</td>\n",
              "      <td>0.0</td>\n",
              "      <td>0.0</td>\n",
              "      <td>0.0</td>\n",
              "      <td>0.0</td>\n",
              "      <td>0.0</td>\n",
              "      <td>1.0</td>\n",
              "      <td>0.0</td>\n",
              "      <td>0.0</td>\n",
              "      <td>0.0</td>\n",
              "      <td>0.0</td>\n",
              "      <td>0.0</td>\n",
              "      <td>0.0</td>\n",
              "      <td>0.0</td>\n",
              "      <td>0.0</td>\n",
              "      <td>0.0</td>\n",
              "      <td>0.0</td>\n",
              "      <td>0.0</td>\n",
              "      <td>0.0</td>\n",
              "      <td>0.0</td>\n",
              "      <td>0.0</td>\n",
              "      <td>0.0</td>\n",
              "      <td>0.0</td>\n",
              "      <td>0.0</td>\n",
              "      <td>0.0</td>\n",
              "      <td>0.0</td>\n",
              "    </tr>\n",
              "    <tr>\n",
              "      <th>3</th>\n",
              "      <td>9550</td>\n",
              "      <td>7</td>\n",
              "      <td>5</td>\n",
              "      <td>1</td>\n",
              "      <td>0.0</td>\n",
              "      <td>0.0</td>\n",
              "      <td>0.0</td>\n",
              "      <td>0.0</td>\n",
              "      <td>0.0</td>\n",
              "      <td>0.0</td>\n",
              "      <td>1.0</td>\n",
              "      <td>0.0</td>\n",
              "      <td>0.0</td>\n",
              "      <td>0.0</td>\n",
              "      <td>0.0</td>\n",
              "      <td>0.0</td>\n",
              "      <td>0.0</td>\n",
              "      <td>0.0</td>\n",
              "      <td>0.0</td>\n",
              "      <td>0.0</td>\n",
              "      <td>0.0</td>\n",
              "      <td>0.0</td>\n",
              "      <td>0.0</td>\n",
              "      <td>0.0</td>\n",
              "      <td>0.0</td>\n",
              "      <td>0.0</td>\n",
              "      <td>0.0</td>\n",
              "      <td>0.0</td>\n",
              "      <td>0.0</td>\n",
              "    </tr>\n",
              "    <tr>\n",
              "      <th>4</th>\n",
              "      <td>14260</td>\n",
              "      <td>8</td>\n",
              "      <td>5</td>\n",
              "      <td>1</td>\n",
              "      <td>0.0</td>\n",
              "      <td>0.0</td>\n",
              "      <td>0.0</td>\n",
              "      <td>0.0</td>\n",
              "      <td>0.0</td>\n",
              "      <td>0.0</td>\n",
              "      <td>0.0</td>\n",
              "      <td>0.0</td>\n",
              "      <td>0.0</td>\n",
              "      <td>0.0</td>\n",
              "      <td>0.0</td>\n",
              "      <td>0.0</td>\n",
              "      <td>0.0</td>\n",
              "      <td>0.0</td>\n",
              "      <td>0.0</td>\n",
              "      <td>1.0</td>\n",
              "      <td>0.0</td>\n",
              "      <td>0.0</td>\n",
              "      <td>0.0</td>\n",
              "      <td>0.0</td>\n",
              "      <td>0.0</td>\n",
              "      <td>0.0</td>\n",
              "      <td>0.0</td>\n",
              "      <td>0.0</td>\n",
              "      <td>0.0</td>\n",
              "    </tr>\n",
              "  </tbody>\n",
              "</table>\n",
              "</div>"
            ],
            "text/plain": [
              "   LotArea  OverallQual  OverallCond  ...  x0_StoneBr  x0_Timber  x0_Veenker\n",
              "0     8450            7            5  ...         0.0        0.0         0.0\n",
              "1     9600            6            8  ...         0.0        0.0         1.0\n",
              "2    11250            7            5  ...         0.0        0.0         0.0\n",
              "3     9550            7            5  ...         0.0        0.0         0.0\n",
              "4    14260            8            5  ...         0.0        0.0         0.0\n",
              "\n",
              "[5 rows x 29 columns]"
            ]
          },
          "metadata": {
            "tags": []
          },
          "execution_count": 20
        }
      ]
    },
    {
      "cell_type": "code",
      "metadata": {
        "id": "53F6PeLoNWC1"
      },
      "source": [
        "def split_df(A, b, bound):\n",
        "    return (A.iloc[:2000], b.iloc[:2000]),\\\n",
        "           (A.iloc[2000:], b.iloc[2000:])\n",
        "\n",
        "def params_interpretabilty_score(weights):\n",
        "    mean_price = iowa_original_df['SalePrice'].mean()\n",
        "    features = encoder.get_feature_names()\n",
        "    num_of_features = len(features)\n",
        "    num_of_features_reasonable = 0\n",
        "\n",
        "    def sign(p1, p2):\n",
        "        return 1 if p1 > p2 else -1\n",
        "\n",
        "    for weight, neighbor in zip(weights[4:], features):\n",
        "        neighbor_idx = iowa_original_df[(iowa_original_df['Neighborhood'] == neighbor[3:])].index\n",
        "        neighbor_mean_price = iowa_original_df['SalePrice'].iloc[neighbor_idx].mean()\n",
        "        if weight * sign(neighbor_mean_price, mean_price) > 0:\n",
        "            num_of_features_reasonable += 1\n",
        "    print(\"interpretability score : {} / {}\".format(num_of_features_reasonable, num_of_features))"
      ],
      "execution_count": null,
      "outputs": []
    },
    {
      "cell_type": "code",
      "metadata": {
        "colab": {
          "base_uri": "https://localhost:8080/",
          "height": 262
        },
        "id": "5rio0E7mN1TR",
        "outputId": "27b85ece-2033-4dc1-85ca-2cb5e4a200a3"
      },
      "source": [
        "#@title find params as usual way\n",
        "(A_train, b_train), (A_test, b_test) = split_df(A, b, 2000)\n",
        "x_best = find_best_params_minimizing_mse(A_train, b_train)\n",
        "print(\"r-squared: \", r_squared(b_train.values,\n",
        "                               (A_train @ x_best).values))\n",
        "display_side_by_side([pd.DataFrame(A_train @ x_best).astype(int).head(),\n",
        "                      pd.DataFrame(b_train).head()])\n",
        "params_interpretabilty_score(x_best)"
      ],
      "execution_count": null,
      "outputs": [
        {
          "output_type": "stream",
          "text": [
            "r-squared:  3375.03\n"
          ],
          "name": "stdout"
        },
        {
          "output_type": "display_data",
          "data": {
            "text/html": [
              "<table style=\"display:inline\"><tr><td style=\"vertical-align:top\"> <table style=\"display:inline\" border=\"1\" class=\"dataframe\">\n",
              "  <thead>\n",
              "    <tr style=\"text-align: right;\">\n",
              "      <th></th>\n",
              "      <th>0</th>\n",
              "    </tr>\n",
              "  </thead>\n",
              "  <tbody>\n",
              "    <tr>\n",
              "      <th>0</th>\n",
              "      <td>-554416</td>\n",
              "    </tr>\n",
              "    <tr>\n",
              "      <th>1</th>\n",
              "      <td>6196853</td>\n",
              "    </tr>\n",
              "    <tr>\n",
              "      <th>2</th>\n",
              "      <td>130325</td>\n",
              "    </tr>\n",
              "    <tr>\n",
              "      <th>3</th>\n",
              "      <td>-2876699</td>\n",
              "    </tr>\n",
              "    <tr>\n",
              "      <th>4</th>\n",
              "      <td>2663908</td>\n",
              "    </tr>\n",
              "  </tbody>\n",
              "</table style=\"display:inline\"></td><td style=\"vertical-align:top\"> <table style=\"display:inline\" border=\"1\" class=\"dataframe\">\n",
              "  <thead>\n",
              "    <tr style=\"text-align: right;\">\n",
              "      <th></th>\n",
              "      <th>SalePrice</th>\n",
              "    </tr>\n",
              "  </thead>\n",
              "  <tbody>\n",
              "    <tr>\n",
              "      <th>0</th>\n",
              "      <td>208500</td>\n",
              "    </tr>\n",
              "    <tr>\n",
              "      <th>1</th>\n",
              "      <td>181500</td>\n",
              "    </tr>\n",
              "    <tr>\n",
              "      <th>2</th>\n",
              "      <td>223500</td>\n",
              "    </tr>\n",
              "    <tr>\n",
              "      <th>3</th>\n",
              "      <td>140000</td>\n",
              "    </tr>\n",
              "    <tr>\n",
              "      <th>4</th>\n",
              "      <td>250000</td>\n",
              "    </tr>\n",
              "  </tbody>\n",
              "</table style=\"display:inline\"></td></tr></table style=\"display:inline\">"
            ]
          },
          "metadata": {
            "tags": []
          }
        },
        {
          "output_type": "stream",
          "text": [
            "interpretability score : 13 / 25\n"
          ],
          "name": "stdout"
        }
      ]
    },
    {
      "cell_type": "code",
      "metadata": {
        "colab": {
          "base_uri": "https://localhost:8080/"
        },
        "id": "qfP2hFOfPoB1",
        "outputId": "bd3ea05e-7ce4-44a6-dfec-09ee4317fe3e"
      },
      "source": [
        "#@title bias term is highly correlated to the dummy variables\n",
        "x_best_modified = x_best.copy()\n",
        "x_best_modified[3] += 9e6\n",
        "x_best_modified[4:] -= 9e6\n",
        "\n",
        "print('{:.2E}'.format(((A_train @ x_best)**2).mean()))\n",
        "print('{:.2E}'.format(((A_train @ x_best_modified)**2).mean()))"
      ],
      "execution_count": null,
      "outputs": [
        {
          "output_type": "stream",
          "text": [
            "3.22E+13\n",
            "3.22E+13\n"
          ],
          "name": "stdout"
        }
      ]
    },
    {
      "cell_type": "code",
      "metadata": {
        "pycharm": {
          "name": "#%%\n"
        },
        "id": "rCY02VanYXKm",
        "colab": {
          "base_uri": "https://localhost:8080/",
          "height": 279
        },
        "outputId": "4f293c10-681b-4d4b-dea7-66d2b74b8553"
      },
      "source": [
        "#@title find params with no intercept\n",
        "(A_train, b_train), (A_test, b_test) = \\\n",
        "                split_df(A.drop('intercept', axis=1), b, 2000)\n",
        "x_best = find_best_params_minimizing_mse(A_train, b_train)\n",
        "print(\"r-squared train: \", r_squared(b_train.values,\n",
        "                                     (A_train @ x_best).values))\n",
        "print(\"r-squared  test: \", r_squared(b_test.values,\n",
        "                                    (A_test @ x_best).values))\n",
        "display_side_by_side([pd.DataFrame(A_train @ x_best).astype(int).head(),\n",
        "                      pd.DataFrame(b_train).head()])\n",
        "params_interpretabilty_score(x_best)"
      ],
      "execution_count": null,
      "outputs": [
        {
          "output_type": "stream",
          "text": [
            "r-squared train:  0.754\n",
            "r-squared  test:  0.694\n"
          ],
          "name": "stdout"
        },
        {
          "output_type": "display_data",
          "data": {
            "text/html": [
              "<table style=\"display:inline\"><tr><td style=\"vertical-align:top\"> <table style=\"display:inline\" border=\"1\" class=\"dataframe\">\n",
              "  <thead>\n",
              "    <tr style=\"text-align: right;\">\n",
              "      <th></th>\n",
              "      <th>0</th>\n",
              "    </tr>\n",
              "  </thead>\n",
              "  <tbody>\n",
              "    <tr>\n",
              "      <th>0</th>\n",
              "      <td>208601</td>\n",
              "    </tr>\n",
              "    <tr>\n",
              "      <th>1</th>\n",
              "      <td>205375</td>\n",
              "    </tr>\n",
              "    <tr>\n",
              "      <th>2</th>\n",
              "      <td>212553</td>\n",
              "    </tr>\n",
              "    <tr>\n",
              "      <th>3</th>\n",
              "      <td>226513</td>\n",
              "    </tr>\n",
              "    <tr>\n",
              "      <th>4</th>\n",
              "      <td>317000</td>\n",
              "    </tr>\n",
              "  </tbody>\n",
              "</table style=\"display:inline\"></td><td style=\"vertical-align:top\"> <table style=\"display:inline\" border=\"1\" class=\"dataframe\">\n",
              "  <thead>\n",
              "    <tr style=\"text-align: right;\">\n",
              "      <th></th>\n",
              "      <th>SalePrice</th>\n",
              "    </tr>\n",
              "  </thead>\n",
              "  <tbody>\n",
              "    <tr>\n",
              "      <th>0</th>\n",
              "      <td>208500</td>\n",
              "    </tr>\n",
              "    <tr>\n",
              "      <th>1</th>\n",
              "      <td>181500</td>\n",
              "    </tr>\n",
              "    <tr>\n",
              "      <th>2</th>\n",
              "      <td>223500</td>\n",
              "    </tr>\n",
              "    <tr>\n",
              "      <th>3</th>\n",
              "      <td>140000</td>\n",
              "    </tr>\n",
              "    <tr>\n",
              "      <th>4</th>\n",
              "      <td>250000</td>\n",
              "    </tr>\n",
              "  </tbody>\n",
              "</table style=\"display:inline\"></td></tr></table style=\"display:inline\">"
            ]
          },
          "metadata": {
            "tags": []
          }
        },
        {
          "output_type": "stream",
          "text": [
            "interpretability score : 15 / 25\n"
          ],
          "name": "stdout"
        }
      ]
    },
    {
      "cell_type": "code",
      "metadata": {
        "id": "t9K2UWQOLdf2",
        "colab": {
          "base_uri": "https://localhost:8080/",
          "height": 279
        },
        "outputId": "4887fadc-aff9-4552-d8a7-787a3ee4b82e"
      },
      "source": [
        "#@title find params with no intercept and get rid of one dummy\n",
        "(A_train, b_train), (A_test, b_test) = \\\n",
        "            split_df(A.drop(['intercept', 'x0_Veenker'], axis=1), b, 2000)\n",
        "x_best = find_best_params_minimizing_mse(A_train, b_train)\n",
        "print(\"r-squared train: \", r_squared(b_train.values,\n",
        "                                     (A_train @ x_best).values))\n",
        "print(\"r-squared  test: \", r_squared(b_test.values,\n",
        "                                    (A_test @ x_best).values))\n",
        "display_side_by_side([pd.DataFrame(A_train @ x_best).astype(int).head(),\n",
        "                      pd.DataFrame(b_train).head()])\n",
        "params_interpretabilty_score(x_best)"
      ],
      "execution_count": null,
      "outputs": [
        {
          "output_type": "stream",
          "text": [
            "r-squared train:  0.748\n",
            "r-squared  test:  0.691\n"
          ],
          "name": "stdout"
        },
        {
          "output_type": "display_data",
          "data": {
            "text/html": [
              "<table style=\"display:inline\"><tr><td style=\"vertical-align:top\"> <table style=\"display:inline\" border=\"1\" class=\"dataframe\">\n",
              "  <thead>\n",
              "    <tr style=\"text-align: right;\">\n",
              "      <th></th>\n",
              "      <th>0</th>\n",
              "    </tr>\n",
              "  </thead>\n",
              "  <tbody>\n",
              "    <tr>\n",
              "      <th>0</th>\n",
              "      <td>208535</td>\n",
              "    </tr>\n",
              "    <tr>\n",
              "      <th>1</th>\n",
              "      <td>218126</td>\n",
              "    </tr>\n",
              "    <tr>\n",
              "      <th>2</th>\n",
              "      <td>212432</td>\n",
              "    </tr>\n",
              "    <tr>\n",
              "      <th>3</th>\n",
              "      <td>226805</td>\n",
              "    </tr>\n",
              "    <tr>\n",
              "      <th>4</th>\n",
              "      <td>316976</td>\n",
              "    </tr>\n",
              "  </tbody>\n",
              "</table style=\"display:inline\"></td><td style=\"vertical-align:top\"> <table style=\"display:inline\" border=\"1\" class=\"dataframe\">\n",
              "  <thead>\n",
              "    <tr style=\"text-align: right;\">\n",
              "      <th></th>\n",
              "      <th>SalePrice</th>\n",
              "    </tr>\n",
              "  </thead>\n",
              "  <tbody>\n",
              "    <tr>\n",
              "      <th>0</th>\n",
              "      <td>208500</td>\n",
              "    </tr>\n",
              "    <tr>\n",
              "      <th>1</th>\n",
              "      <td>181500</td>\n",
              "    </tr>\n",
              "    <tr>\n",
              "      <th>2</th>\n",
              "      <td>223500</td>\n",
              "    </tr>\n",
              "    <tr>\n",
              "      <th>3</th>\n",
              "      <td>140000</td>\n",
              "    </tr>\n",
              "    <tr>\n",
              "      <th>4</th>\n",
              "      <td>250000</td>\n",
              "    </tr>\n",
              "  </tbody>\n",
              "</table style=\"display:inline\"></td></tr></table style=\"display:inline\">"
            ]
          },
          "metadata": {
            "tags": []
          }
        },
        {
          "output_type": "stream",
          "text": [
            "interpretability score : 15 / 25\n"
          ],
          "name": "stdout"
        }
      ]
    },
    {
      "cell_type": "code",
      "metadata": {
        "id": "M4Im5maxr00J"
      },
      "source": [
        ""
      ],
      "execution_count": null,
      "outputs": []
    },
    {
      "cell_type": "markdown",
      "metadata": {
        "id": "t3wPkpBTS5D_"
      },
      "source": [
        "# Regularization\n",
        "\n",
        "$Y = a + 1000X_{1} - 360X_{2}$ -------- 1 <br>\n",
        "$X_{1} = 0.4X_{2} + \\epsilon$ <br>\n",
        "$Y = a + 1000(0.4X_{2} + \\epsilon) - 360X_{2} = a + 40X_{2} + 1000\\epsilon$ -------- 2 <br>\n",
        "$\\epsilon$ can be interpreted by $X_{1}$ to some extent <br>\n",
        "assume that $Y = a + 3X_1 + 40X_{2} + 1000\\epsilon'$ where $\\epsilon' < \\epsilon$<br>\n",
        "=> $X_{2} \\propto Y$ <br>\n",
        "given a sample of test data i <br>\n",
        "$(x_1^i, x_2^i) = (0.4, 2)$\n",
        "\n",
        "1 --- $Y = a - 320$ <br>\n",
        "2 --- $Y = a + 80$ <br>\n",
        "\n",
        "\n",
        "if $X_{1}, X_{2}$ are correlated to some extent, then the weights can be smaller without increasing too much prediction err,\n",
        "<br> while keeping the params' interpretability\n",
        "\n",
        "how to decrease the value of weights? <br>\n",
        ">intuition: <br>\n",
        "add params itself to the cost function\n",
        ">>$J^{'} = J + \\lambda \\sum params^2$ (Ridge Regression)\n",
        "\n",
        "We can still minimize this by the Normal Equation <br>\n",
        "$params = (A^TA + \\lambda I)^{-1}A^Tb$"
      ]
    },
    {
      "cell_type": "code",
      "metadata": {
        "id": "A7D4WI75Zzuk"
      },
      "source": [
        "def find_best_params_with_reg_minimizing_mse(A, b, lam):\n",
        "    return (np.linalg.inv(A.T @ A + lam*np.identity(A.shape[1])) @ A.T @ b).values"
      ],
      "execution_count": null,
      "outputs": []
    },
    {
      "cell_type": "code",
      "metadata": {
        "colab": {
          "base_uri": "https://localhost:8080/",
          "height": 279
        },
        "id": "vD2kR0pjS64M",
        "outputId": "e829bc4b-9986-4bf8-a0d6-a8b5dd6f5402"
      },
      "source": [
        "(A_train, b_train), (A_test, b_test) = split_df(A, b, 2000)\n",
        "x_best_regularized = find_best_params_with_reg_minimizing_mse(A_train, b_train, 0.01)\n",
        "\n",
        "print(\"r-squared train: \", r_squared(b_train.values,\n",
        "                                     (A_train @ x_best_regularized).values))\n",
        "print(\"r-squared  test: \", r_squared(b_test.values,\n",
        "                                    (A_test @ x_best_regularized).values))\n",
        "\n",
        "display_side_by_side([pd.DataFrame(A_train @ x_best_regularized).astype(int).head(),\n",
        "                      pd.DataFrame(b_train).head()])\n",
        "params_interpretabilty_score(x_best_regularized)"
      ],
      "execution_count": null,
      "outputs": [
        {
          "output_type": "stream",
          "text": [
            "r-squared train:  0.754\n",
            "r-squared  test:  0.694\n"
          ],
          "name": "stdout"
        },
        {
          "output_type": "display_data",
          "data": {
            "text/html": [
              "<table style=\"display:inline\"><tr><td style=\"vertical-align:top\"> <table style=\"display:inline\" border=\"1\" class=\"dataframe\">\n",
              "  <thead>\n",
              "    <tr style=\"text-align: right;\">\n",
              "      <th></th>\n",
              "      <th>0</th>\n",
              "    </tr>\n",
              "  </thead>\n",
              "  <tbody>\n",
              "    <tr>\n",
              "      <th>0</th>\n",
              "      <td>208601</td>\n",
              "    </tr>\n",
              "    <tr>\n",
              "      <th>1</th>\n",
              "      <td>205353</td>\n",
              "    </tr>\n",
              "    <tr>\n",
              "      <th>2</th>\n",
              "      <td>212554</td>\n",
              "    </tr>\n",
              "    <tr>\n",
              "      <th>3</th>\n",
              "      <td>226514</td>\n",
              "    </tr>\n",
              "    <tr>\n",
              "      <th>4</th>\n",
              "      <td>316988</td>\n",
              "    </tr>\n",
              "  </tbody>\n",
              "</table style=\"display:inline\"></td><td style=\"vertical-align:top\"> <table style=\"display:inline\" border=\"1\" class=\"dataframe\">\n",
              "  <thead>\n",
              "    <tr style=\"text-align: right;\">\n",
              "      <th></th>\n",
              "      <th>SalePrice</th>\n",
              "    </tr>\n",
              "  </thead>\n",
              "  <tbody>\n",
              "    <tr>\n",
              "      <th>0</th>\n",
              "      <td>208500</td>\n",
              "    </tr>\n",
              "    <tr>\n",
              "      <th>1</th>\n",
              "      <td>181500</td>\n",
              "    </tr>\n",
              "    <tr>\n",
              "      <th>2</th>\n",
              "      <td>223500</td>\n",
              "    </tr>\n",
              "    <tr>\n",
              "      <th>3</th>\n",
              "      <td>140000</td>\n",
              "    </tr>\n",
              "    <tr>\n",
              "      <th>4</th>\n",
              "      <td>250000</td>\n",
              "    </tr>\n",
              "  </tbody>\n",
              "</table style=\"display:inline\"></td></tr></table style=\"display:inline\">"
            ]
          },
          "metadata": {
            "tags": []
          }
        },
        {
          "output_type": "stream",
          "text": [
            "interpretability score : 21 / 25\n"
          ],
          "name": "stdout"
        }
      ]
    },
    {
      "cell_type": "code",
      "metadata": {
        "id": "2M9tNTjRqa3Q"
      },
      "source": [
        "#@title fit with no dummy, compare no reg & reg\n",
        "A = iowa_original_df[some_numerical_features].copy()\n",
        "A['intercept'] = 1\n",
        "b = target_price['SalePrice']\n",
        "\n",
        "(A_train, b_train), (A_test, b_test) = split_df(A, b, 2000)\n",
        "x_best = find_best_params_minimizing_mse(A_train, b_train)\n",
        "x_best_regularized = find_best_params_with_reg_minimizing_mse(A_train, b_train, 0.01)\n",
        "\n",
        "def cal_mse(predicted, y_true):\n",
        "    return round(((predicted.values - y_true.values)**2).sum()/len(y_true.values), 2)"
      ],
      "execution_count": null,
      "outputs": []
    },
    {
      "cell_type": "code",
      "metadata": {
        "colab": {
          "base_uri": "https://localhost:8080/"
        },
        "id": "vCioubJdxQ8Q",
        "outputId": "1eecdd42-87e5-45f8-d6f0-ef3359784f49"
      },
      "source": [
        "#@markdown on train set : without reg train mse < reg train mse <br>\n",
        "#@markdown on  test set : without reg test mse > reg test mse\n",
        "\n",
        "print(\"training without regularization\")\n",
        "print(\"train mse :\", cal_mse(A_train @ x_best, b_train),\n",
        "      \"r_squared :\", r_squared(b_train.values, (A_train @ x_best).values))\n",
        "\n",
        "print(\"test mse :\", cal_mse(A_test @ x_best, b_test),\n",
        "      \"r_squared :\", r_squared(b_test.values, (A_test @ x_best).values), '\\n')\n",
        "\n",
        "print(\"training with regularization\")\n",
        "print(\"train mse :\", cal_mse(A_train @ x_best_regularized, b_train), \n",
        "      \"r_squared :\", r_squared(b_train.values, (A_train @ x_best_regularized).values))\n",
        "\n",
        "print(\"test mse :\", cal_mse(A_test @ x_best_regularized, b_test), \n",
        "      \"r_squared :\", r_squared(b_test.values, (A_test @ x_best_regularized).values), '\\n')"
      ],
      "execution_count": null,
      "outputs": [
        {
          "output_type": "stream",
          "text": [
            "training without regularization\n",
            "train mse : 1897374310.3 r_squared : 0.687\n",
            "test mse : 1866015802.21 r_squared : 0.659 \n",
            "\n",
            "training with regularization\n",
            "train mse : 1897374323.65 r_squared : 0.687\n",
            "test mse : 1866009041.87 r_squared : 0.659 \n",
            "\n"
          ],
          "name": "stdout"
        }
      ]
    },
    {
      "cell_type": "code",
      "metadata": {
        "colab": {
          "base_uri": "https://localhost:8080/",
          "height": 229
        },
        "id": "ve-aG2ZUwR4E",
        "outputId": "8a5c7a9a-9357-484a-ef51-9b6b028ea181"
      },
      "source": [
        "#@title the output is similar in this data\n",
        "display_side_by_side([pd.DataFrame(A_train @ x_best).astype(int).head(),\n",
        "                      pd.DataFrame(A_train @ x_best_regularized).astype(int).head(),\n",
        "                      pd.DataFrame(b_train).head()])"
      ],
      "execution_count": null,
      "outputs": [
        {
          "output_type": "display_data",
          "data": {
            "text/html": [
              "<table style=\"display:inline\"><tr><td style=\"vertical-align:top\"> <table style=\"display:inline\" border=\"1\" class=\"dataframe\">\n",
              "  <thead>\n",
              "    <tr style=\"text-align: right;\">\n",
              "      <th></th>\n",
              "      <th>0</th>\n",
              "    </tr>\n",
              "  </thead>\n",
              "  <tbody>\n",
              "    <tr>\n",
              "      <th>0</th>\n",
              "      <td>218093</td>\n",
              "    </tr>\n",
              "    <tr>\n",
              "      <th>1</th>\n",
              "      <td>172530</td>\n",
              "    </tr>\n",
              "    <tr>\n",
              "      <th>2</th>\n",
              "      <td>222931</td>\n",
              "    </tr>\n",
              "    <tr>\n",
              "      <th>3</th>\n",
              "      <td>219994</td>\n",
              "    </tr>\n",
              "    <tr>\n",
              "      <th>4</th>\n",
              "      <td>272290</td>\n",
              "    </tr>\n",
              "  </tbody>\n",
              "</table style=\"display:inline\"></td><td style=\"vertical-align:top\"> <table style=\"display:inline\" border=\"1\" class=\"dataframe\">\n",
              "  <thead>\n",
              "    <tr style=\"text-align: right;\">\n",
              "      <th></th>\n",
              "      <th>0</th>\n",
              "    </tr>\n",
              "  </thead>\n",
              "  <tbody>\n",
              "    <tr>\n",
              "      <th>0</th>\n",
              "      <td>218093</td>\n",
              "    </tr>\n",
              "    <tr>\n",
              "      <th>1</th>\n",
              "      <td>172525</td>\n",
              "    </tr>\n",
              "    <tr>\n",
              "      <th>2</th>\n",
              "      <td>222931</td>\n",
              "    </tr>\n",
              "    <tr>\n",
              "      <th>3</th>\n",
              "      <td>219994</td>\n",
              "    </tr>\n",
              "    <tr>\n",
              "      <th>4</th>\n",
              "      <td>272289</td>\n",
              "    </tr>\n",
              "  </tbody>\n",
              "</table style=\"display:inline\"></td><td style=\"vertical-align:top\"> <table style=\"display:inline\" border=\"1\" class=\"dataframe\">\n",
              "  <thead>\n",
              "    <tr style=\"text-align: right;\">\n",
              "      <th></th>\n",
              "      <th>SalePrice</th>\n",
              "    </tr>\n",
              "  </thead>\n",
              "  <tbody>\n",
              "    <tr>\n",
              "      <th>0</th>\n",
              "      <td>208500</td>\n",
              "    </tr>\n",
              "    <tr>\n",
              "      <th>1</th>\n",
              "      <td>181500</td>\n",
              "    </tr>\n",
              "    <tr>\n",
              "      <th>2</th>\n",
              "      <td>223500</td>\n",
              "    </tr>\n",
              "    <tr>\n",
              "      <th>3</th>\n",
              "      <td>140000</td>\n",
              "    </tr>\n",
              "    <tr>\n",
              "      <th>4</th>\n",
              "      <td>250000</td>\n",
              "    </tr>\n",
              "  </tbody>\n",
              "</table style=\"display:inline\"></td></tr></table style=\"display:inline\">"
            ]
          },
          "metadata": {
            "tags": []
          }
        }
      ]
    },
    {
      "cell_type": "code",
      "metadata": {
        "id": "Vau_fKnJg5nj"
      },
      "source": [
        ""
      ],
      "execution_count": null,
      "outputs": []
    },
    {
      "cell_type": "code",
      "metadata": {
        "id": "ZCt_gtStvlPJ"
      },
      "source": [
        "#@title load age_salary data\n",
        "train_set, val_set, test_set =\\\n",
        "    [DataLoader.load_data('age_salary_url', sheet_name=tgt)\n",
        "     for tgt in ['train', 'val', 'test']]"
      ],
      "execution_count": null,
      "outputs": []
    },
    {
      "cell_type": "code",
      "metadata": {
        "id": "aecdlC4ZA1I-"
      },
      "source": [
        "def get_poly(x, y, deg: int):\n",
        "    weights = np.polyfit(x=x, y=y, deg=deg)\n",
        "    return np.poly1d(weights)\n",
        "\n",
        "def get_rmse(x, y, p):\n",
        "    return int(np.sqrt(mean_squared_error(y_true=y, y_pred=p(x))))"
      ],
      "execution_count": null,
      "outputs": []
    },
    {
      "cell_type": "code",
      "metadata": {
        "id": "eb0CA8FyBBFN"
      },
      "source": [
        "#@title ploynomial linear model with intercept\n",
        "x_train, y_train = train_set.Age, train_set.Salary\n",
        "x_val, y_val = val_set.Age, val_set.Salary\n",
        "x_train = pd.DataFrame([(x_train.values)**i for i in range(1, 6)]).T.values\n",
        "x_train = np.append(x_train, np.ones((x_train.shape[0], 1)), axis=1)\n",
        "x_val = pd.DataFrame([(x_val.values)**i for i in range(1, 6)]).T.values\n",
        "x_val = np.append(x_val, np.ones((x_val.shape[0], 1)), axis=1)"
      ],
      "execution_count": null,
      "outputs": []
    },
    {
      "cell_type": "code",
      "metadata": {
        "colab": {
          "base_uri": "https://localhost:8080/",
          "height": 335
        },
        "id": "apgt_f4m_p0o",
        "outputId": "b79eba05-c358-48cf-e049-bc1313aad37e"
      },
      "source": [
        "#@title five degree polynomial fit without reg\n",
        "poly = get_poly(x_train[:, 0], y_train, deg=5)\n",
        "x = np.linspace(20, 65, 1000)\n",
        "plt.plot(x, [poly(v) for v in x])\n",
        "plt.show()\n",
        "\n",
        "print()\n",
        "print(\"train mse : \", get_rmse(x_train[:, 0], y_train, poly))\n",
        "print(\"  val mse : \", get_rmse(x_val[:, 0], y_val, poly))"
      ],
      "execution_count": null,
      "outputs": [
        {
          "output_type": "display_data",
          "data": {
            "image/png": "[encoded data removed]",
            "text/plain": [
              "<Figure size 432x288 with 1 Axes>"
            ]
          },
          "metadata": {
            "tags": [],
            "needs_background": "light"
          }
        },
        {
          "output_type": "stream",
          "text": [
            "\n",
            "train mse :  12240\n",
            "  val mse :  36832\n"
          ],
          "name": "stdout"
        }
      ]
    },
    {
      "cell_type": "code",
      "metadata": {
        "colab": {
          "base_uri": "https://localhost:8080/",
          "height": 335
        },
        "id": "cCch3fJRGluk",
        "outputId": "79cbad7f-300a-4fc0-e9ab-74ba858fccb7"
      },
      "source": [
        "#@title five degree polynomial fit with reg\n",
        "#@markdown another way to control model complexity\n",
        "weights = find_best_params_with_reg_minimizing_mse(pd.DataFrame(x_train), y_train, lam=0.2)\n",
        "poly = np.poly1d(np.append(weights[:5][::-1], weights[-1]))\n",
        "x = np.linspace(20, 65, 1000)\n",
        "plt.plot(x, [poly(v) for v in x])\n",
        "plt.show()\n",
        "\n",
        "print()\n",
        "print(\"train mse : \", get_rmse(x_train[:, 0], y_train, poly))\n",
        "print(\"  val mse : \", get_rmse(x_val[:, 0], y_val, poly))"
      ],
      "execution_count": null,
      "outputs": [
        {
          "output_type": "display_data",
          "data": {
            "image/png": "[encoded data removed]",
            "text/plain": [
              "<Figure size 432x288 with 1 Axes>"
            ]
          },
          "metadata": {
            "tags": [],
            "needs_background": "light"
          }
        },
        {
          "output_type": "stream",
          "text": [
            "\n",
            "train mse :  24154\n",
            "  val mse :  35251\n"
          ],
          "name": "stdout"
        }
      ]
    },
    {
      "cell_type": "markdown",
      "metadata": {
        "id": "s0QLi_z1Ex44"
      },
      "source": [
        "# Logistic Regression\n",
        "$h(y_i|x_i,m,\\theta)$ 的值域: $(-\\infty, \\infty)$<br>\n",
        "label值: {0, 1}<br>\n",
        "要預測個別class(2個)的機率, 設 $\\pi$ 為 label 1 的機率<br>\n",
        "Bernoulli pmf: $Ber(y_i|\\pi) = \\pi^{y_i}(1-\\pi)^{(1-y_i)}$<br>\n",
        "$\\pi$ 的值域: [0, 1], 跟 h 不一樣<br>\n",
        "令$\\mu_i = E_{y_i \\sim Ber(y_i|\\pi)}[y_i] = \\pi$ 為 mean parameter <br>\n",
        "$g(\\mu_i) = h(y_i|x_i,m,\\theta)$ <br>\n",
        "$g$ 要能使 $g(\\mu_i)$ 的值域和 $h$ 相同 <br>\n",
        "$g^{-1}$ 要能使 $g^{-1}(h(y_i|x_i,m,\\theta))$ 的值域和 $\\mu_i$ 相同<br>\n",
        "\n",
        "$exponential family:$<br>\n",
        ">$p(y|\\eta) = h(y)exp(\\eta^T T(y)-A(\\eta))$<br>\n",
        "$\\int p(y|\\eta)dy = 1$<br> \n",
        "$A(\\eta) = ln(\\int h(y)exp(\\eta^T T(y))dy)$ <br><br> \n",
        "$\\frac{\\partial A(\\eta)}{\\partial \\eta}$ <br> \n",
        ">>$=\\frac{\\int h(y)exp(\\eta^T T(y))T(y)dy}{exp(A(\\eta))}$ <br> \n",
        "$= \\int p(y|\\eta)T(y)dy$<br> \n",
        "$= E_y[T(y)]$ <br><br>\n",
        "\n",
        "$Ber(y_i|\\pi)$\n",
        ">$= exp(ln(\\pi^{y_i}(1-\\pi)^{(1-y_i)}))$ <br>\n",
        "$= exp(y_i ln(\\frac{\\pi}{1-\\pi}) + ln(1-\\pi))$ <br>\n",
        "\n",
        "$A(\\eta) = -ln(1-\\pi) = ln(1+e^\\eta)$ <br><br>\n",
        "$\\frac{\\partial A(\\eta)}{\\partial \\eta} = \\frac{e^\\eta}{1+e^\\eta} = \\frac{1}{1+e^{-\\eta}} = sigmoid(\\eta) = \\pi = g^{-1}(h) = g^{-1}(\\eta)$ <br>\n",
        "\n",
        "$g^{-1} = sigmoid = \\sigma$"
      ]
    },
    {
      "cell_type": "code",
      "metadata": {
        "colab": {
          "base_uri": "https://localhost:8080/",
          "height": 282
        },
        "id": "YoDT-mt8Ewz0",
        "outputId": "335e1502-255f-4541-9214-7f4300ff1b8a"
      },
      "source": [
        "def sigmoid(x):\n",
        "    return 1/(1+np.e**-x)\n",
        "\n",
        "plt.style.use('seaborn-whitegrid')\n",
        "\n",
        "x = np.linspace(-10, 10, 1000)\n",
        "plt.plot(x, [sigmoid(v) for v in x])\n",
        "plt.show()"
      ],
      "execution_count": null,
      "outputs": [
        {
          "output_type": "display_data",
          "data": {
            "image/png": "[encoded data removed]",
            "text/plain": [
              "<Figure size 432x288 with 1 Axes>"
            ]
          },
          "metadata": {
            "tags": []
          }
        }
      ]
    },
    {
      "cell_type": "markdown",
      "metadata": {
        "id": "RFQ0FHh1Ig3T"
      },
      "source": [
        "what's our loss function? <br>\n",
        "\n",
        "預測越準，$Ber(y_i|g^{-1}(h))$ 的值越高 <br>\n",
        "希望能將 summation over all i 最大化\n",
        "\n",
        "$D: dataset, m: hyper parameters, \\theta: weights$ <br>\n",
        "$x_i: features, y_i: label, y_i: prediction$\n",
        "\n",
        "$\\theta_{MLE}$\n",
        "\n",
        ">$= argmax_{\\theta} [p(D|m,\\theta)]$<br>\n",
        "$= argmax_{\\theta} \\prod_i p(d_i|m,\\theta)$<br>\n",
        "$= argmax_{\\theta} \\sum_i ln(p(d_i|m,\\theta))$<br>\n",
        "$= argmax_{\\theta} \\sum_i ln(p(x_i, y_i|m,\\theta))$<br>\n",
        "$= argmax_{\\theta} \\sum_i ln(p(y_i|x_i,m,\\theta) p(x_i|m,\\theta))$<br>\n",
        "$= argmax_{\\theta} \\sum_i ln(p(y_i|x_i,m,\\theta) p(x_i))$<br>\n",
        "$= argmax_{\\theta} \\sum_i ln(p(y_i|x_i,m,\\theta))$<br>\n",
        "$= argmin_{\\theta} \\frac{1}{N} \\sum_i -ln(p(y_i|x_i,m,\\theta))$<br>\n",
        "$= argmin_{\\theta} \\frac{1}{\\sqrt{2\\pi}} \\sum_i -ln(p(y_i|x_i,m,\\theta))$<br>\n",
        "$= argmin_{\\theta} E_{y_i \\sim p_{data}}[-ln(p_{model}(y_i|x_i,m,\\theta))]$\n",
        "\n",
        "$p = t_{n}^{y_{n}}(1-t_{n})^{1 - y^n}$ <br>\n",
        "$\\theta_{MLE} = argmin_{\\theta} -\\sum_{n=1}^N y_{n}ln(t_{n}) + (1 - y_n)ln(1-t_n)$ <br>\n",
        "$Loss = \\sum_{n=1}^N -y_{n}ln(t_{n}) - (1 - y_n)ln(1-t_n)$\n",
        "\n",
        "how to find the best params? => how to minimize Loss by finding the $\\theta$? <br>\n",
        "we cannot solve this analytically because the ouput of the linear function is plugged into the non-linear function sigmoid <br>\n",
        "we can only use iterative method like 'gradient descent'"
      ]
    },
    {
      "cell_type": "code",
      "metadata": {
        "id": "5GxNukRBIUoF"
      },
      "source": [
        ""
      ],
      "execution_count": null,
      "outputs": []
    },
    {
      "cell_type": "markdown",
      "metadata": {
        "id": "R8gjZIWFHEoA"
      },
      "source": [
        "# Regression loss function: squared error 推導\n",
        "\n",
        "$p_{model}(y_i|x_i,m,\\theta)$\n",
        ">$= \\frac{1}{\\sqrt{2\\pi}\\sigma} exp(\\frac{-1}{2\\sigma^2}(y_i - y_i')^2)$<br>\n",
        "$= \\frac{1}{\\sqrt{2\\pi}\\sigma} exp(\\frac{-1}{2\\sigma^2}(y_i - h(x_i,m,\\theta))^2)$\n",
        "\n",
        "$\\theta_{MLE}$\n",
        ">$= argmax_{\\theta} \\sum_i ln(\\frac{1}{\\sqrt{2\\pi}\\sigma}) - \\frac{1}{2\\sigma^2}(y_i - h(x_i,m,\\theta))^2)$ <br><br>\n",
        "$\\sigma^2$ 為 error 的 variance, 令 $\\sigma^2=1$ 不影響找到的參數 $\\theta$ <br><br>\n",
        "$= argmax_{\\theta} \\sum_i - \\frac{1}{2}(y_i - h(x_i,m,\\theta))^2)$ <br>\n",
        "$= argmin_{\\theta} \\sum_i \\frac{1}{2}(y_i - h(x_i,m,\\theta))^2)$ <br>\n",
        "$= argmin_{\\theta} \\sum_i \\frac{1}{2N}(y_i - h(x_i,m,\\theta))^2)$"
      ]
    },
    {
      "cell_type": "markdown",
      "metadata": {
        "id": "23xCw5yKExt5"
      },
      "source": [
        "# Regularization 推導\n",
        "\n",
        "$\\theta_{MAP}$\n",
        ">$= argmax_\\theta p(\\theta|D,m)$<br>\n",
        "$= argmax_\\theta \\frac{p(D,m|\\theta)p(\\theta)}{p(D,m)}$<br>\n",
        "$= argmax_\\theta \\frac{p(D|m,\\theta)p(\\theta|m)}{p(D|m)}$<br>\n",
        "$= argmax_\\theta \\sum_i[ln(p(y_i|x_i,m,\\theta)] + ln(p(\\theta|m))$<br>\n",
        "\n",
        "$p(\\theta|m) = \\frac{1}{\\sqrt{2\\pi}\\sigma}exp(\\frac{-1}{2\\sigma^2}\\theta^2)$\n",
        "\n",
        "$\\theta_{MAP}$\n",
        ">$= argmax_\\theta \\sum_i[ln(p(y_i|x_i,m,\\theta)] - \\frac{1}{2\\sigma^2}\\theta^2$<br>\n",
        "$= argmin_\\theta \\sum_i[-ln(p(y_i|x_i,m,\\theta)] + \\frac{1}{2\\sigma^2}\\theta^2$ ------ ridge <br>\n",
        "\n",
        "laplace : $\\frac{1}{2b}exp(-\\frac{|x-\\mu|}{b})$, $p(\\theta|m) = \\frac{1}{2b}exp(-\\frac{|\\theta|}{b})$ <br>\n",
        "$\\theta_{MAP}$\n",
        ">$ = argmin_\\theta \\sum_i[-ln(p(y_i|x_i,m,\\theta)] + \\frac{1}{b}|\\theta|$ ------ lasso"
      ]
    },
    {
      "cell_type": "code",
      "metadata": {
        "id": "5ffDe5l5HvBV"
      },
      "source": [
        ""
      ],
      "execution_count": null,
      "outputs": []
    },
    {
      "cell_type": "markdown",
      "metadata": {
        "id": "G20eSkndHvgE"
      },
      "source": [
        "# k-nearest"
      ]
    },
    {
      "cell_type": "code",
      "metadata": {
        "id": "tsRn0IkmH5Et",
        "colab": {
          "base_uri": "https://localhost:8080/",
          "height": 228
        },
        "outputId": "750a47b9-3333-4023-fd14-561fbf8193a6"
      },
      "source": [
        "train_set = DataLoader.load_data('lending_club_reduced_train_url')\n",
        "test_set = DataLoader.load_data('lending_club_reduced_test_url')\n",
        "train_set.head()"
      ],
      "execution_count": null,
      "outputs": [
        {
          "output_type": "execute_result",
          "data": {
            "text/html": [
              "<div>\n",
              "<style scoped>\n",
              "    .dataframe tbody tr th:only-of-type {\n",
              "        vertical-align: middle;\n",
              "    }\n",
              "\n",
              "    .dataframe tbody tr th {\n",
              "        vertical-align: top;\n",
              "    }\n",
              "\n",
              "    .dataframe thead th {\n",
              "        text-align: right;\n",
              "    }\n",
              "</style>\n",
              "<table border=\"1\" class=\"dataframe\">\n",
              "  <thead>\n",
              "    <tr style=\"text-align: right;\">\n",
              "      <th></th>\n",
              "      <th>home_ownership</th>\n",
              "      <th>income</th>\n",
              "      <th>dti</th>\n",
              "      <th>fico_low</th>\n",
              "      <th>loan_status</th>\n",
              "    </tr>\n",
              "  </thead>\n",
              "  <tbody>\n",
              "    <tr>\n",
              "      <th>0</th>\n",
              "      <td>1</td>\n",
              "      <td>44.304</td>\n",
              "      <td>18.47</td>\n",
              "      <td>690</td>\n",
              "      <td>0</td>\n",
              "    </tr>\n",
              "    <tr>\n",
              "      <th>1</th>\n",
              "      <td>0</td>\n",
              "      <td>38.500</td>\n",
              "      <td>33.73</td>\n",
              "      <td>660</td>\n",
              "      <td>0</td>\n",
              "    </tr>\n",
              "    <tr>\n",
              "      <th>2</th>\n",
              "      <td>1</td>\n",
              "      <td>54.000</td>\n",
              "      <td>19.00</td>\n",
              "      <td>660</td>\n",
              "      <td>0</td>\n",
              "    </tr>\n",
              "    <tr>\n",
              "      <th>3</th>\n",
              "      <td>1</td>\n",
              "      <td>60.000</td>\n",
              "      <td>33.98</td>\n",
              "      <td>695</td>\n",
              "      <td>0</td>\n",
              "    </tr>\n",
              "    <tr>\n",
              "      <th>4</th>\n",
              "      <td>0</td>\n",
              "      <td>39.354</td>\n",
              "      <td>10.85</td>\n",
              "      <td>685</td>\n",
              "      <td>0</td>\n",
              "    </tr>\n",
              "  </tbody>\n",
              "</table>\n",
              "</div>"
            ],
            "text/plain": [
              "   home_ownership  income    dti  fico_low  loan_status\n",
              "0               1  44.304  18.47       690            0\n",
              "1               0  38.500  33.73       660            0\n",
              "2               1  54.000  19.00       660            0\n",
              "3               1  60.000  33.98       695            0\n",
              "4               0  39.354  10.85       685            0"
            ]
          },
          "metadata": {
            "tags": []
          },
          "execution_count": 4
        }
      ]
    },
    {
      "cell_type": "code",
      "metadata": {
        "id": "0_GvjYjDrh_R",
        "colab": {
          "base_uri": "https://localhost:8080/",
          "height": 228
        },
        "outputId": "3120b062-2688-4ce2-cb50-0e4d03cd2825"
      },
      "source": [
        "x_train = train_set.iloc[:, :4]\n",
        "y_train = train_set.iloc[:, -1]\n",
        "x_test = test_set.iloc[:, :4]\n",
        "y_test = test_set.iloc[:, -1]\n",
        "x_train = pd.DataFrame(StandardScaler().fit_transform(x_train), columns=x_train.columns)\n",
        "x_test = pd.DataFrame(StandardScaler().fit_transform(x_test), columns=x_test.columns)\n",
        "x_train.head()"
      ],
      "execution_count": null,
      "outputs": [
        {
          "output_type": "execute_result",
          "data": {
            "text/html": [
              "<div>\n",
              "<style scoped>\n",
              "    .dataframe tbody tr th:only-of-type {\n",
              "        vertical-align: middle;\n",
              "    }\n",
              "\n",
              "    .dataframe tbody tr th {\n",
              "        vertical-align: top;\n",
              "    }\n",
              "\n",
              "    .dataframe thead th {\n",
              "        text-align: right;\n",
              "    }\n",
              "</style>\n",
              "<table border=\"1\" class=\"dataframe\">\n",
              "  <thead>\n",
              "    <tr style=\"text-align: right;\">\n",
              "      <th></th>\n",
              "      <th>home_ownership</th>\n",
              "      <th>income</th>\n",
              "      <th>dti</th>\n",
              "      <th>fico_low</th>\n",
              "    </tr>\n",
              "  </thead>\n",
              "  <tbody>\n",
              "    <tr>\n",
              "      <th>0</th>\n",
              "      <td>0.831250</td>\n",
              "      <td>-0.581419</td>\n",
              "      <td>-0.061604</td>\n",
              "      <td>-0.149476</td>\n",
              "    </tr>\n",
              "    <tr>\n",
              "      <th>1</th>\n",
              "      <td>-1.203008</td>\n",
              "      <td>-0.681950</td>\n",
              "      <td>0.839871</td>\n",
              "      <td>-1.136586</td>\n",
              "    </tr>\n",
              "    <tr>\n",
              "      <th>2</th>\n",
              "      <td>0.831250</td>\n",
              "      <td>-0.413476</td>\n",
              "      <td>-0.030294</td>\n",
              "      <td>-1.136586</td>\n",
              "    </tr>\n",
              "    <tr>\n",
              "      <th>3</th>\n",
              "      <td>0.831250</td>\n",
              "      <td>-0.309550</td>\n",
              "      <td>0.854639</td>\n",
              "      <td>0.015042</td>\n",
              "    </tr>\n",
              "    <tr>\n",
              "      <th>4</th>\n",
              "      <td>-1.203008</td>\n",
              "      <td>-0.667157</td>\n",
              "      <td>-0.511750</td>\n",
              "      <td>-0.313994</td>\n",
              "    </tr>\n",
              "  </tbody>\n",
              "</table>\n",
              "</div>"
            ],
            "text/plain": [
              "   home_ownership    income       dti  fico_low\n",
              "0        0.831250 -0.581419 -0.061604 -0.149476\n",
              "1       -1.203008 -0.681950  0.839871 -1.136586\n",
              "2        0.831250 -0.413476 -0.030294 -1.136586\n",
              "3        0.831250 -0.309550  0.854639  0.015042\n",
              "4       -1.203008 -0.667157 -0.511750 -0.313994"
            ]
          },
          "metadata": {
            "tags": []
          },
          "execution_count": 6
        }
      ]
    },
    {
      "cell_type": "code",
      "metadata": {
        "id": "vRF6On4TsS80"
      },
      "source": [
        "def predict(sample, k=10):\n",
        "    top_k_idx = ((x_train-sample)**2).sum(axis=1).nsmallest(k).index\n",
        "    return y_train.iloc[top_k_idx].values.sum()/k"
      ],
      "execution_count": null,
      "outputs": []
    },
    {
      "cell_type": "code",
      "metadata": {
        "id": "1wCf05A-MnBg"
      },
      "source": [
        "predictions = x_test.apply(predict, axis=1)"
      ],
      "execution_count": null,
      "outputs": []
    },
    {
      "cell_type": "code",
      "metadata": {
        "id": "tJVV7V8_-2Vw",
        "colab": {
          "base_uri": "https://localhost:8080/"
        },
        "outputId": "51248ca8-2364-4e99-ebbf-8922665dbeb4"
      },
      "source": [
        "predictions"
      ],
      "execution_count": null,
      "outputs": [
        {
          "output_type": "execute_result",
          "data": {
            "text/plain": [
              "0       0.8\n",
              "1       0.9\n",
              "2       0.7\n",
              "3       1.0\n",
              "4       0.8\n",
              "       ... \n",
              "5911    0.8\n",
              "5912    0.8\n",
              "5913    0.6\n",
              "5914    0.7\n",
              "5915    0.6\n",
              "Length: 5916, dtype: float64"
            ]
          },
          "metadata": {
            "tags": []
          },
          "execution_count": 12
        }
      ]
    },
    {
      "cell_type": "code",
      "metadata": {
        "colab": {
          "base_uri": "https://localhost:8080/"
        },
        "id": "DeNWp-yWxXrU",
        "outputId": "3d8e112f-07d3-4d18-e03d-30fc21ab48ba"
      },
      "source": [
        "round(roc_auc_score(y_test, predictions), 3)"
      ],
      "execution_count": null,
      "outputs": [
        {
          "output_type": "execute_result",
          "data": {
            "text/plain": [
              "0.558"
            ]
          },
          "metadata": {
            "tags": []
          },
          "execution_count": 41
        }
      ]
    },
    {
      "cell_type": "code",
      "metadata": {
        "id": "6H0eL2UfJfrB"
      },
      "source": [
        ""
      ],
      "execution_count": null,
      "outputs": []
    }
  ]
}