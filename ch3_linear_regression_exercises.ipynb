{
  "nbformat": 4,
  "nbformat_minor": 0,
  "metadata": {
    "colab": {
      "name": "ch3_linear_regression_exercises.ipynb",
      "provenance": [],
      "collapsed_sections": [],
      "include_colab_link": true
    },
    "kernelspec": {
      "name": "python3",
      "language": "python",
      "display_name": "Python 3"
    }
  },
  "cells": [
    {
      "cell_type": "markdown",
      "metadata": {
        "id": "view-in-github",
        "colab_type": "text"
      },
      "source": [
        "<a href=\"https://colab.research.google.com/github/YI-CHENG-SHIH645/ML-in-Business_practice/blob/main/ch3_linear_regression_exercises.ipynb\" target=\"_parent\"><img src=\"https://colab.research.google.com/assets/colab-badge.svg\" alt=\"Open In Colab\"/></a>"
      ]
    },
    {
      "cell_type": "code",
      "metadata": {
        "id": "xhIWyzN2m2Uw",
        "colab": {
          "base_uri": "https://localhost:8080/"
        },
        "cellView": "form",
        "outputId": "0f9aae4c-ca91-4984-fe28-fff99ca35d2f"
      },
      "source": [
        "#@title Imports\n",
        "!gdown --id \"15p2cUU3ocPUDDS9tGmhNos05dSyJFd2A\"\n",
        "!pip install scikit-learn==0.24.1\n",
        "\n",
        "import pandas as pd\n",
        "import numpy as np\n",
        "import itertools\n",
        "from sklearn.preprocessing import StandardScaler, OneHotEncoder\n",
        "from sklearn.feature_selection import SelectKBest, chi2\n",
        "from sklearn.linear_model import LinearRegression, Ridge, Lasso, ElasticNet, LogisticRegression\n",
        "from sklearn.metrics import roc_auc_score\n",
        "from sklearn.model_selection import train_test_split, GridSearchCV\n",
        "from sklearn.decomposition import PCA\n",
        "from sklearn.pipeline import Pipeline, make_pipeline\n",
        "from sklearn import set_config\n",
        "from sklearn.compose import ColumnTransformer, TransformedTargetRegressor\n",
        "from sklearn.impute import SimpleImputer\n",
        "from utils import DataLoader, display_side_by_side, classifier_measurement_under_threshs\n",
        "\n",
        "set_config(display='diagram')\n",
        "rs = 3  # random state\n",
        "np.random.seed(3)"
      ],
      "execution_count": null,
      "outputs": [
        {
          "output_type": "stream",
          "text": [
            "Downloading...\n",
            "From: https://drive.google.com/uc?id=15p2cUU3ocPUDDS9tGmhNos05dSyJFd2A\n",
            "To: /content/utils.py\n",
            "100% 6.59k/6.59k [00:00<00:00, 10.1MB/s]\n",
            "Collecting scikit-learn==0.24.1\n",
            "\u001b[?25l  Downloading https://files.pythonhosted.org/packages/f3/74/eb899f41d55f957e2591cde5528e75871f817d9fb46d4732423ecaca736d/scikit_learn-0.24.1-cp37-cp37m-manylinux2010_x86_64.whl (22.3MB)\n",
            "\u001b[K     |████████████████████████████████| 22.3MB 45.3MB/s \n",
            "\u001b[?25hRequirement already satisfied: numpy>=1.13.3 in /usr/local/lib/python3.7/dist-packages (from scikit-learn==0.24.1) (1.19.5)\n",
            "Requirement already satisfied: scipy>=0.19.1 in /usr/local/lib/python3.7/dist-packages (from scikit-learn==0.24.1) (1.4.1)\n",
            "Collecting threadpoolctl>=2.0.0\n",
            "  Downloading https://files.pythonhosted.org/packages/f7/12/ec3f2e203afa394a149911729357aa48affc59c20e2c1c8297a60f33f133/threadpoolctl-2.1.0-py3-none-any.whl\n",
            "Requirement already satisfied: joblib>=0.11 in /usr/local/lib/python3.7/dist-packages (from scikit-learn==0.24.1) (1.0.1)\n",
            "Installing collected packages: threadpoolctl, scikit-learn\n",
            "  Found existing installation: scikit-learn 0.22.2.post1\n",
            "    Uninstalling scikit-learn-0.22.2.post1:\n",
            "      Successfully uninstalled scikit-learn-0.22.2.post1\n",
            "Successfully installed scikit-learn-0.24.1 threadpoolctl-2.1.0\n"
          ],
          "name": "stdout"
        }
      ]
    },
    {
      "cell_type": "markdown",
      "metadata": {
        "id": "k0L0-wx_bfqS"
      },
      "source": [
        "Exercise 3.13"
      ]
    },
    {
      "cell_type": "code",
      "metadata": {
        "colab": {
          "base_uri": "https://localhost:8080/",
          "height": 221
        },
        "id": "z31N_m31KssK",
        "outputId": "b754689d-35ef-47a1-8adb-2ca540c6be73"
      },
      "source": [
        "table1_2 = DataLoader.load_data('age_salary_url', sheet_name='val')\n",
        "X = table1_2['Age'].values.reshape(-1, 1)\n",
        "y = table1_2['Salary'] / 1e3\n",
        "table1_2.head()"
      ],
      "execution_count": null,
      "outputs": [
        {
          "output_type": "execute_result",
          "data": {
            "text/html": [
              "<div>\n",
              "<style scoped>\n",
              "    .dataframe tbody tr th:only-of-type {\n",
              "        vertical-align: middle;\n",
              "    }\n",
              "\n",
              "    .dataframe tbody tr th {\n",
              "        vertical-align: top;\n",
              "    }\n",
              "\n",
              "    .dataframe thead th {\n",
              "        text-align: right;\n",
              "    }\n",
              "</style>\n",
              "<table border=\"1\" class=\"dataframe\">\n",
              "  <thead>\n",
              "    <tr style=\"text-align: right;\">\n",
              "      <th></th>\n",
              "      <th>Age</th>\n",
              "      <th>Salary</th>\n",
              "    </tr>\n",
              "  </thead>\n",
              "  <tbody>\n",
              "    <tr>\n",
              "      <th>0</th>\n",
              "      <td>30</td>\n",
              "      <td>166000</td>\n",
              "    </tr>\n",
              "    <tr>\n",
              "      <th>1</th>\n",
              "      <td>26</td>\n",
              "      <td>78000</td>\n",
              "    </tr>\n",
              "    <tr>\n",
              "      <th>2</th>\n",
              "      <td>58</td>\n",
              "      <td>310000</td>\n",
              "    </tr>\n",
              "    <tr>\n",
              "      <th>3</th>\n",
              "      <td>29</td>\n",
              "      <td>100000</td>\n",
              "    </tr>\n",
              "    <tr>\n",
              "      <th>4</th>\n",
              "      <td>40</td>\n",
              "      <td>260000</td>\n",
              "    </tr>\n",
              "  </tbody>\n",
              "</table>\n",
              "</div>"
            ],
            "text/plain": [
              "   Age  Salary\n",
              "0   30  166000\n",
              "1   26   78000\n",
              "2   58  310000\n",
              "3   29  100000\n",
              "4   40  260000"
            ]
          },
          "metadata": {
            "tags": []
          },
          "execution_count": 3
        }
      ]
    },
    {
      "cell_type": "code",
      "metadata": {
        "id": "6wLLiamYrbzr"
      },
      "source": [
        "class NoInteractionPolyFeatures():\n",
        "    def __init__(self, degree=2):\n",
        "        self.degree = degree\n",
        "\n",
        "    def fit(self, X, y):\n",
        "        return self\n",
        "\n",
        "    def transform(self, X):\n",
        "        return np.hstack([X**i for i in range(1, self.degree+1)])\n",
        "\n",
        "def print_model_info(pipe, X, y):\n",
        "    model = pipe.steps[-1][1]\n",
        "    print(\"bias: \", round(model.intercept_, 2))\n",
        "    print(\"weights: \", model.coef_.round(2))\n",
        "    print(\"mse: \", round(((y-pipe.predict(X))**2).sum(), 2), '\\n')"
      ],
      "execution_count": null,
      "outputs": []
    },
    {
      "cell_type": "code",
      "metadata": {
        "colab": {
          "base_uri": "https://localhost:8080/"
        },
        "id": "qruHUbQAs6hB",
        "outputId": "fbdaa690-1c65-496a-b4ae-04c617fbab5e"
      },
      "source": [
        "#@title simple regression\n",
        "pipe = make_pipeline(NoInteractionPolyFeatures(degree=5),\n",
        "                     StandardScaler(),\n",
        "                     LinearRegression())\n",
        "pipe.fit(X, y)\n",
        "print_model_info(pipe, X, y)"
      ],
      "execution_count": null,
      "outputs": [
        {
          "output_type": "stream",
          "text": [
            "bias:  178.6\n",
            "weights:  [ -19161.97   84643.67 -143504.71  110804.49  -32724.59]\n",
            "mse:  6048.82 \n",
            "\n"
          ],
          "name": "stdout"
        }
      ]
    },
    {
      "cell_type": "code",
      "metadata": {
        "colab": {
          "base_uri": "https://localhost:8080/"
        },
        "id": "sqLbOfhyRc6J",
        "outputId": "0cd4c474-3d00-4580-8a8c-4c2c7c4523d4"
      },
      "source": [
        "#@title ridge & lasso X different alpha (lambda hyperparameter)\n",
        "for model, alpha in itertools.product([Ridge(), Lasso(max_iter=3000)],\n",
        "                                      [.02, .05, .1]):\n",
        "    print(model.__class__.__name__, \"alpha =\", alpha)\n",
        "    model.alpha = alpha\n",
        "    pipe = make_pipeline(NoInteractionPolyFeatures(degree=5),\n",
        "                         StandardScaler(), model)\n",
        "    pipe.fit(X, y)\n",
        "    print_model_info(pipe, X, y)"
      ],
      "execution_count": null,
      "outputs": [
        {
          "output_type": "stream",
          "text": [
            "Ridge alpha = 0.02\n",
            "bias:  178.6\n",
            "weights:  [ 101.19   79.59   33.    -34.99 -119.77]\n",
            "mse:  7459.4 \n",
            "\n",
            "Ridge alpha = 0.05\n",
            "bias:  178.6\n",
            "weights:  [110.62  68.64  17.64 -39.03 -98.56]\n",
            "mse:  7611.46 \n",
            "\n",
            "Ridge alpha = 0.1\n",
            "bias:  178.6\n",
            "weights:  [108.66  61.91  12.13 -37.69 -85.66]\n",
            "mse:  7901.53 \n",
            "\n",
            "Lasso alpha = 0.02\n",
            "bias:  178.6\n",
            "weights:  [  -1.53  196.75   70.13    0.   -208.31]\n",
            "mse:  7198.53 \n",
            "\n",
            "Lasso alpha = 0.05\n",
            "bias:  178.6\n",
            "weights:  [  29.79  179.62   25.14    0.   -176.77]\n",
            "mse:  7268.38 \n",
            "\n",
            "Lasso alpha = 0.1\n",
            "bias:  178.6\n",
            "weights:  [  77.46  126.96    0.      0.   -145.77]\n",
            "mse:  7382.74 \n",
            "\n"
          ],
          "name": "stdout"
        },
        {
          "output_type": "stream",
          "text": [
            "/usr/local/lib/python3.7/dist-packages/sklearn/linear_model/_coordinate_descent.py:532: ConvergenceWarning: Objective did not converge. You might want to increase the number of iterations. Duality gap: 273.65208935046394, tolerance: 6.24324\n",
            "  positive)\n",
            "/usr/local/lib/python3.7/dist-packages/sklearn/linear_model/_coordinate_descent.py:532: ConvergenceWarning: Objective did not converge. You might want to increase the number of iterations. Duality gap: 114.63050626816585, tolerance: 6.24324\n",
            "  positive)\n",
            "/usr/local/lib/python3.7/dist-packages/sklearn/linear_model/_coordinate_descent.py:532: ConvergenceWarning: Objective did not converge. You might want to increase the number of iterations. Duality gap: 38.27212789445821, tolerance: 6.24324\n",
            "  positive)\n"
          ],
          "name": "stderr"
        }
      ]
    },
    {
      "cell_type": "code",
      "metadata": {
        "id": "g3CJlrxrnFqm"
      },
      "source": [
        ""
      ],
      "execution_count": null,
      "outputs": []
    },
    {
      "cell_type": "markdown",
      "metadata": {
        "id": "FHX04Y761l55"
      },
      "source": [
        "Exercise 3.14"
      ]
    },
    {
      "cell_type": "code",
      "metadata": {
        "colab": {
          "base_uri": "https://localhost:8080/",
          "height": 221
        },
        "id": "7SK9KHs7NPXr",
        "outputId": "b60e66a6-9a41-4b18-81d1-ee7b5beae1f7"
      },
      "source": [
        "train_set = DataLoader.load_data('lending_club_reduced_train_url')\n",
        "test_set = DataLoader.load_data('lending_club_reduced_test_url')\n",
        "train_set.head()"
      ],
      "execution_count": null,
      "outputs": [
        {
          "output_type": "execute_result",
          "data": {
            "text/html": [
              "<div>\n",
              "<style scoped>\n",
              "    .dataframe tbody tr th:only-of-type {\n",
              "        vertical-align: middle;\n",
              "    }\n",
              "\n",
              "    .dataframe tbody tr th {\n",
              "        vertical-align: top;\n",
              "    }\n",
              "\n",
              "    .dataframe thead th {\n",
              "        text-align: right;\n",
              "    }\n",
              "</style>\n",
              "<table border=\"1\" class=\"dataframe\">\n",
              "  <thead>\n",
              "    <tr style=\"text-align: right;\">\n",
              "      <th></th>\n",
              "      <th>home_ownership</th>\n",
              "      <th>income</th>\n",
              "      <th>dti</th>\n",
              "      <th>fico_low</th>\n",
              "      <th>loan_status</th>\n",
              "    </tr>\n",
              "  </thead>\n",
              "  <tbody>\n",
              "    <tr>\n",
              "      <th>0</th>\n",
              "      <td>1</td>\n",
              "      <td>44.304</td>\n",
              "      <td>18.47</td>\n",
              "      <td>690</td>\n",
              "      <td>0</td>\n",
              "    </tr>\n",
              "    <tr>\n",
              "      <th>1</th>\n",
              "      <td>0</td>\n",
              "      <td>38.500</td>\n",
              "      <td>33.73</td>\n",
              "      <td>660</td>\n",
              "      <td>0</td>\n",
              "    </tr>\n",
              "    <tr>\n",
              "      <th>2</th>\n",
              "      <td>1</td>\n",
              "      <td>54.000</td>\n",
              "      <td>19.00</td>\n",
              "      <td>660</td>\n",
              "      <td>0</td>\n",
              "    </tr>\n",
              "    <tr>\n",
              "      <th>3</th>\n",
              "      <td>1</td>\n",
              "      <td>60.000</td>\n",
              "      <td>33.98</td>\n",
              "      <td>695</td>\n",
              "      <td>0</td>\n",
              "    </tr>\n",
              "    <tr>\n",
              "      <th>4</th>\n",
              "      <td>0</td>\n",
              "      <td>39.354</td>\n",
              "      <td>10.85</td>\n",
              "      <td>685</td>\n",
              "      <td>0</td>\n",
              "    </tr>\n",
              "  </tbody>\n",
              "</table>\n",
              "</div>"
            ],
            "text/plain": [
              "   home_ownership  income    dti  fico_low  loan_status\n",
              "0               1  44.304  18.47       690            0\n",
              "1               0  38.500  33.73       660            0\n",
              "2               1  54.000  19.00       660            0\n",
              "3               1  60.000  33.98       695            0\n",
              "4               0  39.354  10.85       685            0"
            ]
          },
          "metadata": {
            "tags": []
          },
          "execution_count": 7
        }
      ]
    },
    {
      "cell_type": "code",
      "metadata": {
        "id": "CSWsZyZSyle8"
      },
      "source": [
        "x_train = train_set.iloc[:, :4]\n",
        "y_train = train_set.iloc[:, -1]\n",
        "x_test = test_set.iloc[:, :4]\n",
        "y_test = test_set.iloc[:, -1]\n",
        "\n",
        "def print_model_info(pipe):\n",
        "    model = pipe.steps[-1][1]\n",
        "    print(\"bias: \", model.intercept_)\n",
        "    print(\"weights: \", model.coef_)"
      ],
      "execution_count": null,
      "outputs": []
    },
    {
      "cell_type": "code",
      "metadata": {
        "colab": {
          "base_uri": "https://localhost:8080/"
        },
        "id": "ZGcbDDLQ_oap",
        "outputId": "5032435f-ae88-4a64-99fc-c7c76e4747b3"
      },
      "source": [
        "pipe = make_pipeline(LogisticRegression(penalty='none', solver='newton-cg', random_state=rs))\n",
        "pipe.fit(x_train, y_train)\n",
        "print_model_info(pipe)"
      ],
      "execution_count": null,
      "outputs": [
        {
          "output_type": "stream",
          "text": [
            "bias:  [-6.56522903]\n",
            "weights:  [[ 0.139496    0.00410667 -0.00112302  0.0112521 ]]\n"
          ],
          "name": "stdout"
        }
      ]
    },
    {
      "cell_type": "code",
      "metadata": {
        "colab": {
          "base_uri": "https://localhost:8080/"
        },
        "id": "xuV_NqeDBYpa",
        "outputId": "3788f2f4-5676-402c-e4ec-45f783be4d07"
      },
      "source": [
        "#@markdown if label are exchanged, probabilities will simply exchanged\n",
        "pipe.fit(x_train, y_train)\n",
        "res1 = pipe.predict_proba(x_train).round(4)\n",
        "pipe.fit(x_train, abs(y_train-1))\n",
        "res2 = pipe.predict_proba(x_train).round(4)\n",
        "res1 == np.flip(res2, 1)"
      ],
      "execution_count": null,
      "outputs": [
        {
          "output_type": "execute_result",
          "data": {
            "text/plain": [
              "array([[ True,  True],\n",
              "       [ True,  True],\n",
              "       [ True,  True],\n",
              "       ...,\n",
              "       [ True,  True],\n",
              "       [ True,  True],\n",
              "       [ True,  True]])"
            ]
          },
          "metadata": {
            "tags": []
          },
          "execution_count": 10
        }
      ]
    },
    {
      "cell_type": "code",
      "metadata": {
        "colab": {
          "base_uri": "https://localhost:8080/",
          "height": 435
        },
        "id": "47o3G7GbJN5O",
        "outputId": "39e3785a-2fb9-48d7-b945-2ab376c47666"
      },
      "source": [
        "classifier_measurement_under_threshs(abs(y_test-1),\n",
        "                                     pipe.predict_proba(x_test),\n",
        "                                     [.25, .20, .15])"
      ],
      "execution_count": null,
      "outputs": [
        {
          "output_type": "execute_result",
          "data": {
            "text/html": [
              "<div>\n",
              "<style scoped>\n",
              "    .dataframe tbody tr th:only-of-type {\n",
              "        vertical-align: middle;\n",
              "    }\n",
              "\n",
              "    .dataframe tbody tr th {\n",
              "        vertical-align: top;\n",
              "    }\n",
              "\n",
              "    .dataframe thead th {\n",
              "        text-align: right;\n",
              "    }\n",
              "</style>\n",
              "<table border=\"1\" class=\"dataframe\">\n",
              "  <thead>\n",
              "    <tr style=\"text-align: right;\">\n",
              "      <th></th>\n",
              "      <th>0.25</th>\n",
              "      <th>0.20</th>\n",
              "      <th>0.15</th>\n",
              "    </tr>\n",
              "  </thead>\n",
              "  <tbody>\n",
              "    <tr>\n",
              "      <th>Accuracy</th>\n",
              "      <td>79.21</td>\n",
              "      <td>63.47</td>\n",
              "      <td>42.80</td>\n",
              "    </tr>\n",
              "    <tr>\n",
              "      <th>TPR</th>\n",
              "      <td>9.07</td>\n",
              "      <td>45.46</td>\n",
              "      <td>79.11</td>\n",
              "    </tr>\n",
              "    <tr>\n",
              "      <th>TNR</th>\n",
              "      <td>94.48</td>\n",
              "      <td>67.39</td>\n",
              "      <td>34.89</td>\n",
              "    </tr>\n",
              "    <tr>\n",
              "      <th>FPR</th>\n",
              "      <td>5.52</td>\n",
              "      <td>32.61</td>\n",
              "      <td>65.11</td>\n",
              "    </tr>\n",
              "    <tr>\n",
              "      <th>Precision</th>\n",
              "      <td>26.37</td>\n",
              "      <td>23.29</td>\n",
              "      <td>20.92</td>\n",
              "    </tr>\n",
              "    <tr>\n",
              "      <th>F-Score</th>\n",
              "      <td>13.50</td>\n",
              "      <td>30.80</td>\n",
              "      <td>33.10</td>\n",
              "    </tr>\n",
              "    <tr>\n",
              "      <th>F_0.5-Score</th>\n",
              "      <td>19.09</td>\n",
              "      <td>25.81</td>\n",
              "      <td>24.53</td>\n",
              "    </tr>\n",
              "    <tr>\n",
              "      <th>F_2-Score</th>\n",
              "      <td>10.44</td>\n",
              "      <td>38.19</td>\n",
              "      <td>50.84</td>\n",
              "    </tr>\n",
              "    <tr>\n",
              "      <th>tp</th>\n",
              "      <td>1.62</td>\n",
              "      <td>8.13</td>\n",
              "      <td>14.15</td>\n",
              "    </tr>\n",
              "    <tr>\n",
              "      <th>fn</th>\n",
              "      <td>16.26</td>\n",
              "      <td>9.75</td>\n",
              "      <td>3.74</td>\n",
              "    </tr>\n",
              "    <tr>\n",
              "      <th>fp</th>\n",
              "      <td>4.53</td>\n",
              "      <td>26.77</td>\n",
              "      <td>53.47</td>\n",
              "    </tr>\n",
              "    <tr>\n",
              "      <th>tn</th>\n",
              "      <td>77.59</td>\n",
              "      <td>55.34</td>\n",
              "      <td>28.65</td>\n",
              "    </tr>\n",
              "  </tbody>\n",
              "</table>\n",
              "</div>"
            ],
            "text/plain": [
              "              0.25   0.20   0.15\n",
              "Accuracy     79.21  63.47  42.80\n",
              "TPR           9.07  45.46  79.11\n",
              "TNR          94.48  67.39  34.89\n",
              "FPR           5.52  32.61  65.11\n",
              "Precision    26.37  23.29  20.92\n",
              "F-Score      13.50  30.80  33.10\n",
              "F_0.5-Score  19.09  25.81  24.53\n",
              "F_2-Score    10.44  38.19  50.84\n",
              "tp            1.62   8.13  14.15\n",
              "fn           16.26   9.75   3.74\n",
              "fp            4.53  26.77  53.47\n",
              "tn           77.59  55.34  28.65"
            ]
          },
          "metadata": {
            "tags": []
          },
          "execution_count": 11
        }
      ]
    },
    {
      "cell_type": "code",
      "metadata": {
        "colab": {
          "base_uri": "https://localhost:8080/"
        },
        "id": "XNLgVAxluokz",
        "outputId": "e1076c8a-2116-414a-c8d7-d2ade59afcce"
      },
      "source": [
        "roc_auc_score(abs(y_test-1), pipe.predict_proba(x_test)[:, 1]).round(4)"
      ],
      "execution_count": null,
      "outputs": [
        {
          "output_type": "execute_result",
          "data": {
            "text/plain": [
              "0.602"
            ]
          },
          "metadata": {
            "tags": []
          },
          "execution_count": 12
        }
      ]
    },
    {
      "cell_type": "code",
      "metadata": {
        "id": "X5UkvbCxvGXu"
      },
      "source": [
        ""
      ],
      "execution_count": null,
      "outputs": []
    },
    {
      "cell_type": "markdown",
      "metadata": {
        "id": "LGH1-A7W1qLl"
      },
      "source": [
        "Exercise 3.15"
      ]
    },
    {
      "cell_type": "code",
      "metadata": {
        "id": "Ld6TAIw0XPGw"
      },
      "source": [
        "iowa_scaled_df = DataLoader.load_data('iowa_reduced_scaled')\n",
        "iowa_original_df = DataLoader.load_data('iowa_original')\n",
        "\n",
        "numerical_features = list(iowa_scaled_df.columns[:21])\n",
        "additional_features = ['LotFrontage', 'LotShape']\n",
        "categorical_features = ['Neighborhood', 'BsmtQual']\n",
        "iowa_df = iowa_original_df[numerical_features +\\\n",
        "                           additional_features +\\\n",
        "                           categorical_features].copy()\n",
        "target_label = iowa_original_df['SalePrice']"
      ],
      "execution_count": null,
      "outputs": []
    },
    {
      "cell_type": "code",
      "metadata": {
        "colab": {
          "base_uri": "https://localhost:8080/",
          "height": 221
        },
        "id": "IJJTdgQvC9tG",
        "outputId": "a6481916-cf00-4f6c-8321-4b7ed75986ad"
      },
      "source": [
        "iowa_df[additional_features + categorical_features].head()"
      ],
      "execution_count": null,
      "outputs": [
        {
          "output_type": "execute_result",
          "data": {
            "text/html": [
              "<div>\n",
              "<style scoped>\n",
              "    .dataframe tbody tr th:only-of-type {\n",
              "        vertical-align: middle;\n",
              "    }\n",
              "\n",
              "    .dataframe tbody tr th {\n",
              "        vertical-align: top;\n",
              "    }\n",
              "\n",
              "    .dataframe thead th {\n",
              "        text-align: right;\n",
              "    }\n",
              "</style>\n",
              "<table border=\"1\" class=\"dataframe\">\n",
              "  <thead>\n",
              "    <tr style=\"text-align: right;\">\n",
              "      <th></th>\n",
              "      <th>LotFrontage</th>\n",
              "      <th>LotShape</th>\n",
              "      <th>Neighborhood</th>\n",
              "      <th>BsmtQual</th>\n",
              "    </tr>\n",
              "  </thead>\n",
              "  <tbody>\n",
              "    <tr>\n",
              "      <th>0</th>\n",
              "      <td>65</td>\n",
              "      <td>Reg</td>\n",
              "      <td>CollgCr</td>\n",
              "      <td>Gd</td>\n",
              "    </tr>\n",
              "    <tr>\n",
              "      <th>1</th>\n",
              "      <td>80</td>\n",
              "      <td>Reg</td>\n",
              "      <td>Veenker</td>\n",
              "      <td>Gd</td>\n",
              "    </tr>\n",
              "    <tr>\n",
              "      <th>2</th>\n",
              "      <td>68</td>\n",
              "      <td>IR1</td>\n",
              "      <td>CollgCr</td>\n",
              "      <td>Gd</td>\n",
              "    </tr>\n",
              "    <tr>\n",
              "      <th>3</th>\n",
              "      <td>60</td>\n",
              "      <td>IR1</td>\n",
              "      <td>Crawfor</td>\n",
              "      <td>TA</td>\n",
              "    </tr>\n",
              "    <tr>\n",
              "      <th>4</th>\n",
              "      <td>84</td>\n",
              "      <td>IR1</td>\n",
              "      <td>NoRidge</td>\n",
              "      <td>Gd</td>\n",
              "    </tr>\n",
              "  </tbody>\n",
              "</table>\n",
              "</div>"
            ],
            "text/plain": [
              "  LotFrontage LotShape Neighborhood BsmtQual\n",
              "0          65      Reg      CollgCr       Gd\n",
              "1          80      Reg      Veenker       Gd\n",
              "2          68      IR1      CollgCr       Gd\n",
              "3          60      IR1      Crawfor       TA\n",
              "4          84      IR1      NoRidge       Gd"
            ]
          },
          "metadata": {
            "tags": []
          },
          "execution_count": 14
        }
      ]
    },
    {
      "cell_type": "code",
      "metadata": {
        "id": "UmbhuyEJc2UI",
        "colab": {
          "base_uri": "https://localhost:8080/",
          "height": 221
        },
        "outputId": "f7990013-5457-4364-9edd-61fd1dc04018"
      },
      "source": [
        "ordering_mappings = {\n",
        "    \"LotShape\": {\n",
        "        \"Reg\": 1, \"IR1\": 2, \"IR2\": 3, \n",
        "        \"IR3\": 4,\n",
        "    },\n",
        "    \"BsmtQual\": {\n",
        "        \"Ex\": 5, \"Gd\": 4, \"TA\": 3,\n",
        "        \"Fa\": 2, \"NA\": 0\n",
        "    }\n",
        "}\n",
        "\n",
        "for feature in ordering_mappings:\n",
        "    iowa_df = iowa_df.replace(ordering_mappings[feature])\n",
        "\n",
        "iowa_df['LotFrontage'] = iowa_df['LotFrontage'].apply(pd.to_numeric, errors='coerce')\n",
        "numerical_features = numerical_features + ['LotFrontage']\n",
        "\n",
        "ordering_features = list(ordering_mappings.keys())\n",
        "onehot_features = ['Neighborhood']\n",
        "all_features = numerical_features +\\\n",
        "               ordering_features +\\\n",
        "               list(iowa_df[onehot_features[0]].unique())\n",
        "\n",
        "iowa_df[additional_features + categorical_features].head()"
      ],
      "execution_count": null,
      "outputs": [
        {
          "output_type": "execute_result",
          "data": {
            "text/html": [
              "<div>\n",
              "<style scoped>\n",
              "    .dataframe tbody tr th:only-of-type {\n",
              "        vertical-align: middle;\n",
              "    }\n",
              "\n",
              "    .dataframe tbody tr th {\n",
              "        vertical-align: top;\n",
              "    }\n",
              "\n",
              "    .dataframe thead th {\n",
              "        text-align: right;\n",
              "    }\n",
              "</style>\n",
              "<table border=\"1\" class=\"dataframe\">\n",
              "  <thead>\n",
              "    <tr style=\"text-align: right;\">\n",
              "      <th></th>\n",
              "      <th>LotFrontage</th>\n",
              "      <th>LotShape</th>\n",
              "      <th>Neighborhood</th>\n",
              "      <th>BsmtQual</th>\n",
              "    </tr>\n",
              "  </thead>\n",
              "  <tbody>\n",
              "    <tr>\n",
              "      <th>0</th>\n",
              "      <td>65</td>\n",
              "      <td>1</td>\n",
              "      <td>CollgCr</td>\n",
              "      <td>4</td>\n",
              "    </tr>\n",
              "    <tr>\n",
              "      <th>1</th>\n",
              "      <td>80</td>\n",
              "      <td>1</td>\n",
              "      <td>Veenker</td>\n",
              "      <td>4</td>\n",
              "    </tr>\n",
              "    <tr>\n",
              "      <th>2</th>\n",
              "      <td>68</td>\n",
              "      <td>2</td>\n",
              "      <td>CollgCr</td>\n",
              "      <td>4</td>\n",
              "    </tr>\n",
              "    <tr>\n",
              "      <th>3</th>\n",
              "      <td>60</td>\n",
              "      <td>2</td>\n",
              "      <td>Crawfor</td>\n",
              "      <td>3</td>\n",
              "    </tr>\n",
              "    <tr>\n",
              "      <th>4</th>\n",
              "      <td>84</td>\n",
              "      <td>2</td>\n",
              "      <td>NoRidge</td>\n",
              "      <td>4</td>\n",
              "    </tr>\n",
              "  </tbody>\n",
              "</table>\n",
              "</div>"
            ],
            "text/plain": [
              "   LotFrontage  LotShape Neighborhood  BsmtQual\n",
              "0           65         1      CollgCr         4\n",
              "1           80         1      Veenker         4\n",
              "2           68         2      CollgCr         4\n",
              "3           60         2      Crawfor         3\n",
              "4           84         2      NoRidge         4"
            ]
          },
          "metadata": {
            "tags": []
          },
          "execution_count": 15
        }
      ]
    },
    {
      "cell_type": "code",
      "metadata": {
        "id": "fruxWmPMc1pe"
      },
      "source": [
        "numerical_transformer = Pipeline([('imputer', SimpleImputer(strategy='median')),\n",
        "                                  ('scaler', StandardScaler())])\n",
        "ordering_transformer = StandardScaler()\n",
        "onehot_transformer = Pipeline([('imputer', OneHotEncoder(handle_unknown='ignore', sparse=False)),\n",
        "                               ('scaler', StandardScaler())])\n",
        "preprocessor = ColumnTransformer(transformers=[('num', numerical_transformer, numerical_features),\n",
        "                                               ('ord', ordering_transformer, ordering_features),\n",
        "                                               ('hot', onehot_transformer, onehot_features)])"
      ],
      "execution_count": null,
      "outputs": []
    },
    {
      "cell_type": "code",
      "metadata": {
        "id": "iAVODOn7mOil"
      },
      "source": [
        "x, y = iowa_df, target_label\n",
        "x_train, x_test, y_train, y_test = train_test_split(x, y, test_size=0.2, random_state=rs)\n",
        "x_train, x_val, y_train, y_val = train_test_split(x_train, y_train, test_size=0.25, random_state=rs)\n",
        "y_train_scaler = StandardScaler()\n",
        "y_train_scaled = y_train_scaler.fit_transform(y_train.values.reshape(-1, 1)).ravel()"
      ],
      "execution_count": null,
      "outputs": []
    },
    {
      "cell_type": "code",
      "metadata": {
        "id": "pj5a2kn6pHzK",
        "colab": {
          "base_uri": "https://localhost:8080/",
          "height": 214
        },
        "outputId": "6b56146d-907c-40c8-bfe7-d07154be2ef2"
      },
      "source": [
        "pipe = Pipeline([('preprocessor', preprocessor),\n",
        "                 ('regressor', LinearRegression())])\n",
        "pipe"
      ],
      "execution_count": null,
      "outputs": [
        {
          "output_type": "execute_result",
          "data": {
            "text/html": [
              "<style>div.sk-top-container {color: black;background-color: white;}div.sk-toggleable {background-color: white;}label.sk-toggleable__label {cursor: pointer;display: block;width: 100%;margin-bottom: 0;padding: 0.2em 0.3em;box-sizing: border-box;text-align: center;}div.sk-toggleable__content {max-height: 0;max-width: 0;overflow: hidden;text-align: left;background-color: #f0f8ff;}div.sk-toggleable__content pre {margin: 0.2em;color: black;border-radius: 0.25em;background-color: #f0f8ff;}input.sk-toggleable__control:checked~div.sk-toggleable__content {max-height: 200px;max-width: 100%;overflow: auto;}div.sk-estimator input.sk-toggleable__control:checked~label.sk-toggleable__label {background-color: #d4ebff;}div.sk-label input.sk-toggleable__control:checked~label.sk-toggleable__label {background-color: #d4ebff;}input.sk-hidden--visually {border: 0;clip: rect(1px 1px 1px 1px);clip: rect(1px, 1px, 1px, 1px);height: 1px;margin: -1px;overflow: hidden;padding: 0;position: absolute;width: 1px;}div.sk-estimator {font-family: monospace;background-color: #f0f8ff;margin: 0.25em 0.25em;border: 1px dotted black;border-radius: 0.25em;box-sizing: border-box;}div.sk-estimator:hover {background-color: #d4ebff;}div.sk-parallel-item::after {content: \"\";width: 100%;border-bottom: 1px solid gray;flex-grow: 1;}div.sk-label:hover label.sk-toggleable__label {background-color: #d4ebff;}div.sk-serial::before {content: \"\";position: absolute;border-left: 1px solid gray;box-sizing: border-box;top: 2em;bottom: 0;left: 50%;}div.sk-serial {display: flex;flex-direction: column;align-items: center;background-color: white;}div.sk-item {z-index: 1;}div.sk-parallel {display: flex;align-items: stretch;justify-content: center;background-color: white;}div.sk-parallel-item {display: flex;flex-direction: column;position: relative;background-color: white;}div.sk-parallel-item:first-child::after {align-self: flex-end;width: 50%;}div.sk-parallel-item:last-child::after {align-self: flex-start;width: 50%;}div.sk-parallel-item:only-child::after {width: 0;}div.sk-dashed-wrapped {border: 1px dashed gray;margin: 0.2em;box-sizing: border-box;padding-bottom: 0.1em;background-color: white;position: relative;}div.sk-label label {font-family: monospace;font-weight: bold;background-color: white;display: inline-block;line-height: 1.2em;}div.sk-label-container {position: relative;z-index: 2;text-align: center;}div.sk-container {display: inline-block;position: relative;}</style><div class=\"sk-top-container\"><div class=\"sk-container\"><div class=\"sk-item sk-dashed-wrapped\"><div class=\"sk-label-container\"><div class=\"sk-label sk-toggleable\"><input class=\"sk-toggleable__control sk-hidden--visually\" id=\"48385a48-1c04-48e5-b0cc-fd1c17135923\" type=\"checkbox\" ><label class=\"sk-toggleable__label\" for=\"48385a48-1c04-48e5-b0cc-fd1c17135923\">Pipeline</label><div class=\"sk-toggleable__content\"><pre>Pipeline(steps=[('preprocessor',\n",
              "                 ColumnTransformer(transformers=[('num',\n",
              "                                                  Pipeline(steps=[('imputer',\n",
              "                                                                   SimpleImputer(strategy='median')),\n",
              "                                                                  ('scaler',\n",
              "                                                                   StandardScaler())]),\n",
              "                                                  ['LotArea', 'OverallQual',\n",
              "                                                   'OverallCond', 'YearBuilt',\n",
              "                                                   'YearRemodAdd', 'BsmtFinSF1',\n",
              "                                                   'BsmtUnfSF', 'TotalBsmtSF',\n",
              "                                                   '1stFlrSF', '2ndFlrSF',\n",
              "                                                   'GrLivArea', 'FullBath',\n",
              "                                                   'HalfBath', 'BedroomAbvGr',\n",
              "                                                   'TotRmsAbvGrd', 'Fireplaces',\n",
              "                                                   'GarageCars', 'GarageArea',\n",
              "                                                   'WoodDeckSF', 'OpenPorchSF',\n",
              "                                                   'EnclosedPorch',\n",
              "                                                   'LotFrontage']),\n",
              "                                                 ('ord', StandardScaler(),\n",
              "                                                  ['LotShape', 'BsmtQual']),\n",
              "                                                 ('hot',\n",
              "                                                  Pipeline(steps=[('imputer',\n",
              "                                                                   OneHotEncoder(handle_unknown='ignore',\n",
              "                                                                                 sparse=False)),\n",
              "                                                                  ('scaler',\n",
              "                                                                   StandardScaler())]),\n",
              "                                                  ['Neighborhood'])])),\n",
              "                ('regressor', LinearRegression())])</pre></div></div></div><div class=\"sk-serial\"><div class=\"sk-item sk-dashed-wrapped\"><div class=\"sk-label-container\"><div class=\"sk-label sk-toggleable\"><input class=\"sk-toggleable__control sk-hidden--visually\" id=\"6cf6008c-8c6a-43aa-a008-5c568c0eced6\" type=\"checkbox\" ><label class=\"sk-toggleable__label\" for=\"6cf6008c-8c6a-43aa-a008-5c568c0eced6\">preprocessor: ColumnTransformer</label><div class=\"sk-toggleable__content\"><pre>ColumnTransformer(transformers=[('num',\n",
              "                                 Pipeline(steps=[('imputer',\n",
              "                                                  SimpleImputer(strategy='median')),\n",
              "                                                 ('scaler', StandardScaler())]),\n",
              "                                 ['LotArea', 'OverallQual', 'OverallCond',\n",
              "                                  'YearBuilt', 'YearRemodAdd', 'BsmtFinSF1',\n",
              "                                  'BsmtUnfSF', 'TotalBsmtSF', '1stFlrSF',\n",
              "                                  '2ndFlrSF', 'GrLivArea', 'FullBath',\n",
              "                                  'HalfBath', 'BedroomAbvGr', 'TotRmsAbvGrd',\n",
              "                                  'Fireplaces', 'GarageCars', 'GarageArea',\n",
              "                                  'WoodDeckSF', 'OpenPorchSF', 'EnclosedPorch',\n",
              "                                  'LotFrontage']),\n",
              "                                ('ord', StandardScaler(),\n",
              "                                 ['LotShape', 'BsmtQual']),\n",
              "                                ('hot',\n",
              "                                 Pipeline(steps=[('imputer',\n",
              "                                                  OneHotEncoder(handle_unknown='ignore',\n",
              "                                                                sparse=False)),\n",
              "                                                 ('scaler', StandardScaler())]),\n",
              "                                 ['Neighborhood'])])</pre></div></div></div><div class=\"sk-parallel\"><div class=\"sk-parallel-item\"><div class=\"sk-item\"><div class=\"sk-label-container\"><div class=\"sk-label sk-toggleable\"><input class=\"sk-toggleable__control sk-hidden--visually\" id=\"0d81fedd-6c88-4ff7-93a6-1cdf5bfacd9a\" type=\"checkbox\" ><label class=\"sk-toggleable__label\" for=\"0d81fedd-6c88-4ff7-93a6-1cdf5bfacd9a\">num</label><div class=\"sk-toggleable__content\"><pre>['LotArea', 'OverallQual', 'OverallCond', 'YearBuilt', 'YearRemodAdd', 'BsmtFinSF1', 'BsmtUnfSF', 'TotalBsmtSF', '1stFlrSF', '2ndFlrSF', 'GrLivArea', 'FullBath', 'HalfBath', 'BedroomAbvGr', 'TotRmsAbvGrd', 'Fireplaces', 'GarageCars', 'GarageArea', 'WoodDeckSF', 'OpenPorchSF', 'EnclosedPorch', 'LotFrontage']</pre></div></div></div><div class=\"sk-serial\"><div class=\"sk-item\"><div class=\"sk-serial\"><div class=\"sk-item\"><div class=\"sk-estimator sk-toggleable\"><input class=\"sk-toggleable__control sk-hidden--visually\" id=\"58e8bd77-6d39-43ff-a52a-b6ee3c006d21\" type=\"checkbox\" ><label class=\"sk-toggleable__label\" for=\"58e8bd77-6d39-43ff-a52a-b6ee3c006d21\">SimpleImputer</label><div class=\"sk-toggleable__content\"><pre>SimpleImputer(strategy='median')</pre></div></div></div><div class=\"sk-item\"><div class=\"sk-estimator sk-toggleable\"><input class=\"sk-toggleable__control sk-hidden--visually\" id=\"01653d0c-d1f8-4796-9500-0f2d6fb7fe32\" type=\"checkbox\" ><label class=\"sk-toggleable__label\" for=\"01653d0c-d1f8-4796-9500-0f2d6fb7fe32\">StandardScaler</label><div class=\"sk-toggleable__content\"><pre>StandardScaler()</pre></div></div></div></div></div></div></div></div><div class=\"sk-parallel-item\"><div class=\"sk-item\"><div class=\"sk-label-container\"><div class=\"sk-label sk-toggleable\"><input class=\"sk-toggleable__control sk-hidden--visually\" id=\"844f06a8-9206-40b9-82ca-45199bd046ea\" type=\"checkbox\" ><label class=\"sk-toggleable__label\" for=\"844f06a8-9206-40b9-82ca-45199bd046ea\">ord</label><div class=\"sk-toggleable__content\"><pre>['LotShape', 'BsmtQual']</pre></div></div></div><div class=\"sk-serial\"><div class=\"sk-item\"><div class=\"sk-estimator sk-toggleable\"><input class=\"sk-toggleable__control sk-hidden--visually\" id=\"ad8ddaeb-536f-47b1-934e-34802055f22a\" type=\"checkbox\" ><label class=\"sk-toggleable__label\" for=\"ad8ddaeb-536f-47b1-934e-34802055f22a\">StandardScaler</label><div class=\"sk-toggleable__content\"><pre>StandardScaler()</pre></div></div></div></div></div></div><div class=\"sk-parallel-item\"><div class=\"sk-item\"><div class=\"sk-label-container\"><div class=\"sk-label sk-toggleable\"><input class=\"sk-toggleable__control sk-hidden--visually\" id=\"e5a64fb6-5c18-48f9-8178-79436b60856f\" type=\"checkbox\" ><label class=\"sk-toggleable__label\" for=\"e5a64fb6-5c18-48f9-8178-79436b60856f\">hot</label><div class=\"sk-toggleable__content\"><pre>['Neighborhood']</pre></div></div></div><div class=\"sk-serial\"><div class=\"sk-item\"><div class=\"sk-serial\"><div class=\"sk-item\"><div class=\"sk-estimator sk-toggleable\"><input class=\"sk-toggleable__control sk-hidden--visually\" id=\"7d65fcc9-eefe-45c2-ab03-7a863b38202d\" type=\"checkbox\" ><label class=\"sk-toggleable__label\" for=\"7d65fcc9-eefe-45c2-ab03-7a863b38202d\">OneHotEncoder</label><div class=\"sk-toggleable__content\"><pre>OneHotEncoder(handle_unknown='ignore', sparse=False)</pre></div></div></div><div class=\"sk-item\"><div class=\"sk-estimator sk-toggleable\"><input class=\"sk-toggleable__control sk-hidden--visually\" id=\"249a840e-e1e7-47fa-b897-599db80a069c\" type=\"checkbox\" ><label class=\"sk-toggleable__label\" for=\"249a840e-e1e7-47fa-b897-599db80a069c\">StandardScaler</label><div class=\"sk-toggleable__content\"><pre>StandardScaler()</pre></div></div></div></div></div></div></div></div></div></div><div class=\"sk-item\"><div class=\"sk-estimator sk-toggleable\"><input class=\"sk-toggleable__control sk-hidden--visually\" id=\"da1e5d52-535a-4e1a-b2f7-63da0a4a0985\" type=\"checkbox\" ><label class=\"sk-toggleable__label\" for=\"da1e5d52-535a-4e1a-b2f7-63da0a4a0985\">LinearRegression</label><div class=\"sk-toggleable__content\"><pre>LinearRegression()</pre></div></div></div></div></div></div></div>"
            ],
            "text/plain": [
              "Pipeline(steps=[('preprocessor',\n",
              "                 ColumnTransformer(transformers=[('num',\n",
              "                                                  Pipeline(steps=[('imputer',\n",
              "                                                                   SimpleImputer(strategy='median')),\n",
              "                                                                  ('scaler',\n",
              "                                                                   StandardScaler())]),\n",
              "                                                  ['LotArea', 'OverallQual',\n",
              "                                                   'OverallCond', 'YearBuilt',\n",
              "                                                   'YearRemodAdd', 'BsmtFinSF1',\n",
              "                                                   'BsmtUnfSF', 'TotalBsmtSF',\n",
              "                                                   '1stFlrSF', '2ndFlrSF',\n",
              "                                                   'GrLivArea', 'FullBath',\n",
              "                                                   'HalfBath', 'BedroomAbvGr',\n",
              "                                                   'TotRmsAbvGrd', 'Fireplaces',\n",
              "                                                   'GarageCars', 'GarageArea',\n",
              "                                                   'WoodDeckSF', 'OpenPorchSF',\n",
              "                                                   'EnclosedPorch',\n",
              "                                                   'LotFrontage']),\n",
              "                                                 ('ord', StandardScaler(),\n",
              "                                                  ['LotShape', 'BsmtQual']),\n",
              "                                                 ('hot',\n",
              "                                                  Pipeline(steps=[('imputer',\n",
              "                                                                   OneHotEncoder(handle_unknown='ignore',\n",
              "                                                                                 sparse=False)),\n",
              "                                                                  ('scaler',\n",
              "                                                                   StandardScaler())]),\n",
              "                                                  ['Neighborhood'])])),\n",
              "                ('regressor', LinearRegression())])"
            ]
          },
          "metadata": {
            "tags": []
          },
          "execution_count": 18
        }
      ]
    },
    {
      "cell_type": "code",
      "metadata": {
        "id": "2bK-V7eDasOl"
      },
      "source": [
        "#@title save best model for each regressor\n",
        "models_grid_params = [{\"regressor\": [LinearRegression()]}] +\\\n",
        "                     [{\"regressor\": [reg()], 'regressor__alpha': [.01, .05, .1]}\\\n",
        "                      for reg in [Ridge, Lasso, ElasticNet]]\n",
        "\n",
        "res = {param_grid['regressor'][0].__class__.__name__:\n",
        "       GridSearchCV(pipe, param_grid).fit(x_train, y_train_scaled) for param_grid in models_grid_params}"
      ],
      "execution_count": null,
      "outputs": []
    },
    {
      "cell_type": "code",
      "metadata": {
        "colab": {
          "base_uri": "https://localhost:8080/",
          "height": 189
        },
        "id": "QaiXha7Tt5NW",
        "outputId": "67a81666-f261-47bc-e568-c4484e5f057e"
      },
      "source": [
        "def r_squared(y_true, y_predicted):\n",
        "    return round((y_predicted - y_true.mean()).var() / y_true.var(), 3)\n",
        "\n",
        "def standardize_tgt(transform_func, data):\n",
        "    return transform_func(data.values.reshape(-1, 1)).ravel()\n",
        "\n",
        "dfs, captions = [], []\n",
        "for model_name in res:\n",
        "    best_model = res[model_name]\n",
        "    train_mse_info = \"train : \" + str(r_squared(y_train_scaled, best_model.predict(x_train))) + '<br>'\n",
        "    val_mse_info = \"vali  : \" + str(r_squared(standardize_tgt(y_train_scaler.transform, y_val), best_model.predict(x_val)))\n",
        "    captions.append(train_mse_info + val_mse_info)\n",
        "    weights = best_model.best_estimator_.steps[-1][1].coef_\n",
        "    nonzero_weights = weights[weights!=0]\n",
        "    df = pd.DataFrame([[len(nonzero_weights)],\n",
        "                       ['{:.2E}'.format(nonzero_weights.mean())]], \n",
        "                      columns=[model_name],\n",
        "                      index=['num of features', 'magnitude of avg weights'])\n",
        "    dfs.append(df)\n",
        "display_side_by_side(dfs, captions)"
      ],
      "execution_count": null,
      "outputs": [
        {
          "output_type": "display_data",
          "data": {
            "text/html": [
              "<table style=\"display:inline\"><tr><td style=\"text-align:center\">train : 0.883<br>vali  : 0.907</td><td style=\"text-align:center\">train : 0.883<br>vali  : 0.907</td><td style=\"text-align:center\">train : 0.843<br>vali  : 0.859</td><td style=\"text-align:center\">train : 0.859<br>vali  : 0.877</td></tr><tr><td style=\"vertical-align:top\"> <table style=\"display:inline\" border=\"1\" class=\"dataframe\">\n",
              "  <thead>\n",
              "    <tr style=\"text-align: right;\">\n",
              "      <th></th>\n",
              "      <th>LinearRegression</th>\n",
              "    </tr>\n",
              "  </thead>\n",
              "  <tbody>\n",
              "    <tr>\n",
              "      <th>num of features</th>\n",
              "      <td>49</td>\n",
              "    </tr>\n",
              "    <tr>\n",
              "      <th>magnitude of avg weights</th>\n",
              "      <td>2.80E+10</td>\n",
              "    </tr>\n",
              "  </tbody>\n",
              "</table style=\"display:inline\"></td><td style=\"vertical-align:top\"> <table style=\"display:inline\" border=\"1\" class=\"dataframe\">\n",
              "  <thead>\n",
              "    <tr style=\"text-align: right;\">\n",
              "      <th></th>\n",
              "      <th>Ridge</th>\n",
              "    </tr>\n",
              "  </thead>\n",
              "  <tbody>\n",
              "    <tr>\n",
              "      <th>num of features</th>\n",
              "      <td>49</td>\n",
              "    </tr>\n",
              "    <tr>\n",
              "      <th>magnitude of avg weights</th>\n",
              "      <td>3.00E-02</td>\n",
              "    </tr>\n",
              "  </tbody>\n",
              "</table style=\"display:inline\"></td><td style=\"vertical-align:top\"> <table style=\"display:inline\" border=\"1\" class=\"dataframe\">\n",
              "  <thead>\n",
              "    <tr style=\"text-align: right;\">\n",
              "      <th></th>\n",
              "      <th>Lasso</th>\n",
              "    </tr>\n",
              "  </thead>\n",
              "  <tbody>\n",
              "    <tr>\n",
              "      <th>num of features</th>\n",
              "      <td>33</td>\n",
              "    </tr>\n",
              "    <tr>\n",
              "      <th>magnitude of avg weights</th>\n",
              "      <td>4.83E-02</td>\n",
              "    </tr>\n",
              "  </tbody>\n",
              "</table style=\"display:inline\"></td><td style=\"vertical-align:top\"> <table style=\"display:inline\" border=\"1\" class=\"dataframe\">\n",
              "  <thead>\n",
              "    <tr style=\"text-align: right;\">\n",
              "      <th></th>\n",
              "      <th>ElasticNet</th>\n",
              "    </tr>\n",
              "  </thead>\n",
              "  <tbody>\n",
              "    <tr>\n",
              "      <th>num of features</th>\n",
              "      <td>40</td>\n",
              "    </tr>\n",
              "    <tr>\n",
              "      <th>magnitude of avg weights</th>\n",
              "      <td>3.97E-02</td>\n",
              "    </tr>\n",
              "  </tbody>\n",
              "</table style=\"display:inline\"></td></tr></table style=\"display:inline\">"
            ]
          },
          "metadata": {
            "tags": []
          }
        }
      ]
    },
    {
      "cell_type": "code",
      "metadata": {
        "colab": {
          "base_uri": "https://localhost:8080/",
          "height": 262
        },
        "id": "3tsev8ETpYRL",
        "outputId": "740a1f7e-cc0f-458e-dc92-1c317c2f0193"
      },
      "source": [
        "print(\"test ridge r-squared:\", r_squared(standardize_tgt(y_train_scaler.transform, y_test), res['Ridge'].predict(x_test)))\n",
        "print(\"test lasso r-squared:\", r_squared(standardize_tgt(y_train_scaler.transform, y_test), res['Lasso'].predict(x_test)))\n",
        "\n",
        "ridge_predictions = standardize_tgt(y_train_scaler.inverse_transform, pd.DataFrame(res['Ridge'].predict(x_test)))\n",
        "lasso_predictions = standardize_tgt(y_train_scaler.inverse_transform, pd.DataFrame(res['Lasso'].predict(x_test)))\n",
        "display_side_by_side([pd.DataFrame(ridge_predictions, columns=['Ridge']).astype(int).head(),\n",
        "                      pd.DataFrame(lasso_predictions, columns=['Lasso']).astype(int).head(),\n",
        "                      pd.DataFrame(y_test).reset_index(drop=True).head()])"
      ],
      "execution_count": null,
      "outputs": [
        {
          "output_type": "stream",
          "text": [
            "test ridge r-squared: 0.853\n",
            "test lasso r-squared: 0.811\n"
          ],
          "name": "stdout"
        },
        {
          "output_type": "display_data",
          "data": {
            "text/html": [
              "<table style=\"display:inline\"><tr><td style=\"vertical-align:top\"> <table style=\"display:inline\" border=\"1\" class=\"dataframe\">\n",
              "  <thead>\n",
              "    <tr style=\"text-align: right;\">\n",
              "      <th></th>\n",
              "      <th>Ridge</th>\n",
              "    </tr>\n",
              "  </thead>\n",
              "  <tbody>\n",
              "    <tr>\n",
              "      <th>0</th>\n",
              "      <td>90037</td>\n",
              "    </tr>\n",
              "    <tr>\n",
              "      <th>1</th>\n",
              "      <td>283676</td>\n",
              "    </tr>\n",
              "    <tr>\n",
              "      <th>2</th>\n",
              "      <td>204334</td>\n",
              "    </tr>\n",
              "    <tr>\n",
              "      <th>3</th>\n",
              "      <td>126787</td>\n",
              "    </tr>\n",
              "    <tr>\n",
              "      <th>4</th>\n",
              "      <td>181873</td>\n",
              "    </tr>\n",
              "  </tbody>\n",
              "</table style=\"display:inline\"></td><td style=\"vertical-align:top\"> <table style=\"display:inline\" border=\"1\" class=\"dataframe\">\n",
              "  <thead>\n",
              "    <tr style=\"text-align: right;\">\n",
              "      <th></th>\n",
              "      <th>Lasso</th>\n",
              "    </tr>\n",
              "  </thead>\n",
              "  <tbody>\n",
              "    <tr>\n",
              "      <th>0</th>\n",
              "      <td>89964</td>\n",
              "    </tr>\n",
              "    <tr>\n",
              "      <th>1</th>\n",
              "      <td>283370</td>\n",
              "    </tr>\n",
              "    <tr>\n",
              "      <th>2</th>\n",
              "      <td>203860</td>\n",
              "    </tr>\n",
              "    <tr>\n",
              "      <th>3</th>\n",
              "      <td>140846</td>\n",
              "    </tr>\n",
              "    <tr>\n",
              "      <th>4</th>\n",
              "      <td>184828</td>\n",
              "    </tr>\n",
              "  </tbody>\n",
              "</table style=\"display:inline\"></td><td style=\"vertical-align:top\"> <table style=\"display:inline\" border=\"1\" class=\"dataframe\">\n",
              "  <thead>\n",
              "    <tr style=\"text-align: right;\">\n",
              "      <th></th>\n",
              "      <th>SalePrice</th>\n",
              "    </tr>\n",
              "  </thead>\n",
              "  <tbody>\n",
              "    <tr>\n",
              "      <th>0</th>\n",
              "      <td>103000</td>\n",
              "    </tr>\n",
              "    <tr>\n",
              "      <th>1</th>\n",
              "      <td>252000</td>\n",
              "    </tr>\n",
              "    <tr>\n",
              "      <th>2</th>\n",
              "      <td>196500</td>\n",
              "    </tr>\n",
              "    <tr>\n",
              "      <th>3</th>\n",
              "      <td>138500</td>\n",
              "    </tr>\n",
              "    <tr>\n",
              "      <th>4</th>\n",
              "      <td>176485</td>\n",
              "    </tr>\n",
              "  </tbody>\n",
              "</table style=\"display:inline\"></td></tr></table style=\"display:inline\">"
            ]
          },
          "metadata": {
            "tags": []
          }
        }
      ]
    },
    {
      "cell_type": "markdown",
      "metadata": {
        "id": "z1FqiWRnoCOi"
      },
      "source": [
        "# if you don't scale the target value (SalePrice), then you won't have sparsity on Lasso <br>\n",
        "# It turns out that ridge / lasso results are almost identical"
      ]
    },
    {
      "cell_type": "code",
      "metadata": {
        "cellView": "form",
        "id": "8jOIove_q0Ku"
      },
      "source": [
        "#@title fit \"y_train\" instead of \"y_train_scaled\"\n",
        "x, y = iowa_df, target_label\n",
        "x_train, x_test, y_train, y_test = train_test_split(x, y, test_size=0.2, random_state=rs)\n",
        "x_train, x_val, y_train, y_val = train_test_split(x_train, y_train, test_size=0.25, random_state=rs)\n",
        "\n",
        "models_grid_params = [{\"regressor\": [LinearRegression()]}] +\\\n",
        "                     [{\"regressor\": [reg(tol=0.05)], 'regressor__alpha': [.01, .05, .1]}\\\n",
        "                      for reg in [Ridge, Lasso, ElasticNet]]\n",
        "\n",
        "res = {param_grid['regressor'][0].__class__.__name__:\n",
        "       GridSearchCV(pipe, param_grid).fit(x_train, y_train) for param_grid in models_grid_params}"
      ],
      "execution_count": null,
      "outputs": []
    },
    {
      "cell_type": "code",
      "metadata": {
        "colab": {
          "base_uri": "https://localhost:8080/",
          "height": 189
        },
        "cellView": "form",
        "id": "kT76MPnEgEjw",
        "outputId": "74cc6216-8493-4e47-c7ef-ebf67948d1a4"
      },
      "source": [
        "#@title result\n",
        "dfs, captions = [], []\n",
        "for model_name in res:\n",
        "    best_model = res[model_name]\n",
        "    train_mse_info = \"train : \" + str(r_squared(y_train.values, best_model.predict(x_train))) + '<br>'\n",
        "    val_mse_info = \"vali  : \" + str(r_squared(y_val.values, best_model.predict(x_val)))\n",
        "    captions.append(train_mse_info + val_mse_info)\n",
        "    weights = best_model.best_estimator_.steps[-1][1].coef_\n",
        "    nonzero_weights = weights[weights!=0]\n",
        "    df = pd.DataFrame([[len(nonzero_weights)],\n",
        "                       ['{:.2E}'.format(nonzero_weights.mean())]], \n",
        "                      columns=[model_name],\n",
        "                      index=['num of features', 'magnitude of avg weights'])\n",
        "    dfs.append(df)\n",
        "display_side_by_side(dfs, captions)"
      ],
      "execution_count": null,
      "outputs": [
        {
          "output_type": "display_data",
          "data": {
            "text/html": [
              "<table style=\"display:inline\"><tr><td style=\"text-align:center\">train : 0.883<br>vali  : 0.907</td><td style=\"text-align:center\">train : 0.883<br>vali  : 0.907</td><td style=\"text-align:center\">train : 0.883<br>vali  : 0.907</td><td style=\"text-align:center\">train : 0.862<br>vali  : 0.881</td></tr><tr><td style=\"vertical-align:top\"> <table style=\"display:inline\" border=\"1\" class=\"dataframe\">\n",
              "  <thead>\n",
              "    <tr style=\"text-align: right;\">\n",
              "      <th></th>\n",
              "      <th>LinearRegression</th>\n",
              "    </tr>\n",
              "  </thead>\n",
              "  <tbody>\n",
              "    <tr>\n",
              "      <th>num of features</th>\n",
              "      <td>49</td>\n",
              "    </tr>\n",
              "    <tr>\n",
              "      <th>magnitude of avg weights</th>\n",
              "      <td>2.17E+15</td>\n",
              "    </tr>\n",
              "  </tbody>\n",
              "</table style=\"display:inline\"></td><td style=\"vertical-align:top\"> <table style=\"display:inline\" border=\"1\" class=\"dataframe\">\n",
              "  <thead>\n",
              "    <tr style=\"text-align: right;\">\n",
              "      <th></th>\n",
              "      <th>Ridge</th>\n",
              "    </tr>\n",
              "  </thead>\n",
              "  <tbody>\n",
              "    <tr>\n",
              "      <th>num of features</th>\n",
              "      <td>49</td>\n",
              "    </tr>\n",
              "    <tr>\n",
              "      <th>magnitude of avg weights</th>\n",
              "      <td>2.32E+03</td>\n",
              "    </tr>\n",
              "  </tbody>\n",
              "</table style=\"display:inline\"></td><td style=\"vertical-align:top\"> <table style=\"display:inline\" border=\"1\" class=\"dataframe\">\n",
              "  <thead>\n",
              "    <tr style=\"text-align: right;\">\n",
              "      <th></th>\n",
              "      <th>Lasso</th>\n",
              "    </tr>\n",
              "  </thead>\n",
              "  <tbody>\n",
              "    <tr>\n",
              "      <th>num of features</th>\n",
              "      <td>49</td>\n",
              "    </tr>\n",
              "    <tr>\n",
              "      <th>magnitude of avg weights</th>\n",
              "      <td>2.18E+03</td>\n",
              "    </tr>\n",
              "  </tbody>\n",
              "</table style=\"display:inline\"></td><td style=\"vertical-align:top\"> <table style=\"display:inline\" border=\"1\" class=\"dataframe\">\n",
              "  <thead>\n",
              "    <tr style=\"text-align: right;\">\n",
              "      <th></th>\n",
              "      <th>ElasticNet</th>\n",
              "    </tr>\n",
              "  </thead>\n",
              "  <tbody>\n",
              "    <tr>\n",
              "      <th>num of features</th>\n",
              "      <td>49</td>\n",
              "    </tr>\n",
              "    <tr>\n",
              "      <th>magnitude of avg weights</th>\n",
              "      <td>2.25E+03</td>\n",
              "    </tr>\n",
              "  </tbody>\n",
              "</table style=\"display:inline\"></td></tr></table style=\"display:inline\">"
            ]
          },
          "metadata": {
            "tags": []
          }
        }
      ]
    },
    {
      "cell_type": "code",
      "metadata": {
        "colab": {
          "base_uri": "https://localhost:8080/",
          "height": 262
        },
        "cellView": "form",
        "id": "5ItH_q0crcoW",
        "outputId": "02c51cfe-c5bb-409c-b363-2cd3a0cf4052"
      },
      "source": [
        "#@title prediction is already the SalePrice, no need to do inverse transform\n",
        "print(\"test ridge r-squared:\", r_squared(y_test.values, res['Ridge'].predict(x_test)))\n",
        "print(\"test lasso r-squared:\", r_squared(y_test.values, res['Lasso'].predict(x_test)))\n",
        "\n",
        "ridge_predictions = res['Ridge'].predict(x_test)\n",
        "lasso_predictions = res['Lasso'].predict(x_test)\n",
        "display_side_by_side([pd.DataFrame(ridge_predictions, columns=['Ridge']).astype(int).head(),\n",
        "                      pd.DataFrame(lasso_predictions, columns=['Lasso']).astype(int).head(),\n",
        "                      pd.DataFrame(y_test).reset_index(drop=True).head()])"
      ],
      "execution_count": null,
      "outputs": [
        {
          "output_type": "stream",
          "text": [
            "test ridge r-squared: 0.853\n",
            "test lasso r-squared: 0.853\n"
          ],
          "name": "stdout"
        },
        {
          "output_type": "display_data",
          "data": {
            "text/html": [
              "<table style=\"display:inline\"><tr><td style=\"vertical-align:top\"> <table style=\"display:inline\" border=\"1\" class=\"dataframe\">\n",
              "  <thead>\n",
              "    <tr style=\"text-align: right;\">\n",
              "      <th></th>\n",
              "      <th>Ridge</th>\n",
              "    </tr>\n",
              "  </thead>\n",
              "  <tbody>\n",
              "    <tr>\n",
              "      <th>0</th>\n",
              "      <td>90037</td>\n",
              "    </tr>\n",
              "    <tr>\n",
              "      <th>1</th>\n",
              "      <td>283676</td>\n",
              "    </tr>\n",
              "    <tr>\n",
              "      <th>2</th>\n",
              "      <td>204334</td>\n",
              "    </tr>\n",
              "    <tr>\n",
              "      <th>3</th>\n",
              "      <td>126787</td>\n",
              "    </tr>\n",
              "    <tr>\n",
              "      <th>4</th>\n",
              "      <td>181873</td>\n",
              "    </tr>\n",
              "  </tbody>\n",
              "</table style=\"display:inline\"></td><td style=\"vertical-align:top\"> <table style=\"display:inline\" border=\"1\" class=\"dataframe\">\n",
              "  <thead>\n",
              "    <tr style=\"text-align: right;\">\n",
              "      <th></th>\n",
              "      <th>Lasso</th>\n",
              "    </tr>\n",
              "  </thead>\n",
              "  <tbody>\n",
              "    <tr>\n",
              "      <th>0</th>\n",
              "      <td>90041</td>\n",
              "    </tr>\n",
              "    <tr>\n",
              "      <th>1</th>\n",
              "      <td>283673</td>\n",
              "    </tr>\n",
              "    <tr>\n",
              "      <th>2</th>\n",
              "      <td>204335</td>\n",
              "    </tr>\n",
              "    <tr>\n",
              "      <th>3</th>\n",
              "      <td>126786</td>\n",
              "    </tr>\n",
              "    <tr>\n",
              "      <th>4</th>\n",
              "      <td>181874</td>\n",
              "    </tr>\n",
              "  </tbody>\n",
              "</table style=\"display:inline\"></td><td style=\"vertical-align:top\"> <table style=\"display:inline\" border=\"1\" class=\"dataframe\">\n",
              "  <thead>\n",
              "    <tr style=\"text-align: right;\">\n",
              "      <th></th>\n",
              "      <th>SalePrice</th>\n",
              "    </tr>\n",
              "  </thead>\n",
              "  <tbody>\n",
              "    <tr>\n",
              "      <th>0</th>\n",
              "      <td>103000</td>\n",
              "    </tr>\n",
              "    <tr>\n",
              "      <th>1</th>\n",
              "      <td>252000</td>\n",
              "    </tr>\n",
              "    <tr>\n",
              "      <th>2</th>\n",
              "      <td>196500</td>\n",
              "    </tr>\n",
              "    <tr>\n",
              "      <th>3</th>\n",
              "      <td>138500</td>\n",
              "    </tr>\n",
              "    <tr>\n",
              "      <th>4</th>\n",
              "      <td>176485</td>\n",
              "    </tr>\n",
              "  </tbody>\n",
              "</table style=\"display:inline\"></td></tr></table style=\"display:inline\">"
            ]
          },
          "metadata": {
            "tags": []
          }
        }
      ]
    },
    {
      "cell_type": "code",
      "metadata": {
        "id": "GjtAkTN6rLER"
      },
      "source": [
        ""
      ],
      "execution_count": null,
      "outputs": []
    },
    {
      "cell_type": "markdown",
      "metadata": {
        "id": "y4P9vplOh2j8"
      },
      "source": [
        "Exercise 3.16"
      ]
    },
    {
      "cell_type": "code",
      "metadata": {
        "id": "P2d0_8PEw8Ki"
      },
      "source": [
        "# it takes ~ 1 min\n",
        "full_df = DataLoader.load_data('lending_club_full_url')\n",
        "full_df = full_df[full_df.columns[1:]]"
      ],
      "execution_count": null,
      "outputs": []
    },
    {
      "cell_type": "code",
      "metadata": {
        "pycharm": {
          "name": "#%%\n"
        },
        "id": "9wSYdwO4F9Ma",
        "colab": {
          "base_uri": "https://localhost:8080/",
          "height": 252
        },
        "cellView": "form",
        "outputId": "baafdbc7-4c2d-4dbd-af14-3ee570355875"
      },
      "source": [
        "#@title processed data\n",
        "def select_columns(dataframe, cols: list):\n",
        "    return dataframe[cols]\n",
        "\n",
        "def select_rows_by_col_values(dataframe, col: str, values: list):\n",
        "    return dataframe[dataframe[col].isin(values).values]\n",
        "\n",
        "def replace_col_values(dataframe, col: str, mapping: dict):\n",
        "    dataframe[col] = dataframe[col].replace(mapping)\n",
        "    return dataframe\n",
        "\n",
        "def math_op(dataframe, col: str, op_func, v):\n",
        "    dataframe[col] = op_func(dataframe[col], v)\n",
        "    return dataframe\n",
        "\n",
        "new_train_df = full_df.pipe(select_columns, cols=['home_ownership', 'annual_inc', 'dti', 'fico_range_low', 'loan_status'])\\\n",
        "                      .pipe(select_rows_by_col_values, col='loan_status', values=['Fully Paid', 'Charged Off'])\\\n",
        "                      .pipe(replace_col_values, col='loan_status', mapping={\"Charged Off\": 0, \"Fully Paid\": 1})\\\n",
        "                      .pipe(select_rows_by_col_values, col='home_ownership', values=['OWN', 'RENT'])\\\n",
        "                      .pipe(replace_col_values, col='home_ownership', mapping={\"RENT\": 0, \"OWN\": 1})\\\n",
        "                      .pipe(math_op, col='annual_inc', op_func=np.divide, v=1e3)\n",
        "new_train_df.head(6)"
      ],
      "execution_count": null,
      "outputs": [
        {
          "output_type": "execute_result",
          "data": {
            "text/html": [
              "<div>\n",
              "<style scoped>\n",
              "    .dataframe tbody tr th:only-of-type {\n",
              "        vertical-align: middle;\n",
              "    }\n",
              "\n",
              "    .dataframe tbody tr th {\n",
              "        vertical-align: top;\n",
              "    }\n",
              "\n",
              "    .dataframe thead th {\n",
              "        text-align: right;\n",
              "    }\n",
              "</style>\n",
              "<table border=\"1\" class=\"dataframe\">\n",
              "  <thead>\n",
              "    <tr style=\"text-align: right;\">\n",
              "      <th></th>\n",
              "      <th>home_ownership</th>\n",
              "      <th>annual_inc</th>\n",
              "      <th>dti</th>\n",
              "      <th>fico_range_low</th>\n",
              "      <th>loan_status</th>\n",
              "    </tr>\n",
              "  </thead>\n",
              "  <tbody>\n",
              "    <tr>\n",
              "      <th>2</th>\n",
              "      <td>0</td>\n",
              "      <td>50.0</td>\n",
              "      <td>29.62</td>\n",
              "      <td>735.0</td>\n",
              "      <td>1</td>\n",
              "    </tr>\n",
              "    <tr>\n",
              "      <th>3</th>\n",
              "      <td>0</td>\n",
              "      <td>64.4</td>\n",
              "      <td>16.68</td>\n",
              "      <td>675.0</td>\n",
              "      <td>1</td>\n",
              "    </tr>\n",
              "    <tr>\n",
              "      <th>5</th>\n",
              "      <td>0</td>\n",
              "      <td>38.5</td>\n",
              "      <td>33.73</td>\n",
              "      <td>660.0</td>\n",
              "      <td>0</td>\n",
              "    </tr>\n",
              "    <tr>\n",
              "      <th>11</th>\n",
              "      <td>0</td>\n",
              "      <td>76.0</td>\n",
              "      <td>17.31</td>\n",
              "      <td>685.0</td>\n",
              "      <td>1</td>\n",
              "    </tr>\n",
              "    <tr>\n",
              "      <th>12</th>\n",
              "      <td>0</td>\n",
              "      <td>75.0</td>\n",
              "      <td>22.34</td>\n",
              "      <td>700.0</td>\n",
              "      <td>1</td>\n",
              "    </tr>\n",
              "    <tr>\n",
              "      <th>17</th>\n",
              "      <td>0</td>\n",
              "      <td>55.0</td>\n",
              "      <td>22.00</td>\n",
              "      <td>665.0</td>\n",
              "      <td>1</td>\n",
              "    </tr>\n",
              "  </tbody>\n",
              "</table>\n",
              "</div>"
            ],
            "text/plain": [
              "    home_ownership  annual_inc    dti  fico_range_low  loan_status\n",
              "2                0        50.0  29.62           735.0            1\n",
              "3                0        64.4  16.68           675.0            1\n",
              "5                0        38.5  33.73           660.0            0\n",
              "11               0        76.0  17.31           685.0            1\n",
              "12               0        75.0  22.34           700.0            1\n",
              "17               0        55.0  22.00           665.0            1"
            ]
          },
          "metadata": {
            "tags": []
          },
          "execution_count": 65
        }
      ]
    },
    {
      "cell_type": "code",
      "metadata": {
        "cellView": "form",
        "colab": {
          "base_uri": "https://localhost:8080/",
          "height": 252
        },
        "id": "kTYOB7Aqzswg",
        "outputId": "ed662508-fec6-458f-8e2f-c21ef5ca44a6"
      },
      "source": [
        "#@title original data with selected rows\n",
        "full_df.pipe(select_columns, cols=['home_ownership', 'annual_inc', 'dti', 'fico_range_low', 'loan_status'])\\\n",
        "       .loc[new_train_df.index, :].head(6)"
      ],
      "execution_count": null,
      "outputs": [
        {
          "output_type": "execute_result",
          "data": {
            "text/html": [
              "<div>\n",
              "<style scoped>\n",
              "    .dataframe tbody tr th:only-of-type {\n",
              "        vertical-align: middle;\n",
              "    }\n",
              "\n",
              "    .dataframe tbody tr th {\n",
              "        vertical-align: top;\n",
              "    }\n",
              "\n",
              "    .dataframe thead th {\n",
              "        text-align: right;\n",
              "    }\n",
              "</style>\n",
              "<table border=\"1\" class=\"dataframe\">\n",
              "  <thead>\n",
              "    <tr style=\"text-align: right;\">\n",
              "      <th></th>\n",
              "      <th>home_ownership</th>\n",
              "      <th>annual_inc</th>\n",
              "      <th>dti</th>\n",
              "      <th>fico_range_low</th>\n",
              "      <th>loan_status</th>\n",
              "    </tr>\n",
              "  </thead>\n",
              "  <tbody>\n",
              "    <tr>\n",
              "      <th>2</th>\n",
              "      <td>RENT</td>\n",
              "      <td>50000.0</td>\n",
              "      <td>29.62</td>\n",
              "      <td>735.0</td>\n",
              "      <td>Fully Paid</td>\n",
              "    </tr>\n",
              "    <tr>\n",
              "      <th>3</th>\n",
              "      <td>RENT</td>\n",
              "      <td>64400.0</td>\n",
              "      <td>16.68</td>\n",
              "      <td>675.0</td>\n",
              "      <td>Fully Paid</td>\n",
              "    </tr>\n",
              "    <tr>\n",
              "      <th>5</th>\n",
              "      <td>RENT</td>\n",
              "      <td>38500.0</td>\n",
              "      <td>33.73</td>\n",
              "      <td>660.0</td>\n",
              "      <td>Charged Off</td>\n",
              "    </tr>\n",
              "    <tr>\n",
              "      <th>11</th>\n",
              "      <td>RENT</td>\n",
              "      <td>76000.0</td>\n",
              "      <td>17.31</td>\n",
              "      <td>685.0</td>\n",
              "      <td>Fully Paid</td>\n",
              "    </tr>\n",
              "    <tr>\n",
              "      <th>12</th>\n",
              "      <td>RENT</td>\n",
              "      <td>75000.0</td>\n",
              "      <td>22.34</td>\n",
              "      <td>700.0</td>\n",
              "      <td>Fully Paid</td>\n",
              "    </tr>\n",
              "    <tr>\n",
              "      <th>17</th>\n",
              "      <td>RENT</td>\n",
              "      <td>55000.0</td>\n",
              "      <td>22.00</td>\n",
              "      <td>665.0</td>\n",
              "      <td>Fully Paid</td>\n",
              "    </tr>\n",
              "  </tbody>\n",
              "</table>\n",
              "</div>"
            ],
            "text/plain": [
              "   home_ownership  annual_inc    dti  fico_range_low  loan_status\n",
              "2            RENT     50000.0  29.62           735.0   Fully Paid\n",
              "3            RENT     64400.0  16.68           675.0   Fully Paid\n",
              "5            RENT     38500.0  33.73           660.0  Charged Off\n",
              "11           RENT     76000.0  17.31           685.0   Fully Paid\n",
              "12           RENT     75000.0  22.34           700.0   Fully Paid\n",
              "17           RENT     55000.0  22.00           665.0   Fully Paid"
            ]
          },
          "metadata": {
            "tags": []
          },
          "execution_count": 66
        }
      ]
    },
    {
      "cell_type": "code",
      "metadata": {
        "id": "etdSoi5I7A25",
        "colab": {
          "base_uri": "https://localhost:8080/",
          "height": 130
        },
        "outputId": "426e224b-fed0-407d-d2b6-e6af0eb6d011"
      },
      "source": [
        "pipe = Pipeline([('imputer', SimpleImputer(strategy='median')),\n",
        "                 ('classifier', LogisticRegression(penalty='none', solver='newton-cg', random_state=3))])\n",
        "\n",
        "X = new_train_df.drop('loan_status', axis=1)\n",
        "y = new_train_df['loan_status']\n",
        "X_train, X_test, y_train, y_test = train_test_split(X, y, random_state=rs, stratify=y)\n",
        "\n",
        "pipe.fit(X_train, y_train)"
      ],
      "execution_count": null,
      "outputs": [
        {
          "output_type": "execute_result",
          "data": {
            "text/html": [
              "<style>div.sk-top-container {color: black;background-color: white;}div.sk-toggleable {background-color: white;}label.sk-toggleable__label {cursor: pointer;display: block;width: 100%;margin-bottom: 0;padding: 0.2em 0.3em;box-sizing: border-box;text-align: center;}div.sk-toggleable__content {max-height: 0;max-width: 0;overflow: hidden;text-align: left;background-color: #f0f8ff;}div.sk-toggleable__content pre {margin: 0.2em;color: black;border-radius: 0.25em;background-color: #f0f8ff;}input.sk-toggleable__control:checked~div.sk-toggleable__content {max-height: 200px;max-width: 100%;overflow: auto;}div.sk-estimator input.sk-toggleable__control:checked~label.sk-toggleable__label {background-color: #d4ebff;}div.sk-label input.sk-toggleable__control:checked~label.sk-toggleable__label {background-color: #d4ebff;}input.sk-hidden--visually {border: 0;clip: rect(1px 1px 1px 1px);clip: rect(1px, 1px, 1px, 1px);height: 1px;margin: -1px;overflow: hidden;padding: 0;position: absolute;width: 1px;}div.sk-estimator {font-family: monospace;background-color: #f0f8ff;margin: 0.25em 0.25em;border: 1px dotted black;border-radius: 0.25em;box-sizing: border-box;}div.sk-estimator:hover {background-color: #d4ebff;}div.sk-parallel-item::after {content: \"\";width: 100%;border-bottom: 1px solid gray;flex-grow: 1;}div.sk-label:hover label.sk-toggleable__label {background-color: #d4ebff;}div.sk-serial::before {content: \"\";position: absolute;border-left: 1px solid gray;box-sizing: border-box;top: 2em;bottom: 0;left: 50%;}div.sk-serial {display: flex;flex-direction: column;align-items: center;background-color: white;}div.sk-item {z-index: 1;}div.sk-parallel {display: flex;align-items: stretch;justify-content: center;background-color: white;}div.sk-parallel-item {display: flex;flex-direction: column;position: relative;background-color: white;}div.sk-parallel-item:first-child::after {align-self: flex-end;width: 50%;}div.sk-parallel-item:last-child::after {align-self: flex-start;width: 50%;}div.sk-parallel-item:only-child::after {width: 0;}div.sk-dashed-wrapped {border: 1px dashed gray;margin: 0.2em;box-sizing: border-box;padding-bottom: 0.1em;background-color: white;position: relative;}div.sk-label label {font-family: monospace;font-weight: bold;background-color: white;display: inline-block;line-height: 1.2em;}div.sk-label-container {position: relative;z-index: 2;text-align: center;}div.sk-container {display: inline-block;position: relative;}</style><div class=\"sk-top-container\"><div class=\"sk-container\"><div class=\"sk-item sk-dashed-wrapped\"><div class=\"sk-label-container\"><div class=\"sk-label sk-toggleable\"><input class=\"sk-toggleable__control sk-hidden--visually\" id=\"6c99b96b-4aa3-4c3a-b755-59f2b512cd9f\" type=\"checkbox\" ><label class=\"sk-toggleable__label\" for=\"6c99b96b-4aa3-4c3a-b755-59f2b512cd9f\">Pipeline</label><div class=\"sk-toggleable__content\"><pre>Pipeline(steps=[('imputer', SimpleImputer(strategy='median')),\n",
              "                ('classifier',\n",
              "                 LogisticRegression(penalty='none', random_state=3,\n",
              "                                    solver='newton-cg'))])</pre></div></div></div><div class=\"sk-serial\"><div class=\"sk-item\"><div class=\"sk-estimator sk-toggleable\"><input class=\"sk-toggleable__control sk-hidden--visually\" id=\"6dc1a211-a64a-4e05-8a2c-ccdf1bdc38c6\" type=\"checkbox\" ><label class=\"sk-toggleable__label\" for=\"6dc1a211-a64a-4e05-8a2c-ccdf1bdc38c6\">SimpleImputer</label><div class=\"sk-toggleable__content\"><pre>SimpleImputer(strategy='median')</pre></div></div></div><div class=\"sk-item\"><div class=\"sk-estimator sk-toggleable\"><input class=\"sk-toggleable__control sk-hidden--visually\" id=\"a9a6c411-6721-48f1-908f-88391d2e7351\" type=\"checkbox\" ><label class=\"sk-toggleable__label\" for=\"a9a6c411-6721-48f1-908f-88391d2e7351\">LogisticRegression</label><div class=\"sk-toggleable__content\"><pre>LogisticRegression(penalty='none', random_state=3, solver='newton-cg')</pre></div></div></div></div></div></div></div>"
            ],
            "text/plain": [
              "Pipeline(steps=[('imputer', SimpleImputer(strategy='median')),\n",
              "                ('classifier',\n",
              "                 LogisticRegression(penalty='none', random_state=3,\n",
              "                                    solver='newton-cg'))])"
            ]
          },
          "metadata": {
            "tags": []
          },
          "execution_count": 67
        }
      ]
    },
    {
      "cell_type": "code",
      "metadata": {
        "colab": {
          "base_uri": "https://localhost:8080/",
          "height": 435
        },
        "id": "Zj4KGdXU8nnH",
        "outputId": "902ba9ba-e2f9-4478-8984-fe84a8fb90f4"
      },
      "source": [
        "classifier_measurement_under_threshs(y_test, pipe.predict_proba(X_test), [0.3, 0.4, 0.5, 0.6, 0.75, 0.80, 0.85])"
      ],
      "execution_count": null,
      "outputs": [
        {
          "output_type": "execute_result",
          "data": {
            "text/html": [
              "<div>\n",
              "<style scoped>\n",
              "    .dataframe tbody tr th:only-of-type {\n",
              "        vertical-align: middle;\n",
              "    }\n",
              "\n",
              "    .dataframe tbody tr th {\n",
              "        vertical-align: top;\n",
              "    }\n",
              "\n",
              "    .dataframe thead th {\n",
              "        text-align: right;\n",
              "    }\n",
              "</style>\n",
              "<table border=\"1\" class=\"dataframe\">\n",
              "  <thead>\n",
              "    <tr style=\"text-align: right;\">\n",
              "      <th></th>\n",
              "      <th>0.30</th>\n",
              "      <th>0.40</th>\n",
              "      <th>0.50</th>\n",
              "      <th>0.60</th>\n",
              "      <th>0.75</th>\n",
              "      <th>0.80</th>\n",
              "      <th>0.85</th>\n",
              "    </tr>\n",
              "  </thead>\n",
              "  <tbody>\n",
              "    <tr>\n",
              "      <th>Accuracy</th>\n",
              "      <td>76.49</td>\n",
              "      <td>76.49</td>\n",
              "      <td>76.49</td>\n",
              "      <td>76.36</td>\n",
              "      <td>60.74</td>\n",
              "      <td>47.62</td>\n",
              "      <td>34.88</td>\n",
              "    </tr>\n",
              "    <tr>\n",
              "      <th>TPR</th>\n",
              "      <td>99.91</td>\n",
              "      <td>99.91</td>\n",
              "      <td>99.83</td>\n",
              "      <td>97.27</td>\n",
              "      <td>62.68</td>\n",
              "      <td>39.54</td>\n",
              "      <td>17.85</td>\n",
              "    </tr>\n",
              "    <tr>\n",
              "      <th>TNR</th>\n",
              "      <td>0.28</td>\n",
              "      <td>0.28</td>\n",
              "      <td>0.56</td>\n",
              "      <td>8.33</td>\n",
              "      <td>54.44</td>\n",
              "      <td>73.89</td>\n",
              "      <td>90.28</td>\n",
              "    </tr>\n",
              "    <tr>\n",
              "      <th>FPR</th>\n",
              "      <td>99.72</td>\n",
              "      <td>99.72</td>\n",
              "      <td>99.44</td>\n",
              "      <td>91.67</td>\n",
              "      <td>45.56</td>\n",
              "      <td>26.11</td>\n",
              "      <td>9.72</td>\n",
              "    </tr>\n",
              "    <tr>\n",
              "      <th>Precision</th>\n",
              "      <td>76.52</td>\n",
              "      <td>76.52</td>\n",
              "      <td>76.56</td>\n",
              "      <td>77.54</td>\n",
              "      <td>81.74</td>\n",
              "      <td>83.12</td>\n",
              "      <td>85.66</td>\n",
              "    </tr>\n",
              "    <tr>\n",
              "      <th>F-Score</th>\n",
              "      <td>86.67</td>\n",
              "      <td>86.67</td>\n",
              "      <td>86.66</td>\n",
              "      <td>86.29</td>\n",
              "      <td>70.95</td>\n",
              "      <td>53.59</td>\n",
              "      <td>29.54</td>\n",
              "    </tr>\n",
              "    <tr>\n",
              "      <th>F_0.5-Score</th>\n",
              "      <td>80.28</td>\n",
              "      <td>80.28</td>\n",
              "      <td>80.30</td>\n",
              "      <td>80.81</td>\n",
              "      <td>77.05</td>\n",
              "      <td>68.11</td>\n",
              "      <td>48.67</td>\n",
              "    </tr>\n",
              "    <tr>\n",
              "      <th>F_2-Score</th>\n",
              "      <td>94.16</td>\n",
              "      <td>94.16</td>\n",
              "      <td>94.11</td>\n",
              "      <td>92.56</td>\n",
              "      <td>65.75</td>\n",
              "      <td>44.17</td>\n",
              "      <td>21.21</td>\n",
              "    </tr>\n",
              "    <tr>\n",
              "      <th>tp</th>\n",
              "      <td>76.42</td>\n",
              "      <td>76.42</td>\n",
              "      <td>76.36</td>\n",
              "      <td>74.40</td>\n",
              "      <td>47.94</td>\n",
              "      <td>30.24</td>\n",
              "      <td>13.65</td>\n",
              "    </tr>\n",
              "    <tr>\n",
              "      <th>fn</th>\n",
              "      <td>0.07</td>\n",
              "      <td>0.07</td>\n",
              "      <td>0.13</td>\n",
              "      <td>2.09</td>\n",
              "      <td>28.54</td>\n",
              "      <td>46.24</td>\n",
              "      <td>62.83</td>\n",
              "    </tr>\n",
              "    <tr>\n",
              "      <th>fp</th>\n",
              "      <td>23.45</td>\n",
              "      <td>23.45</td>\n",
              "      <td>23.38</td>\n",
              "      <td>21.55</td>\n",
              "      <td>10.71</td>\n",
              "      <td>6.14</td>\n",
              "      <td>2.29</td>\n",
              "    </tr>\n",
              "    <tr>\n",
              "      <th>tn</th>\n",
              "      <td>0.07</td>\n",
              "      <td>0.07</td>\n",
              "      <td>0.13</td>\n",
              "      <td>1.96</td>\n",
              "      <td>12.80</td>\n",
              "      <td>17.37</td>\n",
              "      <td>21.23</td>\n",
              "    </tr>\n",
              "  </tbody>\n",
              "</table>\n",
              "</div>"
            ],
            "text/plain": [
              "              0.30   0.40   0.50   0.60   0.75   0.80   0.85\n",
              "Accuracy     76.49  76.49  76.49  76.36  60.74  47.62  34.88\n",
              "TPR          99.91  99.91  99.83  97.27  62.68  39.54  17.85\n",
              "TNR           0.28   0.28   0.56   8.33  54.44  73.89  90.28\n",
              "FPR          99.72  99.72  99.44  91.67  45.56  26.11   9.72\n",
              "Precision    76.52  76.52  76.56  77.54  81.74  83.12  85.66\n",
              "F-Score      86.67  86.67  86.66  86.29  70.95  53.59  29.54\n",
              "F_0.5-Score  80.28  80.28  80.30  80.81  77.05  68.11  48.67\n",
              "F_2-Score    94.16  94.16  94.11  92.56  65.75  44.17  21.21\n",
              "tp           76.42  76.42  76.36  74.40  47.94  30.24  13.65\n",
              "fn            0.07   0.07   0.13   2.09  28.54  46.24  62.83\n",
              "fp           23.45  23.45  23.38  21.55  10.71   6.14   2.29\n",
              "tn            0.07   0.07   0.13   1.96  12.80  17.37  21.23"
            ]
          },
          "metadata": {
            "tags": []
          },
          "execution_count": 72
        }
      ]
    },
    {
      "cell_type": "markdown",
      "metadata": {
        "id": "vkUq8bL-z221"
      },
      "source": [
        "# F-score\n",
        "\n",
        "$F_{\\beta} = \\frac{1+\\beta^2}{\\frac{1}{precision} + \\frac{\\beta^2}{recall}}$ ,  consider $F_{2}$, $F_{0.5}$ <br><br>\n",
        "$F_2 = \\frac{5}{\\frac{1}{precision} + \\frac{4}{recall}}$,\n",
        "$F_{0.5} = \\frac{1.25}{\\frac{1}{precision} + \\frac{0.25}{recall}} = \\frac{5}{\\frac{4}{precision} + \\frac{1}{recall}}$ <br><br>\n",
        "\n",
        "---\n",
        "\n",
        "let $precision = 1, recall = 0.5$ <br><br>\n",
        "$F_2 = \\frac{5}{9}, F_{0.5} = \\frac{5}{6}$ <br><br>\n",
        "\n",
        "---\n",
        "\n",
        "let $precision = 0.5, recall = 1$ <br><br>\n",
        "$F_2 = \\frac{5}{6}, F_{0.5} = \\frac{5}{9}$ <br><br>\n",
        "\n",
        "---\n",
        "\n",
        "conclusion: <br>&nbsp;&nbsp;&nbsp;&nbsp;\n",
        "if $\\beta > 1$, it's encouraged to improve recall\n",
        "\n",
        "給定 model, 設定不同的 threshold, 取能夠最大化 $F_{\\beta}$ 的 threshold"
      ]
    },
    {
      "cell_type": "code",
      "metadata": {
        "pycharm": {
          "name": "#%%\n"
        },
        "id": "T98lijNQF9Mc",
        "colab": {
          "base_uri": "https://localhost:8080/"
        },
        "outputId": "7f5e15c1-ad97-47ff-dc74-31c45e499140"
      },
      "source": [
        "# V * TP - 4V * FP\n",
        "print(round(47.94 - 4 * 10.71, 3))\n",
        "print(round(30.24 - 4 * 6.14, 3))\n",
        "print(round(13.65 - 4 * 2.29, 3))"
      ],
      "execution_count": null,
      "outputs": [
        {
          "output_type": "stream",
          "text": [
            "5.1\n",
            "5.68\n",
            "4.49\n"
          ],
          "name": "stdout"
        }
      ]
    },
    {
      "cell_type": "code",
      "metadata": {
        "id": "1V55vvoO1ZDd",
        "colab": {
          "base_uri": "https://localhost:8080/"
        },
        "outputId": "3d52faa2-749b-46a9-f137-5c889aa99b4b"
      },
      "source": [
        "round(roc_auc_score(y_test, pipe.predict_proba(X_test)[:, 1]), 3)"
      ],
      "execution_count": null,
      "outputs": [
        {
          "output_type": "execute_result",
          "data": {
            "text/plain": [
              "0.614"
            ]
          },
          "metadata": {
            "tags": []
          },
          "execution_count": 31
        }
      ]
    },
    {
      "cell_type": "code",
      "metadata": {
        "id": "Ag0WFJDpr15Z"
      },
      "source": [
        ""
      ],
      "execution_count": null,
      "outputs": []
    },
    {
      "cell_type": "code",
      "metadata": {
        "id": "yGse_BzxMQA_",
        "colab": {
          "base_uri": "https://localhost:8080/"
        },
        "cellView": "form",
        "outputId": "f7bc2d14-4b7e-4652-f907-991356af7949"
      },
      "source": [
        "#@title add some other features to see if there's any improvement\n",
        "full_df_with_float_col = full_df[[col for col in full_df.columns \n",
        "                                  if (full_df[col].dtype == float) and (col not in new_train_df.columns)]]\n",
        "full_df_with_float_col = full_df_with_float_col.loc[new_train_df.index, :]\n",
        "full_df_with_float_col = full_df_with_float_col.dropna(axis=1, thresh=int(len(full_df_with_float_col))*0.95)\n",
        "\n",
        "orig_addi_df = pd.concat([new_train_df, full_df_with_float_col], axis=1)\n",
        "orig_features = list(new_train_df.drop('loan_status', axis=1).columns)\n",
        "addi_features = list(full_df_with_float_col.columns)\n",
        "print(\"features used above: \", orig_features)\n",
        "print(\"some additional features to choose from:\", addi_features)"
      ],
      "execution_count": null,
      "outputs": [
        {
          "output_type": "stream",
          "text": [
            "features used above:  ['home_ownership', 'annual_inc', 'dti', 'fico_range_low']\n",
            "some additional features to choose from: ['loan_amnt', 'int_rate', 'installment', 'delinq_2yrs', 'fico_range_high', 'inq_last_6mths', 'open_acc', 'pub_rec', 'revol_bal', 'revol_util', 'total_acc', 'last_fico_range_high', 'last_fico_range_low', 'collections_12_mths_ex_med', 'policy_code', 'acc_now_delinq', 'chargeoff_within_12_mths', 'delinq_amnt', 'pub_rec_bankruptcies', 'tax_liens']\n"
          ],
          "name": "stdout"
        }
      ]
    },
    {
      "cell_type": "code",
      "metadata": {
        "id": "jUNkxXVghOmK"
      },
      "source": [
        "orig_features_transformer = SimpleImputer(strategy='median')\n",
        "addi_features_transformer = Pipeline([('imputer', SimpleImputer(strategy='median')),\n",
        "                                      ('feature_selection', SelectKBest(chi2, k=2))])\n",
        "preprocessor = ColumnTransformer(transformers=[('orig', orig_features_transformer, orig_features),\n",
        "                                               ('addi', addi_features_transformer, addi_features)])\n",
        "\n",
        "pipe = Pipeline([('preprocessor', preprocessor),\n",
        "                 ('classifier', LogisticRegression(penalty='none', solver='newton-cg', random_state=3, tol=20))])"
      ],
      "execution_count": null,
      "outputs": []
    },
    {
      "cell_type": "code",
      "metadata": {
        "colab": {
          "base_uri": "https://localhost:8080/",
          "height": 231
        },
        "id": "VB_JksD3lEzu",
        "outputId": "115e3762-096b-41b1-c423-ba9254d62231"
      },
      "source": [
        "x = orig_addi_df.drop('loan_status', axis=1)\n",
        "y = orig_addi_df['loan_status']\n",
        "print(x.shape[1])\n",
        "x_train, x_test, y_train, y_test = train_test_split(x, y, random_state=rs, stratify=y)\n",
        "\n",
        "pipe.fit(x_train, y_train)"
      ],
      "execution_count": null,
      "outputs": [
        {
          "output_type": "stream",
          "text": [
            "24\n"
          ],
          "name": "stdout"
        },
        {
          "output_type": "execute_result",
          "data": {
            "text/html": [
              "<style>div.sk-top-container {color: black;background-color: white;}div.sk-toggleable {background-color: white;}label.sk-toggleable__label {cursor: pointer;display: block;width: 100%;margin-bottom: 0;padding: 0.2em 0.3em;box-sizing: border-box;text-align: center;}div.sk-toggleable__content {max-height: 0;max-width: 0;overflow: hidden;text-align: left;background-color: #f0f8ff;}div.sk-toggleable__content pre {margin: 0.2em;color: black;border-radius: 0.25em;background-color: #f0f8ff;}input.sk-toggleable__control:checked~div.sk-toggleable__content {max-height: 200px;max-width: 100%;overflow: auto;}div.sk-estimator input.sk-toggleable__control:checked~label.sk-toggleable__label {background-color: #d4ebff;}div.sk-label input.sk-toggleable__control:checked~label.sk-toggleable__label {background-color: #d4ebff;}input.sk-hidden--visually {border: 0;clip: rect(1px 1px 1px 1px);clip: rect(1px, 1px, 1px, 1px);height: 1px;margin: -1px;overflow: hidden;padding: 0;position: absolute;width: 1px;}div.sk-estimator {font-family: monospace;background-color: #f0f8ff;margin: 0.25em 0.25em;border: 1px dotted black;border-radius: 0.25em;box-sizing: border-box;}div.sk-estimator:hover {background-color: #d4ebff;}div.sk-parallel-item::after {content: \"\";width: 100%;border-bottom: 1px solid gray;flex-grow: 1;}div.sk-label:hover label.sk-toggleable__label {background-color: #d4ebff;}div.sk-serial::before {content: \"\";position: absolute;border-left: 1px solid gray;box-sizing: border-box;top: 2em;bottom: 0;left: 50%;}div.sk-serial {display: flex;flex-direction: column;align-items: center;background-color: white;}div.sk-item {z-index: 1;}div.sk-parallel {display: flex;align-items: stretch;justify-content: center;background-color: white;}div.sk-parallel-item {display: flex;flex-direction: column;position: relative;background-color: white;}div.sk-parallel-item:first-child::after {align-self: flex-end;width: 50%;}div.sk-parallel-item:last-child::after {align-self: flex-start;width: 50%;}div.sk-parallel-item:only-child::after {width: 0;}div.sk-dashed-wrapped {border: 1px dashed gray;margin: 0.2em;box-sizing: border-box;padding-bottom: 0.1em;background-color: white;position: relative;}div.sk-label label {font-family: monospace;font-weight: bold;background-color: white;display: inline-block;line-height: 1.2em;}div.sk-label-container {position: relative;z-index: 2;text-align: center;}div.sk-container {display: inline-block;position: relative;}</style><div class=\"sk-top-container\"><div class=\"sk-container\"><div class=\"sk-item sk-dashed-wrapped\"><div class=\"sk-label-container\"><div class=\"sk-label sk-toggleable\"><input class=\"sk-toggleable__control sk-hidden--visually\" id=\"a18c46fd-e553-4a55-9026-5678793e6fad\" type=\"checkbox\" ><label class=\"sk-toggleable__label\" for=\"a18c46fd-e553-4a55-9026-5678793e6fad\">Pipeline</label><div class=\"sk-toggleable__content\"><pre>Pipeline(steps=[('preprocessor',\n",
              "                 ColumnTransformer(transformers=[('orig',\n",
              "                                                  SimpleImputer(strategy='median'),\n",
              "                                                  ['home_ownership',\n",
              "                                                   'annual_inc', 'dti',\n",
              "                                                   'fico_range_low']),\n",
              "                                                 ('addi',\n",
              "                                                  Pipeline(steps=[('imputer',\n",
              "                                                                   SimpleImputer(strategy='median')),\n",
              "                                                                  ('feature_selection',\n",
              "                                                                   SelectKBest(k=2,\n",
              "                                                                               score_func=<function chi2 at 0x7fc6eb6d4170>))]),\n",
              "                                                  ['loan_amnt', 'int_rate',\n",
              "                                                   'installment'...\n",
              "                                                   'inq_last_6mths', 'open_acc',\n",
              "                                                   'pub_rec', 'revol_bal',\n",
              "                                                   'revol_util', 'total_acc',\n",
              "                                                   'last_fico_range_high',\n",
              "                                                   'last_fico_range_low',\n",
              "                                                   'collections_12_mths_ex_med',\n",
              "                                                   'policy_code',\n",
              "                                                   'acc_now_delinq',\n",
              "                                                   'chargeoff_within_12_mths',\n",
              "                                                   'delinq_amnt',\n",
              "                                                   'pub_rec_bankruptcies',\n",
              "                                                   'tax_liens'])])),\n",
              "                ('classifier',\n",
              "                 LogisticRegression(penalty='none', random_state=3,\n",
              "                                    solver='newton-cg', tol=20))])</pre></div></div></div><div class=\"sk-serial\"><div class=\"sk-item sk-dashed-wrapped\"><div class=\"sk-label-container\"><div class=\"sk-label sk-toggleable\"><input class=\"sk-toggleable__control sk-hidden--visually\" id=\"0c1e4059-d412-462a-8667-2467d7b0f54a\" type=\"checkbox\" ><label class=\"sk-toggleable__label\" for=\"0c1e4059-d412-462a-8667-2467d7b0f54a\">preprocessor: ColumnTransformer</label><div class=\"sk-toggleable__content\"><pre>ColumnTransformer(transformers=[('orig', SimpleImputer(strategy='median'),\n",
              "                                 ['home_ownership', 'annual_inc', 'dti',\n",
              "                                  'fico_range_low']),\n",
              "                                ('addi',\n",
              "                                 Pipeline(steps=[('imputer',\n",
              "                                                  SimpleImputer(strategy='median')),\n",
              "                                                 ('feature_selection',\n",
              "                                                  SelectKBest(k=2,\n",
              "                                                              score_func=<function chi2 at 0x7fc6eb6d4170>))]),\n",
              "                                 ['loan_amnt', 'int_rate', 'installment',\n",
              "                                  'delinq_2yrs', 'fico_range_high',\n",
              "                                  'inq_last_6mths', 'open_acc', 'pub_rec',\n",
              "                                  'revol_bal', 'revol_util', 'total_acc',\n",
              "                                  'last_fico_range_high', 'last_fico_range_low',\n",
              "                                  'collections_12_mths_ex_med', 'policy_code',\n",
              "                                  'acc_now_delinq', 'chargeoff_within_12_mths',\n",
              "                                  'delinq_amnt', 'pub_rec_bankruptcies',\n",
              "                                  'tax_liens'])])</pre></div></div></div><div class=\"sk-parallel\"><div class=\"sk-parallel-item\"><div class=\"sk-item\"><div class=\"sk-label-container\"><div class=\"sk-label sk-toggleable\"><input class=\"sk-toggleable__control sk-hidden--visually\" id=\"0dd4a244-8d3e-492d-841b-987f64adca87\" type=\"checkbox\" ><label class=\"sk-toggleable__label\" for=\"0dd4a244-8d3e-492d-841b-987f64adca87\">orig</label><div class=\"sk-toggleable__content\"><pre>['home_ownership', 'annual_inc', 'dti', 'fico_range_low']</pre></div></div></div><div class=\"sk-serial\"><div class=\"sk-item\"><div class=\"sk-estimator sk-toggleable\"><input class=\"sk-toggleable__control sk-hidden--visually\" id=\"5895e2ce-d7ad-4374-ba4b-535700c290b1\" type=\"checkbox\" ><label class=\"sk-toggleable__label\" for=\"5895e2ce-d7ad-4374-ba4b-535700c290b1\">SimpleImputer</label><div class=\"sk-toggleable__content\"><pre>SimpleImputer(strategy='median')</pre></div></div></div></div></div></div><div class=\"sk-parallel-item\"><div class=\"sk-item\"><div class=\"sk-label-container\"><div class=\"sk-label sk-toggleable\"><input class=\"sk-toggleable__control sk-hidden--visually\" id=\"cfc250a3-8ac7-42f3-bc02-d3257e9e829f\" type=\"checkbox\" ><label class=\"sk-toggleable__label\" for=\"cfc250a3-8ac7-42f3-bc02-d3257e9e829f\">addi</label><div class=\"sk-toggleable__content\"><pre>['loan_amnt', 'int_rate', 'installment', 'delinq_2yrs', 'fico_range_high', 'inq_last_6mths', 'open_acc', 'pub_rec', 'revol_bal', 'revol_util', 'total_acc', 'last_fico_range_high', 'last_fico_range_low', 'collections_12_mths_ex_med', 'policy_code', 'acc_now_delinq', 'chargeoff_within_12_mths', 'delinq_amnt', 'pub_rec_bankruptcies', 'tax_liens']</pre></div></div></div><div class=\"sk-serial\"><div class=\"sk-item\"><div class=\"sk-serial\"><div class=\"sk-item\"><div class=\"sk-estimator sk-toggleable\"><input class=\"sk-toggleable__control sk-hidden--visually\" id=\"ae0a1c62-45b9-4e33-b98a-2667b9a21813\" type=\"checkbox\" ><label class=\"sk-toggleable__label\" for=\"ae0a1c62-45b9-4e33-b98a-2667b9a21813\">SimpleImputer</label><div class=\"sk-toggleable__content\"><pre>SimpleImputer(strategy='median')</pre></div></div></div><div class=\"sk-item\"><div class=\"sk-estimator sk-toggleable\"><input class=\"sk-toggleable__control sk-hidden--visually\" id=\"cec37f12-b5c4-41ae-98e6-f3d302f7b239\" type=\"checkbox\" ><label class=\"sk-toggleable__label\" for=\"cec37f12-b5c4-41ae-98e6-f3d302f7b239\">SelectKBest</label><div class=\"sk-toggleable__content\"><pre>SelectKBest(k=2, score_func=<function chi2 at 0x7fc6eb6d4170>)</pre></div></div></div></div></div></div></div></div></div></div><div class=\"sk-item\"><div class=\"sk-estimator sk-toggleable\"><input class=\"sk-toggleable__control sk-hidden--visually\" id=\"34c25099-f41c-402e-ae40-0fd82dec8919\" type=\"checkbox\" ><label class=\"sk-toggleable__label\" for=\"34c25099-f41c-402e-ae40-0fd82dec8919\">LogisticRegression</label><div class=\"sk-toggleable__content\"><pre>LogisticRegression(penalty='none', random_state=3, solver='newton-cg', tol=20)</pre></div></div></div></div></div></div></div>"
            ],
            "text/plain": [
              "Pipeline(steps=[('preprocessor',\n",
              "                 ColumnTransformer(transformers=[('orig',\n",
              "                                                  SimpleImputer(strategy='median'),\n",
              "                                                  ['home_ownership',\n",
              "                                                   'annual_inc', 'dti',\n",
              "                                                   'fico_range_low']),\n",
              "                                                 ('addi',\n",
              "                                                  Pipeline(steps=[('imputer',\n",
              "                                                                   SimpleImputer(strategy='median')),\n",
              "                                                                  ('feature_selection',\n",
              "                                                                   SelectKBest(k=2,\n",
              "                                                                               score_func=<function chi2 at 0x7fc6eb6d4170>))]),\n",
              "                                                  ['loan_amnt', 'int_rate',\n",
              "                                                   'installment'...\n",
              "                                                   'inq_last_6mths', 'open_acc',\n",
              "                                                   'pub_rec', 'revol_bal',\n",
              "                                                   'revol_util', 'total_acc',\n",
              "                                                   'last_fico_range_high',\n",
              "                                                   'last_fico_range_low',\n",
              "                                                   'collections_12_mths_ex_med',\n",
              "                                                   'policy_code',\n",
              "                                                   'acc_now_delinq',\n",
              "                                                   'chargeoff_within_12_mths',\n",
              "                                                   'delinq_amnt',\n",
              "                                                   'pub_rec_bankruptcies',\n",
              "                                                   'tax_liens'])])),\n",
              "                ('classifier',\n",
              "                 LogisticRegression(penalty='none', random_state=3,\n",
              "                                    solver='newton-cg', tol=20))])"
            ]
          },
          "metadata": {
            "tags": []
          },
          "execution_count": 52
        }
      ]
    },
    {
      "cell_type": "code",
      "metadata": {
        "colab": {
          "base_uri": "https://localhost:8080/"
        },
        "cellView": "form",
        "id": "bUJ0w9fw1XBo",
        "outputId": "eb70b8c1-42b3-4e11-bbdb-bb54b63e42bc"
      },
      "source": [
        "#@title addi features selected by \"SelectKBest\" Algorithm\n",
        "feature_selected_idx = pipe.named_steps['preprocessor']\\\n",
        "                           .named_transformers_['addi']\\\n",
        "                           .named_steps['feature_selection']\\\n",
        "                           .get_support(True)\n",
        "selected_features = list(np.array(addi_features)[feature_selected_idx])\n",
        "selected_features"
      ],
      "execution_count": null,
      "outputs": [
        {
          "output_type": "execute_result",
          "data": {
            "text/plain": [
              "['loan_amnt', 'last_fico_range_low']"
            ]
          },
          "metadata": {
            "tags": []
          },
          "execution_count": 58
        }
      ]
    },
    {
      "cell_type": "code",
      "metadata": {
        "colab": {
          "base_uri": "https://localhost:8080/",
          "height": 452
        },
        "id": "TBQAQXQJpYUy",
        "outputId": "ad09ee49-33fa-4e79-cb6e-00dc50587396"
      },
      "source": [
        "classifier_measurement_under_threshs(y_test, pipe.predict_proba(x_test), [0.75, 0.80, 0.85])"
      ],
      "execution_count": null,
      "outputs": [
        {
          "output_type": "stream",
          "text": [
            "0.928\n"
          ],
          "name": "stdout"
        },
        {
          "output_type": "execute_result",
          "data": {
            "text/html": [
              "<div>\n",
              "<style scoped>\n",
              "    .dataframe tbody tr th:only-of-type {\n",
              "        vertical-align: middle;\n",
              "    }\n",
              "\n",
              "    .dataframe tbody tr th {\n",
              "        vertical-align: top;\n",
              "    }\n",
              "\n",
              "    .dataframe thead th {\n",
              "        text-align: right;\n",
              "    }\n",
              "</style>\n",
              "<table border=\"1\" class=\"dataframe\">\n",
              "  <thead>\n",
              "    <tr style=\"text-align: right;\">\n",
              "      <th></th>\n",
              "      <th>0.75</th>\n",
              "      <th>0.80</th>\n",
              "      <th>0.85</th>\n",
              "    </tr>\n",
              "  </thead>\n",
              "  <tbody>\n",
              "    <tr>\n",
              "      <th>Accuracy</th>\n",
              "      <td>87.66</td>\n",
              "      <td>86.22</td>\n",
              "      <td>83.41</td>\n",
              "    </tr>\n",
              "    <tr>\n",
              "      <th>TPR</th>\n",
              "      <td>88.13</td>\n",
              "      <td>84.88</td>\n",
              "      <td>80.61</td>\n",
              "    </tr>\n",
              "    <tr>\n",
              "      <th>TNR</th>\n",
              "      <td>86.11</td>\n",
              "      <td>90.56</td>\n",
              "      <td>92.50</td>\n",
              "    </tr>\n",
              "    <tr>\n",
              "      <th>FPR</th>\n",
              "      <td>13.89</td>\n",
              "      <td>9.44</td>\n",
              "      <td>7.50</td>\n",
              "    </tr>\n",
              "    <tr>\n",
              "      <th>Precision</th>\n",
              "      <td>95.38</td>\n",
              "      <td>96.69</td>\n",
              "      <td>97.22</td>\n",
              "    </tr>\n",
              "    <tr>\n",
              "      <th>F-Score</th>\n",
              "      <td>91.61</td>\n",
              "      <td>90.40</td>\n",
              "      <td>88.14</td>\n",
              "    </tr>\n",
              "    <tr>\n",
              "      <th>F_0.5-Score</th>\n",
              "      <td>93.84</td>\n",
              "      <td>94.08</td>\n",
              "      <td>93.37</td>\n",
              "    </tr>\n",
              "    <tr>\n",
              "      <th>F_2-Score</th>\n",
              "      <td>89.49</td>\n",
              "      <td>87.01</td>\n",
              "      <td>83.47</td>\n",
              "    </tr>\n",
              "    <tr>\n",
              "      <th>tp</th>\n",
              "      <td>67.41</td>\n",
              "      <td>64.92</td>\n",
              "      <td>61.66</td>\n",
              "    </tr>\n",
              "    <tr>\n",
              "      <th>fn</th>\n",
              "      <td>9.08</td>\n",
              "      <td>11.56</td>\n",
              "      <td>14.83</td>\n",
              "    </tr>\n",
              "    <tr>\n",
              "      <th>fp</th>\n",
              "      <td>3.27</td>\n",
              "      <td>2.22</td>\n",
              "      <td>1.76</td>\n",
              "    </tr>\n",
              "    <tr>\n",
              "      <th>tn</th>\n",
              "      <td>20.25</td>\n",
              "      <td>21.29</td>\n",
              "      <td>21.75</td>\n",
              "    </tr>\n",
              "  </tbody>\n",
              "</table>\n",
              "</div>"
            ],
            "text/plain": [
              "              0.75   0.80   0.85\n",
              "Accuracy     87.66  86.22  83.41\n",
              "TPR          88.13  84.88  80.61\n",
              "TNR          86.11  90.56  92.50\n",
              "FPR          13.89   9.44   7.50\n",
              "Precision    95.38  96.69  97.22\n",
              "F-Score      91.61  90.40  88.14\n",
              "F_0.5-Score  93.84  94.08  93.37\n",
              "F_2-Score    89.49  87.01  83.47\n",
              "tp           67.41  64.92  61.66\n",
              "fn            9.08  11.56  14.83\n",
              "fp            3.27   2.22   1.76\n",
              "tn           20.25  21.29  21.75"
            ]
          },
          "metadata": {
            "tags": []
          },
          "execution_count": 61
        }
      ]
    },
    {
      "cell_type": "code",
      "metadata": {
        "pycharm": {
          "name": "#%%\n"
        },
        "id": "g1M6ksZcF9Md",
        "colab": {
          "base_uri": "https://localhost:8080/"
        },
        "outputId": "6c2f93b5-0b2f-4573-df10-bbb3b093b46e"
      },
      "source": [
        "# V * TP - 4V * FP\n",
        "print(round(67.41 - 4 * 3.27, 3))\n",
        "print(round(64.92 - 4 * 2.22, 3))\n",
        "print(round(61.66 - 4 * 1.76, 3))"
      ],
      "execution_count": null,
      "outputs": [
        {
          "output_type": "stream",
          "text": [
            "54.33\n",
            "56.04\n",
            "54.62\n"
          ],
          "name": "stdout"
        }
      ]
    },
    {
      "cell_type": "code",
      "metadata": {
        "colab": {
          "base_uri": "https://localhost:8080/"
        },
        "id": "O1Nx3b-w2p7m",
        "outputId": "a98001a7-07a2-463e-9c91-53af258c34cd"
      },
      "source": [
        "print(round(roc_auc_score(y_test, pipe.predict_proba(x_test)[:, 1]), 3))"
      ],
      "execution_count": null,
      "outputs": [
        {
          "output_type": "stream",
          "text": [
            "0.928\n"
          ],
          "name": "stdout"
        }
      ]
    },
    {
      "cell_type": "code",
      "metadata": {
        "id": "TzF9f1JL2w8u"
      },
      "source": [
        ""
      ],
      "execution_count": null,
      "outputs": []
    }
  ]
}