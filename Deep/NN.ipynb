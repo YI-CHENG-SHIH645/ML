{
  "nbformat": 4,
  "nbformat_minor": 0,
  "metadata": {
    "colab": {
      "name": "Neural_Net.ipynb",
      "provenance": [],
      "collapsed_sections": [],
      "authorship_tag": "ABX9TyPL9YoM3XyiavjUE1DTEfoR",
      "include_colab_link": true
    },
    "kernelspec": {
      "name": "python3",
      "display_name": "Python 3"
    },
    "language_info": {
      "name": "python"
    },
    "accelerator": "GPU"
  },
  "cells": [
    {
      "cell_type": "markdown",
      "metadata": {
        "id": "view-in-github",
        "colab_type": "text"
      },
      "source": [
        "<a href=\"https://colab.research.google.com/github/YI-CHENG-SHIH645/ML-in-Business_practice/blob/master/Deep/NN.ipynb\" target=\"_parent\"><img src=\"https://colab.research.google.com/assets/colab-badge.svg\" alt=\"Open In Colab\"/></a>"
      ]
    },
    {
      "cell_type": "code",
      "metadata": {
        "id": "DYVFlU9_Z1RU",
        "cellView": "form"
      },
      "source": [
        "#@title Imports\n",
        "!wget -O \"utils.py\" \"https://github.com/YI-CHENG-SHIH645/ML-in-Business_practice/raw/master/utils.py\"\n",
        "\n",
        "# some utils written by myself\n",
        "from utils import DataLoader, \\\n",
        "                  display_side_by_side\n",
        "\n",
        "# visulization tools\n",
        "import matplotlib.pyplot as plt\n",
        "import seaborn as sns\n",
        "\n",
        "# 3rd party libraries\n",
        "import numpy as np\n",
        "import pandas as pd\n",
        "import tensorflow as tf\n",
        "\n",
        "from sklearn.cluster import KMeans\n",
        "from sklearn.model_selection import train_test_split\n",
        "from sklearn.metrics import mean_squared_error\n",
        "from scipy import stats\n",
        "\n",
        "# ---------------- chapter specific -------------------\n",
        "\n",
        "from tensorflow.keras import datasets,\\\n",
        "                             Input,\\\n",
        "                             Model\n",
        "\n",
        "# ANN\n",
        "from tensorflow.keras.layers import Dense\n",
        "\n",
        "# CNN\n",
        "from tensorflow.keras.layers import Conv2D, \\\n",
        "                                    MaxPool2D\n",
        "\n",
        "# RNN\n",
        "from tensorflow.keras.layers import SimpleRNN, \\\n",
        "                                    LSTM, \\\n",
        "                                    Bidirectional"
      ],
      "execution_count": null,
      "outputs": []
    },
    {
      "cell_type": "code",
      "metadata": {
        "id": "jd2zHk2Ic2g2",
        "cellView": "form"
      },
      "source": [
        "#@title functions\n",
        "\n",
        "def fetch_iowa():\n",
        "    cols = ['LotArea', 'OverallQual', 'OverallCond', 'SalePrice']\n",
        "    data = DataLoader.load_data('iowa_original')[cols].values\n",
        "    x, y = data[:, :3], data[:, -1]\n",
        "    x_train, x_test, y_train, y_test = train_test_split(x, y, test_size=0.33)\n",
        "\n",
        "    return (x_train, x_test), (y_train, y_test)\n",
        "\n",
        "\n",
        "def stdize(x_train, x_test):\n",
        "    mu, sigma = x_train.mean(0), x_train.std(0)\n",
        "\n",
        "    return (x_train - mu) / sigma, (x_test - mu) / sigma\n",
        "\n",
        "\n",
        "def normal_equation(feature_matrix, target_values):\n",
        "    A, b = feature_matrix, target_values\n",
        "\n",
        "    # normal_eq\n",
        "    weights = np.linalg.inv(A.T @ A) @ A.T @ b\n",
        "\n",
        "    return weights\n",
        "\n",
        "\n",
        "class SingleLayerModel(Model):\n",
        "    def __init__(self):\n",
        "        super(SingleLayerModel, self).__init__()\n",
        "        self.d1 = Dense(3, activation='relu')\n",
        "        self.d2 = Dense(1, activation='linear')\n",
        "\n",
        "    def call(self, inputs, training=None, mask=None):\n",
        "        x = self.d1(inputs)\n",
        "        return self.d2(x)\n",
        "\n",
        "    def get_config(self):\n",
        "        pass\n",
        "\n",
        "\n",
        "class MultiLayerModel(Model):\n",
        "    def __init__(self):\n",
        "        super(MultiLayerModel, self).__init__()\n",
        "        self.d1 = Dense(128, activation='relu')\n",
        "        self.d2 = Dense(64, activation='relu')\n",
        "        self.d3 = Dense(1, activation='linear')\n",
        "\n",
        "    def call(self, inputs, training=None, mask=None):\n",
        "        x = self.d1(inputs)\n",
        "        x = self.d2(x)\n",
        "        return self.d3(x)\n",
        "\n",
        "    def get_config(self):\n",
        "        pass\n",
        "\n",
        "\n",
        "def train_step(x, y, model, loss_object, optimizer):\n",
        "    with tf.GradientTape() as tape:\n",
        "        y_pred = model(x)\n",
        "        loss = loss_object(y, y_pred)\n",
        "    gradients = tape.gradient(loss, model.trainable_variables)\n",
        "    optimizer.apply_gradients(zip(gradients, model.trainable_variables))\n",
        "\n",
        "    return loss\n",
        "\n",
        "\n",
        "def test_step(x, y, model, loss_object):\n",
        "    y_pred = model(x)\n",
        "    t_loss = loss_object(y, y_pred)\n",
        "\n",
        "    return t_loss"
      ],
      "execution_count": 3,
      "outputs": []
    },
    {
      "cell_type": "markdown",
      "metadata": {
        "id": "T_bvqQ1Z9f_i"
      },
      "source": [
        "# Linear Regression\n",
        "\n",
        "不論 NN 要疊幾層 \\\\\n",
        "先看 final layer \\\\\n",
        "其實是我們熟悉的 Linear Regression \\\\\n",
        "以 Linear Regression 來說，幾個 input feature \\\\\n",
        "final layer 就有幾個 neuron (圈圈)"
      ]
    },
    {
      "cell_type": "code",
      "metadata": {
        "id": "S8cA4_PsDtj5",
        "colab": {
          "base_uri": "https://localhost:8080/"
        },
        "outputId": "264f4cfc-4780-4207-dd43-6df804c2f85c"
      },
      "source": [
        "#@title 這是 linear regression 能做到最低的 mse\n",
        "(x_train, x_test), (y_train, y_test) = fetch_iowa()\n",
        "A_train = np.c_[x_train, np.ones(len(x_train))]\n",
        "A_test = np.c_[x_test, np.ones(len(x_test))]\n",
        "best_params = normal_equation(A_train, y_train)\n",
        "pred = (A_train @ best_params).astype(int)\n",
        "\n",
        "print(\"predictions: \", pred[:5])\n",
        "print(\"true:        \", y_train[:5])\n",
        "\n",
        "print(f\"train mse: {mean_squared_error(y_train, pred):.2E}\")\n",
        "print(f\"test mse: {mean_squared_error(y_test, (A_test @ best_params).astype(int)):.2E}\")"
      ],
      "execution_count": 4,
      "outputs": [
        {
          "output_type": "stream",
          "text": [
            "predictions:  [316998 176005 263666  93151  87184]\n",
            "true:         [457347 169000 221800  80000  79275]\n",
            "train mse: 1.87E+09\n",
            "test mse: 1.93E+09\n"
          ],
          "name": "stdout"
        }
      ]
    },
    {
      "cell_type": "markdown",
      "metadata": {
        "id": "mqUfAlLCCAjK"
      },
      "source": [
        "# 看看 Neural Net 可以達到什麼樣的 mse <br>\n",
        "\n",
        "基於 Linear Regression \\\\\n",
        "在其前疊幾層 layer \\\\\n",
        "關鍵在於 output 至每個 neuron 前 \\\\\n",
        "加上 activation function \\\\\n",
        "才能使 feature 被 \"非線性地\" 轉換到不同維度的空間中 \\\\\n",
        "為了要能夠 approximate 到很複雜的 function \\\\\n",
        "layer 多 => 能夠有效地提高複雜程度 \\\\\n",
        "有效：同樣複雜度，單層需要更多的 neuron"
      ]
    },
    {
      "cell_type": "code",
      "metadata": {
        "id": "QlqNJawm3Cd1"
      },
      "source": [
        "# 使用 x_train 的 mu, std 來標準化 x_train, x_test\n",
        "x_train_stdized, x_test_stdized = stdize(x_train, x_test)\n",
        "train_ds = tf.data.Dataset.from_tensor_slices((x_train_stdized, y_train)).shuffle(10000).batch(32)\n",
        "test_ds = tf.data.Dataset.from_tensor_slices((x_test_stdized, y_test)).batch(32)\n",
        "\n",
        "# 用以累計每個 epoch 中， minibatch 所算的 loss\n",
        "train_loss = tf.keras.metrics.Sum('train_loss')\n",
        "test_loss = tf.keras.metrics.Sum('test_loss')\n",
        "\n",
        "# 使用的 loss function\n",
        "loss_object = tf.keras.losses.MeanSquaredError()\n",
        "\n",
        "# 拿到每個參數的偏微值後，以什麼方式去更新參數\n",
        "optimizer = tf.keras.optimizers.Adam(learning_rate=.01)\n",
        "model = MultiLayerModel()\n",
        "\n",
        "# 記錄下每個 epoch 的 loss\n",
        "train_history = []\n",
        "test_history = []\n",
        "for epoch in range(10):\n",
        "    # 歸零累計值\n",
        "    train_loss.reset_states()\n",
        "    test_loss.reset_states()\n",
        "\n",
        "    for x, y in train_ds:\n",
        "        # 以 data (x, y)，loss_object 來衡量 model 目前的預測能力，\n",
        "        # 得知每一個參數該往哪個方向調整會讓預測結果更精準 (auto diff)\n",
        "        # 以 optimizer 決定除了方向外，要改動的值大小，且實際改動，回報改善後 loss 值\n",
        "        loss = train_step(x, y, model, loss_object, optimizer)\n",
        "        train_loss(loss * len(y)) # squared error\n",
        "    \n",
        "    for x, y in test_ds:\n",
        "        t_loss = test_step(x, y, model, loss_object)\n",
        "        test_loss(t_loss * len(y)) # squared error\n",
        "\n",
        "    train_history.append(train_loss.result()/len(x_train))\n",
        "    test_history.append(test_loss.result()/len(x_test))"
      ],
      "execution_count": 5,
      "outputs": []
    },
    {
      "cell_type": "code",
      "metadata": {
        "colab": {
          "base_uri": "https://localhost:8080/",
          "height": 331
        },
        "id": "GNP9e-NtyLn1",
        "outputId": "44806171-7b2d-4fa6-9f51-bc27b1082f37"
      },
      "source": [
        "plt.plot(train_history)\n",
        "plt.plot(test_history)\n",
        "plt.legend(['train', 'test'])\n",
        "plt.show()\n",
        "print(f\"train_mse: {train_history[-1]:.2E}\")\n",
        "print(f\"test_mse: {test_history[-1]:.2E}\")"
      ],
      "execution_count": 6,
      "outputs": [
        {
          "output_type": "display_data",
          "data": {
            "image/png": "[encoded data removed]",
            "text/plain": [
              "<Figure size 432x288 with 1 Axes>"
            ]
          },
          "metadata": {
            "tags": [],
            "needs_background": "light"
          }
        },
        {
          "output_type": "stream",
          "text": [
            "train_mse: 1.76E+09\n",
            "test_mse: 1.71E+09\n"
          ],
          "name": "stdout"
        }
      ]
    },
    {
      "cell_type": "code",
      "metadata": {
        "colab": {
          "base_uri": "https://localhost:8080/"
        },
        "id": "3zIDXNhsWqEL",
        "outputId": "475c9990-d512-4369-9e74-6dd8c567fe4e"
      },
      "source": [
        "pred = model(x_test_stdized).numpy().ravel().astype(int)\n",
        "print(pred[:5])\n",
        "print(y_test[:5])"
      ],
      "execution_count": 7,
      "outputs": [
        {
          "output_type": "stream",
          "text": [
            "[155567 219550 126259 248352 121933]\n",
            "[176000 252000 135000 299800 153500]\n"
          ],
          "name": "stdout"
        }
      ]
    },
    {
      "cell_type": "markdown",
      "metadata": {
        "id": "tXvQ4UxyOS6Q"
      },
      "source": [
        "Q：如果使用 polynomial regression，不是也能夠更進一步降低 mse 嗎？ 那它算不算非線性？ \\\\\n",
        "節錄自 wiki： \\\\\n",
        "    Although polynomial regression fits a nonlinear model to the data, as a statistical estimation problem it is linear, in the sense that the regression function E(y | x) is linear in the unknown parameters that are estimated from the data."
      ]
    },
    {
      "cell_type": "code",
      "metadata": {
        "id": "-MFY1R-rSlxI"
      },
      "source": [
        ""
      ],
      "execution_count": 7,
      "outputs": []
    },
    {
      "cell_type": "markdown",
      "metadata": {
        "id": "P8H0Nz1i3ABx"
      },
      "source": [
        "# 三個重點\n",
        "\n",
        "*   如何計算出 output -> current predictions\n",
        "*   Automatic Diffentiation(AD) -> get gradients\n",
        "*   如何使用 gradients 提高模型準度 -> gradient descent methods\n",
        "\n"
      ]
    },
    {
      "cell_type": "code",
      "metadata": {
        "colab": {
          "base_uri": "https://localhost:8080/",
          "height": 1000
        },
        "id": "XT8yY4En8Q6m",
        "outputId": "e96ecaad-46a6-48d3-8791-360720990c1e"
      },
      "source": [
        "eta = 1e-3\n",
        "optimizer = tf.keras.optimizers.SGD(learning_rate=eta)\n",
        "\n",
        "tf.random.set_seed(3)\n",
        "model = SingleLayerModel()\n",
        "\n",
        "def train_step_with_details(x, y):\n",
        "    with tf.GradientTape() as tape:\n",
        "        y_pred = model(x)\n",
        "        loss = loss_object(y, y_pred)\n",
        "    gradients = tape.gradient(loss, model.trainable_variables)\n",
        "    \n",
        "    print(\"gradients（由自動微分獲得）:\")\n",
        "    layer1_g = np.r_[gradients[0].numpy(), gradients[1].numpy().reshape(1, -1)]\n",
        "    layer2_g = np.r_[gradients[2].numpy(), gradients[3].numpy().reshape(1, -1)]\n",
        "    layer1_g_info = pd.DataFrame(layer1_g,\n",
        "                                 columns=['next_neuron_1', 'next_neuron_2', 'next_neuron_3'],\n",
        "                                 index=['neuron_1', 'neuron_2', 'bias'])\n",
        "    layer2_g_info = pd.DataFrame(layer2_g,\n",
        "                                 columns=['next_neuron_1'],\n",
        "                                 index=['neuron_1', 'neuron_2', 'neuron_3', 'bias'])\n",
        "    display_side_by_side([layer1_g_info, layer2_g_info], ['layer_1', 'layer_2'])\n",
        "    print()\n",
        "    \n",
        "    layer1_init_weights = np.r_[model.weights[0].numpy(), model.weights[1].numpy().reshape(1, -1)]\n",
        "    layer2_init_weights = np.r_[model.weights[2].numpy(), model.weights[3].numpy().reshape(1, -1)]\n",
        "    print(\"original weights:\")\n",
        "    layer1_w_info = pd.DataFrame(layer1_init_weights,\n",
        "                                 columns=['next_neuron_1', 'next_neuron_2', 'next_neuron_3'],\n",
        "                                 index=['neuron_1', 'neuron_2', 'bias'])\n",
        "    layer2_w_info = pd.DataFrame(layer2_init_weights,\n",
        "                                 columns=['next_neuron_1'],\n",
        "                                 index=['neuron_1', 'neuron_2', 'neuron_3', 'bias'])\n",
        "    display_side_by_side([layer1_w_info, layer2_w_info], ['layer_1', 'layer_2'])\n",
        "    print()\n",
        "\n",
        "    optimizer.apply_gradients(zip(gradients, model.trainable_variables))\n",
        "\n",
        "    print(\"modified weights:\")\n",
        "    layer1_modified_w = np.r_[model.weights[0].numpy(), model.weights[1].numpy().reshape(1, -1)]\n",
        "    layer2_modified_w = np.r_[model.weights[2].numpy(), model.weights[3].numpy().reshape(1, -1)]\n",
        "    layer1_w_info = pd.DataFrame(layer1_modified_w,\n",
        "                                 columns=['next_neuron_1', 'next_neuron_2', 'next_neuron_3'],\n",
        "                                 index=['neuron_1', 'neuron_2', 'bias'])\n",
        "    layer2_w_info = pd.DataFrame(layer2_modified_w,\n",
        "                                 columns=['next_neuron_1'],\n",
        "                                 index=['neuron_1', 'neuron_2', 'neuron_3', 'bias'])\n",
        "    display_side_by_side([layer1_w_info, layer2_w_info], ['layer_1', 'layer_2'])\n",
        "    print()\n",
        "\n",
        "    print(\"layer 1 all close? \", np.allclose(layer1_modified_w, layer1_init_weights - eta * layer1_g))\n",
        "    print(\"layer 2 all close? \", np.allclose(layer2_modified_w, layer2_init_weights - eta * layer2_g))\n",
        "    print()\n",
        "\n",
        "    print(\"original output:\\n\", y_pred, '\\n')\n",
        "    print(\"improved output:\\n\", model(x), '\\n')\n",
        "    print(\"y true\", y, '\\n')\n",
        "\n",
        "    return layer1_init_weights, layer2_init_weights, y_pred\n",
        "\n",
        "train_ds = tf.data.Dataset.from_tensor_slices((x_train_stdized[:, :2], y_train)).shuffle(10000).batch(1)\n",
        "first_data = list(train_ds.take(1))[0]\n",
        "first_data_x = first_data[0].numpy()\n",
        "first_data_y = first_data[1].numpy()\n",
        "print(\"input:\")\n",
        "display(pd.DataFrame(first_data_x, columns=['LotArea', 'OverallQual'], index=['first_data']))\n",
        "print('\\n')\n",
        "layer1_init_weights, layer2_init_weights, y_pred = \\\n",
        "            train_step_with_details(first_data_x, first_data_y)"
      ],
      "execution_count": 8,
      "outputs": [
        {
          "output_type": "stream",
          "text": [
            "input:\n"
          ],
          "name": "stdout"
        },
        {
          "output_type": "display_data",
          "data": {
            "text/html": [
              "<div>\n",
              "<style scoped>\n",
              "    .dataframe tbody tr th:only-of-type {\n",
              "        vertical-align: middle;\n",
              "    }\n",
              "\n",
              "    .dataframe tbody tr th {\n",
              "        vertical-align: top;\n",
              "    }\n",
              "\n",
              "    .dataframe thead th {\n",
              "        text-align: right;\n",
              "    }\n",
              "</style>\n",
              "<table border=\"1\" class=\"dataframe\">\n",
              "  <thead>\n",
              "    <tr style=\"text-align: right;\">\n",
              "      <th></th>\n",
              "      <th>LotArea</th>\n",
              "      <th>OverallQual</th>\n",
              "    </tr>\n",
              "  </thead>\n",
              "  <tbody>\n",
              "    <tr>\n",
              "      <th>first_data</th>\n",
              "      <td>-0.658986</td>\n",
              "      <td>-0.037847</td>\n",
              "    </tr>\n",
              "  </tbody>\n",
              "</table>\n",
              "</div>"
            ],
            "text/plain": [
              "             LotArea  OverallQual\n",
              "first_data -0.658986    -0.037847"
            ]
          },
          "metadata": {
            "tags": []
          }
        },
        {
          "output_type": "stream",
          "text": [
            "\n",
            "\n",
            "gradients（由自動微分獲得）:\n"
          ],
          "name": "stdout"
        },
        {
          "output_type": "display_data",
          "data": {
            "text/html": [
              "<table style=\"display:inline\"><tr><td style=\"text-align:center\">layer_1</td><td style=\"text-align:center\">layer_2</td></tr><tr><td style=\"vertical-align:top\"> <table style=\"display:inline\" border=\"1\" class=\"dataframe\">\n",
              "  <thead>\n",
              "    <tr style=\"text-align: right;\">\n",
              "      <th></th>\n",
              "      <th>next_neuron_1</th>\n",
              "      <th>next_neuron_2</th>\n",
              "      <th>next_neuron_3</th>\n",
              "    </tr>\n",
              "  </thead>\n",
              "  <tbody>\n",
              "    <tr>\n",
              "      <th>neuron_1</th>\n",
              "      <td>-54965.714844</td>\n",
              "      <td>107952.226562</td>\n",
              "      <td>-185454.359375</td>\n",
              "    </tr>\n",
              "    <tr>\n",
              "      <th>neuron_2</th>\n",
              "      <td>-3156.783691</td>\n",
              "      <td>6199.897949</td>\n",
              "      <td>-10650.990234</td>\n",
              "    </tr>\n",
              "    <tr>\n",
              "      <th>bias</th>\n",
              "      <td>83409.492188</td>\n",
              "      <td>-163815.578125</td>\n",
              "      <td>281423.687500</td>\n",
              "    </tr>\n",
              "  </tbody>\n",
              "</table style=\"display:inline\"></td><td style=\"vertical-align:top\"> <table style=\"display:inline\" border=\"1\" class=\"dataframe\">\n",
              "  <thead>\n",
              "    <tr style=\"text-align: right;\">\n",
              "      <th></th>\n",
              "      <th>next_neuron_1</th>\n",
              "    </tr>\n",
              "  </thead>\n",
              "  <tbody>\n",
              "    <tr>\n",
              "      <th>neuron_1</th>\n",
              "      <td>-108401.539062</td>\n",
              "    </tr>\n",
              "    <tr>\n",
              "      <th>neuron_2</th>\n",
              "      <td>-103700.203125</td>\n",
              "    </tr>\n",
              "    <tr>\n",
              "      <th>neuron_3</th>\n",
              "      <td>-120348.179688</td>\n",
              "    </tr>\n",
              "    <tr>\n",
              "      <th>bias</th>\n",
              "      <td>-232000.968750</td>\n",
              "    </tr>\n",
              "  </tbody>\n",
              "</table style=\"display:inline\"></td></tr></table style=\"display:inline\">"
            ]
          },
          "metadata": {
            "tags": []
          }
        },
        {
          "output_type": "stream",
          "text": [
            "\n",
            "original weights:\n"
          ],
          "name": "stdout"
        },
        {
          "output_type": "display_data",
          "data": {
            "text/html": [
              "<table style=\"display:inline\"><tr><td style=\"text-align:center\">layer_1</td><td style=\"text-align:center\">layer_2</td></tr><tr><td style=\"vertical-align:top\"> <table style=\"display:inline\" border=\"1\" class=\"dataframe\">\n",
              "  <thead>\n",
              "    <tr style=\"text-align: right;\">\n",
              "      <th></th>\n",
              "      <th>next_neuron_1</th>\n",
              "      <th>next_neuron_2</th>\n",
              "      <th>next_neuron_3</th>\n",
              "    </tr>\n",
              "  </thead>\n",
              "  <tbody>\n",
              "    <tr>\n",
              "      <th>neuron_1</th>\n",
              "      <td>-0.669160</td>\n",
              "      <td>-0.687322</td>\n",
              "      <td>-0.823749</td>\n",
              "    </tr>\n",
              "    <tr>\n",
              "      <th>neuron_2</th>\n",
              "      <td>-0.694353</td>\n",
              "      <td>0.157313</td>\n",
              "      <td>0.636755</td>\n",
              "    </tr>\n",
              "    <tr>\n",
              "      <th>bias</th>\n",
              "      <td>0.000000</td>\n",
              "      <td>0.000000</td>\n",
              "      <td>0.000000</td>\n",
              "    </tr>\n",
              "  </tbody>\n",
              "</table style=\"display:inline\"></td><td style=\"vertical-align:top\"> <table style=\"display:inline\" border=\"1\" class=\"dataframe\">\n",
              "  <thead>\n",
              "    <tr style=\"text-align: right;\">\n",
              "      <th></th>\n",
              "      <th>next_neuron_1</th>\n",
              "    </tr>\n",
              "  </thead>\n",
              "  <tbody>\n",
              "    <tr>\n",
              "      <th>neuron_1</th>\n",
              "      <td>-0.359522</td>\n",
              "    </tr>\n",
              "    <tr>\n",
              "      <th>neuron_2</th>\n",
              "      <td>0.706099</td>\n",
              "    </tr>\n",
              "    <tr>\n",
              "      <th>neuron_3</th>\n",
              "      <td>-1.213028</td>\n",
              "    </tr>\n",
              "    <tr>\n",
              "      <th>bias</th>\n",
              "      <td>0.000000</td>\n",
              "    </tr>\n",
              "  </tbody>\n",
              "</table style=\"display:inline\"></td></tr></table style=\"display:inline\">"
            ]
          },
          "metadata": {
            "tags": []
          }
        },
        {
          "output_type": "stream",
          "text": [
            "\n",
            "modified weights:\n"
          ],
          "name": "stdout"
        },
        {
          "output_type": "display_data",
          "data": {
            "text/html": [
              "<table style=\"display:inline\"><tr><td style=\"text-align:center\">layer_1</td><td style=\"text-align:center\">layer_2</td></tr><tr><td style=\"vertical-align:top\"> <table style=\"display:inline\" border=\"1\" class=\"dataframe\">\n",
              "  <thead>\n",
              "    <tr style=\"text-align: right;\">\n",
              "      <th></th>\n",
              "      <th>next_neuron_1</th>\n",
              "      <th>next_neuron_2</th>\n",
              "      <th>next_neuron_3</th>\n",
              "    </tr>\n",
              "  </thead>\n",
              "  <tbody>\n",
              "    <tr>\n",
              "      <th>neuron_1</th>\n",
              "      <td>54.296558</td>\n",
              "      <td>-108.639557</td>\n",
              "      <td>184.630615</td>\n",
              "    </tr>\n",
              "    <tr>\n",
              "      <th>neuron_2</th>\n",
              "      <td>2.462431</td>\n",
              "      <td>-6.042585</td>\n",
              "      <td>11.287745</td>\n",
              "    </tr>\n",
              "    <tr>\n",
              "      <th>bias</th>\n",
              "      <td>-83.409492</td>\n",
              "      <td>163.815582</td>\n",
              "      <td>-281.423706</td>\n",
              "    </tr>\n",
              "  </tbody>\n",
              "</table style=\"display:inline\"></td><td style=\"vertical-align:top\"> <table style=\"display:inline\" border=\"1\" class=\"dataframe\">\n",
              "  <thead>\n",
              "    <tr style=\"text-align: right;\">\n",
              "      <th></th>\n",
              "      <th>next_neuron_1</th>\n",
              "    </tr>\n",
              "  </thead>\n",
              "  <tbody>\n",
              "    <tr>\n",
              "      <th>neuron_1</th>\n",
              "      <td>108.042023</td>\n",
              "    </tr>\n",
              "    <tr>\n",
              "      <th>neuron_2</th>\n",
              "      <td>104.406303</td>\n",
              "    </tr>\n",
              "    <tr>\n",
              "      <th>neuron_3</th>\n",
              "      <td>119.135155</td>\n",
              "    </tr>\n",
              "    <tr>\n",
              "      <th>bias</th>\n",
              "      <td>232.000977</td>\n",
              "    </tr>\n",
              "  </tbody>\n",
              "</table style=\"display:inline\"></td></tr></table style=\"display:inline\">"
            ]
          },
          "metadata": {
            "tags": []
          }
        },
        {
          "output_type": "stream",
          "text": [
            "\n",
            "layer 1 all close?  True\n",
            "layer 2 all close?  True\n",
            "\n",
            "original output:\n",
            " tf.Tensor([[-0.48161826]], shape=(1, 1), dtype=float32) \n",
            "\n",
            "improved output:\n",
            " tf.Tensor([[24833.91]], shape=(1, 1), dtype=float32) \n",
            "\n",
            "y true [116000] \n",
            "\n"
          ],
          "name": "stdout"
        }
      ]
    },
    {
      "cell_type": "markdown",
      "metadata": {
        "id": "HnrO1IPaNIwG"
      },
      "source": [
        "## output -> current predictions"
      ]
    },
    {
      "cell_type": "code",
      "metadata": {
        "id": "DlOlBfI6Bif8"
      },
      "source": [
        "# activation functions\n",
        "def linear(raw_output):\n",
        "    return raw_output\n",
        "\n",
        "def relu(raw_output):\n",
        "    return (abs(raw_output) + raw_output) / 2"
      ],
      "execution_count": 9,
      "outputs": []
    },
    {
      "cell_type": "code",
      "metadata": {
        "colab": {
          "base_uri": "https://localhost:8080/",
          "height": 101
        },
        "id": "2zlrOhJmVyDf",
        "outputId": "93dbdb0a-3e9f-4ca6-9367-5053490bc361"
      },
      "source": [
        "layers = [\n",
        "    {'weights': layer1_init_weights, 'activation': relu},\n",
        "    {'weights': layer2_init_weights, 'activation': linear}\n",
        "]\n",
        "\n",
        "first_data = np.c_[first_data_x, 1]\n",
        "# 第一層 neuron 值為 input 資料的值\n",
        "neuron_values = first_data\n",
        "\n",
        "# run thru each layer\n",
        "for i, layer in enumerate(layers):\n",
        "    neuron_values = layer['activation'](neuron_values @ layer['weights'])\n",
        "    if i != len(layers)-1:\n",
        "        neuron_values = np.c_[neuron_values, np.ones(first_data.shape[0])]\n",
        "pd.DataFrame(np.c_[neuron_values, y_pred],\n",
        "             columns=['模型參數未更新前預測第一筆資料（manually cal）', '模型參數未更新前預測第一筆資料 (lib)'],\n",
        "             index=['output'])"
      ],
      "execution_count": 10,
      "outputs": [
        {
          "output_type": "execute_result",
          "data": {
            "text/html": [
              "<div>\n",
              "<style scoped>\n",
              "    .dataframe tbody tr th:only-of-type {\n",
              "        vertical-align: middle;\n",
              "    }\n",
              "\n",
              "    .dataframe tbody tr th {\n",
              "        vertical-align: top;\n",
              "    }\n",
              "\n",
              "    .dataframe thead th {\n",
              "        text-align: right;\n",
              "    }\n",
              "</style>\n",
              "<table border=\"1\" class=\"dataframe\">\n",
              "  <thead>\n",
              "    <tr style=\"text-align: right;\">\n",
              "      <th></th>\n",
              "      <th>模型參數未更新前預測第一筆資料（manually cal）</th>\n",
              "      <th>模型參數未更新前預測第一筆資料 (lib)</th>\n",
              "    </tr>\n",
              "  </thead>\n",
              "  <tbody>\n",
              "    <tr>\n",
              "      <th>output</th>\n",
              "      <td>-0.481618</td>\n",
              "      <td>-0.481618</td>\n",
              "    </tr>\n",
              "  </tbody>\n",
              "</table>\n",
              "</div>"
            ],
            "text/plain": [
              "        模型參數未更新前預測第一筆資料（manually cal）  模型參數未更新前預測第一筆資料 (lib)\n",
              "output                      -0.481618              -0.481618"
            ]
          },
          "metadata": {
            "tags": []
          },
          "execution_count": 10
        }
      ]
    },
    {
      "cell_type": "code",
      "metadata": {
        "id": "Ima_A-5OXrZT"
      },
      "source": [
        ""
      ],
      "execution_count": 10,
      "outputs": []
    },
    {
      "cell_type": "markdown",
      "metadata": {
        "id": "_Fv1gm9cHonK"
      },
      "source": [
        "# Gradient Descent methods\n",
        "\n",
        "## challenges:\n",
        "\n",
        "\n",
        "*   Choose proper lr at each stage (loss 變化程度) -----> learning rate scheduling\n",
        "*   Choose proper lr for each feature -----> adaptive learning rate\n",
        "    * larger update for rarely ocurring features\n",
        "    * ？ gradient 越大 -> learning rate 應該越大 ？\n",
        "*   Escape from local minimum / saddle point"
      ]
    },
    {
      "cell_type": "markdown",
      "metadata": {
        "id": "CkzjUrkJKNXc"
      },
      "source": [
        "## Compute gradients with\n",
        "*   the whole dataset\n",
        "*   a single instance\n",
        "*   a mini-batch"
      ]
    },
    {
      "cell_type": "markdown",
      "metadata": {
        "id": "0I_OiG0bFc1D"
      },
      "source": [
        "## Momentum \n",
        "reduce oscillation，dramatically accelerate training process \\\\\n",
        ">$v_t = momentum * v_{t-1} + \\eta * \\nabla L(\\theta_{t-1}), momentum = 0.9$ \\\\\n",
        ">$\\theta_t = \\theta_{t-1} - v_t$ \\\\\n",
        "\n",
        "batch size 很小， gradient方向頻繁變動， \\\\\n",
        "減少與過往反方向的 gradient 大小 \\\\\n",
        "在快速來回震盪的維度上，會互相抵銷 \\\\\n",
        "增加與過往同方向的 gradient 大小， \\\\\n",
        "在方向一致的維度上，會加速前進"
      ]
    },
    {
      "cell_type": "code",
      "metadata": {
        "id": "HeGWw2QH8JJi"
      },
      "source": [
        "# 一般情況 x 應該是個模型預測值，只是這邊就先當直接給出預測值，並藉由修改預測值來降低 loss（y）\n",
        "def GD(x, epoch=100, my_opt=None, optimizer=None):\n",
        "    history = []\n",
        "    for n in range(epoch):\n",
        "        with tf.GradientTape() as tape:\n",
        "            y = x**2\n",
        "        g = tape.gradient(y, x)\n",
        "\n",
        "        # 自行實作的 opt\n",
        "        if my_opt is not None:\n",
        "            x = my_opt.step(g, x)\n",
        "        # 使用 lib 的 opt\n",
        "        else:\n",
        "            optimizer.apply_gradients(zip([g], [x]))\n",
        "            \n",
        "        history.append((x**2).numpy())\n",
        "    return history"
      ],
      "execution_count": 11,
      "outputs": []
    },
    {
      "cell_type": "code",
      "metadata": {
        "id": "htSt4TvD-_g5"
      },
      "source": [
        "class Momentum():\n",
        "    def __init__(self, mom=0.9, eta=0.01):\n",
        "        self.mt = 0\n",
        "        self.mom = mom\n",
        "        self.eta = eta\n",
        "    \n",
        "    def step(self, gradients, variables):\n",
        "        self.mt = self.mom * self.mt + self.eta * gradients\n",
        "        return tf.Variable(variables - self.mt)"
      ],
      "execution_count": 12,
      "outputs": []
    },
    {
      "cell_type": "code",
      "metadata": {
        "colab": {
          "base_uri": "https://localhost:8080/",
          "height": 320
        },
        "id": "cCwMmMIs8I-9",
        "outputId": "6e97f0f4-3e63-4016-bc8f-bad615f9a1ca"
      },
      "source": [
        "x = 3.0\n",
        "GD_history = GD(tf.Variable(x), my_opt=Momentum(mom=0.0))\n",
        "mom_GD_history = GD(tf.Variable(x), my_opt=Momentum(mom=0.9))\n",
        "tf_GD_history = GD(tf.Variable(x), optimizer=tf.optimizers.SGD(momentum=0.0))\n",
        "tf_mom_GD_history = GD(tf.Variable(x), optimizer=tf.optimizers.SGD(momentum=0.9))\n",
        "\n",
        "print(np.allclose(tf_GD_history, GD_history))\n",
        "print(np.allclose(mom_GD_history, tf_mom_GD_history))\n",
        "\n",
        "plt.plot(GD_history)\n",
        "plt.plot(mom_GD_history)\n",
        "plt.legend(['GD', 'mom_GD'])\n",
        "plt.show()"
      ],
      "execution_count": 13,
      "outputs": [
        {
          "output_type": "stream",
          "text": [
            "True\n",
            "True\n"
          ],
          "name": "stdout"
        },
        {
          "output_type": "display_data",
          "data": {
            "image/png": "[encoded data removed]",
            "text/plain": [
              "<Figure size 432x288 with 1 Axes>"
            ]
          },
          "metadata": {
            "tags": [],
            "needs_background": "light"
          }
        }
      ]
    },
    {
      "cell_type": "markdown",
      "metadata": {
        "id": "Dqo7Zj8yIsfh"
      },
      "source": [
        "## Adagrad \n",
        "\n",
        ">$ \\theta_t = \\theta_{t-1} - \\frac{\\eta}{\\sqrt{G_{t-1} + \\epsilon}}\\nabla L$ \\\\\n",
        ">$ \\epsilon = diag(1e-8),$ \\\\\n",
        ">$ G^t $ is a k by k diagonal matrix, k = # of params \\\\\n",
        ">$ G^{t-1}_{ii} = \\sum_{j=0}^{t-1} (\\nabla L(\\theta^j_{i}))^2 $ \\\\\n",
        "<br>\n",
        ">問題： 隨著 $ G_t $ 累加，learning rate 降的速度會太快"
      ]
    },
    {
      "cell_type": "markdown",
      "metadata": {
        "id": "XMPQI2_mP_4f"
      },
      "source": [
        "## RMSprop\n",
        "\n",
        ">$ g_t^2 = (\\nabla L(\\theta_t))^2 $ \\\\\n",
        ">$ \\theta_t = \\theta_{t-1} - \\frac{\\eta}{\\sqrt{G_{t-1} + \\epsilon}}\\nabla L$ \\\\\n",
        ">$ G_{t-1} = 0.9 G_{t-2} + 0.1 g_{t-1}^2 $ \\\\\n",
        "<br>\n",
        ">解決 Adagrad 的問題"
      ]
    },
    {
      "cell_type": "code",
      "metadata": {
        "id": "qB2uUwkfUF0u"
      },
      "source": [
        "class Adagrad():\n",
        "    def __init__(self, eta=0.01):\n",
        "        self.cumu_g2 = 0.1\n",
        "        self.eta = eta\n",
        "        self.epsilon = 1e-7\n",
        "        self.lr_history = []\n",
        "    \n",
        "    def step(self, gradients, variables):\n",
        "        self.cumu_g2 += gradients**2\n",
        "        lr = self.eta/tf.math.sqrt(self.cumu_g2+self.epsilon)\n",
        "        self.lr_history.append(lr)\n",
        "        return tf.Variable(variables - lr * gradients)\n",
        "\n",
        "class RMSprop():\n",
        "    def __init__(self, eta=0.01, mom=0.0):\n",
        "        self.mt = 0\n",
        "        self.mom = mom\n",
        "        self.cumu_g2 = 0.0\n",
        "        self.eta = eta\n",
        "        self.epsilon = 1e-7\n",
        "        self.lr_history = []\n",
        "    \n",
        "    def step(self, gradients, variables):\n",
        "        self.cumu_g2 = (0.9 * self.cumu_g2 + 0.1 * gradients**2)\n",
        "        lr = self.eta/tf.math.sqrt(self.cumu_g2+self.epsilon)\n",
        "        self.lr_history.append(lr)\n",
        "        self.mt = self.mom * self.mt + lr * gradients\n",
        "        return tf.Variable(variables - self.mt)"
      ],
      "execution_count": 14,
      "outputs": []
    },
    {
      "cell_type": "code",
      "metadata": {
        "colab": {
          "base_uri": "https://localhost:8080/",
          "height": 338
        },
        "id": "8N_5YCPWBy01",
        "outputId": "9241aa01-a9cc-4646-d871-cc179cba1b23"
      },
      "source": [
        "my_adagrad_opt = Adagrad(eta=0.01)\n",
        "adagrad_history = GD(tf.Variable(x), my_opt=my_adagrad_opt)\n",
        "tf_adagrad_history = GD(tf.Variable(x), optimizer=tf.optimizers.Adagrad(learning_rate=0.01))\n",
        "my_rmsprop_opt = RMSprop(eta=0.01)\n",
        "rmsprop_history = GD(tf.Variable(x), my_opt=my_rmsprop_opt)\n",
        "tf_rmsprop_history = GD(tf.Variable(x), optimizer=tf.optimizers.RMSprop(learning_rate=0.01))\n",
        "rmsprop_mom_history = GD(tf.Variable(x), my_opt=RMSprop(eta=0.01, mom=0.9))\n",
        "tf_rmsprop_mom_history = GD(tf.Variable(x), optimizer=tf.optimizers.RMSprop(learning_rate=0.01, momentum=0.9))\n",
        "\n",
        "print(np.allclose(adagrad_history, tf_adagrad_history))\n",
        "print(np.allclose(rmsprop_history, tf_rmsprop_history))\n",
        "print(np.allclose(rmsprop_mom_history, tf_rmsprop_mom_history))\n",
        "\n",
        "plt.plot(adagrad_history)\n",
        "plt.plot(rmsprop_history)\n",
        "plt.plot(tf_rmsprop_mom_history)\n",
        "plt.legend(['adagrad', 'rmsprop', 'mom_rmsprop'])\n",
        "plt.show()"
      ],
      "execution_count": 15,
      "outputs": [
        {
          "output_type": "stream",
          "text": [
            "True\n",
            "True\n",
            "True\n"
          ],
          "name": "stdout"
        },
        {
          "output_type": "display_data",
          "data": {
            "image/png": "[encoded data removed]",
            "text/plain": [
              "<Figure size 432x288 with 1 Axes>"
            ]
          },
          "metadata": {
            "tags": [],
            "needs_background": "light"
          }
        }
      ]
    },
    {
      "cell_type": "code",
      "metadata": {
        "colab": {
          "base_uri": "https://localhost:8080/",
          "height": 285
        },
        "id": "a7V5V9d0GvKU",
        "outputId": "8df0164d-8aae-4bc0-c2a9-04979195b099"
      },
      "source": [
        "plt.plot(my_adagrad_opt.lr_history)\n",
        "plt.plot(my_rmsprop_opt.lr_history)\n",
        "plt.legend(['adagrad', 'rmsprop'])\n",
        "plt.show()"
      ],
      "execution_count": 16,
      "outputs": [
        {
          "output_type": "display_data",
          "data": {
            "image/png": "[encoded data removed]",
            "text/plain": [
              "<Figure size 432x288 with 1 Axes>"
            ]
          },
          "metadata": {
            "tags": [],
            "needs_background": "light"
          }
        }
      ]
    },
    {
      "cell_type": "markdown",
      "metadata": {
        "id": "QeTJKH45Pkg-"
      },
      "source": [
        "# Weighted Exponential Average"
      ]
    },
    {
      "cell_type": "markdown",
      "metadata": {
        "id": "VLS84JiTC7Ht"
      },
      "source": [
        "$\\bar{X}_{T} $\n",
        ">$ = \\frac{T-1}{T}\\bar{X}_{T-1} + \\frac{1}{T}X_T $ \\\\\n",
        "<br>\n",
        ">$ = (1 - \\frac{1}{T})\\bar{X}_{T-1} + \\frac{1}{T}X_T $ \\\\\n",
        "<br>\n",
        ">$ = (1 - \\alpha)\\bar{X}_{T-1} + \\alpha X_T $ \\\\\n",
        "<br>\n",
        ">$ \\beta = 1 - \\alpha $ \\\\\n",
        "<br>\n",
        ">$ = \\beta\\bar{X}_{T-1} + (1 - \\beta) X_T $ \\\\\n",
        "<br>\n",
        ">$ = 0.999 \\bar{X}_{T-1} + 0.001 X_T $ \\\\\n",
        "<br>"
      ]
    },
    {
      "cell_type": "code",
      "metadata": {
        "colab": {
          "base_uri": "https://localhost:8080/",
          "height": 444
        },
        "id": "vNu_aq1mqLKk",
        "outputId": "dcef0014-5833-4469-82a9-9ec9bb1e8611"
      },
      "source": [
        "x = list(range(30, 0, -1))\n",
        "mu_t_history = []\n",
        "\n",
        "def mv_avg(beta, with_bias_correction=False):\n",
        "    mu_t = 0\n",
        "    t = 0\n",
        "    mu_t_history = []\n",
        "    if with_bias_correction:\n",
        "        print('bias correction first few weights:')\n",
        "    for i, x_t in enumerate(x):\n",
        "        t += 1\n",
        "        mu_t = beta(t) * mu_t + (1 - beta(t)) * x_t\n",
        "        if with_bias_correction:\n",
        "            mu_t_history.append(mu_t / (1 - beta(t)**t))\n",
        "            if i % 4 == 0:\n",
        "                print(f\"{beta(t) / (1 - beta(t)**t):.3f}\", end=' ')\n",
        "                print(f\"{(1 - beta(t)) / (1 - beta(t)**t):.3f}\")\n",
        "        else:\n",
        "            mu_t_history.append(mu_t)\n",
        "    return mu_t_history\n",
        "\n",
        "plt.plot(range(1, 31), mv_avg(lambda t: 1 - 1/t))\n",
        "plt.plot(range(1, 31), mv_avg(lambda t: 0.9))\n",
        "plt.plot(range(1, 31), mv_avg(lambda t: 0.9, with_bias_correction=True))\n",
        "plt.legend(['ma', 'wema', 'wema_with_correction'])\n",
        "plt.show()"
      ],
      "execution_count": 17,
      "outputs": [
        {
          "output_type": "stream",
          "text": [
            "bias correction first few weights:\n",
            "9.000 1.000\n",
            "2.198 0.244\n",
            "1.469 0.163\n",
            "1.207 0.134\n",
            "1.080 0.120\n",
            "1.011 0.112\n",
            "0.970 0.108\n",
            "0.944 0.105\n"
          ],
          "name": "stdout"
        },
        {
          "output_type": "display_data",
          "data": {
            "image/png": "[encoded data removed]",
            "text/plain": [
              "<Figure size 432x288 with 1 Axes>"
            ]
          },
          "metadata": {
            "tags": [],
            "needs_background": "light"
          }
        }
      ]
    },
    {
      "cell_type": "markdown",
      "metadata": {
        "id": "MkJKGK8pjbQm"
      },
      "source": [
        "## Adam\n",
        "\n",
        ">$ m_t = \\beta_1 m_{t-1} + (1 - \\beta_1) g_t $   ------ momentum \\\\\n",
        ">$ v_t = \\beta_2 v_{t-1} + (1 - \\beta_2) g_t^2 $ ------ RMSprop \\\\\n",
        ">$ \\hat{m_t} = \\frac{m_t}{1 - \\beta_1^t} $, \n",
        ">$ \\hat{v_t} = \\frac{v_t}{1 - \\beta_2^t} $  ------ bias correction \\\\\n",
        "<br>\n",
        "$\\beta_1 = 0.9, \\beta_2 = 0.999$  \\\\\n",
        "<br>\n",
        ">$ \\theta_{t+1} = \\theta_t - \\frac{\\eta}{\\sqrt{\\hat{v_t}} + \\epsilon} \\hat{m_t} $"
      ]
    },
    {
      "cell_type": "code",
      "metadata": {
        "id": "ShwXQUx-kmr0"
      },
      "source": [
        "class Adam():\n",
        "    def __init__(self, eta=0.01):\n",
        "        self.eta = eta\n",
        "        self.beta1 = 0.9\n",
        "        self.beta2 = 0.999\n",
        "        self.mt = 0\n",
        "        self.vt = 0\n",
        "        self.t = 0\n",
        "        self.epsilon = 1e-07\n",
        "    \n",
        "    def step(self, gradients, variables):\n",
        "        self.t += 1\n",
        "        self.mt = self.beta1 * self.mt + (1-self.beta1) * gradients\n",
        "        mt_hat = self.mt / (1 - self.beta1**self.t)\n",
        "        self.vt = self.beta2 * self.vt + (1-self.beta2) * gradients**2\n",
        "        vt_hat = self.vt / (1 - self.beta2**self.t)\n",
        "        g = self.eta * mt_hat/(tf.math.sqrt(vt_hat) + self.epsilon)\n",
        "        return tf.Variable(variables - g)"
      ],
      "execution_count": 18,
      "outputs": []
    },
    {
      "cell_type": "code",
      "metadata": {
        "colab": {
          "base_uri": "https://localhost:8080/",
          "height": 303
        },
        "id": "GXAYNaWJkCt2",
        "outputId": "e628000b-2e78-4ca7-f4cd-766927092f35"
      },
      "source": [
        "x = 3.0\n",
        "adam_history = GD(tf.Variable(x), my_opt=Adam(eta=0.1))\n",
        "tf_adam_history = GD(tf.Variable(x), optimizer=tf.optimizers.Adam(learning_rate=0.1))\n",
        "\n",
        "print(np.allclose(adam_history, tf_adam_history, atol=1e-5))\n",
        "\n",
        "plt.plot(adam_history)\n",
        "plt.show()"
      ],
      "execution_count": 19,
      "outputs": [
        {
          "output_type": "stream",
          "text": [
            "True\n"
          ],
          "name": "stdout"
        },
        {
          "output_type": "display_data",
          "data": {
            "image/png": "[encoded data removed]",
            "text/plain": [
              "<Figure size 432x288 with 1 Axes>"
            ]
          },
          "metadata": {
            "tags": [],
            "needs_background": "light"
          }
        }
      ]
    },
    {
      "cell_type": "code",
      "metadata": {
        "id": "g0oTv3WSXo6x"
      },
      "source": [
        ""
      ],
      "execution_count": 19,
      "outputs": []
    },
    {
      "cell_type": "markdown",
      "metadata": {
        "id": "eYR9dKu33vis"
      },
      "source": [
        "# 用 NN approx. BSM model"
      ]
    },
    {
      "cell_type": "code",
      "metadata": {
        "id": "mW_b2HmFpD5M"
      },
      "source": [
        "n = 60000\n",
        "np.random.seed(3)\n",
        "\n",
        "N_ = stats.norm(loc=0.0, scale=1.0)\n",
        "N = lambda d: N_.cdf(d)\n",
        "\n",
        "# 依序為 stock price, strike price (times), risk free rate\n",
        "#       volatility, time to maturity(year)\n",
        "bounds = [(40, 60), (0.5, 1.5), (0, 0.05), (0.1, 0.4), (0.25, 2)]\n",
        "S, K, r, sigma, T = [np.random.uniform(*bound, (n, 1)).round(3) for bound in bounds]\n",
        "K = S * K\n",
        "\n",
        "d1 = (np.log(S/K) + (r + sigma**2/2)*T)/(sigma * np.sqrt(T))\n",
        "d2 = (np.log(S/K) + (r - sigma**2/2)*T)/(sigma * np.sqrt(T))\n",
        "\n",
        "option_price = S * N(d1) - K * np.exp(-r*T) * N(d2)\n",
        "option_price_with_noise = option_price + np.random.normal(0.0, .15, (n, 1))"
      ],
      "execution_count": 20,
      "outputs": []
    },
    {
      "cell_type": "code",
      "metadata": {
        "id": "mIJ11zcYSN_0"
      },
      "source": [
        "x = np.c_[S, K, r, sigma, T]\n",
        "y = option_price_with_noise\n",
        "x_train, x_r, y_train, y_r =  train_test_split(x, y, train_size=1/3, random_state=3)\n",
        "x_val, x_test, y_val, y_test =  train_test_split(x_r, y_r, test_size=1/2, random_state=3)\n",
        "\n",
        "x_train_stdized, x_val_stdized = stdize(x_train, x_val)\n",
        "_, x_test_stdized = stdize(x_train, x_test)\n",
        "\n",
        "train_ds = tf.data.Dataset.from_tensor_slices((x_train_stdized, y_train)).shuffle(10000).batch(32)\n",
        "val_ds = tf.data.Dataset.from_tensor_slices((x_val_stdized, y_val)).batch(32)\n",
        "test_ds = tf.data.Dataset.from_tensor_slices((x_test_stdized, y_test)).batch(32)"
      ],
      "execution_count": 21,
      "outputs": []
    },
    {
      "cell_type": "code",
      "metadata": {
        "id": "SJoL92WYV2IQ"
      },
      "source": [
        "model = MultiLayerModel()\n",
        "model.compile(optimizer='Adam', loss='mae')\n",
        "\n",
        "# callbacks\n",
        "es = tf.keras.callbacks.EarlyStopping('val_loss', patience=15)\n",
        "reduce_lr = tf.keras.callbacks.ReduceLROnPlateau(min_lr=1e-6)\n",
        "\n",
        "history = model.fit(train_ds,\n",
        "                    validation_data=val_ds,\n",
        "                    epochs=60,\n",
        "                    callbacks=[es, reduce_lr],\n",
        "                    verbose=0)"
      ],
      "execution_count": 22,
      "outputs": []
    },
    {
      "cell_type": "code",
      "metadata": {
        "colab": {
          "base_uri": "https://localhost:8080/",
          "height": 320
        },
        "id": "boj4td5kBfXw",
        "outputId": "120df02f-ff15-4966-b0f6-76917fe60cba"
      },
      "source": [
        "plt.plot(history.history['loss'])\n",
        "plt.plot(history.history['val_loss'])\n",
        "plt.legend(['train', 'val'])\n",
        "plt.show()\n",
        "print(f\"train_mse: {history.history['loss'][-1]:.4f}\")\n",
        "print(f\"val_mse: {history.history['val_loss'][-1]:.4f}\")"
      ],
      "execution_count": 23,
      "outputs": [
        {
          "output_type": "display_data",
          "data": {
            "image/png": "[encoded data removed]",
            "text/plain": [
              "<Figure size 432x288 with 1 Axes>"
            ]
          },
          "metadata": {
            "tags": [],
            "needs_background": "light"
          }
        },
        {
          "output_type": "stream",
          "text": [
            "train_mse: 0.1157\n",
            "val_mse: 0.1244\n"
          ],
          "name": "stdout"
        }
      ]
    },
    {
      "cell_type": "markdown",
      "metadata": {
        "id": "2ohs1ssj9GGF"
      },
      "source": [
        "$f(x) = \\frac{1}{\\sigma \\sqrt{2\\pi}}e^{-\\frac{x^2}{2 \\sigma^2}}$ \\\\\n",
        "<br>\n",
        "$E[|X|]$ \\\\\n",
        "> $ = \\frac{1}{\\sigma \\sqrt{2\\pi}} (\\int_{-\\infty}^0 -x e^{-\\frac{x^2}{2 \\sigma^2}} dx + \\int_0^{\\infty}x e^{-\\frac{x^2}{2 \\sigma^2}} dx $) \\\\\n",
        "<br>\n",
        "> let $t = \\frac{x}{\\sqrt2\\sigma}, dt = \\frac{1}{\\sqrt2\\sigma} dx$ \\\\\n",
        "<br>\n",
        "> $ = \\frac{1}{\\sqrt{\\pi}} (\\int_{-\\infty}^0 -\\sqrt2\\sigma t e^{-t^2} dt + \\int_0^{\\infty} \\sqrt2\\sigma t e^{-t^2} dt)$ (上下限不動) \\\\\n",
        "<br>$f(t) = t e^{-t^2}$ 為奇函數 \\\\\n",
        "<br>\n",
        "> $ = \\sqrt{\\frac{2}{\\pi}}\\sigma * 2 \\int_0^{\\infty} t e^{-t^2} dt$ \\\\\n",
        "<br>\n",
        "> let $u = -t^2, du = -2tdt, -\\frac{1}{2}du = tdt$ \\\\\n",
        "<br>\n",
        "> $ = \\sqrt{\\frac{2}{\\pi}}\\sigma * (- \\int_0^{-\\infty} e^u du))$ \\\\\n",
        "<br>\n",
        "> $ = \\sqrt{\\frac{2}{\\pi}}\\sigma $"
      ]
    },
    {
      "cell_type": "code",
      "metadata": {
        "colab": {
          "base_uri": "https://localhost:8080/"
        },
        "id": "YSalhTxfWzV7",
        "outputId": "198094a4-fb2e-494b-933e-67f3710547ea"
      },
      "source": [
        "round(np.sqrt(2/np.pi) * 0.15, 4)"
      ],
      "execution_count": 24,
      "outputs": [
        {
          "output_type": "execute_result",
          "data": {
            "text/plain": [
              "0.1197"
            ]
          },
          "metadata": {
            "tags": []
          },
          "execution_count": 24
        }
      ]
    },
    {
      "cell_type": "code",
      "metadata": {
        "id": "TGuDwvBCCcjp"
      },
      "source": [
        ""
      ],
      "execution_count": 24,
      "outputs": []
    },
    {
      "cell_type": "markdown",
      "metadata": {
        "id": "e6xixEGfCc3U"
      },
      "source": [
        "# Autoencoder"
      ]
    },
    {
      "cell_type": "code",
      "metadata": {
        "id": "Gca4HRhi9A_j"
      },
      "source": [
        "df = DataLoader.load_data('country_risk_url')\n",
        "df.head()\n",
        "data = df[['Corruption', 'Peace', 'Legal', 'GDP Growth']].values\n",
        "stdized_data, _ = stdize(data, data)"
      ],
      "execution_count": 25,
      "outputs": []
    },
    {
      "cell_type": "code",
      "metadata": {
        "colab": {
          "base_uri": "https://localhost:8080/"
        },
        "id": "PSrvFUA8fOq7",
        "outputId": "7bde4133-89d6-4af4-f2f1-82e8b42d236f"
      },
      "source": [
        "inputs = tf.keras.Input(shape=data.shape[1])\n",
        "x = Dense(2, activation='relu', use_bias=False)(inputs)\n",
        "outputs = Dense(data.shape[1], use_bias=False)(x)\n",
        "model = Model(inputs=inputs, outputs=outputs)\n",
        "model.summary()"
      ],
      "execution_count": 26,
      "outputs": [
        {
          "output_type": "stream",
          "text": [
            "Model: \"model\"\n",
            "_________________________________________________________________\n",
            "Layer (type)                 Output Shape              Param #   \n",
            "=================================================================\n",
            "input_1 (InputLayer)         [(None, 4)]               0         \n",
            "_________________________________________________________________\n",
            "dense_8 (Dense)              (None, 2)                 8         \n",
            "_________________________________________________________________\n",
            "dense_9 (Dense)              (None, 4)                 8         \n",
            "=================================================================\n",
            "Total params: 16\n",
            "Trainable params: 16\n",
            "Non-trainable params: 0\n",
            "_________________________________________________________________\n"
          ],
          "name": "stdout"
        }
      ]
    },
    {
      "cell_type": "code",
      "metadata": {
        "colab": {
          "base_uri": "https://localhost:8080/",
          "height": 332
        },
        "id": "5LBEnKh9g68d",
        "outputId": "056a354a-30f8-44a5-f485-4fedf05dceba"
      },
      "source": [
        "tf.keras.utils.plot_model(model, show_shapes=True)"
      ],
      "execution_count": 27,
      "outputs": [
        {
          "output_type": "execute_result",
          "data": {
            "image/png": "[encoded data removed]",
            "text/plain": [
              "<IPython.core.display.Image object>"
            ]
          },
          "metadata": {
            "tags": []
          },
          "execution_count": 27
        }
      ]
    },
    {
      "cell_type": "code",
      "metadata": {
        "colab": {
          "base_uri": "https://localhost:8080/",
          "height": 320
        },
        "id": "oPEtksEVjGRK",
        "outputId": "c9d98717-de9a-4956-aa49-5fead0a70966"
      },
      "source": [
        "model.compile(optimizer='Adam', loss='mse')\n",
        "history = model.fit(stdized_data, stdized_data, epochs=1000, verbose=0)\n",
        "plt.plot(history.history['loss'])\n",
        "plt.show()\n",
        "print()\n",
        "print(f\"mse: {history.history['loss'][-1]:.4f}\")"
      ],
      "execution_count": 28,
      "outputs": [
        {
          "output_type": "display_data",
          "data": {
            "image/png": "[encoded data removed]",
            "text/plain": [
              "<Figure size 432x288 with 1 Axes>"
            ]
          },
          "metadata": {
            "tags": [],
            "needs_background": "light"
          }
        },
        {
          "output_type": "stream",
          "text": [
            "\n",
            "mse: 0.3175\n"
          ],
          "name": "stdout"
        }
      ]
    },
    {
      "cell_type": "code",
      "metadata": {
        "colab": {
          "base_uri": "https://localhost:8080/",
          "height": 133
        },
        "id": "h8Lu6PZpmtEH",
        "outputId": "2a26ddfa-78fe-436b-a758-60a97541b2f0"
      },
      "source": [
        "components = model.weights[0].numpy()\n",
        "pd.DataFrame(components.T, index=['component_1', 'component_2'], columns=df.columns[2:])"
      ],
      "execution_count": 29,
      "outputs": [
        {
          "output_type": "execute_result",
          "data": {
            "text/html": [
              "<div>\n",
              "<style scoped>\n",
              "    .dataframe tbody tr th:only-of-type {\n",
              "        vertical-align: middle;\n",
              "    }\n",
              "\n",
              "    .dataframe tbody tr th {\n",
              "        vertical-align: top;\n",
              "    }\n",
              "\n",
              "    .dataframe thead th {\n",
              "        text-align: right;\n",
              "    }\n",
              "</style>\n",
              "<table border=\"1\" class=\"dataframe\">\n",
              "  <thead>\n",
              "    <tr style=\"text-align: right;\">\n",
              "      <th></th>\n",
              "      <th>Corruption</th>\n",
              "      <th>Peace</th>\n",
              "      <th>Legal</th>\n",
              "      <th>GDP Growth</th>\n",
              "    </tr>\n",
              "  </thead>\n",
              "  <tbody>\n",
              "    <tr>\n",
              "      <th>component_1</th>\n",
              "      <td>-0.532982</td>\n",
              "      <td>0.641718</td>\n",
              "      <td>-0.513805</td>\n",
              "      <td>-0.678542</td>\n",
              "    </tr>\n",
              "    <tr>\n",
              "      <th>component_2</th>\n",
              "      <td>0.810494</td>\n",
              "      <td>-0.401774</td>\n",
              "      <td>0.372273</td>\n",
              "      <td>0.004544</td>\n",
              "    </tr>\n",
              "  </tbody>\n",
              "</table>\n",
              "</div>"
            ],
            "text/plain": [
              "             Corruption     Peace     Legal  GDP Growth\n",
              "component_1   -0.532982  0.641718 -0.513805   -0.678542\n",
              "component_2    0.810494 -0.401774  0.372273    0.004544"
            ]
          },
          "metadata": {
            "tags": []
          },
          "execution_count": 29
        }
      ]
    },
    {
      "cell_type": "code",
      "metadata": {
        "colab": {
          "base_uri": "https://localhost:8080/"
        },
        "id": "P53OH9KNoZ_t",
        "outputId": "23a56f8b-dfea-429b-9451-77576a275f45"
      },
      "source": [
        "new_coordinate = pd.DataFrame(stdized_data @ components, columns=['component_1', 'component_2'], index=df['Country'])\n",
        "explained_var = new_coordinate.var(0) * len(stdized_data)\n",
        "explained_var"
      ],
      "execution_count": 30,
      "outputs": [
        {
          "output_type": "execute_result",
          "data": {
            "text/plain": [
              "component_1    389.873608\n",
              "component_2    266.608283\n",
              "dtype: float64"
            ]
          },
          "metadata": {
            "tags": []
          },
          "execution_count": 30
        }
      ]
    },
    {
      "cell_type": "code",
      "metadata": {
        "colab": {
          "base_uri": "https://localhost:8080/",
          "height": 300
        },
        "id": "_C7RbGoLvgWt",
        "outputId": "116fba4a-0680-453b-b991-0024ddc91681"
      },
      "source": [
        "sns.scatterplot(x='component_1', y='component_2', data=new_coordinate)\n",
        "plt.show()"
      ],
      "execution_count": 31,
      "outputs": [
        {
          "output_type": "display_data",
          "data": {
            "image/png": "[encoded data removed]",
            "text/plain": [
              "<Figure size 432x288 with 1 Axes>"
            ]
          },
          "metadata": {
            "tags": [],
            "needs_background": "light"
          }
        }
      ]
    },
    {
      "cell_type": "code",
      "metadata": {
        "colab": {
          "base_uri": "https://localhost:8080/"
        },
        "id": "UMuBSHb3vt-Q",
        "outputId": "d9e718e5-f084-4a34-c89b-a2e765b37d5d"
      },
      "source": [
        "kmeans_scaled = KMeans(n_clusters=3, random_state=3).fit(stdized_data)\n",
        "category = {0: \"high\", 1: \"low\", 2: \"moderate\"}\n",
        "kmeans_scaled_str_labels = np.array(list(map(lambda n: category[n], kmeans_scaled.labels_)))\n",
        "kmeans_scaled_str_labels[:5]"
      ],
      "execution_count": 32,
      "outputs": [
        {
          "output_type": "execute_result",
          "data": {
            "text/plain": [
              "array(['moderate', 'moderate', 'high', 'moderate', 'low'], dtype='<U8')"
            ]
          },
          "metadata": {
            "tags": []
          },
          "execution_count": 32
        }
      ]
    },
    {
      "cell_type": "code",
      "metadata": {
        "colab": {
          "base_uri": "https://localhost:8080/",
          "height": 300
        },
        "id": "FFMD7voPxaTq",
        "outputId": "0cd67c5c-22bb-400c-fef7-8cdb83e982d3"
      },
      "source": [
        "new_coordinate_with_kmeans_labels = new_coordinate.copy()\n",
        "new_coordinate_with_kmeans_labels.insert(2, 'kmeans_labels', kmeans_scaled_str_labels)\n",
        "sns.scatterplot(x='component_1', y='component_2', data=new_coordinate_with_kmeans_labels, hue='kmeans_labels')\n",
        "plt.show()"
      ],
      "execution_count": 33,
      "outputs": [
        {
          "output_type": "display_data",
          "data": {
            "image/png": "[encoded data removed]",
            "text/plain": [
              "<Figure size 432x288 with 1 Axes>"
            ]
          },
          "metadata": {
            "tags": [],
            "needs_background": "light"
          }
        }
      ]
    },
    {
      "cell_type": "code",
      "metadata": {
        "id": "uKe2xT_fxjmO"
      },
      "source": [
        ""
      ],
      "execution_count": 33,
      "outputs": []
    },
    {
      "cell_type": "markdown",
      "metadata": {
        "id": "UWK5iHxMk9Ra"
      },
      "source": [
        "# CNN"
      ]
    },
    {
      "cell_type": "code",
      "metadata": {
        "colab": {
          "base_uri": "https://localhost:8080/"
        },
        "id": "RlxrKlu2k82u",
        "outputId": "959bdf78-39b2-4694-d2af-65b3eb2587dd"
      },
      "source": [
        "(train_images, train_labels), (test_images, test_labels) = datasets.cifar10.load_data()\n",
        "train_images.shape, train_labels.shape"
      ],
      "execution_count": 34,
      "outputs": [
        {
          "output_type": "stream",
          "text": [
            "Downloading data from https://www.cs.toronto.edu/~kriz/cifar-10-python.tar.gz\n",
            "170500096/170498071 [==============================] - 4s 0us/step\n"
          ],
          "name": "stdout"
        },
        {
          "output_type": "execute_result",
          "data": {
            "text/plain": [
              "((50000, 32, 32, 3), (50000, 1))"
            ]
          },
          "metadata": {
            "tags": []
          },
          "execution_count": 34
        }
      ]
    },
    {
      "cell_type": "code",
      "metadata": {
        "colab": {
          "base_uri": "https://localhost:8080/",
          "height": 286
        },
        "id": "mTSTibczl9I9",
        "outputId": "af036384-4bfc-4f47-91b5-0616d537a5cb"
      },
      "source": [
        "img = train_images[1]\n",
        "plt.imshow(img)\n",
        "plt.show()"
      ],
      "execution_count": 35,
      "outputs": [
        {
          "output_type": "display_data",
          "data": {
            "image/png": "[encoded data removed]",
            "text/plain": [
              "<Figure size 432x288 with 1 Axes>"
            ]
          },
          "metadata": {
            "tags": [],
            "needs_background": "light"
          }
        }
      ]
    },
    {
      "cell_type": "code",
      "metadata": {
        "colab": {
          "base_uri": "https://localhost:8080/"
        },
        "id": "YZtDPEhFmoUE",
        "outputId": "cdd52cd2-9b9f-4af3-8c13-c1a72aeecb8d"
      },
      "source": [
        "img = train_images[:2]\n",
        "img.shape"
      ],
      "execution_count": 36,
      "outputs": [
        {
          "output_type": "execute_result",
          "data": {
            "text/plain": [
              "(2, 32, 32, 3)"
            ]
          },
          "metadata": {
            "tags": []
          },
          "execution_count": 36
        }
      ]
    },
    {
      "cell_type": "code",
      "metadata": {
        "colab": {
          "base_uri": "https://localhost:8080/"
        },
        "id": "8krUn6KSJUmB",
        "outputId": "2584588f-94d2-415a-98b5-259d6e099324"
      },
      "source": [
        "inputs = Input(img[0].shape)\n",
        "outputs = Conv2D(32, (5, 5), activation='linear')(inputs)\n",
        "model = Model(inputs, outputs)\n",
        "model.summary()"
      ],
      "execution_count": 37,
      "outputs": [
        {
          "output_type": "stream",
          "text": [
            "Model: \"model_1\"\n",
            "_________________________________________________________________\n",
            "Layer (type)                 Output Shape              Param #   \n",
            "=================================================================\n",
            "input_2 (InputLayer)         [(None, 32, 32, 3)]       0         \n",
            "_________________________________________________________________\n",
            "conv2d (Conv2D)              (None, 28, 28, 32)        2432      \n",
            "=================================================================\n",
            "Total params: 2,432\n",
            "Trainable params: 2,432\n",
            "Non-trainable params: 0\n",
            "_________________________________________________________________\n"
          ],
          "name": "stdout"
        }
      ]
    },
    {
      "cell_type": "code",
      "metadata": {
        "colab": {
          "base_uri": "https://localhost:8080/"
        },
        "id": "a6nugkrHKteY",
        "outputId": "e566aeca-94dc-4eb8-8c8f-72657457591e"
      },
      "source": [
        "(5*5*3+1)*32"
      ],
      "execution_count": 38,
      "outputs": [
        {
          "output_type": "execute_result",
          "data": {
            "text/plain": [
              "2432"
            ]
          },
          "metadata": {
            "tags": []
          },
          "execution_count": 38
        }
      ]
    },
    {
      "cell_type": "code",
      "metadata": {
        "colab": {
          "base_uri": "https://localhost:8080/"
        },
        "id": "RuzJecfsK0il",
        "outputId": "83ff4303-6b5b-4b0e-9711-27c4e55bd80a"
      },
      "source": [
        "out = model(img).numpy()\n",
        "\n",
        "# 自己算的 output\n",
        "out_ = np.zeros_like(out)\n",
        "\n",
        "# network 初始化的權重\n",
        "filter = model.weights[0].numpy()\n",
        "bias = model.weights[1].numpy()\n",
        "\n",
        "print(filter.shape, bias.shape, out.shape)"
      ],
      "execution_count": 39,
      "outputs": [
        {
          "output_type": "stream",
          "text": [
            "(5, 5, 3, 32) (32,) (2, 28, 28, 32)\n"
          ],
          "name": "stdout"
        }
      ]
    },
    {
      "cell_type": "code",
      "metadata": {
        "id": "2MV8DTPOK6w9"
      },
      "source": [
        "w, h = img.shape[1], img.shape[2]  # 32 X 32\n",
        "fw, fh = filter.shape[:2]  # 5 X 5\n",
        "n_channels = 32  # 32 feature maps\n",
        "for n in range(n_channels):\n",
        "    for i in range(w-fw+1):\n",
        "        for j in range(h-fh+1):\n",
        "            out_[:, i, j, n] = (img[:, i:i+fw, j:j+fw, :] * filter[:, :, :, n]).sum((1, 2, 3))\n",
        "    out_[:, :, :, n] += bias[n]"
      ],
      "execution_count": 40,
      "outputs": []
    },
    {
      "cell_type": "code",
      "metadata": {
        "colab": {
          "base_uri": "https://localhost:8080/"
        },
        "id": "5CoNUT-oMj2Q",
        "outputId": "9b88df1d-54fd-4a4d-fca5-51a78dec4f75"
      },
      "source": [
        "np.allclose(out, out_, atol=1e-4)"
      ],
      "execution_count": 41,
      "outputs": [
        {
          "output_type": "execute_result",
          "data": {
            "text/plain": [
              "True"
            ]
          },
          "metadata": {
            "tags": []
          },
          "execution_count": 41
        }
      ]
    },
    {
      "cell_type": "code",
      "metadata": {
        "colab": {
          "base_uri": "https://localhost:8080/"
        },
        "id": "TjBxzYrWbClc",
        "outputId": "06f4b1ea-6adf-46b2-d7b5-a4dbb237b490"
      },
      "source": [
        "max_pool = MaxPool2D()\n",
        "max_out = max_pool(out)\n",
        "max_out.shape"
      ],
      "execution_count": 42,
      "outputs": [
        {
          "output_type": "execute_result",
          "data": {
            "text/plain": [
              "TensorShape([2, 14, 14, 32])"
            ]
          },
          "metadata": {
            "tags": []
          },
          "execution_count": 42
        }
      ]
    },
    {
      "cell_type": "code",
      "metadata": {
        "id": "7xWU1gYRb3y1"
      },
      "source": [
        "# 2 x 2 pool, 2 x 2 stride\n",
        "# stride: 每次移動幾格，此處設定表示不會有 overlap\n",
        "pool_sz, stride = 2, 2\n",
        "\n",
        "# 最後出來的 shape 應該是多少\n",
        "# 如果是偶數則減半，奇數呢？\n",
        "# padding=valid: 13 x 13 => 6 x 6 (多出的不管)\n",
        "max_out_size = int(np.ceil((out_.shape[1]-pool_sz+1)/stride))\n",
        "max_out_ = np.zeros((2, max_out_size, max_out_size, 32))\n",
        "for i in range(max_out_size):\n",
        "    for j in range(max_out_size):\n",
        "        w_start, h_start = i*stride, j*stride\n",
        "        max_out_[:, i, j, :] = np.max(out_[:, w_start:w_start+pool_sz, h_start:h_start+pool_sz, :], axis=(1, 2))"
      ],
      "execution_count": 43,
      "outputs": []
    },
    {
      "cell_type": "code",
      "metadata": {
        "colab": {
          "base_uri": "https://localhost:8080/"
        },
        "id": "M9gnRCh2eVSQ",
        "outputId": "6b7deaec-dab1-4ff4-a082-e8becfc4b374"
      },
      "source": [
        "np.allclose(max_out, max_out_, atol=1e-4)"
      ],
      "execution_count": 44,
      "outputs": [
        {
          "output_type": "execute_result",
          "data": {
            "text/plain": [
              "True"
            ]
          },
          "metadata": {
            "tags": []
          },
          "execution_count": 44
        }
      ]
    },
    {
      "cell_type": "code",
      "metadata": {
        "colab": {
          "base_uri": "https://localhost:8080/"
        },
        "id": "WlK2MDMDmFn4",
        "outputId": "ea48deea-e71c-4e43-d31e-83281e0f7be9"
      },
      "source": [
        "inputs = Input(img[0].shape)\n",
        "x = Conv2D(32, (3, 3), activation='relu')(inputs)\n",
        "x = MaxPool2D()(x)\n",
        "x = Conv2D(64, (3, 3), activation='relu')(x)\n",
        "x = MaxPool2D()(x)\n",
        "x = Conv2D(64, (3, 3), activation='relu')(x)\n",
        "x = tf.keras.layers.Flatten()(x)\n",
        "x = Dense(64, activation='relu')(x)\n",
        "outputs = Dense(10)(x)\n",
        "\n",
        "model = Model(inputs, outputs)\n",
        "model.summary()"
      ],
      "execution_count": 45,
      "outputs": [
        {
          "output_type": "stream",
          "text": [
            "Model: \"model_2\"\n",
            "_________________________________________________________________\n",
            "Layer (type)                 Output Shape              Param #   \n",
            "=================================================================\n",
            "input_3 (InputLayer)         [(None, 32, 32, 3)]       0         \n",
            "_________________________________________________________________\n",
            "conv2d_1 (Conv2D)            (None, 30, 30, 32)        896       \n",
            "_________________________________________________________________\n",
            "max_pooling2d_1 (MaxPooling2 (None, 15, 15, 32)        0         \n",
            "_________________________________________________________________\n",
            "conv2d_2 (Conv2D)            (None, 13, 13, 64)        18496     \n",
            "_________________________________________________________________\n",
            "max_pooling2d_2 (MaxPooling2 (None, 6, 6, 64)          0         \n",
            "_________________________________________________________________\n",
            "conv2d_3 (Conv2D)            (None, 4, 4, 64)          36928     \n",
            "_________________________________________________________________\n",
            "flatten (Flatten)            (None, 1024)              0         \n",
            "_________________________________________________________________\n",
            "dense_10 (Dense)             (None, 64)                65600     \n",
            "_________________________________________________________________\n",
            "dense_11 (Dense)             (None, 10)                650       \n",
            "=================================================================\n",
            "Total params: 122,570\n",
            "Trainable params: 122,570\n",
            "Non-trainable params: 0\n",
            "_________________________________________________________________\n"
          ],
          "name": "stdout"
        }
      ]
    },
    {
      "cell_type": "code",
      "metadata": {
        "id": "CeOlQ_5PogrC"
      },
      "source": [
        "model.compile(optimizer='adam',\n",
        "              loss=tf.keras.losses.SparseCategoricalCrossentropy(from_logits=True),\n",
        "              metrics=['accuracy'])\n",
        "\n",
        "history = model.fit(train_images, train_labels, epochs=10,\n",
        "                    validation_data=(test_images, test_labels), verbose=0)"
      ],
      "execution_count": 46,
      "outputs": []
    },
    {
      "cell_type": "code",
      "metadata": {
        "colab": {
          "base_uri": "https://localhost:8080/",
          "height": 320
        },
        "id": "MOemuPX2qLsr",
        "outputId": "89a5fa25-d95b-4fe4-f13d-bd8d894d1690"
      },
      "source": [
        "plt.plot(history.history['accuracy'])\n",
        "plt.plot(history.history['val_accuracy'])\n",
        "plt.legend(['train_acc', 'val_acc'])\n",
        "plt.show()\n",
        "print(f\"train_acc: {history.history['accuracy'][-1]:.4f}\")\n",
        "print(f\"val_acc: {history.history['val_accuracy'][-1]:.4f}\")"
      ],
      "execution_count": 47,
      "outputs": [
        {
          "output_type": "display_data",
          "data": {
            "image/png": "[encoded data removed]",
            "text/plain": [
              "<Figure size 432x288 with 1 Axes>"
            ]
          },
          "metadata": {
            "tags": [],
            "needs_background": "light"
          }
        },
        {
          "output_type": "stream",
          "text": [
            "train_acc: 0.7430\n",
            "val_acc: 0.6610\n"
          ],
          "name": "stdout"
        }
      ]
    },
    {
      "cell_type": "code",
      "metadata": {
        "id": "8pO6HlM5qePT"
      },
      "source": [
        ""
      ],
      "execution_count": 47,
      "outputs": []
    },
    {
      "cell_type": "markdown",
      "metadata": {
        "id": "khOGYWIds6lz"
      },
      "source": [
        "# RNN"
      ]
    },
    {
      "cell_type": "code",
      "metadata": {
        "colab": {
          "base_uri": "https://localhost:8080/"
        },
        "id": "LeDK_38KVGLc",
        "outputId": "dd17507d-0d24-42b3-b24d-f7e5f30c4e43"
      },
      "source": [
        "# N x T x D\n",
        "input_seq = tf.random.uniform((3, 10, 5))\n",
        "inputs = Input(input_seq[0].shape)\n",
        "y = SimpleRNN(32)(inputs)\n",
        "model = Model(inputs, y)\n",
        "model.summary()"
      ],
      "execution_count": 48,
      "outputs": [
        {
          "output_type": "stream",
          "text": [
            "Model: \"model_3\"\n",
            "_________________________________________________________________\n",
            "Layer (type)                 Output Shape              Param #   \n",
            "=================================================================\n",
            "input_4 (InputLayer)         [(None, 10, 5)]           0         \n",
            "_________________________________________________________________\n",
            "simple_rnn (SimpleRNN)       (None, 32)                1216      \n",
            "=================================================================\n",
            "Total params: 1,216\n",
            "Trainable params: 1,216\n",
            "Non-trainable params: 0\n",
            "_________________________________________________________________\n"
          ],
          "name": "stdout"
        }
      ]
    },
    {
      "cell_type": "code",
      "metadata": {
        "colab": {
          "base_uri": "https://localhost:8080/"
        },
        "id": "tq7vo4z5a4UI",
        "outputId": "93424454-9f11-448d-dc3b-7bf5d0f6df35"
      },
      "source": [
        "for w in model.weights:\n",
        "    print(w.shape)\n",
        "print(5 * 32 + 32 * 32 + 32)"
      ],
      "execution_count": 49,
      "outputs": [
        {
          "output_type": "stream",
          "text": [
            "(5, 32)\n",
            "(32, 32)\n",
            "(32,)\n",
            "1216\n"
          ],
          "name": "stdout"
        }
      ]
    },
    {
      "cell_type": "code",
      "metadata": {
        "colab": {
          "base_uri": "https://localhost:8080/"
        },
        "id": "RZVxYADYFKnA",
        "outputId": "f0a82d77-2d0f-4f92-889d-9e67eedfa967"
      },
      "source": [
        "model(input_seq).shape"
      ],
      "execution_count": 50,
      "outputs": [
        {
          "output_type": "execute_result",
          "data": {
            "text/plain": [
              "TensorShape([3, 32])"
            ]
          },
          "metadata": {
            "tags": []
          },
          "execution_count": 50
        }
      ]
    },
    {
      "cell_type": "code",
      "metadata": {
        "colab": {
          "base_uri": "https://localhost:8080/"
        },
        "id": "cV_0vOggD-oZ",
        "outputId": "cb8bf33d-ce2b-4356-c713-5e9a929084e5"
      },
      "source": [
        "# 5x32(feature to hidden), 32x32(hidden to hidden), 32(bias)\n",
        "xh, hh, b = [w.numpy() for w in model.weights]\n",
        "hidden_v = np.zeros((3, 32))\n",
        "# T timestamp\n",
        "for t in range(input_seq.shape[1]):\n",
        "    hidden_v = tf.math.tanh(input_seq[:, t, :] @ xh + hidden_v @ hh + b)\n",
        "print(np.allclose(model(input_seq), hidden_v))"
      ],
      "execution_count": 51,
      "outputs": [
        {
          "output_type": "stream",
          "text": [
            "True\n"
          ],
          "name": "stdout"
        }
      ]
    },
    {
      "cell_type": "markdown",
      "metadata": {
        "id": "IJcfm0fJK_5L"
      },
      "source": [
        "一個 sequence 中，先輸入的東西不同，導致 hidden_v 存的東西不同 \\\\\n",
        "使得後續 seq 即便輸入不同的值，也會有不同的 output \\\\\n",
        "這不像是其他的 NN 那樣把每個輸入之間都視為 independent"
      ]
    },
    {
      "cell_type": "code",
      "metadata": {
        "id": "XpEwApRsGdMs"
      },
      "source": [
        ""
      ],
      "execution_count": 51,
      "outputs": []
    },
    {
      "cell_type": "markdown",
      "metadata": {
        "id": "TBlO4xs9PRAd"
      },
      "source": [
        "# Bidirectional RNN"
      ]
    },
    {
      "cell_type": "markdown",
      "metadata": {
        "id": "hueht1-aPbef"
      },
      "source": [
        "讀一句子，如果也考慮到從後看到前，效果會更好"
      ]
    },
    {
      "cell_type": "code",
      "metadata": {
        "colab": {
          "base_uri": "https://localhost:8080/"
        },
        "id": "Hm4-MYu5NdeO",
        "outputId": "5b9d93bb-2a07-441d-8539-b3742c3636f8"
      },
      "source": [
        "# N x T x D\n",
        "input_seq = tf.random.uniform((3, 10, 5))\n",
        "inputs = Input(input_seq[0].shape)\n",
        "y = Bidirectional(SimpleRNN(32))(inputs)\n",
        "model = Model(inputs, y)\n",
        "model.summary()"
      ],
      "execution_count": 52,
      "outputs": [
        {
          "output_type": "stream",
          "text": [
            "Model: \"model_4\"\n",
            "_________________________________________________________________\n",
            "Layer (type)                 Output Shape              Param #   \n",
            "=================================================================\n",
            "input_5 (InputLayer)         [(None, 10, 5)]           0         \n",
            "_________________________________________________________________\n",
            "bidirectional (Bidirectional (None, 64)                2432      \n",
            "=================================================================\n",
            "Total params: 2,432\n",
            "Trainable params: 2,432\n",
            "Non-trainable params: 0\n",
            "_________________________________________________________________\n"
          ],
          "name": "stdout"
        }
      ]
    },
    {
      "cell_type": "code",
      "metadata": {
        "colab": {
          "base_uri": "https://localhost:8080/"
        },
        "id": "sdU5F5LeNp98",
        "outputId": "56affc28-09db-46b9-f895-0e5c4d3f5ac0"
      },
      "source": [
        "# 5x32(feature to hidden), 32x32(hidden to hidden), 32(bias)\n",
        "xh, hh, b, xh_backward, hh_backward, b_backward = [w.numpy() for w in model.weights]\n",
        "hidden_v = np.zeros((3, 32))\n",
        "hidden_v_backward = np.zeros((3, 32))\n",
        "T = input_seq.shape[1]\n",
        "# T timestamp\n",
        "for t in range(input_seq.shape[1]):\n",
        "    hidden_v = tf.math.tanh(input_seq[:, t, :] @ xh + hidden_v @ hh + b)\n",
        "    hidden_v_backward = tf.math.tanh(input_seq[:, T-1-t, :] @ xh_backward + hidden_v_backward @ hh_backward + b_backward)\n",
        "print(np.allclose(model(input_seq), tf.concat([hidden_v, hidden_v_backward], axis=1)))"
      ],
      "execution_count": 53,
      "outputs": [
        {
          "output_type": "stream",
          "text": [
            "True\n"
          ],
          "name": "stdout"
        }
      ]
    },
    {
      "cell_type": "code",
      "metadata": {
        "id": "kTB29uXgO5KX"
      },
      "source": [
        ""
      ],
      "execution_count": 53,
      "outputs": []
    },
    {
      "cell_type": "markdown",
      "metadata": {
        "id": "OqsP0U3ivKYK"
      },
      "source": [
        "# LSTM"
      ]
    },
    {
      "cell_type": "code",
      "metadata": {
        "colab": {
          "base_uri": "https://localhost:8080/"
        },
        "id": "38v64pLFTr3H",
        "outputId": "81571753-40a2-4d25-c1a0-03bb7be620eb"
      },
      "source": [
        "# N x T x D\n",
        "hidden = 32\n",
        "input_seq = tf.random.uniform((3, 10, 5))\n",
        "inputs = Input(input_seq[0].shape)\n",
        "y = LSTM(hidden)(inputs)\n",
        "model = Model(inputs, y)\n",
        "model.summary()"
      ],
      "execution_count": 54,
      "outputs": [
        {
          "output_type": "stream",
          "text": [
            "Model: \"model_5\"\n",
            "_________________________________________________________________\n",
            "Layer (type)                 Output Shape              Param #   \n",
            "=================================================================\n",
            "input_6 (InputLayer)         [(None, 10, 5)]           0         \n",
            "_________________________________________________________________\n",
            "lstm (LSTM)                  (None, 32)                4864      \n",
            "=================================================================\n",
            "Total params: 4,864\n",
            "Trainable params: 4,864\n",
            "Non-trainable params: 0\n",
            "_________________________________________________________________\n"
          ],
          "name": "stdout"
        }
      ]
    },
    {
      "cell_type": "code",
      "metadata": {
        "colab": {
          "base_uri": "https://localhost:8080/"
        },
        "id": "Jj2y7qUuTvRF",
        "outputId": "f4ede5f5-766e-4df8-dd9e-3b25ac2026ac"
      },
      "source": [
        "xh, hh, b = [w.numpy() for w in model.weights]\n",
        "hidden_v = np.zeros((3, hidden))\n",
        "cell = np.zeros((3, hidden))\n",
        "for t in range(input_seq.shape[1]):\n",
        "    # 3x5 @ 5x128 + 3x32 @ 32x128 + 128,\n",
        "    z = input_seq[:, t, :] @ xh + hidden_v @ hh + b\n",
        "    input_gate = tf.math.sigmoid(z[:,  :hidden])\n",
        "    forget_gate = tf.math.sigmoid(z[:, hidden:2*hidden])\n",
        "    input = tf.math.tanh(z[:, 2*hidden:3*hidden])\n",
        "    output_gate = tf.math.sigmoid(z[:, 3*hidden:4*hidden])\n",
        "    cell = input * input_gate + cell * forget_gate\n",
        "    hidden_v = tf.math.tanh(cell) * output_gate\n",
        "print(np.allclose(model(input_seq), hidden_v))"
      ],
      "execution_count": 55,
      "outputs": [
        {
          "output_type": "stream",
          "text": [
            "True\n"
          ],
          "name": "stdout"
        }
      ]
    },
    {
      "cell_type": "code",
      "metadata": {
        "id": "0Vub_RRCumng"
      },
      "source": [
        ""
      ],
      "execution_count": 55,
      "outputs": []
    }
  ]
}