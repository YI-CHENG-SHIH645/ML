{
  "nbformat": 4,
  "nbformat_minor": 0,
  "metadata": {
    "colab": {
      "name": "Neural_Net.ipynb",
      "provenance": [],
      "collapsed_sections": [],
      "authorship_tag": "ABX9TyNeWolC38RoEM5WCloQy0hy",
      "include_colab_link": true
    },
    "kernelspec": {
      "name": "python3",
      "display_name": "Python 3"
    },
    "language_info": {
      "name": "python"
    }
  },
  "cells": [
    {
      "cell_type": "markdown",
      "metadata": {
        "id": "view-in-github",
        "colab_type": "text"
      },
      "source": [
        "<a href=\"https://colab.research.google.com/github/YI-CHENG-SHIH645/ML-in-Business_practice/blob/master/ch6_NN/Neural_Net.ipynb\" target=\"_parent\"><img src=\"https://colab.research.google.com/assets/colab-badge.svg\" alt=\"Open In Colab\"/></a>"
      ]
    },
    {
      "cell_type": "code",
      "metadata": {
        "id": "DYVFlU9_Z1RU"
      },
      "source": [
        "base_url = \"https://github.com/YI-CHENG-SHIH645/ML-in-Business_practice/raw/master/ch6_NN\"\n",
        "!wget -O \"utils.py\" \"https://github.com/YI-CHENG-SHIH645/ML-in-Business_practice/raw/master/utils.py\"\n",
        "!wget -O \"linear.py\" \"$base_url/linear.py\"\n",
        "!wget -O \"common.py\" \"$base_url/common.py\"\n",
        "!wget -O \"models.py\" \"$base_url/models.py\"\n",
        "!wget -O \"training.py\" \"$base_url/training.py\"\n",
        "\n",
        "from linear import normal_equation\n",
        "from common import fetch_iowa, stdize\n",
        "from models import SingleLayerModel, MultiLayerModel\n",
        "from training import train_step, test_step\n",
        "import numpy as np\n",
        "import tensorflow as tf\n",
        "from tensorflow.keras import Model\n",
        "from tensorflow.keras.layers import Dense\n",
        "from sklearn.metrics import mean_squared_error\n",
        "from sklearn.model_selection import train_test_split\n",
        "from scipy import stats\n",
        "import matplotlib.pyplot as plt"
      ],
      "execution_count": null,
      "outputs": []
    },
    {
      "cell_type": "code",
      "metadata": {
        "id": "S8cA4_PsDtj5",
        "colab": {
          "base_uri": "https://localhost:8080/"
        },
        "outputId": "3f178fd9-8e40-4afe-e159-4c382e8f497c"
      },
      "source": [
        "#@title the best predictions we can possibly achieve ... ?\n",
        "(x_train, x_test), (y_train, y_test) = fetch_iowa()\n",
        "best_params = normal_equation(x_train, y_train)\n",
        "pred = (x_train @ best_params).astype(int)\n",
        "\n",
        "print(pred[:5])\n",
        "print(y_train[:5])\n",
        "\n",
        "print(f\"{mean_squared_error(y_train, pred):.2E}\")"
      ],
      "execution_count": 2,
      "outputs": [
        {
          "output_type": "stream",
          "text": [
            "[219747 151636 224087 221452 266039]\n",
            "[208500 181500 223500 140000 250000]\n",
            "2.10E+09\n"
          ],
          "name": "stdout"
        }
      ]
    },
    {
      "cell_type": "code",
      "metadata": {
        "id": "QlqNJawm3Cd1"
      },
      "source": [
        "x_train_stdized, x_test_stdized = stdize(x_train, x_test)\n",
        "train_ds = tf.data.Dataset.from_tensor_slices((x_train_stdized, y_train)).shuffle(10000).batch(32)\n",
        "test_ds = tf.data.Dataset.from_tensor_slices((x_test_stdized, y_test)).batch(32)\n",
        "\n",
        "train_loss = tf.keras.metrics.Sum('train_loss')\n",
        "test_loss = tf.keras.metrics.Sum('test_loss')\n",
        "loss_object = tf.keras.losses.MeanSquaredError()\n",
        "optimizer = tf.keras.optimizers.Adam(learning_rate=.01)\n",
        "model = MultiLayerModel()\n",
        "\n",
        "train_history = []\n",
        "test_history = []\n",
        "for epoch in range(10):\n",
        "    train_loss.reset_states()\n",
        "    test_loss.reset_states()\n",
        "\n",
        "    for x, y in train_ds:\n",
        "        loss = train_step(x, y, model, loss_object, optimizer)\n",
        "        train_loss(loss * len(y)) # squared error\n",
        "    \n",
        "    for x, y in test_ds:\n",
        "        t_loss = test_step(x, y, model, loss_object)\n",
        "        test_loss(t_loss * len(y)) # squared error\n",
        "\n",
        "    train_history.append(train_loss.result()/len(x_train))\n",
        "    test_history.append(test_loss.result()/len(x_test))"
      ],
      "execution_count": 3,
      "outputs": []
    },
    {
      "cell_type": "code",
      "metadata": {
        "colab": {
          "base_uri": "https://localhost:8080/",
          "height": 331
        },
        "id": "GNP9e-NtyLn1",
        "outputId": "bc0dcdf7-6a2a-4675-af84-13c7eb08e285"
      },
      "source": [
        "plt.plot(train_history)\n",
        "plt.plot(test_history)\n",
        "plt.legend(['train', 'test'])\n",
        "plt.show()\n",
        "print(f\"train_mse: {train_history[-1]:.2E}\")\n",
        "print(f\"test_mse: {test_history[-1]:.2E}\")"
      ],
      "execution_count": 4,
      "outputs": [
        {
          "output_type": "display_data",
          "data": {
            "image/png": "[encoded data removed]",
            "text/plain": [
              "<Figure size 432x288 with 1 Axes>"
            ]
          },
          "metadata": {
            "tags": [],
            "needs_background": "light"
          }
        },
        {
          "output_type": "stream",
          "text": [
            "train_mse: 1.74E+09\n",
            "test_mse: 1.71E+09\n"
          ],
          "name": "stdout"
        }
      ]
    },
    {
      "cell_type": "code",
      "metadata": {
        "colab": {
          "base_uri": "https://localhost:8080/"
        },
        "id": "3zIDXNhsWqEL",
        "outputId": "e6f504e9-357b-4933-b1d3-6465f827ddf9"
      },
      "source": [
        "pred = model(x_test_stdized).numpy().ravel().astype(int)\n",
        "print(pred[:5])\n",
        "print(y_test[:5])"
      ],
      "execution_count": 5,
      "outputs": [
        {
          "output_type": "stream",
          "text": [
            "[269797 273383 209599 167560 219285]\n",
            "[212700 256000 230348 188000 192500]\n"
          ],
          "name": "stdout"
        }
      ]
    },
    {
      "cell_type": "code",
      "metadata": {
        "id": "-MFY1R-rSlxI"
      },
      "source": [
        ""
      ],
      "execution_count": 5,
      "outputs": []
    },
    {
      "cell_type": "code",
      "metadata": {
        "id": "ikoO1ioQTdRX"
      },
      "source": [
        "train_loss = tf.keras.metrics.Sum('train_loss')\n",
        "test_loss = tf.keras.metrics.Sum('test_loss')\n",
        "optimizer = tf.keras.optimizers.SGD(learning_rate=1e-7)\n",
        "model = SingleLayerModel()\n",
        "\n",
        "train_history = []\n",
        "test_history = []\n",
        "for epoch in range(10):\n",
        "    train_loss.reset_states()\n",
        "    test_loss.reset_states()\n",
        "\n",
        "    for x, y in train_ds:\n",
        "        loss = train_step(x, y, model, loss_object, optimizer)\n",
        "        train_loss(loss * len(y)) # squared error\n",
        "\n",
        "    for x, y in test_ds:\n",
        "        t_loss = test_step(x, y, model, loss_object)\n",
        "        test_loss(t_loss * len(y)) # squared error\n",
        "\n",
        "    train_history.append(train_loss.result()/len(x_train))\n",
        "    test_history.append(test_loss.result()/len(x_test))"
      ],
      "execution_count": 8,
      "outputs": []
    },
    {
      "cell_type": "code",
      "metadata": {
        "colab": {
          "base_uri": "https://localhost:8080/",
          "height": 331
        },
        "id": "9RJR3N0t18Yt",
        "outputId": "044c540f-8b58-439c-e42a-606e1e9b7706"
      },
      "source": [
        "plt.plot(train_history)\n",
        "plt.plot(test_history)\n",
        "plt.legend(['train', 'test'])\n",
        "plt.show()\n",
        "print(f\"train_mse: {train_history[-1]:.2E}\")\n",
        "print(f\"test_mse: {test_history[-1]:.2E}\")"
      ],
      "execution_count": 9,
      "outputs": [
        {
          "output_type": "display_data",
          "data": {
            "image/png": "[encoded data removed]",
            "text/plain": [
              "<Figure size 432x288 with 1 Axes>"
            ]
          },
          "metadata": {
            "tags": [],
            "needs_background": "light"
          }
        },
        {
          "output_type": "stream",
          "text": [
            "train_mse: 1.91E+09\n",
            "test_mse: 1.82E+09\n"
          ],
          "name": "stdout"
        }
      ]
    },
    {
      "cell_type": "code",
      "metadata": {
        "colab": {
          "base_uri": "https://localhost:8080/"
        },
        "id": "qbd3Zn0EoLCa",
        "outputId": "4045dce2-d908-4954-ce85-eb7c8ceba74d"
      },
      "source": [
        "pred = model(x_test_stdized).numpy().ravel().astype(int)\n",
        "print(pred[:5])\n",
        "print(y_test[:5])"
      ],
      "execution_count": 10,
      "outputs": [
        {
          "output_type": "stream",
          "text": [
            "[263782 267971 216548 177230 227680]\n",
            "[212700 256000 230348 188000 192500]\n"
          ],
          "name": "stdout"
        }
      ]
    },
    {
      "cell_type": "code",
      "metadata": {
        "id": "yyC2Zh0FoQGV"
      },
      "source": [
        ""
      ],
      "execution_count": null,
      "outputs": []
    },
    {
      "cell_type": "markdown",
      "metadata": {
        "id": "P8H0Nz1i3ABx"
      },
      "source": [
        "\n",
        "\n",
        "*   如何計算出 output -> current predictions  (實作)\n",
        "*   Automatic Diffentiation(AD) -> get gradients  (未實作)\n",
        "*   如何使用 gradients 提高模型準度 -> gradient descent methods (解說)\n",
        "\n"
      ]
    },
    {
      "cell_type": "code",
      "metadata": {
        "colab": {
          "base_uri": "https://localhost:8080/"
        },
        "id": "XT8yY4En8Q6m",
        "outputId": "9c820673-93f5-44ae-db9b-fbbe4ece619f"
      },
      "source": [
        "optimizer = tf.keras.optimizers.SGD(learning_rate=1e-7)\n",
        "\n",
        "tf.random.set_seed(3)\n",
        "model = SingleLayerModel()\n",
        "\n",
        "def train_step_with_details(x, y, i=0):\n",
        "    with tf.GradientTape() as tape:\n",
        "        y_pred = model(x)\n",
        "        loss = loss_object(y, y_pred)\n",
        "    gradients = tape.gradient(loss, model.trainable_variables)\n",
        "    if i:\n",
        "        print(\"gradients:\")\n",
        "        print(np.r_[gradients[0].numpy(), gradients[1].numpy().reshape(1, -1)])\n",
        "        print(np.r_[gradients[2].numpy(), gradients[3].numpy().reshape(1, -1)])\n",
        "        print()\n",
        "        \n",
        "        print(\"original weights:\")\n",
        "        print(np.r_[model.weights[0].numpy(), model.weights[1].numpy().reshape(1, -1)])\n",
        "        print(np.r_[model.weights[2].numpy(), model.weights[3].numpy().reshape(1, -1)])\n",
        "        print()\n",
        "\n",
        "    optimizer.apply_gradients(zip(gradients, model.trainable_variables))\n",
        "    if i:\n",
        "        print(\"modified weights:\")\n",
        "        print(np.r_[model.weights[0].numpy(), model.weights[1].numpy().reshape(1, -1)])\n",
        "        print(np.r_[model.weights[2].numpy(), model.weights[3].numpy().reshape(1, -1)])\n",
        "        print()\n",
        "\n",
        "        print(\"original output:\\n\", y_pred, '\\n')\n",
        "        print(\"modified output:\\n\", model(x), '\\n')\n",
        "        print(\"y true\", y, '\\n')\n",
        "\n",
        "train_ds = tf.data.Dataset.from_tensor_slices((x_train_stdized[:, :2], y_train)).shuffle(10000).batch(1)\n",
        "\n",
        "first_data = list(train_ds.take(1))[0]\n",
        "x = first_data[0].numpy()\n",
        "y = first_data[1].numpy()\n",
        "first_data = np.c_[list(train_ds.take(1))[0][0].numpy(), 1]\n",
        "print(\"input:\\n\", x, '\\n')\n",
        "train_step_with_details(x, y, i=1)"
      ],
      "execution_count": null,
      "outputs": [
        {
          "output_type": "stream",
          "text": [
            "input:\n",
            " [[ 0.45386352 -0.8057162 ]] \n",
            "\n",
            "gradients:\n",
            "[[ 54826.496      0.         0.   ]\n",
            " [-97330.125      0.         0.   ]\n",
            " [120799.516      0.         0.   ]]\n",
            "[[ -85930.15]\n",
            " [      0.  ]\n",
            " [      0.  ]\n",
            " [-336000.2 ]]\n",
            "\n",
            "original weights:\n",
            "[[-0.66915953 -0.68732166 -0.8237487 ]\n",
            " [-0.694353    0.15731323  0.63675463]\n",
            " [ 0.          0.          0.        ]]\n",
            "[[-0.35952216]\n",
            " [ 0.7060987 ]\n",
            " [-1.2130281 ]\n",
            " [ 0.        ]]\n",
            "\n",
            "modified weights:\n",
            "[[-0.6746422  -0.68732166 -0.8237487 ]\n",
            " [-0.68461996  0.15731323  0.63675463]\n",
            " [-0.01207995  0.          0.        ]]\n",
            "[[-0.35092914]\n",
            " [ 0.7060987 ]\n",
            " [-1.2130281 ]\n",
            " [ 0.03360002]]\n",
            "\n",
            "original output:\n",
            " tf.Tensor([[-0.09194576]], shape=(1, 1), dtype=float32) \n",
            "\n",
            "modified output:\n",
            " tf.Tensor([[-0.04828367]], shape=(1, 1), dtype=float32) \n",
            "\n",
            "y true [168000] \n",
            "\n"
          ],
          "name": "stdout"
        }
      ]
    },
    {
      "cell_type": "code",
      "metadata": {
        "colab": {
          "base_uri": "https://localhost:8080/"
        },
        "id": "2zlrOhJmVyDf",
        "outputId": "98c6c8e8-1c94-42af-d432-1ec9f85b050d"
      },
      "source": [
        "def sigmoid(raw_output):\n",
        "    return 1 / (1 + np.exp(-raw_output))\n",
        "\n",
        "def linear(raw_output):\n",
        "    return raw_output\n",
        "\n",
        "def relu(raw_output):\n",
        "    return (abs(raw_output) + raw_output) / 2\n",
        "\n",
        "\n",
        "weights = {\n",
        "    'layer_1': np.array([[-0.66915953, -0.68732166, -0.8237487 ],\n",
        "                         [-0.694353,    0.15731323,  0.63675463],\n",
        "                         [ 0.,          0.,          0.,        ]]),\n",
        "    'final_layer': np.array([[-0.35952216],\n",
        "                             [ 0.7060987 ],\n",
        "                             [-1.2130281 ],\n",
        "                             [ 0.        ]])\n",
        "}\n",
        "activations = {\n",
        "    'layer_1': relu,\n",
        "    'final_layer': linear\n",
        "}\n",
        "\n",
        "data = np.c_[x_train_stdized[:, :2], np.ones(len(x_train_stdized))]\n",
        "first_data = np.c_[x, 1]\n",
        "neuron_val = first_data\n",
        "for ith_layer in weights:\n",
        "    print(\"{}個 input value + bias 1:\".format(neuron_val.shape[1]-1), neuron_val.shape)\n",
        "    print(\"{} input, {} output:\".format(*weights[ith_layer].shape), weights[ith_layer].shape)\n",
        "    neuron_val = activations[ith_layer](neuron_val @ weights[ith_layer])\n",
        "    if ith_layer != 'final_layer':\n",
        "        neuron_val = np.c_[neuron_val, np.ones(first_data.shape[0])]\n",
        "        print(\"{} output + bias 1:\".format(neuron_val.shape[1]-1), neuron_val.shape)\n",
        "    else:\n",
        "        print(\"1 個 output:\", neuron_val.shape)\n",
        "    print()\n",
        "print(neuron_val[0])"
      ],
      "execution_count": null,
      "outputs": [
        {
          "output_type": "stream",
          "text": [
            "2個 input value + bias 1: (1, 3)\n",
            "3 input, 3 output: (3, 3)\n",
            "3 output + bias 1: (1, 4)\n",
            "\n",
            "3個 input value + bias 1: (1, 4)\n",
            "4 input, 1 output: (4, 1)\n",
            "1 個 output: (1, 1)\n",
            "\n",
            "[-0.09194576]\n"
          ],
          "name": "stdout"
        }
      ]
    },
    {
      "cell_type": "markdown",
      "metadata": {
        "id": "KxZbsRyaEwYY"
      },
      "source": [
        "# Gradient Descent methods\n",
        "\n",
        "## SGD \n",
        "\n",
        "compute gradients with\n",
        "*   the whole dataset\n",
        "*   a single instance\n",
        "*   a batch"
      ]
    },
    {
      "cell_type": "markdown",
      "metadata": {
        "id": "XdZKMn9rCz3G"
      },
      "source": [
        "## challenges:\n",
        "\n",
        "\n",
        "*   Choose proper lr at each stage\n",
        "*   Choose proper lr for each feature \n",
        "    * larger update for rarely ocurring features\n",
        "    * gradient 越大 -> learning rate 應該越大?\n",
        "*   Escape from local minimum / saddle point"
      ]
    },
    {
      "cell_type": "markdown",
      "metadata": {
        "id": "Q94U9x-uC4zF"
      },
      "source": [
        "## Momentum \n",
        "reduce oscillation \\\\\n",
        ">$v_t = momentum * v_{t-1} + \\eta * \\nabla L(\\theta_{t-1}), momentum < 1$ \\\\\n",
        ">$\\theta_t = \\theta_{t-1} - v_t$ \\\\\n",
        "\n",
        "batch size 很小， gradient方向頻繁變動， \\\\\n",
        "增加與過往同方向的 gradient 大小， \\\\\n",
        "減少與過往反方向的 gradient 大小"
      ]
    },
    {
      "cell_type": "markdown",
      "metadata": {
        "id": "9rDXCv-lDE8C"
      },
      "source": [
        "## Adagrad \n",
        "\n",
        ">$ \\theta_t = \\theta_{t-1} - \\frac{\\eta}{\\sqrt{G_{t-1} + \\epsilon}}\\nabla L$ \\\\\n",
        ">$ \\epsilon = 1e-8, G_t$ is a diagonal matrix, $G_{(t-1, ii)} = \\sum_{i=0}^{t-1} (\\nabla L(\\theta_i))^2 $ \\\\\n",
        "<br>\n",
        ">問題： 隨著 $ G_t $ 累加，learning rate 會過小（失去本意）"
      ]
    },
    {
      "cell_type": "markdown",
      "metadata": {
        "id": "QCGDpMyEDKT-"
      },
      "source": [
        "## RMSprop\n",
        "\n",
        ">$ \\theta_t = \\theta_{t-1} - \\frac{\\eta}{\\sqrt{E[g^2]_{t-1} + \\epsilon}}\\nabla L$ \\\\\n",
        ">$ E[g^2]_{t-1} = 0.9 E[g^2]_{t-2} + 0.1 g_{t-1}^2 $ \\\\\n",
        "<br>\n",
        ">解決 Adagrad 的問題"
      ]
    },
    {
      "cell_type": "markdown",
      "metadata": {
        "id": "jUWCnlQcDLqN"
      },
      "source": [
        "## Adam (RMSprop + momentum)\n",
        "\n",
        ">$ m_t = \\beta_1 m_{t-1} * (1 - \\beta_1) g_t $   ------ momentum \\\\\n",
        ">$ v_t = \\beta_2 v_{t-1} * (1 - \\beta_2) g_t^2 $ ------ RMSprop \\\\\n",
        ">$ \\hat{m_t} = \\frac{m_t}{1 - \\beta_1} $, \n",
        ">$ \\hat{v_t} = \\frac{v_t}{1 - \\beta_2} $  ------ 讓一開始的 $m_t, v_t$ 不要太小 \\\\\n",
        "<br>\n",
        ">$ \\theta_{t+1} = \\theta_t - \\frac{\\eta}{\\sqrt{\\hat{v_t}} + \\epsilon} \\hat{m_t} $"
      ]
    },
    {
      "cell_type": "code",
      "metadata": {
        "id": "o8bimT2n349-"
      },
      "source": [
        ""
      ],
      "execution_count": null,
      "outputs": []
    },
    {
      "cell_type": "markdown",
      "metadata": {
        "id": "eYR9dKu33vis"
      },
      "source": [
        "# 用 NN approx. BSM model"
      ]
    },
    {
      "cell_type": "code",
      "metadata": {
        "id": "mW_b2HmFpD5M"
      },
      "source": [
        "n = 60000\n",
        "np.random.seed(3)\n",
        "\n",
        "N_ = stats.norm(loc=0.0, scale=1.0)\n",
        "N = lambda d: N_.cdf(d)\n",
        "\n",
        "bounds = [(40, 60), (0.5, 1.5), (0, 0.05), (0.1, 0.4), (0.25, 2)]\n",
        "S, K, r, sigma, T = [np.random.uniform(*bound, (n, 1)).round(3) for bound in bounds]\n",
        "K = S * K\n",
        "\n",
        "d1 = (np.log(S/K) + (r + sigma**2/2)*T)/(sigma * np.sqrt(T))\n",
        "d2 = (np.log(S/K) + (r - sigma**2/2)*T)/(sigma * np.sqrt(T))\n",
        "\n",
        "option_price = S * N(d1) - K * np.exp(-r*T) * N(d2)\n",
        "option_price_with_noise = option_price + np.random.normal(0.0, .15, (n, 1))"
      ],
      "execution_count": 11,
      "outputs": []
    },
    {
      "cell_type": "code",
      "metadata": {
        "id": "mIJ11zcYSN_0"
      },
      "source": [
        "x = np.c_[S, K, r, sigma, T]\n",
        "y = option_price_with_noise\n",
        "x_train, x_r, y_train, y_r =  train_test_split(x, y, train_size=1/3, random_state=3)\n",
        "x_val, x_test, y_val, y_test =  train_test_split(x_r, y_r, test_size=1/2, random_state=3)\n",
        "\n",
        "x_train_stdized, x_val_stdized = stdize(x_train, x_val)\n",
        "_, x_test_stdized = stdize(x_train, x_test)\n",
        "\n",
        "train_ds = tf.data.Dataset.from_tensor_slices((x_train_stdized, y_train)).shuffle(10000).batch(32)\n",
        "val_ds = tf.data.Dataset.from_tensor_slices((x_val_stdized, y_val)).batch(32)\n",
        "test_ds = tf.data.Dataset.from_tensor_slices((x_test_stdized, y_test)).batch(32)"
      ],
      "execution_count": 12,
      "outputs": []
    },
    {
      "cell_type": "code",
      "metadata": {
        "id": "SJoL92WYV2IQ"
      },
      "source": [
        "model = MultiLayerModel()\n",
        "model.compile(optimizer='Adam', loss='mae')\n",
        "\n",
        "# callbacks\n",
        "es = tf.keras.callbacks.EarlyStopping('val_loss', patience=15)\n",
        "reduce_lr = tf.keras.callbacks.ReduceLROnPlateau(min_lr=1e-6)\n",
        "\n",
        "history = model.fit(train_ds,\n",
        "                    validation_data=val_ds,\n",
        "                    epochs=60,\n",
        "                    callbacks=[es, reduce_lr],\n",
        "                    verbose=0)"
      ],
      "execution_count": 17,
      "outputs": []
    },
    {
      "cell_type": "code",
      "metadata": {
        "colab": {
          "base_uri": "https://localhost:8080/",
          "height": 320
        },
        "id": "boj4td5kBfXw",
        "outputId": "b9852d94-b02d-446d-b54b-91a2e64bbb21"
      },
      "source": [
        "plt.plot(history.history['loss'])\n",
        "plt.plot(history.history['val_loss'])\n",
        "plt.legend(['train', 'val'])\n",
        "plt.show()\n",
        "print(f\"train_mse: {history.history['loss'][-1]:.4f}\")\n",
        "print(f\"val_mse: {history.history['val_loss'][-1]:.4f}\")"
      ],
      "execution_count": 20,
      "outputs": [
        {
          "output_type": "display_data",
          "data": {
            "image/png": "[encoded data removed]",
            "text/plain": [
              "<Figure size 432x288 with 1 Axes>"
            ]
          },
          "metadata": {
            "tags": [],
            "needs_background": "light"
          }
        },
        {
          "output_type": "stream",
          "text": [
            "train_mse: 0.1165\n",
            "val_mse: 0.1245\n"
          ],
          "name": "stdout"
        }
      ]
    },
    {
      "cell_type": "markdown",
      "metadata": {
        "id": "2ohs1ssj9GGF"
      },
      "source": [
        "$y = \\frac{1}{\\sigma \\sqrt{2\\pi}}e^{-\\frac{x^2}{2 \\sigma^2}}$ \\\\\n",
        "<br>\n",
        "$E[|X|]$ \\\\\n",
        ">> $ = \\frac{1}{\\sigma \\sqrt{2\\pi}} (\\int_{-\\infty}^0 -x e^{-\\frac{x^2}{2 \\sigma^2}} dx + \\int_0^{\\infty}x e^{-\\frac{x^2}{2 \\sigma^2}} dx $) \\\\\n",
        "<br>\n",
        ">> let $t = \\frac{x}{\\sqrt2\\sigma}, dt = \\frac{1}{\\sqrt2\\sigma} dx$ \\\\\n",
        "<br>\n",
        ">> $ = \\frac{1}{\\sqrt{\\pi}} (\\int_{-\\infty}^0 -\\sqrt2\\sigma t e^{-t^2} dt + \\int_0^{\\infty} \\sqrt2\\sigma t e^{-t^2} dt)$ (上下限不動) \\\\\n",
        "<br>$f(t) = t e^{-t}$ 為奇函數 \\\\\n",
        "<br>\n",
        ">> $ = \\sqrt{\\frac{2}{\\pi}}\\sigma * 2 \\int_0^{\\infty} t e^{-t^2} dt)$ \\\\\n",
        "<br>\n",
        ">> let $u = -t^2, du = -2tdt, -\\frac{1}{2}du = tdt$ \\\\\n",
        "<br>\n",
        ">> $ = \\sqrt{\\frac{2}{\\pi}}\\sigma * (- \\int_0^{-\\infty} e^u du))$ \\\\\n",
        "<br>\n",
        ">> $ = \\sqrt{\\frac{2}{\\pi}}\\sigma $"
      ]
    },
    {
      "cell_type": "code",
      "metadata": {
        "colab": {
          "base_uri": "https://localhost:8080/"
        },
        "id": "YSalhTxfWzV7",
        "outputId": "06783df5-fbdf-431f-9d1f-a9ccc7ad6ddb"
      },
      "source": [
        "round(np.sqrt(2/np.pi) * 0.15, 4)"
      ],
      "execution_count": null,
      "outputs": [
        {
          "output_type": "execute_result",
          "data": {
            "text/plain": [
              "0.1197"
            ]
          },
          "metadata": {
            "tags": []
          },
          "execution_count": 24
        }
      ]
    },
    {
      "cell_type": "code",
      "metadata": {
        "id": "TGuDwvBCCcjp"
      },
      "source": [
        ""
      ],
      "execution_count": null,
      "outputs": []
    },
    {
      "cell_type": "markdown",
      "metadata": {
        "id": "e6xixEGfCc3U"
      },
      "source": [
        "# Autoencoders"
      ]
    },
    {
      "cell_type": "code",
      "metadata": {
        "id": "Gca4HRhi9A_j"
      },
      "source": [
        ""
      ],
      "execution_count": null,
      "outputs": []
    }
  ]
}