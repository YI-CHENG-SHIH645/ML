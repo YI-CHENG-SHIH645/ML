{
  "nbformat": 4,
  "nbformat_minor": 0,
  "metadata": {
    "colab": {
      "name": "ch2.ipynb",
      "provenance": [],
      "collapsed_sections": [],
      "include_colab_link": true
    },
    "kernelspec": {
      "name": "python3",
      "language": "python",
      "display_name": "Python 3"
    }
  },
  "cells": [
    {
      "cell_type": "markdown",
      "metadata": {
        "id": "view-in-github",
        "colab_type": "text"
      },
      "source": [
        "<a href=\"https://colab.research.google.com/github/YI-CHENG-SHIH645/ML-in-Business_practice/blob/main/ch2_unsupervised-learning/ch2.ipynb\" target=\"_parent\"><img src=\"https://colab.research.google.com/assets/colab-badge.svg\" alt=\"Open In Colab\"/></a>"
      ]
    },
    {
      "cell_type": "code",
      "metadata": {
        "colab": {
          "base_uri": "https://localhost:8080/"
        },
        "id": "RIWW8SXJiNtY",
        "cellView": "form",
        "outputId": "a27de377-6a0b-4860-db67-a608a73f9951"
      },
      "source": [
        "#@title Imports\n",
        "!gdown --id \"15p2cUU3ocPUDDS9tGmhNos05dSyJFd2A\"\n",
        "!pip install FinMind\n",
        "\n",
        "import pandas as pd\n",
        "import numpy as np\n",
        "from sklearn.cluster import KMeans\n",
        "from sklearn.preprocessing import StandardScaler\n",
        "from sklearn.metrics import silhouette_score\n",
        "from sklearn.decomposition import PCA\n",
        "from sklearn.cluster import AgglomerativeClustering\n",
        "import matplotlib.pyplot as plt\n",
        "from utils import DataLoader, display_side_by_side\n",
        "import seaborn as sns\n",
        "from matplotlib import style\n",
        "style.use('dark_background')\n",
        "\n",
        "scaler = StandardScaler()"
      ],
      "execution_count": null,
      "outputs": [
        {
          "output_type": "stream",
          "text": [
            "Downloading...\n",
            "From: https://drive.google.com/uc?id=15p2cUU3ocPUDDS9tGmhNos05dSyJFd2A\n",
            "To: /content/utils.py\n",
            "\r  0% 0.00/7.29k [00:00<?, ?B/s]\r100% 7.29k/7.29k [00:00<00:00, 11.7MB/s]\n",
            "Requirement already satisfied: FinMind in /usr/local/lib/python3.7/dist-packages (1.3.6)\n",
            "Requirement already satisfied: pandas==1.1.5 in /usr/local/lib/python3.7/dist-packages (from FinMind) (1.1.5)\n",
            "Requirement already satisfied: requests==2.23.0 in /usr/local/lib/python3.7/dist-packages (from FinMind) (2.23.0)\n",
            "Requirement already satisfied: importlib-metadata==1.6.1 in /usr/local/lib/python3.7/dist-packages (from FinMind) (1.6.1)\n",
            "Requirement already satisfied: pydantic==1.6.1 in /usr/local/lib/python3.7/dist-packages (from FinMind) (1.6.1)\n",
            "Requirement already satisfied: ta==0.5.25 in /usr/local/lib/python3.7/dist-packages (from FinMind) (0.5.25)\n",
            "Requirement already satisfied: matplotlib==3.2.1 in /usr/local/lib/python3.7/dist-packages (from FinMind) (3.2.1)\n",
            "Requirement already satisfied: python-dateutil>=2.7.3 in /usr/local/lib/python3.7/dist-packages (from pandas==1.1.5->FinMind) (2.8.1)\n",
            "Requirement already satisfied: numpy>=1.15.4 in /usr/local/lib/python3.7/dist-packages (from pandas==1.1.5->FinMind) (1.19.5)\n",
            "Requirement already satisfied: pytz>=2017.2 in /usr/local/lib/python3.7/dist-packages (from pandas==1.1.5->FinMind) (2018.9)\n",
            "Requirement already satisfied: chardet<4,>=3.0.2 in /usr/local/lib/python3.7/dist-packages (from requests==2.23.0->FinMind) (3.0.4)\n",
            "Requirement already satisfied: idna<3,>=2.5 in /usr/local/lib/python3.7/dist-packages (from requests==2.23.0->FinMind) (2.10)\n",
            "Requirement already satisfied: certifi>=2017.4.17 in /usr/local/lib/python3.7/dist-packages (from requests==2.23.0->FinMind) (2020.12.5)\n",
            "Requirement already satisfied: urllib3!=1.25.0,!=1.25.1,<1.26,>=1.21.1 in /usr/local/lib/python3.7/dist-packages (from requests==2.23.0->FinMind) (1.24.3)\n",
            "Requirement already satisfied: zipp>=0.5 in /usr/local/lib/python3.7/dist-packages (from importlib-metadata==1.6.1->FinMind) (3.4.1)\n",
            "Requirement already satisfied: kiwisolver>=1.0.1 in /usr/local/lib/python3.7/dist-packages (from matplotlib==3.2.1->FinMind) (1.3.1)\n",
            "Requirement already satisfied: pyparsing!=2.0.4,!=2.1.2,!=2.1.6,>=2.0.1 in /usr/local/lib/python3.7/dist-packages (from matplotlib==3.2.1->FinMind) (2.4.7)\n",
            "Requirement already satisfied: cycler>=0.10 in /usr/local/lib/python3.7/dist-packages (from matplotlib==3.2.1->FinMind) (0.10.0)\n",
            "Requirement already satisfied: six>=1.5 in /usr/local/lib/python3.7/dist-packages (from python-dateutil>=2.7.3->pandas==1.1.5->FinMind) (1.15.0)\n"
          ],
          "name": "stdout"
        }
      ]
    },
    {
      "cell_type": "code",
      "metadata": {
        "id": "QSoewPE6O4CK",
        "colab": {
          "base_uri": "https://localhost:8080/",
          "height": 221
        },
        "outputId": "e5d6f42e-2d8d-484d-b6b7-d182201e2a3e"
      },
      "source": [
        "df = DataLoader.load_data('country_risk_url')\n",
        "df.head()"
      ],
      "execution_count": null,
      "outputs": [
        {
          "output_type": "execute_result",
          "data": {
            "text/html": [
              "<div>\n",
              "<style scoped>\n",
              "    .dataframe tbody tr th:only-of-type {\n",
              "        vertical-align: middle;\n",
              "    }\n",
              "\n",
              "    .dataframe tbody tr th {\n",
              "        vertical-align: top;\n",
              "    }\n",
              "\n",
              "    .dataframe thead th {\n",
              "        text-align: right;\n",
              "    }\n",
              "</style>\n",
              "<table border=\"1\" class=\"dataframe\">\n",
              "  <thead>\n",
              "    <tr style=\"text-align: right;\">\n",
              "      <th></th>\n",
              "      <th>Country</th>\n",
              "      <th>Abbrev</th>\n",
              "      <th>Corruption</th>\n",
              "      <th>Peace</th>\n",
              "      <th>Legal</th>\n",
              "      <th>GDP Growth</th>\n",
              "    </tr>\n",
              "  </thead>\n",
              "  <tbody>\n",
              "    <tr>\n",
              "      <th>0</th>\n",
              "      <td>Albania</td>\n",
              "      <td>AL</td>\n",
              "      <td>39</td>\n",
              "      <td>1.867</td>\n",
              "      <td>3.822</td>\n",
              "      <td>3.403</td>\n",
              "    </tr>\n",
              "    <tr>\n",
              "      <th>1</th>\n",
              "      <td>Algeria</td>\n",
              "      <td>DZ</td>\n",
              "      <td>34</td>\n",
              "      <td>2.213</td>\n",
              "      <td>4.160</td>\n",
              "      <td>4.202</td>\n",
              "    </tr>\n",
              "    <tr>\n",
              "      <th>2</th>\n",
              "      <td>Argentina</td>\n",
              "      <td>AR</td>\n",
              "      <td>36</td>\n",
              "      <td>1.957</td>\n",
              "      <td>4.568</td>\n",
              "      <td>-2.298</td>\n",
              "    </tr>\n",
              "    <tr>\n",
              "      <th>3</th>\n",
              "      <td>Armenia</td>\n",
              "      <td>AM</td>\n",
              "      <td>33</td>\n",
              "      <td>2.218</td>\n",
              "      <td>4.126</td>\n",
              "      <td>0.208</td>\n",
              "    </tr>\n",
              "    <tr>\n",
              "      <th>4</th>\n",
              "      <td>Australia</td>\n",
              "      <td>AU</td>\n",
              "      <td>79</td>\n",
              "      <td>1.465</td>\n",
              "      <td>8.244</td>\n",
              "      <td>2.471</td>\n",
              "    </tr>\n",
              "  </tbody>\n",
              "</table>\n",
              "</div>"
            ],
            "text/plain": [
              "     Country Abbrev  Corruption  Peace  Legal  GDP Growth\n",
              "0    Albania     AL          39  1.867  3.822       3.403\n",
              "1    Algeria     DZ          34  2.213  4.160       4.202\n",
              "2  Argentina     AR          36  1.957  4.568      -2.298\n",
              "3    Armenia     AM          33  2.218  4.126       0.208\n",
              "4  Australia     AU          79  1.465  8.244       2.471"
            ]
          },
          "metadata": {
            "tags": []
          },
          "execution_count": 2
        }
      ]
    },
    {
      "cell_type": "code",
      "metadata": {
        "colab": {
          "base_uri": "https://localhost:8080/",
          "height": 452
        },
        "id": "wKAi5FFbrpJ0",
        "cellView": "form",
        "outputId": "c9ea5511-0906-48b3-9ded-0784e5b20e58"
      },
      "source": [
        "#@title correlation between features\n",
        "cols = df.columns[2:6]\n",
        "cov_matrix = np.cov(StandardScaler().fit_transform(df[cols]).T)\n",
        "\n",
        "def draw_cov_heatmap(cov_matrix, cols):\n",
        "    plt.figure(figsize=(6,6), facecolor='w')\n",
        "    sns.set(font_scale=1.2)\n",
        "    hm = sns.heatmap(cov_matrix,\n",
        "                    cmap='coolwarm',\n",
        "                    annot=True,\n",
        "                    square=True,\n",
        "                    fmt='.2f',\n",
        "                    yticklabels=cols,\n",
        "                    xticklabels=cols)\n",
        "    plt.tight_layout()\n",
        "    plt.show()\n",
        "\n",
        "draw_cov_heatmap(cov_matrix, cols)"
      ],
      "execution_count": null,
      "outputs": [
        {
          "output_type": "display_data",
          "data": {
            "image/png": "[encoded data removed]",
            "text/plain": [
              "<Figure size 432x432 with 2 Axes>"
            ]
          },
          "metadata": {
            "tags": []
          }
        }
      ]
    },
    {
      "cell_type": "code",
      "metadata": {
        "id": "BFu9XK7xfzcK"
      },
      "source": [
        ""
      ],
      "execution_count": null,
      "outputs": []
    },
    {
      "cell_type": "markdown",
      "metadata": {
        "id": "LeY039nn3MpF"
      },
      "source": [
        "# k-Means\n",
        "\n",
        "*   Choosing k\n",
        "    *   elbow method\n",
        "    *   silhouette method\n",
        "\n",
        "*   re-run (local minimum problem)"
      ]
    },
    {
      "cell_type": "code",
      "metadata": {
        "id": "xnljrGnh37c_"
      },
      "source": [
        "original_input = df[['Peace', 'Legal', 'GDP Growth']]"
      ],
      "execution_count": null,
      "outputs": []
    },
    {
      "cell_type": "code",
      "metadata": {
        "id": "-FxK7TavQPrw",
        "colab": {
          "base_uri": "https://localhost:8080/",
          "height": 160
        },
        "cellView": "form",
        "outputId": "28688ff3-ca84-4ac9-b0ce-e6da86f77842"
      },
      "source": [
        "#@title kmeans 3 clusters without scaled input\n",
        "#@markdown 分群後需自行解讀合理的 risk level (low, high)\n",
        "kmeans = KMeans(n_clusters=3, random_state=3).fit(original_input)\n",
        "pd.DataFrame(kmeans.cluster_centers_, columns=original_input.columns, index=['low', 'moderate', 'high'])"
      ],
      "execution_count": null,
      "outputs": [
        {
          "output_type": "execute_result",
          "data": {
            "text/html": [
              "<div>\n",
              "<style scoped>\n",
              "    .dataframe tbody tr th:only-of-type {\n",
              "        vertical-align: middle;\n",
              "    }\n",
              "\n",
              "    .dataframe tbody tr th {\n",
              "        vertical-align: top;\n",
              "    }\n",
              "\n",
              "    .dataframe thead th {\n",
              "        text-align: right;\n",
              "    }\n",
              "</style>\n",
              "<table border=\"1\" class=\"dataframe\">\n",
              "  <thead>\n",
              "    <tr style=\"text-align: right;\">\n",
              "      <th></th>\n",
              "      <th>Peace</th>\n",
              "      <th>Legal</th>\n",
              "      <th>GDP Growth</th>\n",
              "    </tr>\n",
              "  </thead>\n",
              "  <tbody>\n",
              "    <tr>\n",
              "      <th>low</th>\n",
              "      <td>1.926408</td>\n",
              "      <td>6.023474</td>\n",
              "      <td>1.748632</td>\n",
              "    </tr>\n",
              "    <tr>\n",
              "      <th>moderate</th>\n",
              "      <td>2.071300</td>\n",
              "      <td>5.019375</td>\n",
              "      <td>5.079650</td>\n",
              "    </tr>\n",
              "    <tr>\n",
              "      <th>high</th>\n",
              "      <td>2.532667</td>\n",
              "      <td>4.083667</td>\n",
              "      <td>-7.771500</td>\n",
              "    </tr>\n",
              "  </tbody>\n",
              "</table>\n",
              "</div>"
            ],
            "text/plain": [
              "             Peace     Legal  GDP Growth\n",
              "low       1.926408  6.023474    1.748632\n",
              "moderate  2.071300  5.019375    5.079650\n",
              "high      2.532667  4.083667   -7.771500"
            ]
          },
          "metadata": {
            "tags": []
          },
          "execution_count": 5
        }
      ]
    },
    {
      "cell_type": "markdown",
      "metadata": {
        "id": "UMBJ33PejIVp"
      },
      "source": [
        "performance measurement\n",
        "*   Inertia\n",
        ">$Inertia=\\sum_{i}\\sum_{j} (d_{j} - m_{i})^2$, where $d_j \\in ith$ cluster\n",
        "*   average silhouette score = $\\frac{1}{N}\\sum_i s(i)$\n",
        ">$s(i)=\\frac{b(i) - a(i)}{max(b(i), a(i))}$, $s(i) \\in [-1, 1]$"
      ]
    },
    {
      "cell_type": "code",
      "metadata": {
        "colab": {
          "base_uri": "https://localhost:8080/"
        },
        "id": "dFIzt_Y4VNPl",
        "outputId": "f936809f-35c7-42bc-e089-550fa9700ebf"
      },
      "source": [
        "round(silhouette_score(original_input, kmeans.labels_), 3)"
      ],
      "execution_count": null,
      "outputs": [
        {
          "output_type": "execute_result",
          "data": {
            "text/plain": [
              "0.37"
            ]
          },
          "metadata": {
            "tags": []
          },
          "execution_count": 6
        }
      ]
    },
    {
      "cell_type": "code",
      "metadata": {
        "id": "B4F-8Dc8P4II"
      },
      "source": [
        ""
      ],
      "execution_count": null,
      "outputs": []
    },
    {
      "cell_type": "code",
      "metadata": {
        "id": "eJqCU4hfPv43"
      },
      "source": [
        "scaled_input = scaler.fit_transform(original_input)"
      ],
      "execution_count": null,
      "outputs": []
    },
    {
      "cell_type": "code",
      "metadata": {
        "id": "qbnf_hh1Twgi",
        "colab": {
          "base_uri": "https://localhost:8080/",
          "height": 160
        },
        "cellView": "form",
        "outputId": "24936b37-18f0-4aec-9c44-f4aabb954df1"
      },
      "source": [
        "#@title kmeans 3 clusters with scaled input\n",
        "kmeans_scaled = KMeans(n_clusters=3, random_state=3).fit(scaled_input)\n",
        "pd.DataFrame(kmeans_scaled.cluster_centers_, columns=original_input.columns, index=['high', 'low', 'moderate'])"
      ],
      "execution_count": null,
      "outputs": [
        {
          "output_type": "execute_result",
          "data": {
            "text/html": [
              "<div>\n",
              "<style scoped>\n",
              "    .dataframe tbody tr th:only-of-type {\n",
              "        vertical-align: middle;\n",
              "    }\n",
              "\n",
              "    .dataframe tbody tr th {\n",
              "        vertical-align: top;\n",
              "    }\n",
              "\n",
              "    .dataframe thead th {\n",
              "        text-align: right;\n",
              "    }\n",
              "</style>\n",
              "<table border=\"1\" class=\"dataframe\">\n",
              "  <thead>\n",
              "    <tr style=\"text-align: right;\">\n",
              "      <th></th>\n",
              "      <th>Peace</th>\n",
              "      <th>Legal</th>\n",
              "      <th>GDP Growth</th>\n",
              "    </tr>\n",
              "  </thead>\n",
              "  <tbody>\n",
              "    <tr>\n",
              "      <th>high</th>\n",
              "      <td>1.397830</td>\n",
              "      <td>-1.046003</td>\n",
              "      <td>-1.801892</td>\n",
              "    </tr>\n",
              "    <tr>\n",
              "      <th>low</th>\n",
              "      <td>-0.931933</td>\n",
              "      <td>1.171223</td>\n",
              "      <td>-0.014518</td>\n",
              "    </tr>\n",
              "    <tr>\n",
              "      <th>moderate</th>\n",
              "      <td>0.260407</td>\n",
              "      <td>-0.473601</td>\n",
              "      <td>0.379518</td>\n",
              "    </tr>\n",
              "  </tbody>\n",
              "</table>\n",
              "</div>"
            ],
            "text/plain": [
              "             Peace     Legal  GDP Growth\n",
              "high      1.397830 -1.046003   -1.801892\n",
              "low      -0.931933  1.171223   -0.014518\n",
              "moderate  0.260407 -0.473601    0.379518"
            ]
          },
          "metadata": {
            "tags": []
          },
          "execution_count": 8
        }
      ]
    },
    {
      "cell_type": "code",
      "metadata": {
        "colab": {
          "base_uri": "https://localhost:8080/"
        },
        "id": "YeeaM8yLUv8H",
        "outputId": "ffd642e7-8cdc-4c7a-ae3f-7afd5ac748d0"
      },
      "source": [
        "round(silhouette_score(scaled_input, kmeans_scaled.labels_), 3)"
      ],
      "execution_count": null,
      "outputs": [
        {
          "output_type": "execute_result",
          "data": {
            "text/plain": [
              "0.387"
            ]
          },
          "metadata": {
            "tags": []
          },
          "execution_count": 9
        }
      ]
    },
    {
      "cell_type": "code",
      "metadata": {
        "id": "Wvh5Vu9rI17J",
        "colab": {
          "base_uri": "https://localhost:8080/"
        },
        "outputId": "d66f61f9-93f8-47d8-f867-3a2e7fb5957a"
      },
      "source": [
        "category = {0: \"high\", 1: \"low\", 2: \"moderate\"}\n",
        "kmeans_scaled_str_labels = np.array(list(map(lambda n: category[n], kmeans_scaled.labels_)))\n",
        "kmeans_scaled_str_labels[:5]"
      ],
      "execution_count": null,
      "outputs": [
        {
          "output_type": "execute_result",
          "data": {
            "text/plain": [
              "array(['moderate', 'moderate', 'high', 'moderate', 'low'], dtype='<U8')"
            ]
          },
          "metadata": {
            "tags": []
          },
          "execution_count": 10
        }
      ]
    },
    {
      "cell_type": "code",
      "metadata": {
        "id": "OWZyssdV71Tk"
      },
      "source": [
        ""
      ],
      "execution_count": null,
      "outputs": []
    },
    {
      "cell_type": "markdown",
      "metadata": {
        "id": "Re8y_vIkivP3"
      },
      "source": [
        "# The Curse of Dimensionality"
      ]
    },
    {
      "cell_type": "code",
      "metadata": {
        "colab": {
          "base_uri": "https://localhost:8080/"
        },
        "id": "fnZRzrlliuwF",
        "outputId": "df9ab0cd-0bb5-4969-9160-76860e68847e"
      },
      "source": [
        "a = np.array([1] * 3)\n",
        "b = np.array([1.5] * 3)\n",
        "x = np.array([1] * 10)\n",
        "y = np.array([1.5] * 10)\n",
        "\n",
        "d_ab = np.sqrt(((a-b)**2).sum()).round(3)\n",
        "d_xy = np.sqrt(((x-y)**2)).sum()\n",
        "print(\"d_ab =\", d_ab)\n",
        "print(\"d_xy =\", d_xy)\n",
        "\n",
        "norm_a = np.sqrt((a**2).sum())\n",
        "norm_b = np.sqrt((b**2).sum())\n",
        "norm_x = np.sqrt((x**2).sum())\n",
        "norm_y = np.sqrt((y**2).sum())\n",
        "simi_ab = (a@b)/(norm_a * norm_b)\n",
        "simi_xy = (x@y)/(norm_x * norm_y).round(3)\n",
        "\n",
        "print(\"simi_dist_ab =\", 1-simi_ab)\n",
        "print(\"simi_dist_xy =\", 1-simi_xy)"
      ],
      "execution_count": null,
      "outputs": [
        {
          "output_type": "stream",
          "text": [
            "d_ab = 0.866\n",
            "d_xy = 5.0\n",
            "simi_dist_ab = 0.0\n",
            "simi_dist_xy = 0.0\n"
          ],
          "name": "stdout"
        }
      ]
    },
    {
      "cell_type": "code",
      "metadata": {
        "id": "-w2I_DuJizTl"
      },
      "source": [
        ""
      ],
      "execution_count": null,
      "outputs": []
    },
    {
      "cell_type": "markdown",
      "metadata": {
        "id": "EPOQOpcl4eJ4"
      },
      "source": [
        "# PCA\n",
        "\n",
        ">什麼樣的向量$w$，可以使得所有data point投影上去後訊息損失(information loss)最低 <br>\n",
        "lower information loss -> higher variance kept<br>\n",
        "\n",
        ">given任意n維的vector，皆能被某個basis $W$ (n個components, orthogonal to each other)的線性組合唯一表示(zero loss) <br> 如果只用幾個component，就會有loss <br>\n",
        "線性組合的 scalars 怎麼找？ -> 投影長 = ${\\lVert x \\rVert}cos{\\theta}, $ where ${\\theta}$ 為 x 和 w 的夾角 <br>\n",
        "under constraint： <br>\n",
        ">>${\\lVert w_{n} \\rVert} = 1$<br>\n",
        "\n",
        ">投影長 = $scalar_{n,i} = w_{n} \\cdot x_{i}$ <br>\n",
        "先找一個component就好，使得variance最大，objective funciton？<br>\n",
        "$Objective$ = 投影長的variance = $\\sum_{i} (w_{1} \\cdot x_{i} - w_{1} \\cdot \\bar x)^2$\n",
        "......<br>...... $w_{1}$ 是 Cov(x) 的最大 eigenvalue(其值為所求的variance) 對應的 eigenvector <br> 這樣的 $w_{1}$(the most dominant pattern) 可以 maximize $Objective$\n",
        "\n",
        ">那想要找到一組basis呢？ <br>\n",
        "under constraints：<br>\n",
        "    >>${\\lVert w_{2} \\rVert} = 1$<br>\n",
        "    >>$w_{2} \\cdot w_{1} = 0$<br>\n",
        "\n",
        ">$Objective = \\sum_{i} (w_{2} \\cdot x_{i} - w_{2} \\cdot \\bar x)^2$ ......<br>...... $w_{2}$ 是 Cov(x) 第二大 eigenvalue(其值為所求的variance) 對應的 eigenvector <br> 這樣的 $w_{2}$ 可以 maximize $Objective$\n",
        "\n",
        "> let $W = [w_{1} w_{2} ... w_{k}]$ form a basis, $W^{T}$.shape = (n_components=k, n_features)<br>\n",
        "let $Z = W^{T}X$, <br>=> X.shape = (n_features, n_samples)<br> => Cov(X).shape = (n_features, n_features) = W.shape = (k, k)<br>\n",
        "=> Z.shape = (n_components=k, n_samples)<br> => 每個 sample 都有 k個 scalars 用來線性組合回原本的 data x \n",
        "\n",
        ">也可以想成 $Z^T = X^TW$<br>\n",
        "\n",
        "z 是線性組合的 scalar，也是投影長\n",
        "<br>for the component 1, $Z_{1, m}$ 的 variance 代表投影到這個 component 所保留的 variance (Objective, 其值為 Cov(x) 的 eigenvalues)\n",
        "<br> for the sample 1, $Z_{n, 1}$ 表示此 data point 轉換到新的 basis $W$ 上的座標\n"
      ]
    },
    {
      "cell_type": "markdown",
      "metadata": {
        "id": "kHxF7VTQ_MSD"
      },
      "source": [
        "# Singular Value Decomposition\n",
        "\n",
        "$M = U \\sum V^T$ (for any matrix M) <br>\n",
        "$Z^TW^T = X^T = U \\sum V^T$ <br>\n",
        "\n",
        "$V^T=W^T, Z^T=U\\sum$ <br>\n",
        "$XX^T = V \\sum^2V^T => XX^TV = V \\sum^2 => V = W$ (economy版的svd, $\\sum$ 是 diagonal matrix)<br>\n",
        "$X^TX = U \\sum^2U^T => XX^TU = U \\sum^2$ => U is consist of the eigenvectors of $X^TX$ (並不是 samples 間的 covariance matrix)<br>"
      ]
    },
    {
      "cell_type": "code",
      "metadata": {
        "colab": {
          "base_uri": "https://localhost:8080/"
        },
        "id": "6FGb97Mr_JyJ",
        "outputId": "6af78f4d-7be6-4a50-b8a8-6c5cdfb4fa12"
      },
      "source": [
        "data_x = df[['Corruption', 'Peace', 'Legal', 'GDP Growth']]\n",
        "scaled_input_x = StandardScaler().fit_transform(data_x)\n",
        "scaled_input_x.shape  # X^T"
      ],
      "execution_count": null,
      "outputs": [
        {
          "output_type": "execute_result",
          "data": {
            "text/plain": [
              "(122, 4)"
            ]
          },
          "metadata": {
            "tags": []
          },
          "execution_count": 12
        }
      ]
    },
    {
      "cell_type": "code",
      "metadata": {
        "colab": {
          "base_uri": "https://localhost:8080/"
        },
        "id": "v1lxyzY-Wosm",
        "outputId": "c09758d8-828f-4c69-f96b-62dffb155e06"
      },
      "source": [
        "CovX = scaled_input_x.T @ scaled_input_x  # XX^T\n",
        "eigvals, eigvecs = np.linalg.eig(CovX)\n",
        "desc_eigvals_arg = np.argsort(eigvals)[::-1]\n",
        "eigvals, eigvecs = eigvals[desc_eigvals_arg], eigvecs[:, desc_eigvals_arg]\n",
        "print(\"explained variance :\", eigvals)\n",
        "print(\"basis :\\n\", eigvecs)"
      ],
      "execution_count": null,
      "outputs": [
        {
          "output_type": "stream",
          "text": [
            "explained variance : [312.48251428 118.93717519  47.67032408   8.90998645]\n",
            "basis :\n",
            " [[ 0.59408948 -0.15518449  0.29164029 -0.73343125]\n",
            " [-0.53042352 -0.03987563  0.84239087 -0.08624644]\n",
            " [ 0.58502332 -0.13456211  0.43097622  0.6737212 ]\n",
            " [ 0.15315448  0.9778654   0.13993949 -0.02720102]]\n"
          ],
          "name": "stdout"
        }
      ]
    },
    {
      "cell_type": "code",
      "metadata": {
        "colab": {
          "base_uri": "https://localhost:8080/"
        },
        "id": "Y0x0XG5fGsii",
        "outputId": "786cac31-6771-41d3-c9a2-d14ebf27ab29"
      },
      "source": [
        "U, C, VT = np.linalg.svd(scaled_input_x)\n",
        "U.shape, C.shape, VT.shape"
      ],
      "execution_count": null,
      "outputs": [
        {
          "output_type": "execute_result",
          "data": {
            "text/plain": [
              "((122, 122), (4,), (4, 4))"
            ]
          },
          "metadata": {
            "tags": []
          },
          "execution_count": 14
        }
      ]
    },
    {
      "cell_type": "markdown",
      "metadata": {
        "id": "qVeh2_BUJ5gH"
      },
      "source": [
        "$W=V$"
      ]
    },
    {
      "cell_type": "code",
      "metadata": {
        "colab": {
          "base_uri": "https://localhost:8080/"
        },
        "id": "dAu90dVnZDHB",
        "outputId": "ad14a71f-0509-44ad-b340-2fae1569069c"
      },
      "source": [
        "eigvecs"
      ],
      "execution_count": null,
      "outputs": [
        {
          "output_type": "execute_result",
          "data": {
            "text/plain": [
              "array([[ 0.59408948, -0.15518449,  0.29164029, -0.73343125],\n",
              "       [-0.53042352, -0.03987563,  0.84239087, -0.08624644],\n",
              "       [ 0.58502332, -0.13456211,  0.43097622,  0.6737212 ],\n",
              "       [ 0.15315448,  0.9778654 ,  0.13993949, -0.02720102]])"
            ]
          },
          "metadata": {
            "tags": []
          },
          "execution_count": 15
        }
      ]
    },
    {
      "cell_type": "code",
      "metadata": {
        "colab": {
          "base_uri": "https://localhost:8080/"
        },
        "id": "Xk2M9bskZEw1",
        "outputId": "3fb141cb-ceb1-49e2-a777-eeab01d953d7"
      },
      "source": [
        "VT.T"
      ],
      "execution_count": null,
      "outputs": [
        {
          "output_type": "execute_result",
          "data": {
            "text/plain": [
              "array([[ 0.59408948, -0.15518449,  0.29164029,  0.73343125],\n",
              "       [-0.53042352, -0.03987563,  0.84239087,  0.08624644],\n",
              "       [ 0.58502332, -0.13456211,  0.43097622, -0.6737212 ],\n",
              "       [ 0.15315448,  0.9778654 ,  0.13993949,  0.02720102]])"
            ]
          },
          "metadata": {
            "tags": []
          },
          "execution_count": 16
        }
      ]
    },
    {
      "cell_type": "code",
      "metadata": {
        "colab": {
          "base_uri": "https://localhost:8080/"
        },
        "id": "ijJqeQj7HxEV",
        "outputId": "bc1fd4af-cf7a-4175-9b58-0afed4ce44d8"
      },
      "source": [
        "np.allclose(abs(eigvecs), abs(VT.T))"
      ],
      "execution_count": null,
      "outputs": [
        {
          "output_type": "execute_result",
          "data": {
            "text/plain": [
              "True"
            ]
          },
          "metadata": {
            "tags": []
          },
          "execution_count": 17
        }
      ]
    },
    {
      "cell_type": "markdown",
      "metadata": {
        "id": "JD-nGvrTJ1rC"
      },
      "source": [
        "$XX^TV = V \\sum^2$"
      ]
    },
    {
      "cell_type": "code",
      "metadata": {
        "colab": {
          "base_uri": "https://localhost:8080/"
        },
        "id": "QgK3OqyfM9wv",
        "outputId": "d498bf7d-f25e-448b-c335-3d5b9562f2cc"
      },
      "source": [
        "np.allclose(CovX @ VT.T, VT.T @ np.diag(C**2))"
      ],
      "execution_count": null,
      "outputs": [
        {
          "output_type": "execute_result",
          "data": {
            "text/plain": [
              "True"
            ]
          },
          "metadata": {
            "tags": []
          },
          "execution_count": 18
        }
      ]
    },
    {
      "cell_type": "code",
      "metadata": {
        "colab": {
          "base_uri": "https://localhost:8080/"
        },
        "id": "FblK_ramQ5-I",
        "outputId": "0317fa2b-7dc4-454c-e4f7-9422a3a56146"
      },
      "source": [
        "np.allclose(np.sqrt(eigvals), C)"
      ],
      "execution_count": null,
      "outputs": [
        {
          "output_type": "execute_result",
          "data": {
            "text/plain": [
              "True"
            ]
          },
          "metadata": {
            "tags": []
          },
          "execution_count": 19
        }
      ]
    },
    {
      "cell_type": "code",
      "metadata": {
        "colab": {
          "base_uri": "https://localhost:8080/"
        },
        "id": "e6CqffERZbkI",
        "outputId": "200a2a81-9227-4450-b1d6-cf5bb922e64c"
      },
      "source": [
        "pca = PCA(n_components=4)\n",
        "pca.fit(scaled_input_x)\n",
        "Z = pca.transform(scaled_input_x)\n",
        "Z_vars = Z.var(axis=0)\n",
        "\n",
        "print(\"explained variance ratio (eigvals):\", eigvals[:2].sum()/eigvals.sum())\n",
        "print(\"explained variance ratio (Z_vars):\", Z_vars[:2].sum()/Z_vars.sum())\n",
        "print(\"explained variance ratio (pca):\", pca.explained_variance_[:2].sum()/pca.explained_variance_.sum())\n",
        "print(\"basis (WT):\\n\", pca.components_)  # WT = VT"
      ],
      "execution_count": null,
      "outputs": [
        {
          "output_type": "stream",
          "text": [
            "explained variance ratio (eigvals): 0.8840567407211302\n",
            "explained variance ratio (Z_vars): 0.8840567407211302\n",
            "explained variance ratio (pca): 0.8840567407211303\n",
            "basis (WT):\n",
            " [[-0.59408948  0.53042352 -0.58502332 -0.15315448]\n",
            " [ 0.15518449  0.03987563  0.13456211 -0.9778654 ]\n",
            " [ 0.29164029  0.84239087  0.43097622  0.13993949]\n",
            " [ 0.73343125  0.08624644 -0.6737212   0.02720102]]\n"
          ],
          "name": "stdout"
        }
      ]
    },
    {
      "cell_type": "code",
      "metadata": {
        "id": "Xzap4TeEBvUv"
      },
      "source": [
        "Z_after_truncation = Z[:, :2]"
      ],
      "execution_count": null,
      "outputs": []
    },
    {
      "cell_type": "code",
      "metadata": {
        "colab": {
          "base_uri": "https://localhost:8080/",
          "height": 310
        },
        "id": "_yuqzbN3cQ8x",
        "outputId": "1adc58c3-b9f5-488e-be3a-1e72d4b5d084"
      },
      "source": [
        "new_coordinate = pd.DataFrame(Z_after_truncation, columns=['PC1', 'PC2'], index=df['Country'])\n",
        "new_coordinate_with_kmeans_labels = new_coordinate.copy()\n",
        "new_coordinate_with_kmeans_labels.insert(2, 'kmeans_labels', kmeans_scaled_str_labels)\n",
        "sns.scatterplot(x='PC1', y='PC2', data=new_coordinate_with_kmeans_labels, hue='kmeans_labels')\n",
        "plt.show()"
      ],
      "execution_count": null,
      "outputs": [
        {
          "output_type": "display_data",
          "data": {
            "image/png": "[encoded data removed]",
            "text/plain": [
              "<Figure size 432x288 with 1 Axes>"
            ]
          },
          "metadata": {
            "tags": []
          }
        }
      ]
    },
    {
      "cell_type": "code",
      "metadata": {
        "colab": {
          "base_uri": "https://localhost:8080/"
        },
        "id": "pJWGZk9xBiHs",
        "outputId": "a0da7330-63e4-4091-a87b-24e05a646c4c"
      },
      "source": [
        "new_coordinate.values.T @ new_coordinate.values"
      ],
      "execution_count": null,
      "outputs": [
        {
          "output_type": "execute_result",
          "data": {
            "text/plain": [
              "array([[3.12482514e+02, 5.02197183e-15],\n",
              "       [5.02197183e-15, 1.18937175e+02]])"
            ]
          },
          "metadata": {
            "tags": []
          },
          "execution_count": 23
        }
      ]
    },
    {
      "cell_type": "code",
      "metadata": {
        "colab": {
          "base_uri": "https://localhost:8080/",
          "height": 130
        },
        "id": "iqIENs_HGwCi",
        "outputId": "7c23d4b3-bcdf-4703-dcca-ada12747402b"
      },
      "source": [
        "pd.DataFrame(pca.components_[:2], index=['PC1', 'PC2'], columns=data_x.columns)"
      ],
      "execution_count": null,
      "outputs": [
        {
          "output_type": "execute_result",
          "data": {
            "text/html": [
              "<div>\n",
              "<style scoped>\n",
              "    .dataframe tbody tr th:only-of-type {\n",
              "        vertical-align: middle;\n",
              "    }\n",
              "\n",
              "    .dataframe tbody tr th {\n",
              "        vertical-align: top;\n",
              "    }\n",
              "\n",
              "    .dataframe thead th {\n",
              "        text-align: right;\n",
              "    }\n",
              "</style>\n",
              "<table border=\"1\" class=\"dataframe\">\n",
              "  <thead>\n",
              "    <tr style=\"text-align: right;\">\n",
              "      <th></th>\n",
              "      <th>Corruption</th>\n",
              "      <th>Peace</th>\n",
              "      <th>Legal</th>\n",
              "      <th>GDP Growth</th>\n",
              "    </tr>\n",
              "  </thead>\n",
              "  <tbody>\n",
              "    <tr>\n",
              "      <th>PC1</th>\n",
              "      <td>-0.594089</td>\n",
              "      <td>0.530424</td>\n",
              "      <td>-0.585023</td>\n",
              "      <td>-0.153154</td>\n",
              "    </tr>\n",
              "    <tr>\n",
              "      <th>PC2</th>\n",
              "      <td>0.155184</td>\n",
              "      <td>0.039876</td>\n",
              "      <td>0.134562</td>\n",
              "      <td>-0.977865</td>\n",
              "    </tr>\n",
              "  </tbody>\n",
              "</table>\n",
              "</div>"
            ],
            "text/plain": [
              "     Corruption     Peace     Legal  GDP Growth\n",
              "PC1   -0.594089  0.530424 -0.585023   -0.153154\n",
              "PC2    0.155184  0.039876  0.134562   -0.977865"
            ]
          },
          "metadata": {
            "tags": []
          },
          "execution_count": 24
        }
      ]
    },
    {
      "cell_type": "code",
      "metadata": {
        "colab": {
          "base_uri": "https://localhost:8080/",
          "height": 167
        },
        "id": "y1JkdiiCFsps",
        "outputId": "0e5f5814-fd2a-48c0-e24c-02de7e922d2a"
      },
      "source": [
        "display_side_by_side([new_coordinate[(new_coordinate.PC1 > 4) | (new_coordinate.PC2 > 5)].round(2),\n",
        "                      new_coordinate[(new_coordinate.PC1 < -2) & (new_coordinate.PC2 < 0)].round(2),\n",
        "                      new_coordinate[(new_coordinate.PC2 < -1.7)].round(2),\n",
        "                      new_coordinate[new_coordinate.PC1 < -3.2].round(2)])"
      ],
      "execution_count": null,
      "outputs": [
        {
          "output_type": "display_data",
          "data": {
            "text/html": [
              "<table style=\"display:inline\"><tr><td style=\"vertical-align:top\"> <table style=\"display:inline\" border=\"1\" class=\"dataframe\">\n",
              "  <thead>\n",
              "    <tr style=\"text-align: right;\">\n",
              "      <th></th>\n",
              "      <th>PC1</th>\n",
              "      <th>PC2</th>\n",
              "    </tr>\n",
              "    <tr>\n",
              "      <th>Country</th>\n",
              "      <th></th>\n",
              "      <th></th>\n",
              "    </tr>\n",
              "  </thead>\n",
              "  <tbody>\n",
              "    <tr>\n",
              "      <th>Venezuela</th>\n",
              "      <td>3.67</td>\n",
              "      <td>5.75</td>\n",
              "    </tr>\n",
              "    <tr>\n",
              "      <th>Yemen</th>\n",
              "      <td>4.38</td>\n",
              "      <td>3.28</td>\n",
              "    </tr>\n",
              "  </tbody>\n",
              "</table style=\"display:inline\"></td><td style=\"vertical-align:top\"> <table style=\"display:inline\" border=\"1\" class=\"dataframe\">\n",
              "  <thead>\n",
              "    <tr style=\"text-align: right;\">\n",
              "      <th></th>\n",
              "      <th>PC1</th>\n",
              "      <th>PC2</th>\n",
              "    </tr>\n",
              "    <tr>\n",
              "      <th>Country</th>\n",
              "      <th></th>\n",
              "      <th></th>\n",
              "    </tr>\n",
              "  </thead>\n",
              "  <tbody>\n",
              "    <tr>\n",
              "      <th>Iceland</th>\n",
              "      <td>-3.01</td>\n",
              "      <td>-1.09</td>\n",
              "    </tr>\n",
              "    <tr>\n",
              "      <th>Ireland</th>\n",
              "      <td>-2.55</td>\n",
              "      <td>-0.49</td>\n",
              "    </tr>\n",
              "  </tbody>\n",
              "</table style=\"display:inline\"></td><td style=\"vertical-align:top\"> <table style=\"display:inline\" border=\"1\" class=\"dataframe\">\n",
              "  <thead>\n",
              "    <tr style=\"text-align: right;\">\n",
              "      <th></th>\n",
              "      <th>PC1</th>\n",
              "      <th>PC2</th>\n",
              "    </tr>\n",
              "    <tr>\n",
              "      <th>Country</th>\n",
              "      <th></th>\n",
              "      <th></th>\n",
              "    </tr>\n",
              "  </thead>\n",
              "  <tbody>\n",
              "    <tr>\n",
              "      <th>Bangladesh</th>\n",
              "      <td>1.44</td>\n",
              "      <td>-1.77</td>\n",
              "    </tr>\n",
              "    <tr>\n",
              "      <th>Ethiopia</th>\n",
              "      <td>0.80</td>\n",
              "      <td>-1.85</td>\n",
              "    </tr>\n",
              "  </tbody>\n",
              "</table style=\"display:inline\"></td><td style=\"vertical-align:top\"> <table style=\"display:inline\" border=\"1\" class=\"dataframe\">\n",
              "  <thead>\n",
              "    <tr style=\"text-align: right;\">\n",
              "      <th></th>\n",
              "      <th>PC1</th>\n",
              "      <th>PC2</th>\n",
              "    </tr>\n",
              "    <tr>\n",
              "      <th>Country</th>\n",
              "      <th></th>\n",
              "      <th></th>\n",
              "    </tr>\n",
              "  </thead>\n",
              "  <tbody>\n",
              "    <tr>\n",
              "      <th>Denmark</th>\n",
              "      <td>-3.22</td>\n",
              "      <td>0.90</td>\n",
              "    </tr>\n",
              "    <tr>\n",
              "      <th>New Zealand</th>\n",
              "      <td>-3.49</td>\n",
              "      <td>0.09</td>\n",
              "    </tr>\n",
              "  </tbody>\n",
              "</table style=\"display:inline\"></td></tr></table style=\"display:inline\">"
            ]
          },
          "metadata": {
            "tags": []
          }
        }
      ]
    },
    {
      "cell_type": "code",
      "metadata": {
        "colab": {
          "base_uri": "https://localhost:8080/"
        },
        "id": "DyxPVOBiLLNc",
        "outputId": "683c7cb0-2f7a-4add-ef07-4510588d145a"
      },
      "source": [
        "the_worst_country_ever = [[0., 5, 0., -30.]]\n",
        "the_best_country_ever = [[100., 1., 10., 30.]]\n",
        "pca.transform(np.vstack([the_worst_country_ever,\n",
        "                         the_best_country_ever]))[:, :2]"
      ],
      "execution_count": null,
      "outputs": [
        {
          "output_type": "execute_result",
          "data": {
            "text/plain": [
              "array([[  7.24675199,  29.53534029],\n",
              "       [-69.32339227, -12.43201691]])"
            ]
          },
          "metadata": {
            "tags": []
          },
          "execution_count": 26
        }
      ]
    },
    {
      "cell_type": "code",
      "metadata": {
        "colab": {
          "base_uri": "https://localhost:8080/",
          "height": 351
        },
        "id": "lIHe5UMK-6JN",
        "outputId": "898baa74-060e-4e1c-a8d8-e5279762783f"
      },
      "source": [
        "of_interest_countries = ['Taiwan', 'China', 'United Kingdom', 'United States',\n",
        "                        'Italy', 'Spain', 'South Africa', 'Russia']\n",
        "\n",
        "# ------------------------------------------------------------------------------\n",
        "risk_measurement = (new_coordinate @ pca.explained_variance_ratio_[:2]).sort_values(ascending=False)\n",
        "from sklearn.preprocessing import MinMaxScaler\n",
        "risk_score = (pd.DataFrame(MinMaxScaler().fit_transform(risk_measurement.values.reshape(-1, 1)),\n",
        "                           index=risk_measurement.index,\n",
        "                           columns=['risk score']) * 100).round(1)\n",
        "sorted_idx = risk_score.loc[of_interest_countries].squeeze().sort_values(ascending=False).index\n",
        "display_side_by_side([risk_score.iloc[:5], \n",
        "                      risk_score.iloc[-5:],\n",
        "                      risk_score.loc[sorted_idx],\n",
        "                      df.set_index('Country').loc[sorted_idx, data_x.columns]])"
      ],
      "execution_count": null,
      "outputs": [
        {
          "output_type": "display_data",
          "data": {
            "text/html": [
              "<table style=\"display:inline\"><tr><td style=\"vertical-align:top\"> <table style=\"display:inline\" border=\"1\" class=\"dataframe\">\n",
              "  <thead>\n",
              "    <tr style=\"text-align: right;\">\n",
              "      <th></th>\n",
              "      <th>risk score</th>\n",
              "    </tr>\n",
              "    <tr>\n",
              "      <th>Country</th>\n",
              "      <th></th>\n",
              "    </tr>\n",
              "  </thead>\n",
              "  <tbody>\n",
              "    <tr>\n",
              "      <th>Venezuela</th>\n",
              "      <td>100.0</td>\n",
              "    </tr>\n",
              "    <tr>\n",
              "      <th>Yemen</th>\n",
              "      <td>97.4</td>\n",
              "    </tr>\n",
              "    <tr>\n",
              "      <th>Chad</th>\n",
              "      <td>72.9</td>\n",
              "    </tr>\n",
              "    <tr>\n",
              "      <th>Ukraine</th>\n",
              "      <td>67.6</td>\n",
              "    </tr>\n",
              "    <tr>\n",
              "      <th>Nigeria</th>\n",
              "      <td>67.2</td>\n",
              "    </tr>\n",
              "  </tbody>\n",
              "</table style=\"display:inline\"></td><td style=\"vertical-align:top\"> <table style=\"display:inline\" border=\"1\" class=\"dataframe\">\n",
              "  <thead>\n",
              "    <tr style=\"text-align: right;\">\n",
              "      <th></th>\n",
              "      <th>risk score</th>\n",
              "    </tr>\n",
              "    <tr>\n",
              "      <th>Country</th>\n",
              "      <th></th>\n",
              "    </tr>\n",
              "  </thead>\n",
              "  <tbody>\n",
              "    <tr>\n",
              "      <th>Finland</th>\n",
              "      <td>6.7</td>\n",
              "    </tr>\n",
              "    <tr>\n",
              "      <th>Denmark</th>\n",
              "      <td>6.2</td>\n",
              "    </tr>\n",
              "    <tr>\n",
              "      <th>Sweden</th>\n",
              "      <td>4.1</td>\n",
              "    </tr>\n",
              "    <tr>\n",
              "      <th>Iceland</th>\n",
              "      <td>0.3</td>\n",
              "    </tr>\n",
              "    <tr>\n",
              "      <th>New Zealand</th>\n",
              "      <td>0.0</td>\n",
              "    </tr>\n",
              "  </tbody>\n",
              "</table style=\"display:inline\"></td><td style=\"vertical-align:top\"> <table style=\"display:inline\" border=\"1\" class=\"dataframe\">\n",
              "  <thead>\n",
              "    <tr style=\"text-align: right;\">\n",
              "      <th></th>\n",
              "      <th>risk score</th>\n",
              "    </tr>\n",
              "    <tr>\n",
              "      <th>Country</th>\n",
              "      <th></th>\n",
              "    </tr>\n",
              "  </thead>\n",
              "  <tbody>\n",
              "    <tr>\n",
              "      <th>Russia</th>\n",
              "      <td>67.0</td>\n",
              "    </tr>\n",
              "    <tr>\n",
              "      <th>South Africa</th>\n",
              "      <td>39.8</td>\n",
              "    </tr>\n",
              "    <tr>\n",
              "      <th>Italy</th>\n",
              "      <td>35.0</td>\n",
              "    </tr>\n",
              "    <tr>\n",
              "      <th>China</th>\n",
              "      <td>34.7</td>\n",
              "    </tr>\n",
              "    <tr>\n",
              "      <th>Taiwan</th>\n",
              "      <td>25.0</td>\n",
              "    </tr>\n",
              "    <tr>\n",
              "      <th>Spain</th>\n",
              "      <td>23.6</td>\n",
              "    </tr>\n",
              "    <tr>\n",
              "      <th>United States</th>\n",
              "      <td>22.4</td>\n",
              "    </tr>\n",
              "    <tr>\n",
              "      <th>United Kingdom</th>\n",
              "      <td>15.5</td>\n",
              "    </tr>\n",
              "  </tbody>\n",
              "</table style=\"display:inline\"></td><td style=\"vertical-align:top\"> <table style=\"display:inline\" border=\"1\" class=\"dataframe\">\n",
              "  <thead>\n",
              "    <tr style=\"text-align: right;\">\n",
              "      <th></th>\n",
              "      <th>Corruption</th>\n",
              "      <th>Peace</th>\n",
              "      <th>Legal</th>\n",
              "      <th>GDP Growth</th>\n",
              "    </tr>\n",
              "    <tr>\n",
              "      <th>Country</th>\n",
              "      <th></th>\n",
              "      <th></th>\n",
              "      <th></th>\n",
              "      <th></th>\n",
              "    </tr>\n",
              "  </thead>\n",
              "  <tbody>\n",
              "    <tr>\n",
              "      <th>Russia</th>\n",
              "      <td>29</td>\n",
              "      <td>3.079</td>\n",
              "      <td>4.043</td>\n",
              "      <td>-0.248</td>\n",
              "    </tr>\n",
              "    <tr>\n",
              "      <th>South Africa</th>\n",
              "      <td>45</td>\n",
              "      <td>2.316</td>\n",
              "      <td>7.000</td>\n",
              "      <td>0.279</td>\n",
              "    </tr>\n",
              "    <tr>\n",
              "      <th>Italy</th>\n",
              "      <td>47</td>\n",
              "      <td>1.774</td>\n",
              "      <td>5.979</td>\n",
              "      <td>0.880</td>\n",
              "    </tr>\n",
              "    <tr>\n",
              "      <th>China</th>\n",
              "      <td>40</td>\n",
              "      <td>2.288</td>\n",
              "      <td>5.712</td>\n",
              "      <td>6.700</td>\n",
              "    </tr>\n",
              "    <tr>\n",
              "      <th>Taiwan</th>\n",
              "      <td>61</td>\n",
              "      <td>1.787</td>\n",
              "      <td>7.268</td>\n",
              "      <td>1.402</td>\n",
              "    </tr>\n",
              "    <tr>\n",
              "      <th>Spain</th>\n",
              "      <td>58</td>\n",
              "      <td>1.604</td>\n",
              "      <td>6.422</td>\n",
              "      <td>3.235</td>\n",
              "    </tr>\n",
              "    <tr>\n",
              "      <th>United States</th>\n",
              "      <td>74</td>\n",
              "      <td>2.154</td>\n",
              "      <td>8.074</td>\n",
              "      <td>1.616</td>\n",
              "    </tr>\n",
              "    <tr>\n",
              "      <th>United Kingdom</th>\n",
              "      <td>81</td>\n",
              "      <td>1.830</td>\n",
              "      <td>8.129</td>\n",
              "      <td>1.806</td>\n",
              "    </tr>\n",
              "  </tbody>\n",
              "</table style=\"display:inline\"></td></tr></table style=\"display:inline\">"
            ]
          },
          "metadata": {
            "tags": []
          }
        }
      ]
    },
    {
      "cell_type": "code",
      "metadata": {
        "colab": {
          "base_uri": "https://localhost:8080/",
          "height": 286
        },
        "id": "GGZYp7BEV7PC",
        "outputId": "4b4375c6-e268-45f1-9465-838fdc983b37"
      },
      "source": [
        "palette = sns.color_palette('rainbow', n_colors=risk_score['risk score'].unique().size)\n",
        "plt.tick_params(\n",
        "    axis='x',          # changes apply to the x-axis\n",
        "    which='both',      # both major and minor ticks are affected\n",
        "    bottom=False,      # ticks along the bottom edge are off\n",
        "    top=False,         # ticks along the top edge are off\n",
        "    labelbottom=False)\n",
        "sns.barplot(x='Country', y='risk score', data=risk_score.reset_index(), palette=palette)\n",
        "plt.show()\n",
        "palette.reverse()"
      ],
      "execution_count": null,
      "outputs": [
        {
          "output_type": "display_data",
          "data": {
            "image/png": "[encoded data removed]",
            "text/plain": [
              "<Figure size 432x288 with 1 Axes>"
            ]
          },
          "metadata": {
            "tags": []
          }
        }
      ]
    },
    {
      "cell_type": "code",
      "metadata": {
        "colab": {
          "base_uri": "https://localhost:8080/",
          "height": 419
        },
        "id": "lN9sNPluFvaB",
        "outputId": "ba011e50-45e1-4e22-f7b0-50e5b1c8fb3b"
      },
      "source": [
        "plt.figure(figsize=(8, 6))\n",
        "new_coordinate = pd.DataFrame(Z_after_truncation, columns=['PC1', 'PC2'], index=df['Country'])\n",
        "new_coordinate_with_risk_score = new_coordinate.copy()\n",
        "new_coordinate_with_risk_score.insert(2, 'risk score', risk_score['risk score'])\n",
        "sns.scatterplot(x='PC1', y='PC2', data=new_coordinate_with_risk_score, hue='risk score', palette=palette, legend=False)\n",
        "plt.show()"
      ],
      "execution_count": null,
      "outputs": [
        {
          "output_type": "display_data",
          "data": {
            "image/png": "[encoded data removed]",
            "text/plain": [
              "<Figure size 576x432 with 1 Axes>"
            ]
          },
          "metadata": {
            "tags": []
          }
        }
      ]
    },
    {
      "cell_type": "markdown",
      "metadata": {
        "id": "OsF4U81QPg39"
      },
      "source": [
        "轉換到一個新的座標系統，PCA(SVD)會找到唯一一個特別的座標系統，將原本的資料換成新的basis的線性組合(matrix factorization)<br>\n",
        "每個維度依序capture最多的資訊，維度表示特徵(如同原本每個feature也是一個維度，做feature selection就是只認為其中幾個feature有用，什麼叫有用？如果over all samples 該 feature standardized 後的值都很近，就表示沒有參考價值，因為information gain很低)，換了新的basis後每個 component 代表一個 new feature，需重新思考其意義 <br>\n",
        " \n",
        "單取Z的這些投影長，如只取2個維度(Z') => 降維至平面 <br>\n",
        "Z' 和 basis' 線性組合 => 在原本n維空間中，在此 basis' span 出一個平面上<br>\n",
        ">Eckart-Young Theorem<br>\n",
        "${\\lVert x- \\tilde x \\rVert}_{F}$ is minimum under rank($\\tilde x$)=2<br>\n",
        "$\\tilde x$ 能最佳近似 $x$ if $\\tilde x$ = Z' @ basis'\n"
      ]
    },
    {
      "cell_type": "code",
      "metadata": {
        "id": "8Rb14Sp6B3UF"
      },
      "source": [
        "x_tilde = Z_after_truncation @ pca.components_[:2]\n",
        "minimum_reconstruction_error = np.sqrt(((data_x.values - x_tilde)**2).sum())"
      ],
      "execution_count": null,
      "outputs": []
    },
    {
      "cell_type": "code",
      "metadata": {
        "colab": {
          "base_uri": "https://localhost:8080/"
        },
        "id": "Aj_lC_MQckwA",
        "outputId": "34b5ecad-2e68-480c-cf1d-fe36e5c925a7"
      },
      "source": [
        "minimum_reconstruction_error"
      ],
      "execution_count": null,
      "outputs": [
        {
          "output_type": "execute_result",
          "data": {
            "text/plain": [
              "553.7080482836009"
            ]
          },
          "metadata": {
            "tags": []
          },
          "execution_count": 31
        }
      ]
    },
    {
      "cell_type": "code",
      "metadata": {
        "id": "jvzx3Y_s8q67",
        "pycharm": {
          "name": "#%%\n"
        }
      },
      "source": [
        ""
      ],
      "execution_count": null,
      "outputs": []
    },
    {
      "cell_type": "markdown",
      "metadata": {
        "collapsed": false,
        "pycharm": {
          "name": "#%% md\n"
        },
        "id": "bzKTC7HeLRRa"
      },
      "source": [
        "# agglomerative clustering (bottom up)\n",
        "\n",
        "1. 每一個 data point 自己一個 cluster\n",
        "2. 找最近的兩個 clusters 聚為一個 cluster <br>\n",
        "   cluster間的遠近定義？ 多種可能，以下舉兩個例子 <br>\n",
        "   average : $dist(C_i, C_j) = \\sum_{a \\in C_i, b \\in C_j}\\frac{d(a, b)}{|C_{i}||C_{j}|}$ <br>\n",
        "   ward : $dist(C_i, C_j) = \\sum_{a \\in (C_i \\cup C_j)} ||a - \\mu_{C_i \\cup C_j}||^2$\n",
        "3. 重複 2 直到所有 point 聚為一群\n",
        "\n"
      ]
    },
    {
      "cell_type": "code",
      "metadata": {
        "pycharm": {
          "name": "#%%\n"
        },
        "id": "-VLsG1XkLRRa",
        "colab": {
          "base_uri": "https://localhost:8080/",
          "height": 610
        },
        "outputId": "4b40b00a-9bc7-4882-fb94-157b84f65e25"
      },
      "source": [
        "from scipy.cluster.hierarchy import linkage, dendrogram\n",
        "\n",
        "X = [[i] for i in [2, 8, 0, 4, 1, 9, 9, 0]]\n",
        "Z = linkage(X, 'ward')\n",
        "print(Z)\n",
        "fig = plt.figure(figsize=(25, 10))\n",
        "dn = dendrogram(Z)\n",
        "plt.show()"
      ],
      "execution_count": null,
      "outputs": [
        {
          "output_type": "stream",
          "text": [
            "[[ 5.          6.          0.          2.        ]\n",
            " [ 2.          7.          0.          2.        ]\n",
            " [ 0.          4.          1.          2.        ]\n",
            " [ 1.          8.          1.15470054  3.        ]\n",
            " [ 9.         10.          2.12132034  4.        ]\n",
            " [ 3.         12.          4.11096096  5.        ]\n",
            " [11.         13.         14.07183949  8.        ]]\n"
          ],
          "name": "stdout"
        },
        {
          "output_type": "display_data",
          "data": {
            "image/png": "[encoded data removed]",
            "text/plain": [
              "<Figure size 1800x720 with 1 Axes>"
            ]
          },
          "metadata": {
            "tags": []
          }
        }
      ]
    },
    {
      "cell_type": "code",
      "metadata": {
        "pycharm": {
          "name": "#%%\n"
        },
        "id": "Cjl915yQLRRb",
        "colab": {
          "base_uri": "https://localhost:8080/",
          "height": 1000
        },
        "outputId": "615dffa0-66ab-4e36-fc22-0dedf524506d"
      },
      "source": [
        "original_input = df[['Peace', 'Legal', 'GDP Growth']]\n",
        "scaled_input = scaler.fit_transform(original_input)\n",
        "\n",
        "agg = AgglomerativeClustering(n_clusters=3, linkage='ward').fit(scaled_input)\n",
        "three_features_input = df[['Peace', 'Legal', 'GDP Growth']]\n",
        "three_features_scaled_input = scaler.fit_transform(three_features_input)\n",
        "kmeans_three_features = KMeans(n_clusters=3, random_state=3).fit(three_features_scaled_input)\n",
        "\n",
        "ax = plt.gca()\n",
        "df[agg.labels_==0][:20].plot.scatter(x='Corruption', y='Peace', color='r', ax=ax)\n",
        "df[agg.labels_==1][:20].plot.scatter(x='Corruption', y='Peace', color='g', ax=ax)\n",
        "df[agg.labels_==2][:20].plot.scatter(x='Corruption', y='Peace', color='b', ax=ax)\n",
        "\n",
        "\n",
        "agg_high = df[agg.labels_==0][['Country']]\n",
        "kmeans_high = df[kmeans_three_features.labels_ == 2][['Country']]\n",
        "for idx in kmeans_high.index.difference(agg_high.index):\n",
        "    agg_high.loc[idx, 'Country'] = '-------'\n",
        "for idx in agg_high.index.difference(kmeans_high.index):\n",
        "    kmeans_high.loc[idx, 'Country'] = '-------'\n",
        "display_side_by_side([agg_high.sort_index(), kmeans_high.sort_index()],\n",
        "                      names=['3 features agg', '3 features kmeans'])\n",
        "\n"
      ],
      "execution_count": null,
      "outputs": [
        {
          "output_type": "display_data",
          "data": {
            "text/html": [
              "<table style=\"display:inline\"><tr><td style=\"text-align:center\">3 features agg</td><td style=\"text-align:center\">3 features kmeans</td></tr><tr><td style=\"vertical-align:top\"> <table style=\"display:inline\" border=\"1\" class=\"dataframe\">\n",
              "  <thead>\n",
              "    <tr style=\"text-align: right;\">\n",
              "      <th></th>\n",
              "      <th>Country</th>\n",
              "    </tr>\n",
              "  </thead>\n",
              "  <tbody>\n",
              "    <tr>\n",
              "      <th>0</th>\n",
              "      <td>-------</td>\n",
              "    </tr>\n",
              "    <tr>\n",
              "      <th>1</th>\n",
              "      <td>-------</td>\n",
              "    </tr>\n",
              "    <tr>\n",
              "      <th>2</th>\n",
              "      <td>Argentina</td>\n",
              "    </tr>\n",
              "    <tr>\n",
              "      <th>3</th>\n",
              "      <td>-------</td>\n",
              "    </tr>\n",
              "    <tr>\n",
              "      <th>6</th>\n",
              "      <td>Azerbaijan</td>\n",
              "    </tr>\n",
              "    <tr>\n",
              "      <th>7</th>\n",
              "      <td>-------</td>\n",
              "    </tr>\n",
              "    <tr>\n",
              "      <th>8</th>\n",
              "      <td>-------</td>\n",
              "    </tr>\n",
              "    <tr>\n",
              "      <th>10</th>\n",
              "      <td>-------</td>\n",
              "    </tr>\n",
              "    <tr>\n",
              "      <th>11</th>\n",
              "      <td>-------</td>\n",
              "    </tr>\n",
              "    <tr>\n",
              "      <th>12</th>\n",
              "      <td>-------</td>\n",
              "    </tr>\n",
              "    <tr>\n",
              "      <th>14</th>\n",
              "      <td>Brazil</td>\n",
              "    </tr>\n",
              "    <tr>\n",
              "      <th>15</th>\n",
              "      <td>-------</td>\n",
              "    </tr>\n",
              "    <tr>\n",
              "      <th>17</th>\n",
              "      <td>-------</td>\n",
              "    </tr>\n",
              "    <tr>\n",
              "      <th>19</th>\n",
              "      <td>Chad</td>\n",
              "    </tr>\n",
              "    <tr>\n",
              "      <th>21</th>\n",
              "      <td>-------</td>\n",
              "    </tr>\n",
              "    <tr>\n",
              "      <th>22</th>\n",
              "      <td>Colombia</td>\n",
              "    </tr>\n",
              "    <tr>\n",
              "      <th>24</th>\n",
              "      <td>-------</td>\n",
              "    </tr>\n",
              "    <tr>\n",
              "      <th>25</th>\n",
              "      <td>-------</td>\n",
              "    </tr>\n",
              "    <tr>\n",
              "      <th>27</th>\n",
              "      <td>Democratic Republic of Congo</td>\n",
              "    </tr>\n",
              "    <tr>\n",
              "      <th>29</th>\n",
              "      <td>-------</td>\n",
              "    </tr>\n",
              "    <tr>\n",
              "      <th>30</th>\n",
              "      <td>Ecuador</td>\n",
              "    </tr>\n",
              "    <tr>\n",
              "      <th>31</th>\n",
              "      <td>-------</td>\n",
              "    </tr>\n",
              "    <tr>\n",
              "      <th>32</th>\n",
              "      <td>-------</td>\n",
              "    </tr>\n",
              "    <tr>\n",
              "      <th>34</th>\n",
              "      <td>-------</td>\n",
              "    </tr>\n",
              "    <tr>\n",
              "      <th>37</th>\n",
              "      <td>-------</td>\n",
              "    </tr>\n",
              "    <tr>\n",
              "      <th>38</th>\n",
              "      <td>-------</td>\n",
              "    </tr>\n",
              "    <tr>\n",
              "      <th>40</th>\n",
              "      <td>-------</td>\n",
              "    </tr>\n",
              "    <tr>\n",
              "      <th>41</th>\n",
              "      <td>-------</td>\n",
              "    </tr>\n",
              "    <tr>\n",
              "      <th>42</th>\n",
              "      <td>-------</td>\n",
              "    </tr>\n",
              "    <tr>\n",
              "      <th>43</th>\n",
              "      <td>-------</td>\n",
              "    </tr>\n",
              "    <tr>\n",
              "      <th>46</th>\n",
              "      <td>-------</td>\n",
              "    </tr>\n",
              "    <tr>\n",
              "      <th>47</th>\n",
              "      <td>-------</td>\n",
              "    </tr>\n",
              "    <tr>\n",
              "      <th>48</th>\n",
              "      <td>-------</td>\n",
              "    </tr>\n",
              "    <tr>\n",
              "      <th>50</th>\n",
              "      <td>-------</td>\n",
              "    </tr>\n",
              "    <tr>\n",
              "      <th>52</th>\n",
              "      <td>-------</td>\n",
              "    </tr>\n",
              "    <tr>\n",
              "      <th>54</th>\n",
              "      <td>-------</td>\n",
              "    </tr>\n",
              "    <tr>\n",
              "      <th>55</th>\n",
              "      <td>-------</td>\n",
              "    </tr>\n",
              "    <tr>\n",
              "      <th>56</th>\n",
              "      <td>-------</td>\n",
              "    </tr>\n",
              "    <tr>\n",
              "      <th>58</th>\n",
              "      <td>-------</td>\n",
              "    </tr>\n",
              "    <tr>\n",
              "      <th>59</th>\n",
              "      <td>-------</td>\n",
              "    </tr>\n",
              "    <tr>\n",
              "      <th>60</th>\n",
              "      <td>Lebanon</td>\n",
              "    </tr>\n",
              "    <tr>\n",
              "      <th>61</th>\n",
              "      <td>Liberia</td>\n",
              "    </tr>\n",
              "    <tr>\n",
              "      <th>63</th>\n",
              "      <td>-------</td>\n",
              "    </tr>\n",
              "    <tr>\n",
              "      <th>64</th>\n",
              "      <td>-------</td>\n",
              "    </tr>\n",
              "    <tr>\n",
              "      <th>66</th>\n",
              "      <td>-------</td>\n",
              "    </tr>\n",
              "    <tr>\n",
              "      <th>67</th>\n",
              "      <td>-------</td>\n",
              "    </tr>\n",
              "    <tr>\n",
              "      <th>69</th>\n",
              "      <td>Mexico</td>\n",
              "    </tr>\n",
              "    <tr>\n",
              "      <th>70</th>\n",
              "      <td>-------</td>\n",
              "    </tr>\n",
              "    <tr>\n",
              "      <th>71</th>\n",
              "      <td>-------</td>\n",
              "    </tr>\n",
              "    <tr>\n",
              "      <th>72</th>\n",
              "      <td>-------</td>\n",
              "    </tr>\n",
              "    <tr>\n",
              "      <th>73</th>\n",
              "      <td>-------</td>\n",
              "    </tr>\n",
              "    <tr>\n",
              "      <th>74</th>\n",
              "      <td>-------</td>\n",
              "    </tr>\n",
              "    <tr>\n",
              "      <th>77</th>\n",
              "      <td>-------</td>\n",
              "    </tr>\n",
              "    <tr>\n",
              "      <th>78</th>\n",
              "      <td>Nigeria</td>\n",
              "    </tr>\n",
              "    <tr>\n",
              "      <th>80</th>\n",
              "      <td>-------</td>\n",
              "    </tr>\n",
              "    <tr>\n",
              "      <th>81</th>\n",
              "      <td>Pakistan</td>\n",
              "    </tr>\n",
              "    <tr>\n",
              "      <th>82</th>\n",
              "      <td>-------</td>\n",
              "    </tr>\n",
              "    <tr>\n",
              "      <th>83</th>\n",
              "      <td>-------</td>\n",
              "    </tr>\n",
              "    <tr>\n",
              "      <th>84</th>\n",
              "      <td>-------</td>\n",
              "    </tr>\n",
              "    <tr>\n",
              "      <th>85</th>\n",
              "      <td>-------</td>\n",
              "    </tr>\n",
              "    <tr>\n",
              "      <th>89</th>\n",
              "      <td>-------</td>\n",
              "    </tr>\n",
              "    <tr>\n",
              "      <th>90</th>\n",
              "      <td>Russia</td>\n",
              "    </tr>\n",
              "    <tr>\n",
              "      <th>91</th>\n",
              "      <td>-------</td>\n",
              "    </tr>\n",
              "    <tr>\n",
              "      <th>92</th>\n",
              "      <td>-------</td>\n",
              "    </tr>\n",
              "    <tr>\n",
              "      <th>93</th>\n",
              "      <td>-------</td>\n",
              "    </tr>\n",
              "    <tr>\n",
              "      <th>94</th>\n",
              "      <td>-------</td>\n",
              "    </tr>\n",
              "    <tr>\n",
              "      <th>95</th>\n",
              "      <td>-------</td>\n",
              "    </tr>\n",
              "    <tr>\n",
              "      <th>101</th>\n",
              "      <td>-------</td>\n",
              "    </tr>\n",
              "    <tr>\n",
              "      <th>105</th>\n",
              "      <td>-------</td>\n",
              "    </tr>\n",
              "    <tr>\n",
              "      <th>106</th>\n",
              "      <td>-------</td>\n",
              "    </tr>\n",
              "    <tr>\n",
              "      <th>107</th>\n",
              "      <td>-------</td>\n",
              "    </tr>\n",
              "    <tr>\n",
              "      <th>108</th>\n",
              "      <td>Trinidad and Tobago</td>\n",
              "    </tr>\n",
              "    <tr>\n",
              "      <th>109</th>\n",
              "      <td>-------</td>\n",
              "    </tr>\n",
              "    <tr>\n",
              "      <th>110</th>\n",
              "      <td>Turkey</td>\n",
              "    </tr>\n",
              "    <tr>\n",
              "      <th>111</th>\n",
              "      <td>-------</td>\n",
              "    </tr>\n",
              "    <tr>\n",
              "      <th>112</th>\n",
              "      <td>Ukraine</td>\n",
              "    </tr>\n",
              "    <tr>\n",
              "      <th>117</th>\n",
              "      <td>Venezuela</td>\n",
              "    </tr>\n",
              "    <tr>\n",
              "      <th>118</th>\n",
              "      <td>-------</td>\n",
              "    </tr>\n",
              "    <tr>\n",
              "      <th>119</th>\n",
              "      <td>Yemen</td>\n",
              "    </tr>\n",
              "    <tr>\n",
              "      <th>120</th>\n",
              "      <td>-------</td>\n",
              "    </tr>\n",
              "    <tr>\n",
              "      <th>121</th>\n",
              "      <td>-------</td>\n",
              "    </tr>\n",
              "  </tbody>\n",
              "</table style=\"display:inline\"></td><td style=\"vertical-align:top\"> <table style=\"display:inline\" border=\"1\" class=\"dataframe\">\n",
              "  <thead>\n",
              "    <tr style=\"text-align: right;\">\n",
              "      <th></th>\n",
              "      <th>Country</th>\n",
              "    </tr>\n",
              "  </thead>\n",
              "  <tbody>\n",
              "    <tr>\n",
              "      <th>0</th>\n",
              "      <td>Albania</td>\n",
              "    </tr>\n",
              "    <tr>\n",
              "      <th>1</th>\n",
              "      <td>Algeria</td>\n",
              "    </tr>\n",
              "    <tr>\n",
              "      <th>2</th>\n",
              "      <td>-------</td>\n",
              "    </tr>\n",
              "    <tr>\n",
              "      <th>3</th>\n",
              "      <td>Armenia</td>\n",
              "    </tr>\n",
              "    <tr>\n",
              "      <th>6</th>\n",
              "      <td>-------</td>\n",
              "    </tr>\n",
              "    <tr>\n",
              "      <th>7</th>\n",
              "      <td>Bahrain</td>\n",
              "    </tr>\n",
              "    <tr>\n",
              "      <th>8</th>\n",
              "      <td>Bangladesh</td>\n",
              "    </tr>\n",
              "    <tr>\n",
              "      <th>10</th>\n",
              "      <td>Benin</td>\n",
              "    </tr>\n",
              "    <tr>\n",
              "      <th>11</th>\n",
              "      <td>Bolivia</td>\n",
              "    </tr>\n",
              "    <tr>\n",
              "      <th>12</th>\n",
              "      <td>Bosnia and Herzegovina</td>\n",
              "    </tr>\n",
              "    <tr>\n",
              "      <th>14</th>\n",
              "      <td>-------</td>\n",
              "    </tr>\n",
              "    <tr>\n",
              "      <th>15</th>\n",
              "      <td>Bulgaria</td>\n",
              "    </tr>\n",
              "    <tr>\n",
              "      <th>17</th>\n",
              "      <td>Cameroon</td>\n",
              "    </tr>\n",
              "    <tr>\n",
              "      <th>19</th>\n",
              "      <td>-------</td>\n",
              "    </tr>\n",
              "    <tr>\n",
              "      <th>21</th>\n",
              "      <td>China</td>\n",
              "    </tr>\n",
              "    <tr>\n",
              "      <th>22</th>\n",
              "      <td>Colombia</td>\n",
              "    </tr>\n",
              "    <tr>\n",
              "      <th>24</th>\n",
              "      <td>Croatia</td>\n",
              "    </tr>\n",
              "    <tr>\n",
              "      <th>25</th>\n",
              "      <td>Cyprus</td>\n",
              "    </tr>\n",
              "    <tr>\n",
              "      <th>27</th>\n",
              "      <td>-------</td>\n",
              "    </tr>\n",
              "    <tr>\n",
              "      <th>29</th>\n",
              "      <td>Dominican Republic</td>\n",
              "    </tr>\n",
              "    <tr>\n",
              "      <th>30</th>\n",
              "      <td>-------</td>\n",
              "    </tr>\n",
              "    <tr>\n",
              "      <th>31</th>\n",
              "      <td>Egypt</td>\n",
              "    </tr>\n",
              "    <tr>\n",
              "      <th>32</th>\n",
              "      <td>El Salvador</td>\n",
              "    </tr>\n",
              "    <tr>\n",
              "      <th>34</th>\n",
              "      <td>Ethiopia</td>\n",
              "    </tr>\n",
              "    <tr>\n",
              "      <th>37</th>\n",
              "      <td>Gabon</td>\n",
              "    </tr>\n",
              "    <tr>\n",
              "      <th>38</th>\n",
              "      <td>Georgia</td>\n",
              "    </tr>\n",
              "    <tr>\n",
              "      <th>40</th>\n",
              "      <td>Ghana</td>\n",
              "    </tr>\n",
              "    <tr>\n",
              "      <th>41</th>\n",
              "      <td>Greece</td>\n",
              "    </tr>\n",
              "    <tr>\n",
              "      <th>42</th>\n",
              "      <td>Guatemala</td>\n",
              "    </tr>\n",
              "    <tr>\n",
              "      <th>43</th>\n",
              "      <td>Honduras</td>\n",
              "    </tr>\n",
              "    <tr>\n",
              "      <th>46</th>\n",
              "      <td>India</td>\n",
              "    </tr>\n",
              "    <tr>\n",
              "      <th>47</th>\n",
              "      <td>Indonesia</td>\n",
              "    </tr>\n",
              "    <tr>\n",
              "      <th>48</th>\n",
              "      <td>Iran</td>\n",
              "    </tr>\n",
              "    <tr>\n",
              "      <th>50</th>\n",
              "      <td>Israel</td>\n",
              "    </tr>\n",
              "    <tr>\n",
              "      <th>52</th>\n",
              "      <td>Jamaica</td>\n",
              "    </tr>\n",
              "    <tr>\n",
              "      <th>54</th>\n",
              "      <td>Jordan</td>\n",
              "    </tr>\n",
              "    <tr>\n",
              "      <th>55</th>\n",
              "      <td>Kazakhstan</td>\n",
              "    </tr>\n",
              "    <tr>\n",
              "      <th>56</th>\n",
              "      <td>Kenya</td>\n",
              "    </tr>\n",
              "    <tr>\n",
              "      <th>58</th>\n",
              "      <td>Kuwait</td>\n",
              "    </tr>\n",
              "    <tr>\n",
              "      <th>59</th>\n",
              "      <td>Latvia</td>\n",
              "    </tr>\n",
              "    <tr>\n",
              "      <th>60</th>\n",
              "      <td>-------</td>\n",
              "    </tr>\n",
              "    <tr>\n",
              "      <th>61</th>\n",
              "      <td>Liberia</td>\n",
              "    </tr>\n",
              "    <tr>\n",
              "      <th>63</th>\n",
              "      <td>Madagascar</td>\n",
              "    </tr>\n",
              "    <tr>\n",
              "      <th>64</th>\n",
              "      <td>Malawi</td>\n",
              "    </tr>\n",
              "    <tr>\n",
              "      <th>66</th>\n",
              "      <td>Mali</td>\n",
              "    </tr>\n",
              "    <tr>\n",
              "      <th>67</th>\n",
              "      <td>Mauritania</td>\n",
              "    </tr>\n",
              "    <tr>\n",
              "      <th>69</th>\n",
              "      <td>Mexico</td>\n",
              "    </tr>\n",
              "    <tr>\n",
              "      <th>70</th>\n",
              "      <td>Moldova</td>\n",
              "    </tr>\n",
              "    <tr>\n",
              "      <th>71</th>\n",
              "      <td>Montenegro</td>\n",
              "    </tr>\n",
              "    <tr>\n",
              "      <th>72</th>\n",
              "      <td>Morocco</td>\n",
              "    </tr>\n",
              "    <tr>\n",
              "      <th>73</th>\n",
              "      <td>Mozambique</td>\n",
              "    </tr>\n",
              "    <tr>\n",
              "      <th>74</th>\n",
              "      <td>Nepal</td>\n",
              "    </tr>\n",
              "    <tr>\n",
              "      <th>77</th>\n",
              "      <td>Nicaragua</td>\n",
              "    </tr>\n",
              "    <tr>\n",
              "      <th>78</th>\n",
              "      <td>-------</td>\n",
              "    </tr>\n",
              "    <tr>\n",
              "      <th>80</th>\n",
              "      <td>Oman</td>\n",
              "    </tr>\n",
              "    <tr>\n",
              "      <th>81</th>\n",
              "      <td>Pakistan</td>\n",
              "    </tr>\n",
              "    <tr>\n",
              "      <th>82</th>\n",
              "      <td>Panama</td>\n",
              "    </tr>\n",
              "    <tr>\n",
              "      <th>83</th>\n",
              "      <td>Paraguay</td>\n",
              "    </tr>\n",
              "    <tr>\n",
              "      <th>84</th>\n",
              "      <td>Peru</td>\n",
              "    </tr>\n",
              "    <tr>\n",
              "      <th>85</th>\n",
              "      <td>Philippines</td>\n",
              "    </tr>\n",
              "    <tr>\n",
              "      <th>89</th>\n",
              "      <td>Romania</td>\n",
              "    </tr>\n",
              "    <tr>\n",
              "      <th>90</th>\n",
              "      <td>-------</td>\n",
              "    </tr>\n",
              "    <tr>\n",
              "      <th>91</th>\n",
              "      <td>Rwanda</td>\n",
              "    </tr>\n",
              "    <tr>\n",
              "      <th>92</th>\n",
              "      <td>Saudi Arabia</td>\n",
              "    </tr>\n",
              "    <tr>\n",
              "      <th>93</th>\n",
              "      <td>Senegal</td>\n",
              "    </tr>\n",
              "    <tr>\n",
              "      <th>94</th>\n",
              "      <td>Serbia</td>\n",
              "    </tr>\n",
              "    <tr>\n",
              "      <th>95</th>\n",
              "      <td>Sierra Leone</td>\n",
              "    </tr>\n",
              "    <tr>\n",
              "      <th>101</th>\n",
              "      <td>Sri Lanka</td>\n",
              "    </tr>\n",
              "    <tr>\n",
              "      <th>105</th>\n",
              "      <td>Tanzania</td>\n",
              "    </tr>\n",
              "    <tr>\n",
              "      <th>106</th>\n",
              "      <td>Thailand</td>\n",
              "    </tr>\n",
              "    <tr>\n",
              "      <th>107</th>\n",
              "      <td>The FYR of Macedonia</td>\n",
              "    </tr>\n",
              "    <tr>\n",
              "      <th>108</th>\n",
              "      <td>-------</td>\n",
              "    </tr>\n",
              "    <tr>\n",
              "      <th>109</th>\n",
              "      <td>Tunisia</td>\n",
              "    </tr>\n",
              "    <tr>\n",
              "      <th>110</th>\n",
              "      <td>Turkey</td>\n",
              "    </tr>\n",
              "    <tr>\n",
              "      <th>111</th>\n",
              "      <td>Uganda</td>\n",
              "    </tr>\n",
              "    <tr>\n",
              "      <th>112</th>\n",
              "      <td>-------</td>\n",
              "    </tr>\n",
              "    <tr>\n",
              "      <th>117</th>\n",
              "      <td>-------</td>\n",
              "    </tr>\n",
              "    <tr>\n",
              "      <th>118</th>\n",
              "      <td>Vietnam</td>\n",
              "    </tr>\n",
              "    <tr>\n",
              "      <th>119</th>\n",
              "      <td>-------</td>\n",
              "    </tr>\n",
              "    <tr>\n",
              "      <th>120</th>\n",
              "      <td>Zambia</td>\n",
              "    </tr>\n",
              "    <tr>\n",
              "      <th>121</th>\n",
              "      <td>Zimbabwe</td>\n",
              "    </tr>\n",
              "  </tbody>\n",
              "</table style=\"display:inline\"></td></tr></table style=\"display:inline\">"
            ]
          },
          "metadata": {
            "tags": []
          }
        },
        {
          "output_type": "display_data",
          "data": {
            "image/png": "[encoded data removed]",
            "text/plain": [
              "<Figure size 432x288 with 1 Axes>"
            ]
          },
          "metadata": {
            "tags": []
          }
        }
      ]
    },
    {
      "cell_type": "code",
      "metadata": {
        "pycharm": {
          "name": "#%%\n"
        },
        "id": "M8HrR3r-LRRb",
        "colab": {
          "base_uri": "https://localhost:8080/",
          "height": 375
        },
        "outputId": "62dd2073-63e1-4b27-a86f-438cfae63d0e"
      },
      "source": [
        "agg = AgglomerativeClustering(n_clusters=3, linkage='average').fit(scaled_input)\n",
        "\n",
        "ax = plt.gca()\n",
        "df[agg.labels_==0][:20].plot.scatter(x='Corruption', y='Peace', color='r', ax=ax)\n",
        "df[agg.labels_==1][:20].plot.scatter(x='Corruption', y='Peace', color='g', ax=ax)\n",
        "df[agg.labels_==2][:20].plot.scatter(x='Corruption', y='Peace', color='b', ax=ax)\n",
        "\n",
        "df[agg.labels_==1]\n"
      ],
      "execution_count": null,
      "outputs": [
        {
          "output_type": "execute_result",
          "data": {
            "text/html": [
              "<div>\n",
              "<style scoped>\n",
              "    .dataframe tbody tr th:only-of-type {\n",
              "        vertical-align: middle;\n",
              "    }\n",
              "\n",
              "    .dataframe tbody tr th {\n",
              "        vertical-align: top;\n",
              "    }\n",
              "\n",
              "    .dataframe thead th {\n",
              "        text-align: right;\n",
              "    }\n",
              "</style>\n",
              "<table border=\"1\" class=\"dataframe\">\n",
              "  <thead>\n",
              "    <tr style=\"text-align: right;\">\n",
              "      <th></th>\n",
              "      <th>Country</th>\n",
              "      <th>Abbrev</th>\n",
              "      <th>Corruption</th>\n",
              "      <th>Peace</th>\n",
              "      <th>Legal</th>\n",
              "      <th>GDP Growth</th>\n",
              "    </tr>\n",
              "  </thead>\n",
              "  <tbody>\n",
              "    <tr>\n",
              "      <th>119</th>\n",
              "      <td>Yemen</td>\n",
              "      <td>YE</td>\n",
              "      <td>14</td>\n",
              "      <td>3.399</td>\n",
              "      <td>2.728</td>\n",
              "      <td>-9.779</td>\n",
              "    </tr>\n",
              "  </tbody>\n",
              "</table>\n",
              "</div>"
            ],
            "text/plain": [
              "    Country Abbrev  Corruption  Peace  Legal  GDP Growth\n",
              "119   Yemen     YE          14  3.399  2.728      -9.779"
            ]
          },
          "metadata": {
            "tags": []
          },
          "execution_count": 34
        },
        {
          "output_type": "display_data",
          "data": {
            "image/png": "[encoded data removed]",
            "text/plain": [
              "<Figure size 432x288 with 1 Axes>"
            ]
          },
          "metadata": {
            "tags": []
          }
        }
      ]
    },
    {
      "cell_type": "code",
      "metadata": {
        "pycharm": {
          "name": "#%%\n"
        },
        "id": "Nk2YjjIoLRRb"
      },
      "source": [
        ""
      ],
      "execution_count": null,
      "outputs": []
    },
    {
      "cell_type": "markdown",
      "metadata": {
        "id": "JoUDyG0HfAnw"
      },
      "source": [
        "# distribution-based clustering\n",
        "\n",
        "$L = \\sum_{i=1}^n ln(\\sum_{k=1}^K a_k N(x_i|\\mu_k, \\sum_k))$ (這整個 dataset 被 目前的 gaussian mixture sample 出來的 log-likelihood)<br><br>\n",
        "上式的 $ln$ 內有 $\\sum$ <br>\n",
        "=> 因為每個 $x_i$ 都不知道是哪個 distribution 所 sample 出來的<br>\n",
        "=> 引入一個 latent variable $z_i, z_1: x_1$所屬的distribution(soft clustering)<br>\n",
        "$L = \\sum_{i=1}^N ln(\\sum_{z_i} f(x_i, z_i|\\theta))$<br>\n",
        "&nbsp;&nbsp;&nbsp;&nbsp;\n",
        "$= \\sum_{i=1}^N ln(\\sum_{z_i} q(z_i) \\frac{f(x_i, z_i|\\theta)}{q(z_i)})$<br>\n",
        "&nbsp;&nbsp;&nbsp;&nbsp;\n",
        "$= \\sum_{i=1}^N ln(E_{z_i \\sim q(z_i)}[X])$ <br>\n",
        "&nbsp;&nbsp;&nbsp;&nbsp;\n",
        "$\\geq \\sum_{i=1}^N E_{z_i \\sim q(z_i)} [ln(X)]$ <br>\n",
        "&nbsp;&nbsp;&nbsp;&nbsp;\n",
        "$ = \\sum_{i=1}^N \\sum_{z_i} q(z_i) ln(\\frac{f(x_i, z_i|\\theta)}{q(z_i)}) $\n",
        "\n",
        "=> $q(z_i) = p(z_i = k|x_i) = \\frac{a_k N(x_i|\\mu_k, \\sum_k)}{\\sum_{k=1}^K a_k N(x_i|\\mu_k, \\sum_k)} = w_k(x_i)$<br>\n",
        "$L^{t+1} = \\sum_{i=1}^n ln(\\sum_{k=1}^K w_k^t(x_i) \\frac{a_k^{t+1} N(x_i^{t+1}|\\mu_k^{t+1}, \\sum_k^{t+1})}{w_k^t(x_i)})$<br>\n",
        "&nbsp;&nbsp;&nbsp;&nbsp;&nbsp;&nbsp;&nbsp;&nbsp;&nbsp;&nbsp;&nbsp;\n",
        "$\\geq \\sum_{i=1}^n \\sum_{k=1}^K w_k^t(x_i) ln(\\frac{a_k^{t+1} N(x_i^{t+1}|\\mu_k^{t+1}, \\sum_k^{t+1})}{w_k^t(x_i)})$<br>\n",
        "&nbsp;&nbsp;&nbsp;&nbsp;&nbsp;&nbsp;&nbsp;&nbsp;&nbsp;&nbsp;&nbsp;\n",
        "$= \\sum_{i=1}^n \\sum_{k=1}^K w_k^t(x_i) ln({a_k^{t+1} N(x_i^{t+1}|\\mu_k^{t+1}, \\sum_k^{t+1})}) + C$ (lower bound)<br>\n",
        "\n",
        "EM step: find $a_k, \\mu_k, \\sum_k$ s.t. Objective is approximately maximized\n",
        "\n",
        "E step: cal $w_j(x_i)$ given $\\mu_j, \\sum_j, a_j, \\forall j $ <br>\n",
        "\n",
        "M step: 對 $L^{t+1}$ 的 $lower bound$ 分別對參數做偏微分=0\n",
        "* $a_k^{t+1} = \\frac{n_k^t}{n}, n_k^t = \\sum_{i=1}^n w_k^t(x_i)$ <br><br>\n",
        "* $\\mu_k^{t+1} = \\frac{1}{n_k^t}\\sum_{i=1}^n w_k^t(x_i)x_i$ <br><br>\n",
        "* $\\sum_k^{t+1} = \\frac{1}{n_k^t}\\sum_{i=1}^n\\sum_{k=1}^K w_k^t(x_i)(x_i - \\mu_k^{t+1})(x_i - \\mu_k^{t+1})^T$ <br><br>"
      ]
    },
    {
      "cell_type": "code",
      "metadata": {
        "pycharm": {
          "name": "#%%\n"
        },
        "id": "jngxecQRLRRb",
        "colab": {
          "base_uri": "https://localhost:8080/",
          "height": 252
        },
        "outputId": "8c0ab22b-ed2d-4ee3-adac-86a7ff43cd65"
      },
      "source": [
        "from FinMind.Data import Load\n",
        "\n",
        "target = {\n",
        "    'USStockPrice': ['^GSPC', '^DJI', '^IXIC', 'Adj_Close'],\n",
        "    # 'TaiwanStockPrice': ['TAIEX', 'close']\n",
        "}\n",
        "\n",
        "index_data = {}\n",
        "\n",
        "for t in target:\n",
        "    for n in target[t][:-1]:\n",
        "        index_data[n] = Load.FinData(t, select=n, date='2012-01-01').set_index('date')[target[t][-1]]\n",
        "\n",
        "    index_df = pd.DataFrame(index_data).ffill().copy()\n",
        "index_return_df = index_df.pct_change().dropna()*100\n",
        "index_return_df.head()"
      ],
      "execution_count": null,
      "outputs": [
        {
          "output_type": "execute_result",
          "data": {
            "text/html": [
              "<div>\n",
              "<style scoped>\n",
              "    .dataframe tbody tr th:only-of-type {\n",
              "        vertical-align: middle;\n",
              "    }\n",
              "\n",
              "    .dataframe tbody tr th {\n",
              "        vertical-align: top;\n",
              "    }\n",
              "\n",
              "    .dataframe thead th {\n",
              "        text-align: right;\n",
              "    }\n",
              "</style>\n",
              "<table border=\"1\" class=\"dataframe\">\n",
              "  <thead>\n",
              "    <tr style=\"text-align: right;\">\n",
              "      <th></th>\n",
              "      <th>^GSPC</th>\n",
              "      <th>^DJI</th>\n",
              "      <th>^IXIC</th>\n",
              "    </tr>\n",
              "    <tr>\n",
              "      <th>date</th>\n",
              "      <th></th>\n",
              "      <th></th>\n",
              "      <th></th>\n",
              "    </tr>\n",
              "  </thead>\n",
              "  <tbody>\n",
              "    <tr>\n",
              "      <th>2012-01-04</th>\n",
              "      <td>0.018793</td>\n",
              "      <td>0.169390</td>\n",
              "      <td>-0.013591</td>\n",
              "    </tr>\n",
              "    <tr>\n",
              "      <th>2012-01-05</th>\n",
              "      <td>0.294371</td>\n",
              "      <td>-0.021742</td>\n",
              "      <td>0.811823</td>\n",
              "    </tr>\n",
              "    <tr>\n",
              "      <th>2012-01-06</th>\n",
              "      <td>-0.253696</td>\n",
              "      <td>-0.449431</td>\n",
              "      <td>0.163304</td>\n",
              "    </tr>\n",
              "    <tr>\n",
              "      <th>2012-01-09</th>\n",
              "      <td>0.226168</td>\n",
              "      <td>0.265374</td>\n",
              "      <td>0.087502</td>\n",
              "    </tr>\n",
              "    <tr>\n",
              "      <th>2012-01-10</th>\n",
              "      <td>0.888577</td>\n",
              "      <td>0.563235</td>\n",
              "      <td>0.969154</td>\n",
              "    </tr>\n",
              "  </tbody>\n",
              "</table>\n",
              "</div>"
            ],
            "text/plain": [
              "               ^GSPC      ^DJI     ^IXIC\n",
              "date                                    \n",
              "2012-01-04  0.018793  0.169390 -0.013591\n",
              "2012-01-05  0.294371 -0.021742  0.811823\n",
              "2012-01-06 -0.253696 -0.449431  0.163304\n",
              "2012-01-09  0.226168  0.265374  0.087502\n",
              "2012-01-10  0.888577  0.563235  0.969154"
            ]
          },
          "metadata": {
            "tags": []
          },
          "execution_count": 35
        }
      ]
    },
    {
      "cell_type": "code",
      "metadata": {
        "pycharm": {
          "name": "#%%\n"
        },
        "id": "RpR40L8YLRRb",
        "colab": {
          "base_uri": "https://localhost:8080/",
          "height": 1000
        },
        "outputId": "85109ffc-9cc5-46b8-9281-1b42bf89e6ee"
      },
      "source": [
        "import numpy as np\n",
        "import matplotlib.pyplot as plt\n",
        "from sklearn import mixture\n",
        "from sklearn.pipeline import make_pipeline\n",
        "\n",
        "X_train = index_return_df.iloc[:-252, :]\n",
        "X_test = index_return_df.iloc[-252:, :]\n",
        "\n",
        "pipe = make_pipeline(StandardScaler(), mixture.GaussianMixture(n_components=3, random_state=3))\n",
        "pipe.fit(X_train)\n",
        "predictions = pipe.predict(X_test)\n",
        "idx = np.argsort(pipe.named_steps['gaussianmixture'].means_.sum(axis=1))\n",
        "print(\"means: \\n\", pipe.named_steps['gaussianmixture'].means_[idx])\n",
        "print(\"cov_mat: \\n\", pipe.named_steps['gaussianmixture'].covariances_[idx])\n",
        "print(\"sqrt(det(cov_mat)): \", [(np.linalg.det(c)**0.5).round(5) for c in pipe.named_steps['gaussianmixture'].covariances_[idx]])\n",
        "args = []\n",
        "for i in idx:\n",
        "    args.append(np.where(predictions == i)[0])\n",
        "for i, arg in enumerate(args):\n",
        "    predictions[arg] = i-1\n",
        "print(predictions)\n",
        "predictions_df = pd.DataFrame(predictions, index=X_test.index, columns=['predictions']).reset_index()\n",
        "predictions_df['date'] = pd.to_datetime(predictions_df['date'])\n",
        "f, axes = plt.subplots(2, 1, figsize=(10, 8))\n",
        "index_df.iloc[-252:, :]['^GSPC'].plot(ax=axes[0])\n",
        "sns.scatterplot(x='date', y='predictions', data=predictions_df, s=5, ax=axes[1])\n",
        "plt.show()\n",
        "display_side_by_side([X_test.iloc[:30].round(3), predictions_df.set_index('date').iloc[:30]])"
      ],
      "execution_count": null,
      "outputs": [
        {
          "output_type": "stream",
          "text": [
            "means: \n",
            " [[-0.83702257 -0.73204773 -0.94895814]\n",
            " [ 0.0032573  -0.00517603  0.03070395]\n",
            " [ 0.53562434  0.48795659  0.54159317]]\n",
            "cov_mat: \n",
            " [[[2.76289408 2.84198753 2.44570289]\n",
            "  [2.84198753 3.02376166 2.45298626]\n",
            "  [2.44570289 2.45298626 2.37464394]]\n",
            "\n",
            " [[0.25754983 0.23758882 0.25127499]\n",
            "  [0.23758882 0.2521627  0.21129499]\n",
            "  [0.25127499 0.21129499 0.30364596]]\n",
            "\n",
            " [[0.91815198 0.87259588 0.86997332]\n",
            "  [0.87259588 0.91755935 0.78791226]\n",
            "  [0.86997332 0.78791226 0.91970281]]]\n",
            "sqrt(det(cov_mat)):  [0.21751, 0.01971, 0.07962]\n",
            "[-1 -1 -1 -1 -1 -1 -1 -1 -1 -1 -1 -1  1 -1 -1 -1 -1 -1  0 -1 -1 -1  1 -1\n",
            "  1 -1 -1 -1  1  0  1  1 -1  1 -1 -1  0  1 -1  1  1  1 -1 -1  1  0 -1 -1\n",
            "  1  0  0 -1 -1  1  1  0  1 -1  0 -1  1 -1 -1 -1 -1  0  1  0  0  0  0  0\n",
            " -1  1 -1 -1  1  1  0  1 -1  1 -1  1 -1 -1  1  0  1 -1 -1  0 -1  0  1 -1\n",
            "  1  1  1  1  0  1  0 -1 -1 -1  1  0  0  1  1  0  0  1  1  1  1  0  0  1\n",
            "  1 -1 -1  0 -1  1 -1 -1  1  1 -1  0 -1 -1  1 -1  0  1  1  0  1  1 -1  1\n",
            " -1  1  1  1  1  0  0  0  0 -1  0  0  0  1 -1  1 -1  1 -1 -1  1  1  1  0\n",
            " -1 -1  1  0  1  1  0 -1  0  0  1  1  0  0  1  1  0  1  0  0  0 -1  0  0\n",
            " -1  1  0  0  0 -1  1  0  0  1  0  0  1 -1  0 -1  1  0 -1  0  0  0  0  1\n",
            "  1  0  0  1  0 -1  1 -1  1  1  0  1  0  0  0  0  0  1  0  0  0  0 -1 -1\n",
            "  1 -1 -1  1 -1 -1 -1 -1 -1 -1 -1 -1]\n"
          ],
          "name": "stdout"
        },
        {
          "output_type": "display_data",
          "data": {
            "image/png": "[encoded data removed]",
            "text/plain": [
              "<Figure size 720x576 with 2 Axes>"
            ]
          },
          "metadata": {
            "tags": []
          }
        },
        {
          "output_type": "display_data",
          "data": {
            "text/html": [
              "<table style=\"display:inline\"><tr><td style=\"vertical-align:top\"> <table style=\"display:inline\" border=\"1\" class=\"dataframe\">\n",
              "  <thead>\n",
              "    <tr style=\"text-align: right;\">\n",
              "      <th></th>\n",
              "      <th>^GSPC</th>\n",
              "      <th>^DJI</th>\n",
              "      <th>^IXIC</th>\n",
              "    </tr>\n",
              "    <tr>\n",
              "      <th>date</th>\n",
              "      <th></th>\n",
              "      <th></th>\n",
              "      <th></th>\n",
              "    </tr>\n",
              "  </thead>\n",
              "  <tbody>\n",
              "    <tr>\n",
              "      <th>2020-03-12</th>\n",
              "      <td>-9.511</td>\n",
              "      <td>-9.988</td>\n",
              "      <td>-9.435</td>\n",
              "    </tr>\n",
              "    <tr>\n",
              "      <th>2020-03-13</th>\n",
              "      <td>9.287</td>\n",
              "      <td>9.363</td>\n",
              "      <td>9.346</td>\n",
              "    </tr>\n",
              "    <tr>\n",
              "      <th>2020-03-16</th>\n",
              "      <td>-11.984</td>\n",
              "      <td>-12.927</td>\n",
              "      <td>-12.321</td>\n",
              "    </tr>\n",
              "    <tr>\n",
              "      <th>2020-03-17</th>\n",
              "      <td>5.995</td>\n",
              "      <td>5.196</td>\n",
              "      <td>6.230</td>\n",
              "    </tr>\n",
              "    <tr>\n",
              "      <th>2020-03-18</th>\n",
              "      <td>-7.010</td>\n",
              "      <td>-7.819</td>\n",
              "      <td>-6.304</td>\n",
              "    </tr>\n",
              "    <tr>\n",
              "      <th>2020-03-19</th>\n",
              "      <td>2.444</td>\n",
              "      <td>2.607</td>\n",
              "      <td>4.048</td>\n",
              "    </tr>\n",
              "    <tr>\n",
              "      <th>2020-03-20</th>\n",
              "      <td>-4.336</td>\n",
              "      <td>-4.546</td>\n",
              "      <td>-3.791</td>\n",
              "    </tr>\n",
              "    <tr>\n",
              "      <th>2020-03-23</th>\n",
              "      <td>-2.929</td>\n",
              "      <td>-3.036</td>\n",
              "      <td>-0.274</td>\n",
              "    </tr>\n",
              "    <tr>\n",
              "      <th>2020-03-24</th>\n",
              "      <td>9.383</td>\n",
              "      <td>11.365</td>\n",
              "      <td>8.122</td>\n",
              "    </tr>\n",
              "    <tr>\n",
              "      <th>2020-03-25</th>\n",
              "      <td>1.154</td>\n",
              "      <td>2.394</td>\n",
              "      <td>-0.453</td>\n",
              "    </tr>\n",
              "    <tr>\n",
              "      <th>2020-03-26</th>\n",
              "      <td>6.241</td>\n",
              "      <td>6.375</td>\n",
              "      <td>5.596</td>\n",
              "    </tr>\n",
              "    <tr>\n",
              "      <th>2020-03-27</th>\n",
              "      <td>-3.369</td>\n",
              "      <td>-4.059</td>\n",
              "      <td>-3.785</td>\n",
              "    </tr>\n",
              "    <tr>\n",
              "      <th>2020-03-30</th>\n",
              "      <td>3.352</td>\n",
              "      <td>3.192</td>\n",
              "      <td>3.622</td>\n",
              "    </tr>\n",
              "    <tr>\n",
              "      <th>2020-03-31</th>\n",
              "      <td>-1.601</td>\n",
              "      <td>-1.838</td>\n",
              "      <td>-0.953</td>\n",
              "    </tr>\n",
              "    <tr>\n",
              "      <th>2020-04-01</th>\n",
              "      <td>-4.414</td>\n",
              "      <td>-4.443</td>\n",
              "      <td>-4.409</td>\n",
              "    </tr>\n",
              "    <tr>\n",
              "      <th>2020-04-02</th>\n",
              "      <td>2.283</td>\n",
              "      <td>2.244</td>\n",
              "      <td>1.722</td>\n",
              "    </tr>\n",
              "    <tr>\n",
              "      <th>2020-04-03</th>\n",
              "      <td>-1.514</td>\n",
              "      <td>-1.685</td>\n",
              "      <td>-1.526</td>\n",
              "    </tr>\n",
              "    <tr>\n",
              "      <th>2020-04-06</th>\n",
              "      <td>7.033</td>\n",
              "      <td>7.731</td>\n",
              "      <td>7.326</td>\n",
              "    </tr>\n",
              "    <tr>\n",
              "      <th>2020-04-07</th>\n",
              "      <td>-0.160</td>\n",
              "      <td>-0.115</td>\n",
              "      <td>-0.328</td>\n",
              "    </tr>\n",
              "    <tr>\n",
              "      <th>2020-04-08</th>\n",
              "      <td>3.406</td>\n",
              "      <td>3.442</td>\n",
              "      <td>2.582</td>\n",
              "    </tr>\n",
              "    <tr>\n",
              "      <th>2020-04-09</th>\n",
              "      <td>1.449</td>\n",
              "      <td>1.220</td>\n",
              "      <td>0.775</td>\n",
              "    </tr>\n",
              "    <tr>\n",
              "      <th>2020-04-13</th>\n",
              "      <td>-1.010</td>\n",
              "      <td>-1.385</td>\n",
              "      <td>0.476</td>\n",
              "    </tr>\n",
              "    <tr>\n",
              "      <th>2020-04-14</th>\n",
              "      <td>3.057</td>\n",
              "      <td>2.390</td>\n",
              "      <td>3.947</td>\n",
              "    </tr>\n",
              "    <tr>\n",
              "      <th>2020-04-15</th>\n",
              "      <td>-2.203</td>\n",
              "      <td>-1.860</td>\n",
              "      <td>-1.439</td>\n",
              "    </tr>\n",
              "    <tr>\n",
              "      <th>2020-04-16</th>\n",
              "      <td>0.582</td>\n",
              "      <td>0.142</td>\n",
              "      <td>1.658</td>\n",
              "    </tr>\n",
              "    <tr>\n",
              "      <th>2020-04-17</th>\n",
              "      <td>2.679</td>\n",
              "      <td>2.994</td>\n",
              "      <td>1.380</td>\n",
              "    </tr>\n",
              "    <tr>\n",
              "      <th>2020-04-20</th>\n",
              "      <td>-1.788</td>\n",
              "      <td>-2.442</td>\n",
              "      <td>-1.034</td>\n",
              "    </tr>\n",
              "    <tr>\n",
              "      <th>2020-04-21</th>\n",
              "      <td>-3.067</td>\n",
              "      <td>-2.670</td>\n",
              "      <td>-3.475</td>\n",
              "    </tr>\n",
              "    <tr>\n",
              "      <th>2020-04-22</th>\n",
              "      <td>2.293</td>\n",
              "      <td>1.985</td>\n",
              "      <td>2.809</td>\n",
              "    </tr>\n",
              "    <tr>\n",
              "      <th>2020-04-23</th>\n",
              "      <td>-0.054</td>\n",
              "      <td>0.168</td>\n",
              "      <td>-0.007</td>\n",
              "    </tr>\n",
              "  </tbody>\n",
              "</table style=\"display:inline\"></td><td style=\"vertical-align:top\"> <table style=\"display:inline\" border=\"1\" class=\"dataframe\">\n",
              "  <thead>\n",
              "    <tr style=\"text-align: right;\">\n",
              "      <th></th>\n",
              "      <th>predictions</th>\n",
              "    </tr>\n",
              "    <tr>\n",
              "      <th>date</th>\n",
              "      <th></th>\n",
              "    </tr>\n",
              "  </thead>\n",
              "  <tbody>\n",
              "    <tr>\n",
              "      <th>2020-03-12</th>\n",
              "      <td>-1</td>\n",
              "    </tr>\n",
              "    <tr>\n",
              "      <th>2020-03-13</th>\n",
              "      <td>-1</td>\n",
              "    </tr>\n",
              "    <tr>\n",
              "      <th>2020-03-16</th>\n",
              "      <td>-1</td>\n",
              "    </tr>\n",
              "    <tr>\n",
              "      <th>2020-03-17</th>\n",
              "      <td>-1</td>\n",
              "    </tr>\n",
              "    <tr>\n",
              "      <th>2020-03-18</th>\n",
              "      <td>-1</td>\n",
              "    </tr>\n",
              "    <tr>\n",
              "      <th>2020-03-19</th>\n",
              "      <td>-1</td>\n",
              "    </tr>\n",
              "    <tr>\n",
              "      <th>2020-03-20</th>\n",
              "      <td>-1</td>\n",
              "    </tr>\n",
              "    <tr>\n",
              "      <th>2020-03-23</th>\n",
              "      <td>-1</td>\n",
              "    </tr>\n",
              "    <tr>\n",
              "      <th>2020-03-24</th>\n",
              "      <td>-1</td>\n",
              "    </tr>\n",
              "    <tr>\n",
              "      <th>2020-03-25</th>\n",
              "      <td>-1</td>\n",
              "    </tr>\n",
              "    <tr>\n",
              "      <th>2020-03-26</th>\n",
              "      <td>-1</td>\n",
              "    </tr>\n",
              "    <tr>\n",
              "      <th>2020-03-27</th>\n",
              "      <td>-1</td>\n",
              "    </tr>\n",
              "    <tr>\n",
              "      <th>2020-03-30</th>\n",
              "      <td>1</td>\n",
              "    </tr>\n",
              "    <tr>\n",
              "      <th>2020-03-31</th>\n",
              "      <td>-1</td>\n",
              "    </tr>\n",
              "    <tr>\n",
              "      <th>2020-04-01</th>\n",
              "      <td>-1</td>\n",
              "    </tr>\n",
              "    <tr>\n",
              "      <th>2020-04-02</th>\n",
              "      <td>-1</td>\n",
              "    </tr>\n",
              "    <tr>\n",
              "      <th>2020-04-03</th>\n",
              "      <td>-1</td>\n",
              "    </tr>\n",
              "    <tr>\n",
              "      <th>2020-04-06</th>\n",
              "      <td>-1</td>\n",
              "    </tr>\n",
              "    <tr>\n",
              "      <th>2020-04-07</th>\n",
              "      <td>0</td>\n",
              "    </tr>\n",
              "    <tr>\n",
              "      <th>2020-04-08</th>\n",
              "      <td>-1</td>\n",
              "    </tr>\n",
              "    <tr>\n",
              "      <th>2020-04-09</th>\n",
              "      <td>-1</td>\n",
              "    </tr>\n",
              "    <tr>\n",
              "      <th>2020-04-13</th>\n",
              "      <td>-1</td>\n",
              "    </tr>\n",
              "    <tr>\n",
              "      <th>2020-04-14</th>\n",
              "      <td>1</td>\n",
              "    </tr>\n",
              "    <tr>\n",
              "      <th>2020-04-15</th>\n",
              "      <td>-1</td>\n",
              "    </tr>\n",
              "    <tr>\n",
              "      <th>2020-04-16</th>\n",
              "      <td>1</td>\n",
              "    </tr>\n",
              "    <tr>\n",
              "      <th>2020-04-17</th>\n",
              "      <td>-1</td>\n",
              "    </tr>\n",
              "    <tr>\n",
              "      <th>2020-04-20</th>\n",
              "      <td>-1</td>\n",
              "    </tr>\n",
              "    <tr>\n",
              "      <th>2020-04-21</th>\n",
              "      <td>-1</td>\n",
              "    </tr>\n",
              "    <tr>\n",
              "      <th>2020-04-22</th>\n",
              "      <td>1</td>\n",
              "    </tr>\n",
              "    <tr>\n",
              "      <th>2020-04-23</th>\n",
              "      <td>0</td>\n",
              "    </tr>\n",
              "  </tbody>\n",
              "</table style=\"display:inline\"></td></tr></table style=\"display:inline\">"
            ]
          },
          "metadata": {
            "tags": []
          }
        }
      ]
    },
    {
      "cell_type": "code",
      "metadata": {
        "pycharm": {
          "name": "#%%\n"
        },
        "id": "z-UjaQLPLRRc"
      },
      "source": [
        "def sliding_window(data, history_size=42, test_size=1):\n",
        "    train, test = [], []\n",
        "    stop = len(data)-(test_size-1)-history_size\n",
        "    remainder = stop % test_size\n",
        "    for i in range(0, stop, test_size):\n",
        "        train.append(data[i:i+history_size].reshape(1, history_size, -1))\n",
        "        test.append(data[i+history_size:i+history_size+test_size].reshape(1, test_size, -1))\n",
        "        if (i + test_size) >= stop and remainder:\n",
        "            train.append(data[i+remainder:i+remainder+history_size].reshape(1, history_size, -1))\n",
        "            arr = np.empty((1, test_size, data.shape[-1]))\n",
        "            arr[:] = np.NaN\n",
        "            arr[0, :remainder] = data[i+remainder+history_size:i+2*remainder+history_size].reshape(1, remainder, -1)\n",
        "            test.append(arr)\n",
        "    return np.vstack(train), np.vstack(test)\n",
        "\n",
        "X_train, X_test = sliding_window(index_return_df.values, history_size=42, test_size=1)"
      ],
      "execution_count": null,
      "outputs": []
    },
    {
      "cell_type": "code",
      "metadata": {
        "id": "t_RbWygP43Wu"
      },
      "source": [
        "import numpy as np\n",
        "import matplotlib.pyplot as plt\n",
        "from sklearn import mixture\n",
        "from sklearn.pipeline import make_pipeline\n",
        "pipe = make_pipeline(StandardScaler(), mixture.GaussianMixture(n_components=3, random_state=3))\n",
        "\n",
        "predictions = []\n",
        "for train, test in zip(X_train, X_test):\n",
        "    pipe.fit(train)\n",
        "    idx = np.argsort(pipe.named_steps['gaussianmixture'].means_.sum(axis=1))\n",
        "    mask = np.all(np.isnan(test), axis=1)\n",
        "    test = test[~mask]\n",
        "    p = pipe.predict(test)\n",
        "    for i in range(3):\n",
        "        p[np.where(p == idx[i])[0]] = i-1\n",
        "    predictions = np.hstack([predictions, p])"
      ],
      "execution_count": null,
      "outputs": []
    },
    {
      "cell_type": "code",
      "metadata": {
        "pycharm": {
          "name": "#%%\n"
        },
        "id": "6S8Vbn8DLRRc",
        "colab": {
          "base_uri": "https://localhost:8080/"
        },
        "outputId": "bdb8e72b-b0d5-4715-b552-75b05ef332fc"
      },
      "source": [
        "predictions_series = pd.Series(predictions, index=index_df.index[42+1:])\n",
        "predictions_series"
      ],
      "execution_count": null,
      "outputs": [
        {
          "output_type": "execute_result",
          "data": {
            "text/plain": [
              "date\n",
              "2012-03-06    1.0\n",
              "2012-03-07    1.0\n",
              "2012-03-08    1.0\n",
              "2012-03-09    1.0\n",
              "2012-03-12    1.0\n",
              "             ... \n",
              "2021-03-05    0.0\n",
              "2021-03-08    1.0\n",
              "2021-03-09    1.0\n",
              "2021-03-10    0.0\n",
              "2021-03-11    1.0\n",
              "Length: 2269, dtype: float64"
            ]
          },
          "metadata": {
            "tags": []
          },
          "execution_count": 39
        }
      ]
    },
    {
      "cell_type": "code",
      "metadata": {
        "id": "mTzTeLQdAWmE"
      },
      "source": [
        "index_df['predictions'] = predictions_series\n",
        "taiex_for_plt = index_df.reset_index()\n",
        "taiex_for_plt['date'] = pd.to_datetime(taiex_for_plt['date'])"
      ],
      "execution_count": null,
      "outputs": []
    },
    {
      "cell_type": "code",
      "metadata": {
        "colab": {
          "base_uri": "https://localhost:8080/",
          "height": 419
        },
        "id": "ms8jYT48tIAo",
        "outputId": "527f25ed-041a-43f3-961c-54474fca359e"
      },
      "source": [
        "plt.figure(figsize=(10, 6))\n",
        "sns.lineplot(x='date', y='^GSPC', data=taiex_for_plt)\n",
        "plt.show()"
      ],
      "execution_count": null,
      "outputs": [
        {
          "output_type": "display_data",
          "data": {
            "image/png": "[encoded data removed]",
            "text/plain": [
              "<Figure size 720x432 with 1 Axes>"
            ]
          },
          "metadata": {
            "tags": []
          }
        }
      ]
    },
    {
      "cell_type": "code",
      "metadata": {
        "colab": {
          "base_uri": "https://localhost:8080/",
          "height": 419
        },
        "id": "1AIoFHLw7YsY",
        "outputId": "5b72a4ad-59a0-40e2-a86c-3a5be2c1adcf"
      },
      "source": [
        "plt.figure(figsize=(10.2, 6))\n",
        "sns.scatterplot(x='date', y='predictions', data=taiex_for_plt, s=4)\n",
        "plt.show()"
      ],
      "execution_count": null,
      "outputs": [
        {
          "output_type": "display_data",
          "data": {
            "image/png": "[encoded data removed]",
            "text/plain": [
              "<Figure size 734.4x432 with 1 Axes>"
            ]
          },
          "metadata": {
            "tags": []
          }
        }
      ]
    },
    {
      "cell_type": "code",
      "metadata": {
        "pycharm": {
          "name": "#%%\n"
        },
        "id": "LyHLkWe0LRRd",
        "colab": {
          "base_uri": "https://localhost:8080/",
          "height": 992
        },
        "outputId": "9ada62cc-7ba3-429d-8a4e-1ffb6e13bf6a"
      },
      "source": [
        "display_side_by_side([taiex_for_plt.dropna().iloc[4:34],\n",
        "                      taiex_for_plt.dropna().iloc[:34][['predictions']].rolling(5).sum().dropna()])\n"
      ],
      "execution_count": null,
      "outputs": [
        {
          "output_type": "display_data",
          "data": {
            "text/html": [
              "<table style=\"display:inline\"><tr><td style=\"vertical-align:top\"> <table style=\"display:inline\" border=\"1\" class=\"dataframe\">\n",
              "  <thead>\n",
              "    <tr style=\"text-align: right;\">\n",
              "      <th></th>\n",
              "      <th>date</th>\n",
              "      <th>^GSPC</th>\n",
              "      <th>^DJI</th>\n",
              "      <th>^IXIC</th>\n",
              "      <th>predictions</th>\n",
              "    </tr>\n",
              "  </thead>\n",
              "  <tbody>\n",
              "    <tr>\n",
              "      <th>47</th>\n",
              "      <td>2012-03-12</td>\n",
              "      <td>1371.09</td>\n",
              "      <td>12959.7</td>\n",
              "      <td>2983.66</td>\n",
              "      <td>1.0</td>\n",
              "    </tr>\n",
              "    <tr>\n",
              "      <th>48</th>\n",
              "      <td>2012-03-13</td>\n",
              "      <td>1395.95</td>\n",
              "      <td>13177.7</td>\n",
              "      <td>3039.88</td>\n",
              "      <td>1.0</td>\n",
              "    </tr>\n",
              "    <tr>\n",
              "      <th>49</th>\n",
              "      <td>2012-03-14</td>\n",
              "      <td>1394.28</td>\n",
              "      <td>13194.1</td>\n",
              "      <td>3040.73</td>\n",
              "      <td>0.0</td>\n",
              "    </tr>\n",
              "    <tr>\n",
              "      <th>50</th>\n",
              "      <td>2012-03-15</td>\n",
              "      <td>1402.60</td>\n",
              "      <td>13252.8</td>\n",
              "      <td>3056.37</td>\n",
              "      <td>0.0</td>\n",
              "    </tr>\n",
              "    <tr>\n",
              "      <th>51</th>\n",
              "      <td>2012-03-16</td>\n",
              "      <td>1404.17</td>\n",
              "      <td>13232.6</td>\n",
              "      <td>3055.26</td>\n",
              "      <td>0.0</td>\n",
              "    </tr>\n",
              "    <tr>\n",
              "      <th>52</th>\n",
              "      <td>2012-03-19</td>\n",
              "      <td>1409.75</td>\n",
              "      <td>13239.1</td>\n",
              "      <td>3078.32</td>\n",
              "      <td>1.0</td>\n",
              "    </tr>\n",
              "    <tr>\n",
              "      <th>53</th>\n",
              "      <td>2012-03-20</td>\n",
              "      <td>1405.52</td>\n",
              "      <td>13170.2</td>\n",
              "      <td>3074.15</td>\n",
              "      <td>-1.0</td>\n",
              "    </tr>\n",
              "    <tr>\n",
              "      <th>54</th>\n",
              "      <td>2012-03-21</td>\n",
              "      <td>1402.89</td>\n",
              "      <td>13124.6</td>\n",
              "      <td>3075.32</td>\n",
              "      <td>0.0</td>\n",
              "    </tr>\n",
              "    <tr>\n",
              "      <th>55</th>\n",
              "      <td>2012-03-22</td>\n",
              "      <td>1392.78</td>\n",
              "      <td>13046.1</td>\n",
              "      <td>3063.32</td>\n",
              "      <td>0.0</td>\n",
              "    </tr>\n",
              "    <tr>\n",
              "      <th>56</th>\n",
              "      <td>2012-03-23</td>\n",
              "      <td>1397.11</td>\n",
              "      <td>13080.7</td>\n",
              "      <td>3067.92</td>\n",
              "      <td>-1.0</td>\n",
              "    </tr>\n",
              "    <tr>\n",
              "      <th>57</th>\n",
              "      <td>2012-03-26</td>\n",
              "      <td>1416.51</td>\n",
              "      <td>13241.6</td>\n",
              "      <td>3122.57</td>\n",
              "      <td>1.0</td>\n",
              "    </tr>\n",
              "    <tr>\n",
              "      <th>58</th>\n",
              "      <td>2012-03-27</td>\n",
              "      <td>1412.52</td>\n",
              "      <td>13197.7</td>\n",
              "      <td>3120.35</td>\n",
              "      <td>-1.0</td>\n",
              "    </tr>\n",
              "    <tr>\n",
              "      <th>59</th>\n",
              "      <td>2012-03-28</td>\n",
              "      <td>1405.54</td>\n",
              "      <td>13126.2</td>\n",
              "      <td>3104.96</td>\n",
              "      <td>-1.0</td>\n",
              "    </tr>\n",
              "    <tr>\n",
              "      <th>60</th>\n",
              "      <td>2012-03-29</td>\n",
              "      <td>1403.28</td>\n",
              "      <td>13145.8</td>\n",
              "      <td>3095.36</td>\n",
              "      <td>-1.0</td>\n",
              "    </tr>\n",
              "    <tr>\n",
              "      <th>61</th>\n",
              "      <td>2012-03-30</td>\n",
              "      <td>1408.47</td>\n",
              "      <td>13212.0</td>\n",
              "      <td>3091.57</td>\n",
              "      <td>0.0</td>\n",
              "    </tr>\n",
              "    <tr>\n",
              "      <th>62</th>\n",
              "      <td>2012-04-02</td>\n",
              "      <td>1419.04</td>\n",
              "      <td>13264.5</td>\n",
              "      <td>3119.70</td>\n",
              "      <td>1.0</td>\n",
              "    </tr>\n",
              "    <tr>\n",
              "      <th>63</th>\n",
              "      <td>2012-04-03</td>\n",
              "      <td>1413.38</td>\n",
              "      <td>13199.5</td>\n",
              "      <td>3113.57</td>\n",
              "      <td>-1.0</td>\n",
              "    </tr>\n",
              "    <tr>\n",
              "      <th>64</th>\n",
              "      <td>2012-04-04</td>\n",
              "      <td>1398.96</td>\n",
              "      <td>13074.8</td>\n",
              "      <td>3068.09</td>\n",
              "      <td>-1.0</td>\n",
              "    </tr>\n",
              "    <tr>\n",
              "      <th>65</th>\n",
              "      <td>2012-04-05</td>\n",
              "      <td>1398.08</td>\n",
              "      <td>13060.1</td>\n",
              "      <td>3080.50</td>\n",
              "      <td>-1.0</td>\n",
              "    </tr>\n",
              "    <tr>\n",
              "      <th>66</th>\n",
              "      <td>2012-04-09</td>\n",
              "      <td>1382.20</td>\n",
              "      <td>12929.6</td>\n",
              "      <td>3047.08</td>\n",
              "      <td>1.0</td>\n",
              "    </tr>\n",
              "    <tr>\n",
              "      <th>67</th>\n",
              "      <td>2012-04-10</td>\n",
              "      <td>1358.59</td>\n",
              "      <td>12715.9</td>\n",
              "      <td>2991.22</td>\n",
              "      <td>-1.0</td>\n",
              "    </tr>\n",
              "    <tr>\n",
              "      <th>68</th>\n",
              "      <td>2012-04-11</td>\n",
              "      <td>1368.71</td>\n",
              "      <td>12805.4</td>\n",
              "      <td>3016.46</td>\n",
              "      <td>1.0</td>\n",
              "    </tr>\n",
              "    <tr>\n",
              "      <th>69</th>\n",
              "      <td>2012-04-12</td>\n",
              "      <td>1387.57</td>\n",
              "      <td>12986.6</td>\n",
              "      <td>3055.55</td>\n",
              "      <td>-1.0</td>\n",
              "    </tr>\n",
              "    <tr>\n",
              "      <th>70</th>\n",
              "      <td>2012-04-13</td>\n",
              "      <td>1370.26</td>\n",
              "      <td>12849.6</td>\n",
              "      <td>3011.33</td>\n",
              "      <td>-1.0</td>\n",
              "    </tr>\n",
              "    <tr>\n",
              "      <th>71</th>\n",
              "      <td>2012-04-16</td>\n",
              "      <td>1369.57</td>\n",
              "      <td>12921.4</td>\n",
              "      <td>2988.40</td>\n",
              "      <td>0.0</td>\n",
              "    </tr>\n",
              "    <tr>\n",
              "      <th>72</th>\n",
              "      <td>2012-04-17</td>\n",
              "      <td>1390.78</td>\n",
              "      <td>13115.5</td>\n",
              "      <td>3042.82</td>\n",
              "      <td>1.0</td>\n",
              "    </tr>\n",
              "    <tr>\n",
              "      <th>73</th>\n",
              "      <td>2012-04-18</td>\n",
              "      <td>1385.14</td>\n",
              "      <td>13032.8</td>\n",
              "      <td>3031.45</td>\n",
              "      <td>1.0</td>\n",
              "    </tr>\n",
              "    <tr>\n",
              "      <th>74</th>\n",
              "      <td>2012-04-19</td>\n",
              "      <td>1376.92</td>\n",
              "      <td>12964.1</td>\n",
              "      <td>3007.56</td>\n",
              "      <td>0.0</td>\n",
              "    </tr>\n",
              "    <tr>\n",
              "      <th>75</th>\n",
              "      <td>2012-04-20</td>\n",
              "      <td>1378.53</td>\n",
              "      <td>13029.3</td>\n",
              "      <td>3000.45</td>\n",
              "      <td>0.0</td>\n",
              "    </tr>\n",
              "    <tr>\n",
              "      <th>76</th>\n",
              "      <td>2012-04-23</td>\n",
              "      <td>1366.94</td>\n",
              "      <td>12927.2</td>\n",
              "      <td>2970.45</td>\n",
              "      <td>-1.0</td>\n",
              "    </tr>\n",
              "  </tbody>\n",
              "</table style=\"display:inline\"></td><td style=\"vertical-align:top\"> <table style=\"display:inline\" border=\"1\" class=\"dataframe\">\n",
              "  <thead>\n",
              "    <tr style=\"text-align: right;\">\n",
              "      <th></th>\n",
              "      <th>predictions</th>\n",
              "    </tr>\n",
              "  </thead>\n",
              "  <tbody>\n",
              "    <tr>\n",
              "      <th>47</th>\n",
              "      <td>5.0</td>\n",
              "    </tr>\n",
              "    <tr>\n",
              "      <th>48</th>\n",
              "      <td>5.0</td>\n",
              "    </tr>\n",
              "    <tr>\n",
              "      <th>49</th>\n",
              "      <td>4.0</td>\n",
              "    </tr>\n",
              "    <tr>\n",
              "      <th>50</th>\n",
              "      <td>3.0</td>\n",
              "    </tr>\n",
              "    <tr>\n",
              "      <th>51</th>\n",
              "      <td>2.0</td>\n",
              "    </tr>\n",
              "    <tr>\n",
              "      <th>52</th>\n",
              "      <td>2.0</td>\n",
              "    </tr>\n",
              "    <tr>\n",
              "      <th>53</th>\n",
              "      <td>0.0</td>\n",
              "    </tr>\n",
              "    <tr>\n",
              "      <th>54</th>\n",
              "      <td>0.0</td>\n",
              "    </tr>\n",
              "    <tr>\n",
              "      <th>55</th>\n",
              "      <td>0.0</td>\n",
              "    </tr>\n",
              "    <tr>\n",
              "      <th>56</th>\n",
              "      <td>-1.0</td>\n",
              "    </tr>\n",
              "    <tr>\n",
              "      <th>57</th>\n",
              "      <td>-1.0</td>\n",
              "    </tr>\n",
              "    <tr>\n",
              "      <th>58</th>\n",
              "      <td>-1.0</td>\n",
              "    </tr>\n",
              "    <tr>\n",
              "      <th>59</th>\n",
              "      <td>-2.0</td>\n",
              "    </tr>\n",
              "    <tr>\n",
              "      <th>60</th>\n",
              "      <td>-3.0</td>\n",
              "    </tr>\n",
              "    <tr>\n",
              "      <th>61</th>\n",
              "      <td>-2.0</td>\n",
              "    </tr>\n",
              "    <tr>\n",
              "      <th>62</th>\n",
              "      <td>-2.0</td>\n",
              "    </tr>\n",
              "    <tr>\n",
              "      <th>63</th>\n",
              "      <td>-2.0</td>\n",
              "    </tr>\n",
              "    <tr>\n",
              "      <th>64</th>\n",
              "      <td>-2.0</td>\n",
              "    </tr>\n",
              "    <tr>\n",
              "      <th>65</th>\n",
              "      <td>-2.0</td>\n",
              "    </tr>\n",
              "    <tr>\n",
              "      <th>66</th>\n",
              "      <td>-1.0</td>\n",
              "    </tr>\n",
              "    <tr>\n",
              "      <th>67</th>\n",
              "      <td>-3.0</td>\n",
              "    </tr>\n",
              "    <tr>\n",
              "      <th>68</th>\n",
              "      <td>-1.0</td>\n",
              "    </tr>\n",
              "    <tr>\n",
              "      <th>69</th>\n",
              "      <td>-1.0</td>\n",
              "    </tr>\n",
              "    <tr>\n",
              "      <th>70</th>\n",
              "      <td>-1.0</td>\n",
              "    </tr>\n",
              "    <tr>\n",
              "      <th>71</th>\n",
              "      <td>-2.0</td>\n",
              "    </tr>\n",
              "    <tr>\n",
              "      <th>72</th>\n",
              "      <td>0.0</td>\n",
              "    </tr>\n",
              "    <tr>\n",
              "      <th>73</th>\n",
              "      <td>0.0</td>\n",
              "    </tr>\n",
              "    <tr>\n",
              "      <th>74</th>\n",
              "      <td>1.0</td>\n",
              "    </tr>\n",
              "    <tr>\n",
              "      <th>75</th>\n",
              "      <td>2.0</td>\n",
              "    </tr>\n",
              "    <tr>\n",
              "      <th>76</th>\n",
              "      <td>1.0</td>\n",
              "    </tr>\n",
              "  </tbody>\n",
              "</table style=\"display:inline\"></td></tr></table style=\"display:inline\">"
            ]
          },
          "metadata": {
            "tags": []
          }
        }
      ]
    },
    {
      "cell_type": "code",
      "metadata": {
        "pycharm": {
          "name": "#%%\n"
        },
        "id": "1DXkbjBfLRRd"
      },
      "source": [
        ""
      ],
      "execution_count": null,
      "outputs": []
    },
    {
      "cell_type": "markdown",
      "metadata": {
        "id": "JxuN3p6O8YpN"
      },
      "source": [
        "Exercise 2.13"
      ]
    },
    {
      "cell_type": "code",
      "metadata": {
        "colab": {
          "base_uri": "https://localhost:8080/",
          "height": 160
        },
        "id": "ayTheCRzTtFU",
        "outputId": "0a5b6944-81b0-4173-f3c5-f12b697ca2aa"
      },
      "source": [
        "pd.DataFrame(kmeans_three_features.cluster_centers_, columns=three_features_input.columns, index=['high', 'low', 'moderate'])"
      ],
      "execution_count": null,
      "outputs": [
        {
          "output_type": "execute_result",
          "data": {
            "text/html": [
              "<div>\n",
              "<style scoped>\n",
              "    .dataframe tbody tr th:only-of-type {\n",
              "        vertical-align: middle;\n",
              "    }\n",
              "\n",
              "    .dataframe tbody tr th {\n",
              "        vertical-align: top;\n",
              "    }\n",
              "\n",
              "    .dataframe thead th {\n",
              "        text-align: right;\n",
              "    }\n",
              "</style>\n",
              "<table border=\"1\" class=\"dataframe\">\n",
              "  <thead>\n",
              "    <tr style=\"text-align: right;\">\n",
              "      <th></th>\n",
              "      <th>Peace</th>\n",
              "      <th>Legal</th>\n",
              "      <th>GDP Growth</th>\n",
              "    </tr>\n",
              "  </thead>\n",
              "  <tbody>\n",
              "    <tr>\n",
              "      <th>high</th>\n",
              "      <td>1.397830</td>\n",
              "      <td>-1.046003</td>\n",
              "      <td>-1.801892</td>\n",
              "    </tr>\n",
              "    <tr>\n",
              "      <th>low</th>\n",
              "      <td>-0.931933</td>\n",
              "      <td>1.171223</td>\n",
              "      <td>-0.014518</td>\n",
              "    </tr>\n",
              "    <tr>\n",
              "      <th>moderate</th>\n",
              "      <td>0.260407</td>\n",
              "      <td>-0.473601</td>\n",
              "      <td>0.379518</td>\n",
              "    </tr>\n",
              "  </tbody>\n",
              "</table>\n",
              "</div>"
            ],
            "text/plain": [
              "             Peace     Legal  GDP Growth\n",
              "high      1.397830 -1.046003   -1.801892\n",
              "low      -0.931933  1.171223   -0.014518\n",
              "moderate  0.260407 -0.473601    0.379518"
            ]
          },
          "metadata": {
            "tags": []
          },
          "execution_count": 44
        }
      ]
    },
    {
      "cell_type": "code",
      "metadata": {
        "id": "3amD5g608aqZ"
      },
      "source": [
        "original_input = df[['Corruption', 'Peace', 'Legal', 'GDP Growth']]\n",
        "scaled_input = scaler.fit_transform(original_input)"
      ],
      "execution_count": null,
      "outputs": []
    },
    {
      "cell_type": "code",
      "metadata": {
        "colab": {
          "base_uri": "https://localhost:8080/",
          "height": 160
        },
        "id": "egB_K0woE-HF",
        "outputId": "61e0388b-5dd1-4ccf-f91b-b3ead9e9c274"
      },
      "source": [
        "kmeans = KMeans(n_clusters=3, random_state=3).fit(scaled_input)\n",
        "pd.DataFrame(kmeans.cluster_centers_, columns=original_input.columns, index=['moderate', 'low', 'high'])"
      ],
      "execution_count": null,
      "outputs": [
        {
          "output_type": "execute_result",
          "data": {
            "text/html": [
              "<div>\n",
              "<style scoped>\n",
              "    .dataframe tbody tr th:only-of-type {\n",
              "        vertical-align: middle;\n",
              "    }\n",
              "\n",
              "    .dataframe tbody tr th {\n",
              "        vertical-align: top;\n",
              "    }\n",
              "\n",
              "    .dataframe thead th {\n",
              "        text-align: right;\n",
              "    }\n",
              "</style>\n",
              "<table border=\"1\" class=\"dataframe\">\n",
              "  <thead>\n",
              "    <tr style=\"text-align: right;\">\n",
              "      <th></th>\n",
              "      <th>Corruption</th>\n",
              "      <th>Peace</th>\n",
              "      <th>Legal</th>\n",
              "      <th>GDP Growth</th>\n",
              "    </tr>\n",
              "  </thead>\n",
              "  <tbody>\n",
              "    <tr>\n",
              "      <th>moderate</th>\n",
              "      <td>-1.027467</td>\n",
              "      <td>1.352217</td>\n",
              "      <td>-1.059033</td>\n",
              "      <td>-1.719983</td>\n",
              "    </tr>\n",
              "    <tr>\n",
              "      <th>low</th>\n",
              "      <td>1.231352</td>\n",
              "      <td>-0.979187</td>\n",
              "      <td>1.165956</td>\n",
              "      <td>0.010270</td>\n",
              "    </tr>\n",
              "    <tr>\n",
              "      <th>high</th>\n",
              "      <td>-0.479569</td>\n",
              "      <td>0.263309</td>\n",
              "      <td>-0.435100</td>\n",
              "      <td>0.373518</td>\n",
              "    </tr>\n",
              "  </tbody>\n",
              "</table>\n",
              "</div>"
            ],
            "text/plain": [
              "          Corruption     Peace     Legal  GDP Growth\n",
              "moderate   -1.027467  1.352217 -1.059033   -1.719983\n",
              "low         1.231352 -0.979187  1.165956    0.010270\n",
              "high       -0.479569  0.263309 -0.435100    0.373518"
            ]
          },
          "metadata": {
            "tags": []
          },
          "execution_count": 46
        }
      ]
    },
    {
      "cell_type": "code",
      "metadata": {
        "colab": {
          "base_uri": "https://localhost:8080/",
          "height": 1000
        },
        "id": "_iw18a5HFLXY",
        "outputId": "68d0388c-f2dd-4c53-c1eb-bd9b8d5012ef"
      },
      "source": [
        "display_side_by_side([df[kmeans.labels_ == 2][['Country']],\n",
        "                      df[kmeans_three_features.labels_ == 2][['Country']]],\n",
        "                      names=['4 features', '3 features'])"
      ],
      "execution_count": null,
      "outputs": [
        {
          "output_type": "display_data",
          "data": {
            "text/html": [
              "<table style=\"display:inline\"><tr><td style=\"text-align:center\">4 features</td><td style=\"text-align:center\">3 features</td></tr><tr><td style=\"vertical-align:top\"> <table style=\"display:inline\" border=\"1\" class=\"dataframe\">\n",
              "  <thead>\n",
              "    <tr style=\"text-align: right;\">\n",
              "      <th></th>\n",
              "      <th>Country</th>\n",
              "    </tr>\n",
              "  </thead>\n",
              "  <tbody>\n",
              "    <tr>\n",
              "      <th>0</th>\n",
              "      <td>Albania</td>\n",
              "    </tr>\n",
              "    <tr>\n",
              "      <th>1</th>\n",
              "      <td>Algeria</td>\n",
              "    </tr>\n",
              "    <tr>\n",
              "      <th>3</th>\n",
              "      <td>Armenia</td>\n",
              "    </tr>\n",
              "    <tr>\n",
              "      <th>7</th>\n",
              "      <td>Bahrain</td>\n",
              "    </tr>\n",
              "    <tr>\n",
              "      <th>8</th>\n",
              "      <td>Bangladesh</td>\n",
              "    </tr>\n",
              "    <tr>\n",
              "      <th>10</th>\n",
              "      <td>Benin</td>\n",
              "    </tr>\n",
              "    <tr>\n",
              "      <th>11</th>\n",
              "      <td>Bolivia</td>\n",
              "    </tr>\n",
              "    <tr>\n",
              "      <th>12</th>\n",
              "      <td>Bosnia and Herzegovina</td>\n",
              "    </tr>\n",
              "    <tr>\n",
              "      <th>15</th>\n",
              "      <td>Bulgaria</td>\n",
              "    </tr>\n",
              "    <tr>\n",
              "      <th>17</th>\n",
              "      <td>Cameroon</td>\n",
              "    </tr>\n",
              "    <tr>\n",
              "      <th>21</th>\n",
              "      <td>China</td>\n",
              "    </tr>\n",
              "    <tr>\n",
              "      <th>22</th>\n",
              "      <td>Colombia</td>\n",
              "    </tr>\n",
              "    <tr>\n",
              "      <th>24</th>\n",
              "      <td>Croatia</td>\n",
              "    </tr>\n",
              "    <tr>\n",
              "      <th>25</th>\n",
              "      <td>Cyprus</td>\n",
              "    </tr>\n",
              "    <tr>\n",
              "      <th>29</th>\n",
              "      <td>Dominican Republic</td>\n",
              "    </tr>\n",
              "    <tr>\n",
              "      <th>31</th>\n",
              "      <td>Egypt</td>\n",
              "    </tr>\n",
              "    <tr>\n",
              "      <th>32</th>\n",
              "      <td>El Salvador</td>\n",
              "    </tr>\n",
              "    <tr>\n",
              "      <th>34</th>\n",
              "      <td>Ethiopia</td>\n",
              "    </tr>\n",
              "    <tr>\n",
              "      <th>37</th>\n",
              "      <td>Gabon</td>\n",
              "    </tr>\n",
              "    <tr>\n",
              "      <th>38</th>\n",
              "      <td>Georgia</td>\n",
              "    </tr>\n",
              "    <tr>\n",
              "      <th>40</th>\n",
              "      <td>Ghana</td>\n",
              "    </tr>\n",
              "    <tr>\n",
              "      <th>41</th>\n",
              "      <td>Greece</td>\n",
              "    </tr>\n",
              "    <tr>\n",
              "      <th>42</th>\n",
              "      <td>Guatemala</td>\n",
              "    </tr>\n",
              "    <tr>\n",
              "      <th>43</th>\n",
              "      <td>Honduras</td>\n",
              "    </tr>\n",
              "    <tr>\n",
              "      <th>46</th>\n",
              "      <td>India</td>\n",
              "    </tr>\n",
              "    <tr>\n",
              "      <th>47</th>\n",
              "      <td>Indonesia</td>\n",
              "    </tr>\n",
              "    <tr>\n",
              "      <th>48</th>\n",
              "      <td>Iran</td>\n",
              "    </tr>\n",
              "    <tr>\n",
              "      <th>50</th>\n",
              "      <td>Israel</td>\n",
              "    </tr>\n",
              "    <tr>\n",
              "      <th>51</th>\n",
              "      <td>Italy</td>\n",
              "    </tr>\n",
              "    <tr>\n",
              "      <th>52</th>\n",
              "      <td>Jamaica</td>\n",
              "    </tr>\n",
              "    <tr>\n",
              "      <th>54</th>\n",
              "      <td>Jordan</td>\n",
              "    </tr>\n",
              "    <tr>\n",
              "      <th>55</th>\n",
              "      <td>Kazakhstan</td>\n",
              "    </tr>\n",
              "    <tr>\n",
              "      <th>56</th>\n",
              "      <td>Kenya</td>\n",
              "    </tr>\n",
              "    <tr>\n",
              "      <th>58</th>\n",
              "      <td>Kuwait</td>\n",
              "    </tr>\n",
              "    <tr>\n",
              "      <th>61</th>\n",
              "      <td>Liberia</td>\n",
              "    </tr>\n",
              "    <tr>\n",
              "      <th>63</th>\n",
              "      <td>Madagascar</td>\n",
              "    </tr>\n",
              "    <tr>\n",
              "      <th>64</th>\n",
              "      <td>Malawi</td>\n",
              "    </tr>\n",
              "    <tr>\n",
              "      <th>66</th>\n",
              "      <td>Mali</td>\n",
              "    </tr>\n",
              "    <tr>\n",
              "      <th>67</th>\n",
              "      <td>Mauritania</td>\n",
              "    </tr>\n",
              "    <tr>\n",
              "      <th>69</th>\n",
              "      <td>Mexico</td>\n",
              "    </tr>\n",
              "    <tr>\n",
              "      <th>70</th>\n",
              "      <td>Moldova</td>\n",
              "    </tr>\n",
              "    <tr>\n",
              "      <th>71</th>\n",
              "      <td>Montenegro</td>\n",
              "    </tr>\n",
              "    <tr>\n",
              "      <th>72</th>\n",
              "      <td>Morocco</td>\n",
              "    </tr>\n",
              "    <tr>\n",
              "      <th>73</th>\n",
              "      <td>Mozambique</td>\n",
              "    </tr>\n",
              "    <tr>\n",
              "      <th>74</th>\n",
              "      <td>Nepal</td>\n",
              "    </tr>\n",
              "    <tr>\n",
              "      <th>77</th>\n",
              "      <td>Nicaragua</td>\n",
              "    </tr>\n",
              "    <tr>\n",
              "      <th>80</th>\n",
              "      <td>Oman</td>\n",
              "    </tr>\n",
              "    <tr>\n",
              "      <th>81</th>\n",
              "      <td>Pakistan</td>\n",
              "    </tr>\n",
              "    <tr>\n",
              "      <th>82</th>\n",
              "      <td>Panama</td>\n",
              "    </tr>\n",
              "    <tr>\n",
              "      <th>83</th>\n",
              "      <td>Paraguay</td>\n",
              "    </tr>\n",
              "    <tr>\n",
              "      <th>84</th>\n",
              "      <td>Peru</td>\n",
              "    </tr>\n",
              "    <tr>\n",
              "      <th>85</th>\n",
              "      <td>Philippines</td>\n",
              "    </tr>\n",
              "    <tr>\n",
              "      <th>89</th>\n",
              "      <td>Romania</td>\n",
              "    </tr>\n",
              "    <tr>\n",
              "      <th>91</th>\n",
              "      <td>Rwanda</td>\n",
              "    </tr>\n",
              "    <tr>\n",
              "      <th>92</th>\n",
              "      <td>Saudi Arabia</td>\n",
              "    </tr>\n",
              "    <tr>\n",
              "      <th>93</th>\n",
              "      <td>Senegal</td>\n",
              "    </tr>\n",
              "    <tr>\n",
              "      <th>94</th>\n",
              "      <td>Serbia</td>\n",
              "    </tr>\n",
              "    <tr>\n",
              "      <th>95</th>\n",
              "      <td>Sierra Leone</td>\n",
              "    </tr>\n",
              "    <tr>\n",
              "      <th>99</th>\n",
              "      <td>South Africa</td>\n",
              "    </tr>\n",
              "    <tr>\n",
              "      <th>101</th>\n",
              "      <td>Sri Lanka</td>\n",
              "    </tr>\n",
              "    <tr>\n",
              "      <th>105</th>\n",
              "      <td>Tanzania</td>\n",
              "    </tr>\n",
              "    <tr>\n",
              "      <th>106</th>\n",
              "      <td>Thailand</td>\n",
              "    </tr>\n",
              "    <tr>\n",
              "      <th>107</th>\n",
              "      <td>The FYR of Macedonia</td>\n",
              "    </tr>\n",
              "    <tr>\n",
              "      <th>109</th>\n",
              "      <td>Tunisia</td>\n",
              "    </tr>\n",
              "    <tr>\n",
              "      <th>110</th>\n",
              "      <td>Turkey</td>\n",
              "    </tr>\n",
              "    <tr>\n",
              "      <th>111</th>\n",
              "      <td>Uganda</td>\n",
              "    </tr>\n",
              "    <tr>\n",
              "      <th>118</th>\n",
              "      <td>Vietnam</td>\n",
              "    </tr>\n",
              "    <tr>\n",
              "      <th>120</th>\n",
              "      <td>Zambia</td>\n",
              "    </tr>\n",
              "  </tbody>\n",
              "</table style=\"display:inline\"></td><td style=\"vertical-align:top\"> <table style=\"display:inline\" border=\"1\" class=\"dataframe\">\n",
              "  <thead>\n",
              "    <tr style=\"text-align: right;\">\n",
              "      <th></th>\n",
              "      <th>Country</th>\n",
              "    </tr>\n",
              "  </thead>\n",
              "  <tbody>\n",
              "    <tr>\n",
              "      <th>0</th>\n",
              "      <td>Albania</td>\n",
              "    </tr>\n",
              "    <tr>\n",
              "      <th>1</th>\n",
              "      <td>Algeria</td>\n",
              "    </tr>\n",
              "    <tr>\n",
              "      <th>3</th>\n",
              "      <td>Armenia</td>\n",
              "    </tr>\n",
              "    <tr>\n",
              "      <th>7</th>\n",
              "      <td>Bahrain</td>\n",
              "    </tr>\n",
              "    <tr>\n",
              "      <th>8</th>\n",
              "      <td>Bangladesh</td>\n",
              "    </tr>\n",
              "    <tr>\n",
              "      <th>10</th>\n",
              "      <td>Benin</td>\n",
              "    </tr>\n",
              "    <tr>\n",
              "      <th>11</th>\n",
              "      <td>Bolivia</td>\n",
              "    </tr>\n",
              "    <tr>\n",
              "      <th>12</th>\n",
              "      <td>Bosnia and Herzegovina</td>\n",
              "    </tr>\n",
              "    <tr>\n",
              "      <th>15</th>\n",
              "      <td>Bulgaria</td>\n",
              "    </tr>\n",
              "    <tr>\n",
              "      <th>17</th>\n",
              "      <td>Cameroon</td>\n",
              "    </tr>\n",
              "    <tr>\n",
              "      <th>21</th>\n",
              "      <td>China</td>\n",
              "    </tr>\n",
              "    <tr>\n",
              "      <th>22</th>\n",
              "      <td>Colombia</td>\n",
              "    </tr>\n",
              "    <tr>\n",
              "      <th>24</th>\n",
              "      <td>Croatia</td>\n",
              "    </tr>\n",
              "    <tr>\n",
              "      <th>25</th>\n",
              "      <td>Cyprus</td>\n",
              "    </tr>\n",
              "    <tr>\n",
              "      <th>29</th>\n",
              "      <td>Dominican Republic</td>\n",
              "    </tr>\n",
              "    <tr>\n",
              "      <th>31</th>\n",
              "      <td>Egypt</td>\n",
              "    </tr>\n",
              "    <tr>\n",
              "      <th>32</th>\n",
              "      <td>El Salvador</td>\n",
              "    </tr>\n",
              "    <tr>\n",
              "      <th>34</th>\n",
              "      <td>Ethiopia</td>\n",
              "    </tr>\n",
              "    <tr>\n",
              "      <th>37</th>\n",
              "      <td>Gabon</td>\n",
              "    </tr>\n",
              "    <tr>\n",
              "      <th>38</th>\n",
              "      <td>Georgia</td>\n",
              "    </tr>\n",
              "    <tr>\n",
              "      <th>40</th>\n",
              "      <td>Ghana</td>\n",
              "    </tr>\n",
              "    <tr>\n",
              "      <th>41</th>\n",
              "      <td>Greece</td>\n",
              "    </tr>\n",
              "    <tr>\n",
              "      <th>42</th>\n",
              "      <td>Guatemala</td>\n",
              "    </tr>\n",
              "    <tr>\n",
              "      <th>43</th>\n",
              "      <td>Honduras</td>\n",
              "    </tr>\n",
              "    <tr>\n",
              "      <th>46</th>\n",
              "      <td>India</td>\n",
              "    </tr>\n",
              "    <tr>\n",
              "      <th>47</th>\n",
              "      <td>Indonesia</td>\n",
              "    </tr>\n",
              "    <tr>\n",
              "      <th>48</th>\n",
              "      <td>Iran</td>\n",
              "    </tr>\n",
              "    <tr>\n",
              "      <th>50</th>\n",
              "      <td>Israel</td>\n",
              "    </tr>\n",
              "    <tr>\n",
              "      <th>52</th>\n",
              "      <td>Jamaica</td>\n",
              "    </tr>\n",
              "    <tr>\n",
              "      <th>54</th>\n",
              "      <td>Jordan</td>\n",
              "    </tr>\n",
              "    <tr>\n",
              "      <th>55</th>\n",
              "      <td>Kazakhstan</td>\n",
              "    </tr>\n",
              "    <tr>\n",
              "      <th>56</th>\n",
              "      <td>Kenya</td>\n",
              "    </tr>\n",
              "    <tr>\n",
              "      <th>58</th>\n",
              "      <td>Kuwait</td>\n",
              "    </tr>\n",
              "    <tr>\n",
              "      <th>59</th>\n",
              "      <td>Latvia</td>\n",
              "    </tr>\n",
              "    <tr>\n",
              "      <th>61</th>\n",
              "      <td>Liberia</td>\n",
              "    </tr>\n",
              "    <tr>\n",
              "      <th>63</th>\n",
              "      <td>Madagascar</td>\n",
              "    </tr>\n",
              "    <tr>\n",
              "      <th>64</th>\n",
              "      <td>Malawi</td>\n",
              "    </tr>\n",
              "    <tr>\n",
              "      <th>66</th>\n",
              "      <td>Mali</td>\n",
              "    </tr>\n",
              "    <tr>\n",
              "      <th>67</th>\n",
              "      <td>Mauritania</td>\n",
              "    </tr>\n",
              "    <tr>\n",
              "      <th>69</th>\n",
              "      <td>Mexico</td>\n",
              "    </tr>\n",
              "    <tr>\n",
              "      <th>70</th>\n",
              "      <td>Moldova</td>\n",
              "    </tr>\n",
              "    <tr>\n",
              "      <th>71</th>\n",
              "      <td>Montenegro</td>\n",
              "    </tr>\n",
              "    <tr>\n",
              "      <th>72</th>\n",
              "      <td>Morocco</td>\n",
              "    </tr>\n",
              "    <tr>\n",
              "      <th>73</th>\n",
              "      <td>Mozambique</td>\n",
              "    </tr>\n",
              "    <tr>\n",
              "      <th>74</th>\n",
              "      <td>Nepal</td>\n",
              "    </tr>\n",
              "    <tr>\n",
              "      <th>77</th>\n",
              "      <td>Nicaragua</td>\n",
              "    </tr>\n",
              "    <tr>\n",
              "      <th>80</th>\n",
              "      <td>Oman</td>\n",
              "    </tr>\n",
              "    <tr>\n",
              "      <th>81</th>\n",
              "      <td>Pakistan</td>\n",
              "    </tr>\n",
              "    <tr>\n",
              "      <th>82</th>\n",
              "      <td>Panama</td>\n",
              "    </tr>\n",
              "    <tr>\n",
              "      <th>83</th>\n",
              "      <td>Paraguay</td>\n",
              "    </tr>\n",
              "    <tr>\n",
              "      <th>84</th>\n",
              "      <td>Peru</td>\n",
              "    </tr>\n",
              "    <tr>\n",
              "      <th>85</th>\n",
              "      <td>Philippines</td>\n",
              "    </tr>\n",
              "    <tr>\n",
              "      <th>89</th>\n",
              "      <td>Romania</td>\n",
              "    </tr>\n",
              "    <tr>\n",
              "      <th>91</th>\n",
              "      <td>Rwanda</td>\n",
              "    </tr>\n",
              "    <tr>\n",
              "      <th>92</th>\n",
              "      <td>Saudi Arabia</td>\n",
              "    </tr>\n",
              "    <tr>\n",
              "      <th>93</th>\n",
              "      <td>Senegal</td>\n",
              "    </tr>\n",
              "    <tr>\n",
              "      <th>94</th>\n",
              "      <td>Serbia</td>\n",
              "    </tr>\n",
              "    <tr>\n",
              "      <th>95</th>\n",
              "      <td>Sierra Leone</td>\n",
              "    </tr>\n",
              "    <tr>\n",
              "      <th>101</th>\n",
              "      <td>Sri Lanka</td>\n",
              "    </tr>\n",
              "    <tr>\n",
              "      <th>105</th>\n",
              "      <td>Tanzania</td>\n",
              "    </tr>\n",
              "    <tr>\n",
              "      <th>106</th>\n",
              "      <td>Thailand</td>\n",
              "    </tr>\n",
              "    <tr>\n",
              "      <th>107</th>\n",
              "      <td>The FYR of Macedonia</td>\n",
              "    </tr>\n",
              "    <tr>\n",
              "      <th>109</th>\n",
              "      <td>Tunisia</td>\n",
              "    </tr>\n",
              "    <tr>\n",
              "      <th>110</th>\n",
              "      <td>Turkey</td>\n",
              "    </tr>\n",
              "    <tr>\n",
              "      <th>111</th>\n",
              "      <td>Uganda</td>\n",
              "    </tr>\n",
              "    <tr>\n",
              "      <th>118</th>\n",
              "      <td>Vietnam</td>\n",
              "    </tr>\n",
              "    <tr>\n",
              "      <th>120</th>\n",
              "      <td>Zambia</td>\n",
              "    </tr>\n",
              "    <tr>\n",
              "      <th>121</th>\n",
              "      <td>Zimbabwe</td>\n",
              "    </tr>\n",
              "  </tbody>\n",
              "</table style=\"display:inline\"></td></tr></table style=\"display:inline\">"
            ]
          },
          "metadata": {
            "tags": []
          }
        }
      ]
    },
    {
      "cell_type": "code",
      "metadata": {
        "id": "B6lIN3Ar17Qu"
      },
      "source": [
        ""
      ],
      "execution_count": null,
      "outputs": []
    },
    {
      "cell_type": "markdown",
      "metadata": {
        "collapsed": false,
        "pycharm": {
          "name": "#%% md\n"
        },
        "id": "C8Qff1YMLRRe"
      },
      "source": [
        "# Density-Based Clustering\n",
        "\n",
        "given MinPts(m), epsilon ($\\epsilon$)\n",
        "\n",
        "* core points: <br>\n",
        "    $|N_\\epsilon(q)| \\geq m$\n",
        "\n",
        "* border points: <br>\n",
        "    $|N_\\epsilon(p)| < m$ <br>\n",
        "    $p \\in N_\\epsilon(q), $ q is a core point\n",
        "\n",
        "* noise: <br>\n",
        "    neither of the above\n",
        "----------------------\n",
        "1. mark all points\n",
        "\n",
        "2. ignore noise points\n",
        "\n",
        "3. $\\forall$ core points $c_k,$<br>\n",
        "   $\\forall$ core points $c_j, j \\neq k$<br>\n",
        "   if $dist(c_j, c_k) < \\epsilon$ : form_a_group($c_j, c_k$)\n",
        "\n",
        "4. $\\forall$ border points $c_b$ <br>\n",
        "   $\\forall$ core points $c_k$ <br>\n",
        "   if $dist(c_b, c_k) < \\epsilon$ : form_a_group($c_b, c_k$)\n",
        "\n",
        "Q: 如果有個 border point, 對應於兩個核心點, 但那兩個核心點又不同群, 怎麼歸類？ <br>\n",
        "A: 誰先判斷就歸哪類 => not stable"
      ]
    },
    {
      "cell_type": "code",
      "metadata": {
        "pycharm": {
          "name": "#%%\n"
        },
        "id": "ymtn0gxGLRRe",
        "colab": {
          "base_uri": "https://localhost:8080/",
          "height": 292
        },
        "outputId": "5eb08935-fcf8-4012-c85b-6f0c8de10921"
      },
      "source": [
        "from sklearn.datasets import make_blobs, make_circles\n",
        "circles, c_labels = make_circles(n_samples=300, noise=.07, factor=.5, random_state=3)\n",
        "plt.scatter(circles[:, 0], circles[:, 1])\n",
        "plt.show()\n"
      ],
      "execution_count": null,
      "outputs": [
        {
          "output_type": "display_data",
          "data": {
            "image/png": "[encoded data removed]",
            "text/plain": [
              "<Figure size 432x288 with 1 Axes>"
            ]
          },
          "metadata": {
            "tags": []
          }
        }
      ]
    },
    {
      "cell_type": "code",
      "metadata": {
        "pycharm": {
          "name": "#%%\n"
        },
        "id": "trtcN8S-LRRe"
      },
      "source": [
        "from sklearn.cluster import DBSCAN\n",
        "\n",
        "def get_label_color_mapping(model, X):\n",
        "    model.fit(X)\n",
        "    labels = model.labels_\n",
        "    unique_labels = set(labels)\n",
        "    colors = [plt.cm.Spectral(each) for each in np.linspace(0, 1, len(unique_labels))]\n",
        "\n",
        "    return zip(unique_labels, colors)\n",
        "\n",
        "db = DBSCAN(eps=.2)\n",
        "km = KMeans(n_clusters=2)\n",
        "db_mapping = get_label_color_mapping(db, circles)\n",
        "km_mapping = get_label_color_mapping(km, circles)"
      ],
      "execution_count": null,
      "outputs": []
    },
    {
      "cell_type": "code",
      "metadata": {
        "pycharm": {
          "name": "#%%\n"
        },
        "id": "mcHNdgdALRRe",
        "colab": {
          "base_uri": "https://localhost:8080/",
          "height": 292
        },
        "outputId": "e3572695-046f-40b0-e4d6-bbbbd0cc0948"
      },
      "source": [
        "core_samples_mask = np.zeros_like(db.labels_, dtype=bool)\n",
        "core_samples_mask[db.core_sample_indices_] = True\n",
        "for k, col in db_mapping:\n",
        "    if k == -1:\n",
        "        col = [0, 0, 0, 1]\n",
        "    class_member_mask = (db.labels_ == k)\n",
        "    xy = circles[class_member_mask & core_samples_mask]\n",
        "    plt.plot(xy[:, 0], xy[:, 1], 'o', markerfacecolor=tuple(col),\n",
        "             markeredgecolor='w', markersize=10)\n",
        "\n",
        "    xy = circles[class_member_mask & ~core_samples_mask]\n",
        "    plt.plot(xy[:, 0], xy[:, 1], 'o', markerfacecolor=tuple(col),\n",
        "             markeredgecolor='w', markersize=6)\n"
      ],
      "execution_count": null,
      "outputs": [
        {
          "output_type": "display_data",
          "data": {
            "image/png": "[encoded data removed]",
            "text/plain": [
              "<Figure size 432x288 with 1 Axes>"
            ]
          },
          "metadata": {
            "tags": []
          }
        }
      ]
    },
    {
      "cell_type": "code",
      "metadata": {
        "pycharm": {
          "name": "#%%\n"
        },
        "id": "EsghRWrELRRe",
        "colab": {
          "base_uri": "https://localhost:8080/",
          "height": 292
        },
        "outputId": "e58f6907-0f37-40f0-afbb-317ad591982c"
      },
      "source": [
        "for k, col in km_mapping:\n",
        "    class_member_mask = (km.labels_ == k)\n",
        "    xy = circles[class_member_mask]\n",
        "    plt.plot(xy[:, 0], xy[:, 1], 'o', markerfacecolor=tuple(col),\n",
        "             markeredgecolor='w', markersize=10)\n"
      ],
      "execution_count": null,
      "outputs": [
        {
          "output_type": "display_data",
          "data": {
            "image/png": "[encoded data removed]",
            "text/plain": [
              "<Figure size 432x288 with 1 Axes>"
            ]
          },
          "metadata": {
            "tags": []
          }
        }
      ]
    },
    {
      "cell_type": "code",
      "metadata": {
        "pycharm": {
          "name": "#%%\n"
        },
        "id": "eKdn-e92LRRe"
      },
      "source": [
        ""
      ],
      "execution_count": null,
      "outputs": []
    },
    {
      "cell_type": "code",
      "metadata": {
        "id": "wZHp7jTV4wi2"
      },
      "source": [
        "new_2019_country_risk = DataLoader.load_data('new_2019_country_risk_url')"
      ],
      "execution_count": null,
      "outputs": []
    },
    {
      "cell_type": "code",
      "metadata": {
        "id": "CbEnfpRmZX1v",
        "colab": {
          "base_uri": "https://localhost:8080/",
          "height": 221
        },
        "outputId": "9582ce08-e8a0-4730-f2fe-720ef1cc1ca1"
      },
      "source": [
        "new_2019_country_risk.head()"
      ],
      "execution_count": null,
      "outputs": [
        {
          "output_type": "execute_result",
          "data": {
            "text/html": [
              "<div>\n",
              "<style scoped>\n",
              "    .dataframe tbody tr th:only-of-type {\n",
              "        vertical-align: middle;\n",
              "    }\n",
              "\n",
              "    .dataframe tbody tr th {\n",
              "        vertical-align: top;\n",
              "    }\n",
              "\n",
              "    .dataframe thead th {\n",
              "        text-align: right;\n",
              "    }\n",
              "</style>\n",
              "<table border=\"1\" class=\"dataframe\">\n",
              "  <thead>\n",
              "    <tr style=\"text-align: right;\">\n",
              "      <th></th>\n",
              "      <th>NaN</th>\n",
              "      <th>Corruption</th>\n",
              "      <th>Peace</th>\n",
              "      <th>Legal</th>\n",
              "      <th>GDP Growth</th>\n",
              "    </tr>\n",
              "  </thead>\n",
              "  <tbody>\n",
              "    <tr>\n",
              "      <th>0</th>\n",
              "      <td>Albania</td>\n",
              "      <td>35</td>\n",
              "      <td>1.821</td>\n",
              "      <td>4.546</td>\n",
              "      <td>2.983</td>\n",
              "    </tr>\n",
              "    <tr>\n",
              "      <th>1</th>\n",
              "      <td>Algeria</td>\n",
              "      <td>35</td>\n",
              "      <td>2.219</td>\n",
              "      <td>4.435</td>\n",
              "      <td>2.553</td>\n",
              "    </tr>\n",
              "    <tr>\n",
              "      <th>2</th>\n",
              "      <td>Argentina</td>\n",
              "      <td>45</td>\n",
              "      <td>1.989</td>\n",
              "      <td>5.087</td>\n",
              "      <td>-3.061</td>\n",
              "    </tr>\n",
              "    <tr>\n",
              "      <th>3</th>\n",
              "      <td>Armenia</td>\n",
              "      <td>42</td>\n",
              "      <td>2.294</td>\n",
              "      <td>4.812</td>\n",
              "      <td>6.000</td>\n",
              "    </tr>\n",
              "    <tr>\n",
              "      <th>4</th>\n",
              "      <td>Australia</td>\n",
              "      <td>77</td>\n",
              "      <td>1.419</td>\n",
              "      <td>8.363</td>\n",
              "      <td>1.713</td>\n",
              "    </tr>\n",
              "  </tbody>\n",
              "</table>\n",
              "</div>"
            ],
            "text/plain": [
              "         NaN  Corruption  Peace  Legal  GDP Growth\n",
              "0    Albania          35  1.821  4.546       2.983\n",
              "1    Algeria          35  2.219  4.435       2.553\n",
              "2  Argentina          45  1.989  5.087      -3.061\n",
              "3    Armenia          42  2.294  4.812       6.000\n",
              "4  Australia          77  1.419  8.363       1.713"
            ]
          },
          "metadata": {
            "tags": []
          },
          "execution_count": 53
        }
      ]
    },
    {
      "cell_type": "code",
      "metadata": {
        "id": "9B6vw-f8aJYa",
        "colab": {
          "base_uri": "https://localhost:8080/",
          "height": 221
        },
        "outputId": "52bd7986-a0f7-4e49-9d70-40b545b7a39f"
      },
      "source": [
        "new_2019_country_risk.columns = [\"Country\"] + list(new_2019_country_risk.columns[1:])\n",
        "new_2019_country_risk.head()"
      ],
      "execution_count": null,
      "outputs": [
        {
          "output_type": "execute_result",
          "data": {
            "text/html": [
              "<div>\n",
              "<style scoped>\n",
              "    .dataframe tbody tr th:only-of-type {\n",
              "        vertical-align: middle;\n",
              "    }\n",
              "\n",
              "    .dataframe tbody tr th {\n",
              "        vertical-align: top;\n",
              "    }\n",
              "\n",
              "    .dataframe thead th {\n",
              "        text-align: right;\n",
              "    }\n",
              "</style>\n",
              "<table border=\"1\" class=\"dataframe\">\n",
              "  <thead>\n",
              "    <tr style=\"text-align: right;\">\n",
              "      <th></th>\n",
              "      <th>Country</th>\n",
              "      <th>Corruption</th>\n",
              "      <th>Peace</th>\n",
              "      <th>Legal</th>\n",
              "      <th>GDP Growth</th>\n",
              "    </tr>\n",
              "  </thead>\n",
              "  <tbody>\n",
              "    <tr>\n",
              "      <th>0</th>\n",
              "      <td>Albania</td>\n",
              "      <td>35</td>\n",
              "      <td>1.821</td>\n",
              "      <td>4.546</td>\n",
              "      <td>2.983</td>\n",
              "    </tr>\n",
              "    <tr>\n",
              "      <th>1</th>\n",
              "      <td>Algeria</td>\n",
              "      <td>35</td>\n",
              "      <td>2.219</td>\n",
              "      <td>4.435</td>\n",
              "      <td>2.553</td>\n",
              "    </tr>\n",
              "    <tr>\n",
              "      <th>2</th>\n",
              "      <td>Argentina</td>\n",
              "      <td>45</td>\n",
              "      <td>1.989</td>\n",
              "      <td>5.087</td>\n",
              "      <td>-3.061</td>\n",
              "    </tr>\n",
              "    <tr>\n",
              "      <th>3</th>\n",
              "      <td>Armenia</td>\n",
              "      <td>42</td>\n",
              "      <td>2.294</td>\n",
              "      <td>4.812</td>\n",
              "      <td>6.000</td>\n",
              "    </tr>\n",
              "    <tr>\n",
              "      <th>4</th>\n",
              "      <td>Australia</td>\n",
              "      <td>77</td>\n",
              "      <td>1.419</td>\n",
              "      <td>8.363</td>\n",
              "      <td>1.713</td>\n",
              "    </tr>\n",
              "  </tbody>\n",
              "</table>\n",
              "</div>"
            ],
            "text/plain": [
              "     Country  Corruption  Peace  Legal  GDP Growth\n",
              "0    Albania          35  1.821  4.546       2.983\n",
              "1    Algeria          35  2.219  4.435       2.553\n",
              "2  Argentina          45  1.989  5.087      -3.061\n",
              "3    Armenia          42  2.294  4.812       6.000\n",
              "4  Australia          77  1.419  8.363       1.713"
            ]
          },
          "metadata": {
            "tags": []
          },
          "execution_count": 54
        }
      ]
    },
    {
      "cell_type": "code",
      "metadata": {
        "colab": {
          "base_uri": "https://localhost:8080/",
          "height": 452
        },
        "id": "C6VyBglwuMTZ",
        "outputId": "c12cada5-42de-431b-b742-909516aab55b"
      },
      "source": [
        "cols = new_2019_country_risk.columns[1:]\n",
        "cov_matrix = np.cov(StandardScaler().fit_transform(new_2019_country_risk[cols]).T)\n",
        "draw_cov_heatmap(cov_matrix, cols)"
      ],
      "execution_count": null,
      "outputs": [
        {
          "output_type": "display_data",
          "data": {
            "image/png": "[encoded data removed]",
            "text/plain": [
              "<Figure size 432x432 with 2 Axes>"
            ]
          },
          "metadata": {
            "tags": []
          }
        }
      ]
    },
    {
      "cell_type": "code",
      "metadata": {
        "id": "uH4wTWiKbNgt"
      },
      "source": [
        "new_features = new_2019_country_risk[['Peace', 'Legal', 'GDP Growth']]\n",
        "new_scaled_features = scaler.fit_transform(new_features)"
      ],
      "execution_count": null,
      "outputs": []
    },
    {
      "cell_type": "code",
      "metadata": {
        "colab": {
          "base_uri": "https://localhost:8080/",
          "height": 160
        },
        "id": "7fl1w6tWa4VY",
        "outputId": "204a2f3e-2ff6-4779-cecf-dcd93580cf10"
      },
      "source": [
        "new_kmeans = KMeans(n_clusters=3, random_state=3).fit(new_scaled_features)\n",
        "pd.DataFrame(new_kmeans.cluster_centers_, columns=new_features.columns, index=['moderate', 'low', 'high'])"
      ],
      "execution_count": null,
      "outputs": [
        {
          "output_type": "execute_result",
          "data": {
            "text/html": [
              "<div>\n",
              "<style scoped>\n",
              "    .dataframe tbody tr th:only-of-type {\n",
              "        vertical-align: middle;\n",
              "    }\n",
              "\n",
              "    .dataframe tbody tr th {\n",
              "        vertical-align: top;\n",
              "    }\n",
              "\n",
              "    .dataframe thead th {\n",
              "        text-align: right;\n",
              "    }\n",
              "</style>\n",
              "<table border=\"1\" class=\"dataframe\">\n",
              "  <thead>\n",
              "    <tr style=\"text-align: right;\">\n",
              "      <th></th>\n",
              "      <th>Peace</th>\n",
              "      <th>Legal</th>\n",
              "      <th>GDP Growth</th>\n",
              "    </tr>\n",
              "  </thead>\n",
              "  <tbody>\n",
              "    <tr>\n",
              "      <th>moderate</th>\n",
              "      <td>0.502901</td>\n",
              "      <td>-0.581378</td>\n",
              "      <td>0.143216</td>\n",
              "    </tr>\n",
              "    <tr>\n",
              "      <th>low</th>\n",
              "      <td>-0.912789</td>\n",
              "      <td>1.063859</td>\n",
              "      <td>-0.050518</td>\n",
              "    </tr>\n",
              "    <tr>\n",
              "      <th>high</th>\n",
              "      <td>1.439365</td>\n",
              "      <td>-2.043678</td>\n",
              "      <td>-8.804819</td>\n",
              "    </tr>\n",
              "  </tbody>\n",
              "</table>\n",
              "</div>"
            ],
            "text/plain": [
              "             Peace     Legal  GDP Growth\n",
              "moderate  0.502901 -0.581378    0.143216\n",
              "low      -0.912789  1.063859   -0.050518\n",
              "high      1.439365 -2.043678   -8.804819"
            ]
          },
          "metadata": {
            "tags": []
          },
          "execution_count": 57
        }
      ]
    },
    {
      "cell_type": "code",
      "metadata": {
        "colab": {
          "base_uri": "https://localhost:8080/"
        },
        "id": "F3Ctd_YVbqI5",
        "outputId": "56872dc7-8817-4c9b-b995-bd46795d31ae"
      },
      "source": [
        "round(silhouette_score(new_scaled_features, new_kmeans.labels_), 3)"
      ],
      "execution_count": null,
      "outputs": [
        {
          "output_type": "execute_result",
          "data": {
            "text/plain": [
              "0.406"
            ]
          },
          "metadata": {
            "tags": []
          },
          "execution_count": 58
        }
      ]
    },
    {
      "cell_type": "code",
      "metadata": {
        "colab": {
          "base_uri": "https://localhost:8080/",
          "height": 326
        },
        "id": "-xuidGJqchZw",
        "outputId": "eafcaa77-8c24-4837-f889-4926b280dce4"
      },
      "source": [
        "ax = plt.gca()\n",
        "df[new_kmeans.labels_==0][:20].plot.scatter(x='Corruption', y='Peace', color='r', ax=ax)\n",
        "df[new_kmeans.labels_==1][:20].plot.scatter(x='Corruption', y='Peace', color='g', ax=ax)\n",
        "df[new_kmeans.labels_==2][:20].plot.scatter(x='Corruption', y='Peace', color='b', ax=ax)"
      ],
      "execution_count": null,
      "outputs": [
        {
          "output_type": "execute_result",
          "data": {
            "text/plain": [
              "<matplotlib.axes._subplots.AxesSubplot at 0x7f50798d1690>"
            ]
          },
          "metadata": {
            "tags": []
          },
          "execution_count": 59
        },
        {
          "output_type": "display_data",
          "data": {
            "image/png": "[encoded data removed]",
            "text/plain": [
              "<Figure size 432x288 with 1 Axes>"
            ]
          },
          "metadata": {
            "tags": []
          }
        }
      ]
    },
    {
      "cell_type": "code",
      "metadata": {
        "colab": {
          "base_uri": "https://localhost:8080/",
          "height": 1000
        },
        "id": "lMqUKFDEcDBZ",
        "outputId": "591a152f-f7d1-40e0-c7ab-b4264d92bef9"
      },
      "source": [
        "display_side_by_side([df[new_kmeans.labels_ == 2][['Country']], \n",
        "                      df[kmeans_three_features.labels_ == 2][['Country']]],\n",
        "                      names=['new kmeans', '3 features kmeans'])"
      ],
      "execution_count": null,
      "outputs": [
        {
          "output_type": "display_data",
          "data": {
            "text/html": [
              "<table style=\"display:inline\"><tr><td style=\"text-align:center\">new kmeans</td><td style=\"text-align:center\">3 features kmeans</td></tr><tr><td style=\"vertical-align:top\"> <table style=\"display:inline\" border=\"1\" class=\"dataframe\">\n",
              "  <thead>\n",
              "    <tr style=\"text-align: right;\">\n",
              "      <th></th>\n",
              "      <th>Country</th>\n",
              "    </tr>\n",
              "  </thead>\n",
              "  <tbody>\n",
              "    <tr>\n",
              "      <th>117</th>\n",
              "      <td>Venezuela</td>\n",
              "    </tr>\n",
              "  </tbody>\n",
              "</table style=\"display:inline\"></td><td style=\"vertical-align:top\"> <table style=\"display:inline\" border=\"1\" class=\"dataframe\">\n",
              "  <thead>\n",
              "    <tr style=\"text-align: right;\">\n",
              "      <th></th>\n",
              "      <th>Country</th>\n",
              "    </tr>\n",
              "  </thead>\n",
              "  <tbody>\n",
              "    <tr>\n",
              "      <th>0</th>\n",
              "      <td>Albania</td>\n",
              "    </tr>\n",
              "    <tr>\n",
              "      <th>1</th>\n",
              "      <td>Algeria</td>\n",
              "    </tr>\n",
              "    <tr>\n",
              "      <th>3</th>\n",
              "      <td>Armenia</td>\n",
              "    </tr>\n",
              "    <tr>\n",
              "      <th>7</th>\n",
              "      <td>Bahrain</td>\n",
              "    </tr>\n",
              "    <tr>\n",
              "      <th>8</th>\n",
              "      <td>Bangladesh</td>\n",
              "    </tr>\n",
              "    <tr>\n",
              "      <th>10</th>\n",
              "      <td>Benin</td>\n",
              "    </tr>\n",
              "    <tr>\n",
              "      <th>11</th>\n",
              "      <td>Bolivia</td>\n",
              "    </tr>\n",
              "    <tr>\n",
              "      <th>12</th>\n",
              "      <td>Bosnia and Herzegovina</td>\n",
              "    </tr>\n",
              "    <tr>\n",
              "      <th>15</th>\n",
              "      <td>Bulgaria</td>\n",
              "    </tr>\n",
              "    <tr>\n",
              "      <th>17</th>\n",
              "      <td>Cameroon</td>\n",
              "    </tr>\n",
              "    <tr>\n",
              "      <th>21</th>\n",
              "      <td>China</td>\n",
              "    </tr>\n",
              "    <tr>\n",
              "      <th>22</th>\n",
              "      <td>Colombia</td>\n",
              "    </tr>\n",
              "    <tr>\n",
              "      <th>24</th>\n",
              "      <td>Croatia</td>\n",
              "    </tr>\n",
              "    <tr>\n",
              "      <th>25</th>\n",
              "      <td>Cyprus</td>\n",
              "    </tr>\n",
              "    <tr>\n",
              "      <th>29</th>\n",
              "      <td>Dominican Republic</td>\n",
              "    </tr>\n",
              "    <tr>\n",
              "      <th>31</th>\n",
              "      <td>Egypt</td>\n",
              "    </tr>\n",
              "    <tr>\n",
              "      <th>32</th>\n",
              "      <td>El Salvador</td>\n",
              "    </tr>\n",
              "    <tr>\n",
              "      <th>34</th>\n",
              "      <td>Ethiopia</td>\n",
              "    </tr>\n",
              "    <tr>\n",
              "      <th>37</th>\n",
              "      <td>Gabon</td>\n",
              "    </tr>\n",
              "    <tr>\n",
              "      <th>38</th>\n",
              "      <td>Georgia</td>\n",
              "    </tr>\n",
              "    <tr>\n",
              "      <th>40</th>\n",
              "      <td>Ghana</td>\n",
              "    </tr>\n",
              "    <tr>\n",
              "      <th>41</th>\n",
              "      <td>Greece</td>\n",
              "    </tr>\n",
              "    <tr>\n",
              "      <th>42</th>\n",
              "      <td>Guatemala</td>\n",
              "    </tr>\n",
              "    <tr>\n",
              "      <th>43</th>\n",
              "      <td>Honduras</td>\n",
              "    </tr>\n",
              "    <tr>\n",
              "      <th>46</th>\n",
              "      <td>India</td>\n",
              "    </tr>\n",
              "    <tr>\n",
              "      <th>47</th>\n",
              "      <td>Indonesia</td>\n",
              "    </tr>\n",
              "    <tr>\n",
              "      <th>48</th>\n",
              "      <td>Iran</td>\n",
              "    </tr>\n",
              "    <tr>\n",
              "      <th>50</th>\n",
              "      <td>Israel</td>\n",
              "    </tr>\n",
              "    <tr>\n",
              "      <th>52</th>\n",
              "      <td>Jamaica</td>\n",
              "    </tr>\n",
              "    <tr>\n",
              "      <th>54</th>\n",
              "      <td>Jordan</td>\n",
              "    </tr>\n",
              "    <tr>\n",
              "      <th>55</th>\n",
              "      <td>Kazakhstan</td>\n",
              "    </tr>\n",
              "    <tr>\n",
              "      <th>56</th>\n",
              "      <td>Kenya</td>\n",
              "    </tr>\n",
              "    <tr>\n",
              "      <th>58</th>\n",
              "      <td>Kuwait</td>\n",
              "    </tr>\n",
              "    <tr>\n",
              "      <th>59</th>\n",
              "      <td>Latvia</td>\n",
              "    </tr>\n",
              "    <tr>\n",
              "      <th>61</th>\n",
              "      <td>Liberia</td>\n",
              "    </tr>\n",
              "    <tr>\n",
              "      <th>63</th>\n",
              "      <td>Madagascar</td>\n",
              "    </tr>\n",
              "    <tr>\n",
              "      <th>64</th>\n",
              "      <td>Malawi</td>\n",
              "    </tr>\n",
              "    <tr>\n",
              "      <th>66</th>\n",
              "      <td>Mali</td>\n",
              "    </tr>\n",
              "    <tr>\n",
              "      <th>67</th>\n",
              "      <td>Mauritania</td>\n",
              "    </tr>\n",
              "    <tr>\n",
              "      <th>69</th>\n",
              "      <td>Mexico</td>\n",
              "    </tr>\n",
              "    <tr>\n",
              "      <th>70</th>\n",
              "      <td>Moldova</td>\n",
              "    </tr>\n",
              "    <tr>\n",
              "      <th>71</th>\n",
              "      <td>Montenegro</td>\n",
              "    </tr>\n",
              "    <tr>\n",
              "      <th>72</th>\n",
              "      <td>Morocco</td>\n",
              "    </tr>\n",
              "    <tr>\n",
              "      <th>73</th>\n",
              "      <td>Mozambique</td>\n",
              "    </tr>\n",
              "    <tr>\n",
              "      <th>74</th>\n",
              "      <td>Nepal</td>\n",
              "    </tr>\n",
              "    <tr>\n",
              "      <th>77</th>\n",
              "      <td>Nicaragua</td>\n",
              "    </tr>\n",
              "    <tr>\n",
              "      <th>80</th>\n",
              "      <td>Oman</td>\n",
              "    </tr>\n",
              "    <tr>\n",
              "      <th>81</th>\n",
              "      <td>Pakistan</td>\n",
              "    </tr>\n",
              "    <tr>\n",
              "      <th>82</th>\n",
              "      <td>Panama</td>\n",
              "    </tr>\n",
              "    <tr>\n",
              "      <th>83</th>\n",
              "      <td>Paraguay</td>\n",
              "    </tr>\n",
              "    <tr>\n",
              "      <th>84</th>\n",
              "      <td>Peru</td>\n",
              "    </tr>\n",
              "    <tr>\n",
              "      <th>85</th>\n",
              "      <td>Philippines</td>\n",
              "    </tr>\n",
              "    <tr>\n",
              "      <th>89</th>\n",
              "      <td>Romania</td>\n",
              "    </tr>\n",
              "    <tr>\n",
              "      <th>91</th>\n",
              "      <td>Rwanda</td>\n",
              "    </tr>\n",
              "    <tr>\n",
              "      <th>92</th>\n",
              "      <td>Saudi Arabia</td>\n",
              "    </tr>\n",
              "    <tr>\n",
              "      <th>93</th>\n",
              "      <td>Senegal</td>\n",
              "    </tr>\n",
              "    <tr>\n",
              "      <th>94</th>\n",
              "      <td>Serbia</td>\n",
              "    </tr>\n",
              "    <tr>\n",
              "      <th>95</th>\n",
              "      <td>Sierra Leone</td>\n",
              "    </tr>\n",
              "    <tr>\n",
              "      <th>101</th>\n",
              "      <td>Sri Lanka</td>\n",
              "    </tr>\n",
              "    <tr>\n",
              "      <th>105</th>\n",
              "      <td>Tanzania</td>\n",
              "    </tr>\n",
              "    <tr>\n",
              "      <th>106</th>\n",
              "      <td>Thailand</td>\n",
              "    </tr>\n",
              "    <tr>\n",
              "      <th>107</th>\n",
              "      <td>The FYR of Macedonia</td>\n",
              "    </tr>\n",
              "    <tr>\n",
              "      <th>109</th>\n",
              "      <td>Tunisia</td>\n",
              "    </tr>\n",
              "    <tr>\n",
              "      <th>110</th>\n",
              "      <td>Turkey</td>\n",
              "    </tr>\n",
              "    <tr>\n",
              "      <th>111</th>\n",
              "      <td>Uganda</td>\n",
              "    </tr>\n",
              "    <tr>\n",
              "      <th>118</th>\n",
              "      <td>Vietnam</td>\n",
              "    </tr>\n",
              "    <tr>\n",
              "      <th>120</th>\n",
              "      <td>Zambia</td>\n",
              "    </tr>\n",
              "    <tr>\n",
              "      <th>121</th>\n",
              "      <td>Zimbabwe</td>\n",
              "    </tr>\n",
              "  </tbody>\n",
              "</table style=\"display:inline\"></td></tr></table style=\"display:inline\">"
            ]
          },
          "metadata": {
            "tags": []
          }
        }
      ]
    },
    {
      "cell_type": "code",
      "metadata": {
        "id": "juUsAXfhcWLH"
      },
      "source": [
        ""
      ],
      "execution_count": null,
      "outputs": []
    }
  ]
}
