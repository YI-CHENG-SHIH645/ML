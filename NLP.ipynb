{
  "nbformat": 4,
  "nbformat_minor": 0,
  "metadata": {
    "colab": {
      "name": "NLP.ipynb",
      "provenance": [],
      "collapsed_sections": [],
      "authorship_tag": "ABX9TyOVzPq18O5jIhw56Q8H08Tv",
      "include_colab_link": true
    },
    "kernelspec": {
      "name": "python3",
      "display_name": "Python 3"
    },
    "language_info": {
      "name": "python"
    }
  },
  "cells": [
    {
      "cell_type": "markdown",
      "metadata": {
        "id": "view-in-github",
        "colab_type": "text"
      },
      "source": [
        "<a href=\"https://colab.research.google.com/github/YI-CHENG-SHIH645/ML/blob/master/NLP.ipynb\" target=\"_parent\"><img src=\"https://colab.research.google.com/assets/colab-badge.svg\" alt=\"Open In Colab\"/></a>"
      ]
    },
    {
      "cell_type": "code",
      "metadata": {
        "id": "OonhE_RgAA6y"
      },
      "source": [
        "# !wget \"https://www.cs.cornell.edu/people/pabo/movie-review-data/review_polarity.tar.gz\"\n",
        "# !tar -xzvf \"review_polarity.tar.gz\" -C \".\""
      ],
      "execution_count": 1,
      "outputs": []
    },
    {
      "cell_type": "code",
      "metadata": {
        "id": "H4qyTcsOlipF"
      },
      "source": [
        "!python -m nltk.downloader all"
      ],
      "execution_count": null,
      "outputs": []
    },
    {
      "cell_type": "code",
      "metadata": {
        "id": "ip-37G2-PMDK"
      },
      "source": [
        "!wget \"https://github.com/YI-CHENG-SHIH645/ML-in-Business_practice/raw/master/utils.py\""
      ],
      "execution_count": null,
      "outputs": []
    },
    {
      "cell_type": "code",
      "metadata": {
        "id": "ho9cKmetubQk"
      },
      "source": [
        "from sklearn.feature_extraction.text import CountVectorizer, TfidfVectorizer\n",
        "from sklearn.preprocessing import LabelEncoder\n",
        "from sklearn.naive_bayes import BernoulliNB\n",
        "from sklearn.linear_model import LogisticRegression\n",
        "from sklearn.model_selection import train_test_split\n",
        "from sklearn.metrics import confusion_matrix, precision_recall_fscore_support\n",
        "from sklearn.svm import SVC, LinearSVC\n",
        "import nltk\n",
        "from nltk.corpus import movie_reviews\n",
        "import string\n",
        "import re\n",
        "import pandas as pd\n",
        "import numpy as np\n",
        "from scipy import sparse\n",
        "from utils import display_side_by_side"
      ],
      "execution_count": 39,
      "outputs": []
    },
    {
      "cell_type": "code",
      "metadata": {
        "colab": {
          "base_uri": "https://localhost:8080/"
        },
        "id": "ccPBXHNF_VCL",
        "outputId": "69df36ba-5ece-43f9-feee-aa45b9e0bc8b"
      },
      "source": [
        "nltk.download('movie_reviews')"
      ],
      "execution_count": 5,
      "outputs": [
        {
          "output_type": "stream",
          "text": [
            "[nltk_data] Downloading package movie_reviews to /root/nltk_data...\n",
            "[nltk_data]   Package movie_reviews is already up-to-date!\n"
          ],
          "name": "stdout"
        },
        {
          "output_type": "execute_result",
          "data": {
            "text/plain": [
              "True"
            ]
          },
          "metadata": {},
          "execution_count": 5
        }
      ]
    },
    {
      "cell_type": "code",
      "metadata": {
        "colab": {
          "base_uri": "https://localhost:8080/"
        },
        "id": "kZ1Ha4fgugla",
        "outputId": "674bfeac-2bd8-4bfa-d2d9-e909f573030a"
      },
      "source": [
        "corpus = [\n",
        "    'good',\n",
        "    'good',\n",
        "    'good bad',\n",
        "    'bad',\n",
        "    'bad',\n",
        "    'bad',\n",
        "    '',\n",
        "    'bad',\n",
        "    '',\n",
        "    'good'\n",
        "]\n",
        "vectorizer = CountVectorizer()\n",
        "vectorizer.fit_transform(corpus).toarray()"
      ],
      "execution_count": 40,
      "outputs": [
        {
          "output_type": "execute_result",
          "data": {
            "text/plain": [
              "array([[0, 1],\n",
              "       [0, 1],\n",
              "       [1, 1],\n",
              "       [1, 0],\n",
              "       [1, 0],\n",
              "       [1, 0],\n",
              "       [0, 0],\n",
              "       [1, 0],\n",
              "       [0, 0],\n",
              "       [0, 1]])"
            ]
          },
          "metadata": {},
          "execution_count": 40
        }
      ]
    },
    {
      "cell_type": "code",
      "metadata": {
        "colab": {
          "base_uri": "https://localhost:8080/"
        },
        "id": "jnMTM5du0ZIT",
        "outputId": "e7257c6f-0d14-42a7-c56c-47dd98ce9885"
      },
      "source": [
        "p_words_given_pos = (0.667*0.5*0.375)\n",
        "p_words_given_neg = (0.2*0.4*0.3125)\n",
        "p_words_given_neut = (0.4*0.6*0.3125)\n",
        "p_words = p_words_given_pos + p_words_given_neg + p_words_given_neut\n",
        "\n",
        "# [[0, 1]] 機率\n",
        "print(round(p_words_given_neg/p_words, 3))\n",
        "print(round(p_words_given_neut/p_words, 3))\n",
        "print(round(p_words_given_pos/p_words, 3))"
      ],
      "execution_count": 41,
      "outputs": [
        {
          "output_type": "stream",
          "text": [
            "0.111\n",
            "0.333\n",
            "0.556\n"
          ],
          "name": "stdout"
        }
      ]
    },
    {
      "cell_type": "code",
      "metadata": {
        "colab": {
          "base_uri": "https://localhost:8080/"
        },
        "id": "NoiZ5BMQxBlh",
        "outputId": "bb35cf65-ca9f-4ce9-f63d-e1f6b40720ed"
      },
      "source": [
        "X = vectorizer.fit_transform(corpus).toarray()\n",
        "y = ['Pos', 'Pos', 'Pos', 'Pos', 'Neg', 'Neg', 'Neg', 'Neut', 'Neut', 'Neut']\n",
        "y = LabelEncoder().fit_transform(y)\n",
        "print(y)"
      ],
      "execution_count": 42,
      "outputs": [
        {
          "output_type": "stream",
          "text": [
            "[2 2 2 2 0 0 0 1 1 1]\n"
          ],
          "name": "stdout"
        }
      ]
    },
    {
      "cell_type": "code",
      "metadata": {
        "colab": {
          "base_uri": "https://localhost:8080/"
        },
        "id": "cUJfOiB7x6Kv",
        "outputId": "7513e98a-5d27-4bd0-af1b-dbf0ea7b92bd"
      },
      "source": [
        "# https://nlp.stanford.edu/IR-book/html/htmledition/naive-bayes-text-classification-1.html\n",
        "model = BernoulliNB().fit(X, y)\n",
        "model.predict_proba([[0, 1]])"
      ],
      "execution_count": 50,
      "outputs": [
        {
          "output_type": "execute_result",
          "data": {
            "text/plain": [
              "array([[0.10465116, 0.31395349, 0.58139535]])"
            ]
          },
          "metadata": {},
          "execution_count": 50
        }
      ]
    },
    {
      "cell_type": "code",
      "metadata": {
        "id": "SK5dKEPHa_dA"
      },
      "source": [
        ""
      ],
      "execution_count": 50,
      "outputs": []
    },
    {
      "cell_type": "code",
      "metadata": {
        "colab": {
          "base_uri": "https://localhost:8080/"
        },
        "id": "wCOe-cSUiqEn",
        "outputId": "b8ee9b3c-6125-4167-e5e7-1cef105d1cbf"
      },
      "source": [
        "X = [movie_reviews.raw(fileid) for fileid in movie_reviews.fileids()]\n",
        "y = [movie_reviews.categories(fileid)[0] for fileid in movie_reviews.fileids()]\n",
        "X[0], y[0], len(X), len(y)"
      ],
      "execution_count": 51,
      "outputs": [
        {
          "output_type": "execute_result",
          "data": {
            "text/plain": [
              "('plot : two teen couples go to a church party , drink and then drive . \\nthey get into an accident . \\none of the guys dies , but his girlfriend continues to see him in her life , and has nightmares . \\nwhat\\'s the deal ? \\nwatch the movie and \" sorta \" find out . . . \\ncritique : a mind-fuck movie for the teen generation that touches on a very cool idea , but presents it in a very bad package . \\nwhich is what makes this review an even harder one to write , since i generally applaud films which attempt to break the mold , mess with your head and such ( lost highway & memento ) , but there are good and bad ways of making all types of films , and these folks just didn\\'t snag this one correctly . \\nthey seem to have taken this pretty neat concept , but executed it terribly . \\nso what are the problems with the movie ? \\nwell , its main problem is that it\\'s simply too jumbled . \\nit starts off \" normal \" but then downshifts into this \" fantasy \" world in which you , as an audience member , have no idea what\\'s going on . \\nthere are dreams , there are characters coming back from the dead , there are others who look like the dead , there are strange apparitions , there are disappearances , there are a looooot of chase scenes , there are tons of weird things that happen , and most of it is simply not explained . \\nnow i personally don\\'t mind trying to unravel a film every now and then , but when all it does is give me the same clue over and over again , i get kind of fed up after a while , which is this film\\'s biggest problem . \\nit\\'s obviously got this big secret to hide , but it seems to want to hide it completely until its final five minutes . \\nand do they make things entertaining , thrilling or even engaging , in the meantime ? \\nnot really . \\nthe sad part is that the arrow and i both dig on flicks like this , so we actually figured most of it out by the half-way point , so all of the strangeness after that did start to make a little bit of sense , but it still didn\\'t the make the film all that more entertaining . \\ni guess the bottom line with movies like this is that you should always make sure that the audience is \" into it \" even before they are given the secret password to enter your world of understanding . \\ni mean , showing melissa sagemiller running away from visions for about 20 minutes throughout the movie is just plain lazy ! ! \\nokay , we get it . . . there \\nare people chasing her and we don\\'t know who they are . \\ndo we really need to see it over and over again ? \\nhow about giving us different scenes offering further insight into all of the strangeness going down in the movie ? \\napparently , the studio took this film away from its director and chopped it up themselves , and it shows . \\nthere might\\'ve been a pretty decent teen mind-fuck movie in here somewhere , but i guess \" the suits \" decided that turning it into a music video with little edge , would make more sense . \\nthe actors are pretty good for the most part , although wes bentley just seemed to be playing the exact same character that he did in american beauty , only in a new neighborhood . \\nbut my biggest kudos go out to sagemiller , who holds her own throughout the entire film , and actually has you feeling her character\\'s unraveling . \\noverall , the film doesn\\'t stick because it doesn\\'t entertain , it\\'s confusing , it rarely excites and it feels pretty redundant for most of its runtime , despite a pretty cool ending and explanation to all of the craziness that came before it . \\noh , and by the way , this is not a horror or teen slasher flick . . . it\\'s \\njust packaged to look that way because someone is apparently assuming that the genre is still hot with the kids . \\nit also wrapped production two years ago and has been sitting on the shelves ever since . \\nwhatever . . . skip \\nit ! \\nwhere\\'s joblo coming from ? \\na nightmare of elm street 3 ( 7/10 ) - blair witch 2 ( 7/10 ) - the crow ( 9/10 ) - the crow : salvation ( 4/10 ) - lost highway ( 10/10 ) - memento ( 10/10 ) - the others ( 9/10 ) - stir of echoes ( 8/10 ) \\n',\n",
              " 'neg',\n",
              " 2000,\n",
              " 2000)"
            ]
          },
          "metadata": {},
          "execution_count": 51
        }
      ]
    },
    {
      "cell_type": "code",
      "metadata": {
        "colab": {
          "base_uri": "https://localhost:8080/"
        },
        "id": "gCikXlAQCS3X",
        "outputId": "43d1d218-31ef-4768-9517-d0c44192f3fd"
      },
      "source": [
        "nltk.corpus.stopwords.words('english')[:5]"
      ],
      "execution_count": 52,
      "outputs": [
        {
          "output_type": "execute_result",
          "data": {
            "text/plain": [
              "['i', 'me', 'my', 'myself', 'we']"
            ]
          },
          "metadata": {},
          "execution_count": 52
        }
      ]
    },
    {
      "cell_type": "code",
      "metadata": {
        "colab": {
          "base_uri": "https://localhost:8080/",
          "height": 57
        },
        "id": "ZGWUyEBpDGKC",
        "outputId": "0ff8b17c-e806-4f28-8eab-442b7b3278a8"
      },
      "source": [
        "string.punctuation"
      ],
      "execution_count": 53,
      "outputs": [
        {
          "output_type": "execute_result",
          "data": {
            "application/vnd.google.colaboratory.intrinsic+json": {
              "type": "string"
            },
            "text/plain": [
              "'!\"#$%&\\'()*+,-./:;<=>?@[\\\\]^_`{|}~'"
            ]
          },
          "metadata": {},
          "execution_count": 53
        }
      ]
    },
    {
      "cell_type": "code",
      "metadata": {
        "colab": {
          "base_uri": "https://localhost:8080/"
        },
        "id": "vNh78jZSEm11",
        "outputId": "6250028e-5f00-4db2-c3e4-97d38144aac3"
      },
      "source": [
        "tknzr = nltk.tokenize.TweetTokenizer(strip_handles=True, reduce_len=True)\n",
        "s1 = '@remy: This is waaaaayyyy too much for you!!!!!!'\n",
        "tknzr.tokenize(s1)"
      ],
      "execution_count": 54,
      "outputs": [
        {
          "output_type": "execute_result",
          "data": {
            "text/plain": [
              "[':', 'This', 'is', 'waaayyy', 'too', 'much', 'for', 'you', '!', '!', '!']"
            ]
          },
          "metadata": {},
          "execution_count": 54
        }
      ]
    },
    {
      "cell_type": "code",
      "metadata": {
        "id": "b1OtfskUitwp"
      },
      "source": [
        "lemmatizer = nltk.WordNetLemmatizer()\n",
        "stop_words = nltk.corpus.stopwords.words('english')\n",
        "\n",
        "# tokenize, remove punct, lowercase, stop words, lemmatize\n",
        "# 沒做的： spell checking, abbreviation, remove rare words(keep 20% ~ 80% freq words)\n",
        "def tokenize(document):\n",
        "    document = re.sub(r'\\d+', '', document)\n",
        "    tknzr = nltk.tokenize.TweetTokenizer(strip_handles=True, reduce_len=True)\n",
        "    for word in tknzr.tokenize(document):\n",
        "        if word in stop_words or all(w in string.punctuation for w in word):\n",
        "            continue\n",
        "        word = lemmatizer.lemmatize(word)\n",
        "        yield word"
      ],
      "execution_count": 55,
      "outputs": []
    },
    {
      "cell_type": "code",
      "metadata": {
        "id": "8zvYkbhijqTs"
      },
      "source": [
        "X_cleaned = [\" \".join(list(tokenize(doc))) for doc in X]\n",
        "y = LabelEncoder().fit_transform(y)"
      ],
      "execution_count": 56,
      "outputs": []
    },
    {
      "cell_type": "code",
      "metadata": {
        "id": "CPfa3fUcHRn9"
      },
      "source": [
        "vectorizer = CountVectorizer()\n",
        "X_wordcountvec = vectorizer.fit_transform(X_cleaned)\n",
        "X_wordcountvec = sparse.csr_matrix(np.clip(X_wordcountvec.toarray(), 0, 1))"
      ],
      "execution_count": 57,
      "outputs": []
    },
    {
      "cell_type": "code",
      "metadata": {
        "colab": {
          "base_uri": "https://localhost:8080/"
        },
        "id": "L1bPkOo-HNL-",
        "outputId": "fe578aba-1e05-42fb-dadd-58bc6e94adfa"
      },
      "source": [
        "X_wordcountvec.shape"
      ],
      "execution_count": 58,
      "outputs": [
        {
          "output_type": "execute_result",
          "data": {
            "text/plain": [
              "(2000, 35022)"
            ]
          },
          "metadata": {},
          "execution_count": 58
        }
      ]
    },
    {
      "cell_type": "code",
      "metadata": {
        "id": "DssiMGQ6IP9J"
      },
      "source": [
        "X_train, X_test, y_train, y_test = train_test_split(X_wordcountvec, y, test_size=0.3,\n",
        "                                                    stratify=y, random_state=3)"
      ],
      "execution_count": 60,
      "outputs": []
    },
    {
      "cell_type": "code",
      "metadata": {
        "id": "MvBGNMaBKO_p"
      },
      "source": [
        "models = [BernoulliNB().fit(X_train, y_train),\n",
        "          LogisticRegression().fit(X_train, y_train),\n",
        "          LinearSVC().fit(X_train, y_train),\n",
        "          SVC().fit(X_train, y_train)]"
      ],
      "execution_count": 61,
      "outputs": []
    },
    {
      "cell_type": "code",
      "metadata": {
        "id": "sbTK0f84KvWk"
      },
      "source": [
        "def metrics(model):\n",
        "    cf = confusion_matrix(y_test, model.predict(X_test))\n",
        "    tn, fp, fn, tp = cf.ravel()\n",
        "    recall = tp / (tp + fn)\n",
        "    precision = tp / (tp + fp)\n",
        "    acc = (tp + tn) / (tp + tn + fp + fn)\n",
        "    return pd.DataFrame(cf, index=['negative', 'positive'], columns=['negative', 'positive'])\\\n",
        "                        .rename_axis('truth', axis=0).rename_axis('pred', axis=1), precision, recall, acc"
      ],
      "execution_count": 62,
      "outputs": []
    },
    {
      "cell_type": "code",
      "metadata": {
        "id": "qP118DOrR6wu"
      },
      "source": [
        "res = [metrics(model) for model in models]\n",
        "res = list(zip(*res))"
      ],
      "execution_count": 63,
      "outputs": []
    },
    {
      "cell_type": "code",
      "metadata": {
        "colab": {
          "base_uri": "https://localhost:8080/",
          "height": 249
        },
        "id": "nO8tUDk4Lu-0",
        "outputId": "81b7b46b-50eb-4584-a60b-537f63b3c3af"
      },
      "source": [
        "display_side_by_side(res[0],\n",
        "                     names=[m.__class__.__name__ for m in models],\n",
        "                     descriptions=[f'acc: {acc:.3f} <br> precision: {precision:.3f} <br> recall: {recall:.3f}'\n",
        "                      for precision, recall, acc in zip(res[1], res[2], res[3])])"
      ],
      "execution_count": 64,
      "outputs": [
        {
          "output_type": "display_data",
          "data": {
            "text/html": [
              "<table style=\"display:inline\"><tr><td style=\"text-align:center\">BernoulliNB</td><td style=\"text-align:center\">LogisticRegression</td><td style=\"text-align:center\">LinearSVC</td><td style=\"text-align:center\">SVC</td></tr><tr><td style=\"vertical-align:top\"> <table style=\"display:inline\" border=\"1\" class=\"dataframe\">\n",
              "  <thead>\n",
              "    <tr style=\"text-align: right;\">\n",
              "      <th>pred</th>\n",
              "      <th>negative</th>\n",
              "      <th>positive</th>\n",
              "    </tr>\n",
              "    <tr>\n",
              "      <th>truth</th>\n",
              "      <th></th>\n",
              "      <th></th>\n",
              "    </tr>\n",
              "  </thead>\n",
              "  <tbody>\n",
              "    <tr>\n",
              "      <th>negative</th>\n",
              "      <td>258</td>\n",
              "      <td>42</td>\n",
              "    </tr>\n",
              "    <tr>\n",
              "      <th>positive</th>\n",
              "      <td>91</td>\n",
              "      <td>209</td>\n",
              "    </tr>\n",
              "  </tbody>\n",
              "</table style=\"display:inline\"></td><td style=\"vertical-align:top\"> <table style=\"display:inline\" border=\"1\" class=\"dataframe\">\n",
              "  <thead>\n",
              "    <tr style=\"text-align: right;\">\n",
              "      <th>pred</th>\n",
              "      <th>negative</th>\n",
              "      <th>positive</th>\n",
              "    </tr>\n",
              "    <tr>\n",
              "      <th>truth</th>\n",
              "      <th></th>\n",
              "      <th></th>\n",
              "    </tr>\n",
              "  </thead>\n",
              "  <tbody>\n",
              "    <tr>\n",
              "      <th>negative</th>\n",
              "      <td>252</td>\n",
              "      <td>48</td>\n",
              "    </tr>\n",
              "    <tr>\n",
              "      <th>positive</th>\n",
              "      <td>43</td>\n",
              "      <td>257</td>\n",
              "    </tr>\n",
              "  </tbody>\n",
              "</table style=\"display:inline\"></td><td style=\"vertical-align:top\"> <table style=\"display:inline\" border=\"1\" class=\"dataframe\">\n",
              "  <thead>\n",
              "    <tr style=\"text-align: right;\">\n",
              "      <th>pred</th>\n",
              "      <th>negative</th>\n",
              "      <th>positive</th>\n",
              "    </tr>\n",
              "    <tr>\n",
              "      <th>truth</th>\n",
              "      <th></th>\n",
              "      <th></th>\n",
              "    </tr>\n",
              "  </thead>\n",
              "  <tbody>\n",
              "    <tr>\n",
              "      <th>negative</th>\n",
              "      <td>250</td>\n",
              "      <td>50</td>\n",
              "    </tr>\n",
              "    <tr>\n",
              "      <th>positive</th>\n",
              "      <td>44</td>\n",
              "      <td>256</td>\n",
              "    </tr>\n",
              "  </tbody>\n",
              "</table style=\"display:inline\"></td><td style=\"vertical-align:top\"> <table style=\"display:inline\" border=\"1\" class=\"dataframe\">\n",
              "  <thead>\n",
              "    <tr style=\"text-align: right;\">\n",
              "      <th>pred</th>\n",
              "      <th>negative</th>\n",
              "      <th>positive</th>\n",
              "    </tr>\n",
              "    <tr>\n",
              "      <th>truth</th>\n",
              "      <th></th>\n",
              "      <th></th>\n",
              "    </tr>\n",
              "  </thead>\n",
              "  <tbody>\n",
              "    <tr>\n",
              "      <th>negative</th>\n",
              "      <td>243</td>\n",
              "      <td>57</td>\n",
              "    </tr>\n",
              "    <tr>\n",
              "      <th>positive</th>\n",
              "      <td>46</td>\n",
              "      <td>254</td>\n",
              "    </tr>\n",
              "  </tbody>\n",
              "</table style=\"display:inline\"></td></tr><tr><td>acc: 0.778 <br> precision: 0.833 <br> recall: 0.697</td><td>acc: 0.848 <br> precision: 0.843 <br> recall: 0.857</td><td>acc: 0.843 <br> precision: 0.837 <br> recall: 0.853</td><td>acc: 0.828 <br> precision: 0.817 <br> recall: 0.847</td></tr></table style=\"display:inline\">"
            ]
          },
          "metadata": {}
        }
      ]
    },
    {
      "cell_type": "code",
      "metadata": {
        "id": "HRW3XLIsVeXj"
      },
      "source": [
        ""
      ],
      "execution_count": 22,
      "outputs": []
    }
  ]
}
